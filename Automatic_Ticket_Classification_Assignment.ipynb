{
 "cells": [
  {
   "cell_type": "markdown",
   "metadata": {
    "id": "rhR-ZUkwJrFn"
   },
   "source": [
    "## Problem Statement \n",
    "\n",
    "You need to build a model that is able to classify customer complaints based on the products/services. By doing so, you can segregate these tickets into their relevant categories and, therefore, help in the quick resolution of the issue.\n",
    "\n",
    "You will be doing topic modelling on the <b>.json</b> data provided by the company. Since this data is not labelled, you need to apply NMF to analyse patterns and classify tickets into the following five clusters based on their products/services:\n",
    "\n",
    "* Credit card / Prepaid card\n",
    "\n",
    "* Bank account services\n",
    "\n",
    "* Theft/Dispute reporting\n",
    "\n",
    "* Mortgages/loans\n",
    "\n",
    "* Others \n",
    "\n",
    "\n",
    "With the help of topic modelling, you will be able to map each ticket onto its respective department/category. You can then use this data to train any supervised model such as logistic regression, decision tree or random forest. Using this trained model, you can classify any new customer complaint support ticket into its relevant department."
   ]
  },
  {
   "cell_type": "markdown",
   "metadata": {
    "id": "mcgXVNyaLUFS"
   },
   "source": [
    "## Pipelines that needs to be performed:\n",
    "\n",
    "You need to perform the following eight major tasks to complete the assignment:\n",
    "\n",
    "1.  Data loading\n",
    "\n",
    "2. Text preprocessing\n",
    "\n",
    "3. Exploratory data analysis (EDA)\n",
    "\n",
    "4. Feature extraction\n",
    "\n",
    "5. Topic modelling \n",
    "\n",
    "6. Model building using supervised learning\n",
    "\n",
    "7. Model training and evaluation\n",
    "\n",
    "8. Model inference"
   ]
  },
  {
   "cell_type": "markdown",
   "metadata": {
    "id": "JuLFIymAL58u"
   },
   "source": [
    "## Importing the necessary libraries"
   ]
  },
  {
   "cell_type": "code",
   "execution_count": 1,
   "metadata": {
    "id": "O-Q9pqrcJrFr"
   },
   "outputs": [
    {
     "name": "stderr",
     "output_type": "stream",
     "text": [
      "2022-02-21 21:25:10.384929: W tensorflow/stream_executor/platform/default/dso_loader.cc:64] Could not load dynamic library 'libcudart.so.11.0'; dlerror: libcudart.so.11.0: cannot open shared object file: No such file or directory\n",
      "2022-02-21 21:25:10.384954: I tensorflow/stream_executor/cuda/cudart_stub.cc:29] Ignore above cudart dlerror if you do not have a GPU set up on your machine.\n"
     ]
    }
   ],
   "source": [
    "import json \n",
    "import numpy as np\n",
    "import pandas as pd\n",
    "import re, nltk, spacy, string\n",
    "import en_core_web_sm\n",
    "nlp = en_core_web_sm.load()\n",
    "import seaborn as sns\n",
    "import matplotlib.pyplot as plt\n",
    "%matplotlib inline\n",
    "\n",
    "from plotly.offline import plot\n",
    "import plotly.graph_objects as go\n",
    "import plotly.express as px\n",
    "\n",
    "from sklearn.feature_extraction.text import CountVectorizer, TfidfVectorizer\n",
    "from pprint import pprint\n",
    "\n",
    "from tqdm import tqdm\n",
    "import joblib\n",
    "\n",
    "from nltk import word_tokenize\n",
    "from nltk.util import ngrams\n",
    "from collections import Counter"
   ]
  },
  {
   "cell_type": "markdown",
   "metadata": {
    "id": "KtRLCsNVJrFt"
   },
   "source": [
    "## Loading the data\n",
    "\n",
    "The data is in JSON format and we need to convert it to a dataframe."
   ]
  },
  {
   "cell_type": "code",
   "execution_count": 2,
   "metadata": {
    "id": "puVzIf_iJrFt"
   },
   "outputs": [],
   "source": [
    "file_path = \"complaints.json\"\n",
    "with open(file_path, 'r') as f:\n",
    "    data = json.load(f)\n",
    "    \n",
    "df = pd.json_normalize(data)"
   ]
  },
  {
   "cell_type": "markdown",
   "metadata": {
    "id": "_xYpH-sAJrFu"
   },
   "source": [
    "## Data preparation"
   ]
  },
  {
   "cell_type": "markdown",
   "metadata": {
    "id": "Lf8ufHH5JrFu"
   },
   "source": [
    "### Inspect the dataframe to understand the given data.\n"
   ]
  },
  {
   "cell_type": "code",
   "execution_count": 3,
   "metadata": {},
   "outputs": [
    {
     "data": {
      "text/html": [
       "<div>\n",
       "<style scoped>\n",
       "    .dataframe tbody tr th:only-of-type {\n",
       "        vertical-align: middle;\n",
       "    }\n",
       "\n",
       "    .dataframe tbody tr th {\n",
       "        vertical-align: top;\n",
       "    }\n",
       "\n",
       "    .dataframe thead th {\n",
       "        text-align: right;\n",
       "    }\n",
       "</style>\n",
       "<table border=\"1\" class=\"dataframe\">\n",
       "  <thead>\n",
       "    <tr style=\"text-align: right;\">\n",
       "      <th></th>\n",
       "      <th>_index</th>\n",
       "      <th>_type</th>\n",
       "      <th>_id</th>\n",
       "      <th>_score</th>\n",
       "      <th>_source.tags</th>\n",
       "      <th>_source.zip_code</th>\n",
       "      <th>_source.complaint_id</th>\n",
       "      <th>_source.issue</th>\n",
       "      <th>_source.date_received</th>\n",
       "      <th>_source.state</th>\n",
       "      <th>...</th>\n",
       "      <th>_source.company_response</th>\n",
       "      <th>_source.company</th>\n",
       "      <th>_source.submitted_via</th>\n",
       "      <th>_source.date_sent_to_company</th>\n",
       "      <th>_source.company_public_response</th>\n",
       "      <th>_source.sub_product</th>\n",
       "      <th>_source.timely</th>\n",
       "      <th>_source.complaint_what_happened</th>\n",
       "      <th>_source.sub_issue</th>\n",
       "      <th>_source.consumer_consent_provided</th>\n",
       "    </tr>\n",
       "  </thead>\n",
       "  <tbody>\n",
       "    <tr>\n",
       "      <th>0</th>\n",
       "      <td>complaint-public-v2</td>\n",
       "      <td>complaint</td>\n",
       "      <td>3211475</td>\n",
       "      <td>0.0</td>\n",
       "      <td>None</td>\n",
       "      <td>90301</td>\n",
       "      <td>3211475</td>\n",
       "      <td>Attempts to collect debt not owed</td>\n",
       "      <td>2019-04-13T12:00:00-05:00</td>\n",
       "      <td>CA</td>\n",
       "      <td>...</td>\n",
       "      <td>Closed with explanation</td>\n",
       "      <td>JPMORGAN CHASE &amp; CO.</td>\n",
       "      <td>Web</td>\n",
       "      <td>2019-04-13T12:00:00-05:00</td>\n",
       "      <td>None</td>\n",
       "      <td>Credit card debt</td>\n",
       "      <td>Yes</td>\n",
       "      <td></td>\n",
       "      <td>Debt is not yours</td>\n",
       "      <td>Consent not provided</td>\n",
       "    </tr>\n",
       "    <tr>\n",
       "      <th>1</th>\n",
       "      <td>complaint-public-v2</td>\n",
       "      <td>complaint</td>\n",
       "      <td>3229299</td>\n",
       "      <td>0.0</td>\n",
       "      <td>Servicemember</td>\n",
       "      <td>319XX</td>\n",
       "      <td>3229299</td>\n",
       "      <td>Written notification about debt</td>\n",
       "      <td>2019-05-01T12:00:00-05:00</td>\n",
       "      <td>GA</td>\n",
       "      <td>...</td>\n",
       "      <td>Closed with explanation</td>\n",
       "      <td>JPMORGAN CHASE &amp; CO.</td>\n",
       "      <td>Web</td>\n",
       "      <td>2019-05-01T12:00:00-05:00</td>\n",
       "      <td>None</td>\n",
       "      <td>Credit card debt</td>\n",
       "      <td>Yes</td>\n",
       "      <td>Good morning my name is XXXX XXXX and I apprec...</td>\n",
       "      <td>Didn't receive enough information to verify debt</td>\n",
       "      <td>Consent provided</td>\n",
       "    </tr>\n",
       "    <tr>\n",
       "      <th>2</th>\n",
       "      <td>complaint-public-v2</td>\n",
       "      <td>complaint</td>\n",
       "      <td>3199379</td>\n",
       "      <td>0.0</td>\n",
       "      <td>None</td>\n",
       "      <td>77069</td>\n",
       "      <td>3199379</td>\n",
       "      <td>Other features, terms, or problems</td>\n",
       "      <td>2019-04-02T12:00:00-05:00</td>\n",
       "      <td>TX</td>\n",
       "      <td>...</td>\n",
       "      <td>Closed with explanation</td>\n",
       "      <td>JPMORGAN CHASE &amp; CO.</td>\n",
       "      <td>Web</td>\n",
       "      <td>2019-04-02T12:00:00-05:00</td>\n",
       "      <td>None</td>\n",
       "      <td>General-purpose credit card or charge card</td>\n",
       "      <td>Yes</td>\n",
       "      <td>I upgraded my XXXX XXXX card in XX/XX/2018 and...</td>\n",
       "      <td>Problem with rewards from credit card</td>\n",
       "      <td>Consent provided</td>\n",
       "    </tr>\n",
       "    <tr>\n",
       "      <th>3</th>\n",
       "      <td>complaint-public-v2</td>\n",
       "      <td>complaint</td>\n",
       "      <td>2673060</td>\n",
       "      <td>0.0</td>\n",
       "      <td>None</td>\n",
       "      <td>48066</td>\n",
       "      <td>2673060</td>\n",
       "      <td>Trouble during payment process</td>\n",
       "      <td>2017-09-13T12:00:00-05:00</td>\n",
       "      <td>MI</td>\n",
       "      <td>...</td>\n",
       "      <td>Closed with explanation</td>\n",
       "      <td>JPMORGAN CHASE &amp; CO.</td>\n",
       "      <td>Web</td>\n",
       "      <td>2017-09-14T12:00:00-05:00</td>\n",
       "      <td>None</td>\n",
       "      <td>Conventional home mortgage</td>\n",
       "      <td>Yes</td>\n",
       "      <td></td>\n",
       "      <td>None</td>\n",
       "      <td>Consent not provided</td>\n",
       "    </tr>\n",
       "    <tr>\n",
       "      <th>4</th>\n",
       "      <td>complaint-public-v2</td>\n",
       "      <td>complaint</td>\n",
       "      <td>3203545</td>\n",
       "      <td>0.0</td>\n",
       "      <td>None</td>\n",
       "      <td>10473</td>\n",
       "      <td>3203545</td>\n",
       "      <td>Fees or interest</td>\n",
       "      <td>2019-04-05T12:00:00-05:00</td>\n",
       "      <td>NY</td>\n",
       "      <td>...</td>\n",
       "      <td>Closed with explanation</td>\n",
       "      <td>JPMORGAN CHASE &amp; CO.</td>\n",
       "      <td>Referral</td>\n",
       "      <td>2019-04-05T12:00:00-05:00</td>\n",
       "      <td>None</td>\n",
       "      <td>General-purpose credit card or charge card</td>\n",
       "      <td>Yes</td>\n",
       "      <td></td>\n",
       "      <td>Charged too much interest</td>\n",
       "      <td>N/A</td>\n",
       "    </tr>\n",
       "  </tbody>\n",
       "</table>\n",
       "<p>5 rows × 22 columns</p>\n",
       "</div>"
      ],
      "text/plain": [
       "                _index      _type      _id  _score   _source.tags  \\\n",
       "0  complaint-public-v2  complaint  3211475     0.0           None   \n",
       "1  complaint-public-v2  complaint  3229299     0.0  Servicemember   \n",
       "2  complaint-public-v2  complaint  3199379     0.0           None   \n",
       "3  complaint-public-v2  complaint  2673060     0.0           None   \n",
       "4  complaint-public-v2  complaint  3203545     0.0           None   \n",
       "\n",
       "  _source.zip_code _source.complaint_id                       _source.issue  \\\n",
       "0            90301              3211475   Attempts to collect debt not owed   \n",
       "1            319XX              3229299     Written notification about debt   \n",
       "2            77069              3199379  Other features, terms, or problems   \n",
       "3            48066              2673060      Trouble during payment process   \n",
       "4            10473              3203545                    Fees or interest   \n",
       "\n",
       "       _source.date_received _source.state  ... _source.company_response  \\\n",
       "0  2019-04-13T12:00:00-05:00            CA  ...  Closed with explanation   \n",
       "1  2019-05-01T12:00:00-05:00            GA  ...  Closed with explanation   \n",
       "2  2019-04-02T12:00:00-05:00            TX  ...  Closed with explanation   \n",
       "3  2017-09-13T12:00:00-05:00            MI  ...  Closed with explanation   \n",
       "4  2019-04-05T12:00:00-05:00            NY  ...  Closed with explanation   \n",
       "\n",
       "        _source.company _source.submitted_via _source.date_sent_to_company  \\\n",
       "0  JPMORGAN CHASE & CO.                   Web    2019-04-13T12:00:00-05:00   \n",
       "1  JPMORGAN CHASE & CO.                   Web    2019-05-01T12:00:00-05:00   \n",
       "2  JPMORGAN CHASE & CO.                   Web    2019-04-02T12:00:00-05:00   \n",
       "3  JPMORGAN CHASE & CO.                   Web    2017-09-14T12:00:00-05:00   \n",
       "4  JPMORGAN CHASE & CO.              Referral    2019-04-05T12:00:00-05:00   \n",
       "\n",
       "  _source.company_public_response                         _source.sub_product  \\\n",
       "0                            None                            Credit card debt   \n",
       "1                            None                            Credit card debt   \n",
       "2                            None  General-purpose credit card or charge card   \n",
       "3                            None                  Conventional home mortgage   \n",
       "4                            None  General-purpose credit card or charge card   \n",
       "\n",
       "  _source.timely                    _source.complaint_what_happened  \\\n",
       "0            Yes                                                      \n",
       "1            Yes  Good morning my name is XXXX XXXX and I apprec...   \n",
       "2            Yes  I upgraded my XXXX XXXX card in XX/XX/2018 and...   \n",
       "3            Yes                                                      \n",
       "4            Yes                                                      \n",
       "\n",
       "                                  _source.sub_issue  \\\n",
       "0                                 Debt is not yours   \n",
       "1  Didn't receive enough information to verify debt   \n",
       "2             Problem with rewards from credit card   \n",
       "3                                              None   \n",
       "4                         Charged too much interest   \n",
       "\n",
       "  _source.consumer_consent_provided  \n",
       "0              Consent not provided  \n",
       "1                  Consent provided  \n",
       "2                  Consent provided  \n",
       "3              Consent not provided  \n",
       "4                               N/A  \n",
       "\n",
       "[5 rows x 22 columns]"
      ]
     },
     "execution_count": 3,
     "metadata": {},
     "output_type": "execute_result"
    }
   ],
   "source": [
    "df.head(5)"
   ]
  },
  {
   "cell_type": "code",
   "execution_count": 4,
   "metadata": {},
   "outputs": [
    {
     "data": {
      "text/plain": [
       "(78313, 22)"
      ]
     },
     "execution_count": 4,
     "metadata": {},
     "output_type": "execute_result"
    }
   ],
   "source": [
    "df.shape"
   ]
  },
  {
   "cell_type": "code",
   "execution_count": 5,
   "metadata": {},
   "outputs": [
    {
     "data": {
      "text/plain": [
       "(array(['complaint-public-v2'], dtype=object),\n",
       " array(['complaint'], dtype=object),\n",
       " array(['3211475', '3229299', '3199379', ..., '3133355', '3110963',\n",
       "        '2001189'], dtype=object))"
      ]
     },
     "execution_count": 5,
     "metadata": {},
     "output_type": "execute_result"
    }
   ],
   "source": [
    "df['_index'].unique(), df['_type'].unique(), df['_id'].unique()"
   ]
  },
  {
   "cell_type": "code",
   "execution_count": 6,
   "metadata": {},
   "outputs": [
    {
     "name": "stdout",
     "output_type": "stream",
     "text": [
      "_index : ['complaint-public-v2']\n",
      "_type : ['complaint']\n",
      "_score : [0.]\n",
      "_source.company : ['JPMORGAN CHASE & CO.']\n"
     ]
    }
   ],
   "source": [
    "only_one_value_cols = []\n",
    "for column in df:\n",
    "    if len(df[column].unique()) == 1:\n",
    "        print(column, \":\", df[column].unique())\n",
    "        only_one_value_cols.append(column)"
   ]
  },
  {
   "cell_type": "code",
   "execution_count": 7,
   "metadata": {},
   "outputs": [
    {
     "name": "stdout",
     "output_type": "stream",
     "text": [
      "_source.timely : ['Yes' 'No']\n"
     ]
    }
   ],
   "source": [
    "for column in df:\n",
    "    if len(df[column].unique()) == 2:\n",
    "        print(column, \":\", df[column].unique())"
   ]
  },
  {
   "cell_type": "code",
   "execution_count": 8,
   "metadata": {},
   "outputs": [
    {
     "name": "stdout",
     "output_type": "stream",
     "text": [
      "_source.consumer_disputed : ['N/A' 'No' 'Yes']\n"
     ]
    }
   ],
   "source": [
    "for column in df:\n",
    "    if len(df[column].unique()) == 3:\n",
    "        print(column, \":\", df[column].unique())"
   ]
  },
  {
   "cell_type": "markdown",
   "metadata": {},
   "source": [
    "#### dropping columns with only one type of value"
   ]
  },
  {
   "cell_type": "code",
   "execution_count": 9,
   "metadata": {},
   "outputs": [],
   "source": [
    "df.drop(columns=only_one_value_cols, inplace=True)"
   ]
  },
  {
   "cell_type": "code",
   "execution_count": 10,
   "metadata": {},
   "outputs": [
    {
     "data": {
      "text/html": [
       "<div>\n",
       "<style scoped>\n",
       "    .dataframe tbody tr th:only-of-type {\n",
       "        vertical-align: middle;\n",
       "    }\n",
       "\n",
       "    .dataframe tbody tr th {\n",
       "        vertical-align: top;\n",
       "    }\n",
       "\n",
       "    .dataframe thead th {\n",
       "        text-align: right;\n",
       "    }\n",
       "</style>\n",
       "<table border=\"1\" class=\"dataframe\">\n",
       "  <thead>\n",
       "    <tr style=\"text-align: right;\">\n",
       "      <th></th>\n",
       "      <th>_id</th>\n",
       "      <th>_source.tags</th>\n",
       "      <th>_source.zip_code</th>\n",
       "      <th>_source.complaint_id</th>\n",
       "      <th>_source.issue</th>\n",
       "      <th>_source.date_received</th>\n",
       "      <th>_source.state</th>\n",
       "      <th>_source.consumer_disputed</th>\n",
       "      <th>_source.product</th>\n",
       "      <th>_source.company_response</th>\n",
       "      <th>_source.submitted_via</th>\n",
       "      <th>_source.date_sent_to_company</th>\n",
       "      <th>_source.company_public_response</th>\n",
       "      <th>_source.sub_product</th>\n",
       "      <th>_source.timely</th>\n",
       "      <th>_source.complaint_what_happened</th>\n",
       "      <th>_source.sub_issue</th>\n",
       "      <th>_source.consumer_consent_provided</th>\n",
       "    </tr>\n",
       "  </thead>\n",
       "  <tbody>\n",
       "    <tr>\n",
       "      <th>0</th>\n",
       "      <td>3211475</td>\n",
       "      <td>None</td>\n",
       "      <td>90301</td>\n",
       "      <td>3211475</td>\n",
       "      <td>Attempts to collect debt not owed</td>\n",
       "      <td>2019-04-13T12:00:00-05:00</td>\n",
       "      <td>CA</td>\n",
       "      <td>N/A</td>\n",
       "      <td>Debt collection</td>\n",
       "      <td>Closed with explanation</td>\n",
       "      <td>Web</td>\n",
       "      <td>2019-04-13T12:00:00-05:00</td>\n",
       "      <td>None</td>\n",
       "      <td>Credit card debt</td>\n",
       "      <td>Yes</td>\n",
       "      <td></td>\n",
       "      <td>Debt is not yours</td>\n",
       "      <td>Consent not provided</td>\n",
       "    </tr>\n",
       "  </tbody>\n",
       "</table>\n",
       "</div>"
      ],
      "text/plain": [
       "       _id _source.tags _source.zip_code _source.complaint_id  \\\n",
       "0  3211475         None            90301              3211475   \n",
       "\n",
       "                       _source.issue      _source.date_received _source.state  \\\n",
       "0  Attempts to collect debt not owed  2019-04-13T12:00:00-05:00            CA   \n",
       "\n",
       "  _source.consumer_disputed  _source.product _source.company_response  \\\n",
       "0                       N/A  Debt collection  Closed with explanation   \n",
       "\n",
       "  _source.submitted_via _source.date_sent_to_company  \\\n",
       "0                   Web    2019-04-13T12:00:00-05:00   \n",
       "\n",
       "  _source.company_public_response _source.sub_product _source.timely  \\\n",
       "0                            None    Credit card debt            Yes   \n",
       "\n",
       "  _source.complaint_what_happened  _source.sub_issue  \\\n",
       "0                                  Debt is not yours   \n",
       "\n",
       "  _source.consumer_consent_provided  \n",
       "0              Consent not provided  "
      ]
     },
     "execution_count": 10,
     "metadata": {},
     "output_type": "execute_result"
    }
   ],
   "source": [
    "df.head(1)"
   ]
  },
  {
   "cell_type": "code",
   "execution_count": 11,
   "metadata": {},
   "outputs": [
    {
     "data": {
      "text/plain": [
       "(78313, 18)"
      ]
     },
     "execution_count": 11,
     "metadata": {},
     "output_type": "execute_result"
    }
   ],
   "source": [
    "df.shape"
   ]
  },
  {
   "cell_type": "code",
   "execution_count": 12,
   "metadata": {},
   "outputs": [
    {
     "data": {
      "text/plain": [
       "78313"
      ]
     },
     "execution_count": 12,
     "metadata": {},
     "output_type": "execute_result"
    }
   ],
   "source": [
    "len(df['_id'].unique())"
   ]
  },
  {
   "cell_type": "markdown",
   "metadata": {},
   "source": [
    "#### dropping id column as all values are different"
   ]
  },
  {
   "cell_type": "code",
   "execution_count": 13,
   "metadata": {},
   "outputs": [],
   "source": [
    "df.drop('_id', axis=1, inplace=True)"
   ]
  },
  {
   "cell_type": "code",
   "execution_count": 14,
   "metadata": {},
   "outputs": [
    {
     "data": {
      "text/html": [
       "<div>\n",
       "<style scoped>\n",
       "    .dataframe tbody tr th:only-of-type {\n",
       "        vertical-align: middle;\n",
       "    }\n",
       "\n",
       "    .dataframe tbody tr th {\n",
       "        vertical-align: top;\n",
       "    }\n",
       "\n",
       "    .dataframe thead th {\n",
       "        text-align: right;\n",
       "    }\n",
       "</style>\n",
       "<table border=\"1\" class=\"dataframe\">\n",
       "  <thead>\n",
       "    <tr style=\"text-align: right;\">\n",
       "      <th></th>\n",
       "      <th>_source.tags</th>\n",
       "      <th>_source.zip_code</th>\n",
       "      <th>_source.complaint_id</th>\n",
       "      <th>_source.issue</th>\n",
       "      <th>_source.date_received</th>\n",
       "      <th>_source.state</th>\n",
       "      <th>_source.consumer_disputed</th>\n",
       "      <th>_source.product</th>\n",
       "      <th>_source.company_response</th>\n",
       "      <th>_source.submitted_via</th>\n",
       "      <th>_source.date_sent_to_company</th>\n",
       "      <th>_source.company_public_response</th>\n",
       "      <th>_source.sub_product</th>\n",
       "      <th>_source.timely</th>\n",
       "      <th>_source.complaint_what_happened</th>\n",
       "      <th>_source.sub_issue</th>\n",
       "      <th>_source.consumer_consent_provided</th>\n",
       "    </tr>\n",
       "  </thead>\n",
       "  <tbody>\n",
       "    <tr>\n",
       "      <th>0</th>\n",
       "      <td>None</td>\n",
       "      <td>90301</td>\n",
       "      <td>3211475</td>\n",
       "      <td>Attempts to collect debt not owed</td>\n",
       "      <td>2019-04-13T12:00:00-05:00</td>\n",
       "      <td>CA</td>\n",
       "      <td>N/A</td>\n",
       "      <td>Debt collection</td>\n",
       "      <td>Closed with explanation</td>\n",
       "      <td>Web</td>\n",
       "      <td>2019-04-13T12:00:00-05:00</td>\n",
       "      <td>None</td>\n",
       "      <td>Credit card debt</td>\n",
       "      <td>Yes</td>\n",
       "      <td></td>\n",
       "      <td>Debt is not yours</td>\n",
       "      <td>Consent not provided</td>\n",
       "    </tr>\n",
       "  </tbody>\n",
       "</table>\n",
       "</div>"
      ],
      "text/plain": [
       "  _source.tags _source.zip_code _source.complaint_id  \\\n",
       "0         None            90301              3211475   \n",
       "\n",
       "                       _source.issue      _source.date_received _source.state  \\\n",
       "0  Attempts to collect debt not owed  2019-04-13T12:00:00-05:00            CA   \n",
       "\n",
       "  _source.consumer_disputed  _source.product _source.company_response  \\\n",
       "0                       N/A  Debt collection  Closed with explanation   \n",
       "\n",
       "  _source.submitted_via _source.date_sent_to_company  \\\n",
       "0                   Web    2019-04-13T12:00:00-05:00   \n",
       "\n",
       "  _source.company_public_response _source.sub_product _source.timely  \\\n",
       "0                            None    Credit card debt            Yes   \n",
       "\n",
       "  _source.complaint_what_happened  _source.sub_issue  \\\n",
       "0                                  Debt is not yours   \n",
       "\n",
       "  _source.consumer_consent_provided  \n",
       "0              Consent not provided  "
      ]
     },
     "execution_count": 14,
     "metadata": {},
     "output_type": "execute_result"
    }
   ],
   "source": [
    "df.head(1)"
   ]
  },
  {
   "cell_type": "code",
   "execution_count": 15,
   "metadata": {},
   "outputs": [
    {
     "data": {
      "text/plain": [
       "(78313, 17)"
      ]
     },
     "execution_count": 15,
     "metadata": {},
     "output_type": "execute_result"
    }
   ],
   "source": [
    "df.shape"
   ]
  },
  {
   "cell_type": "code",
   "execution_count": 16,
   "metadata": {
    "id": "Dwcty-wmJrFw"
   },
   "outputs": [
    {
     "data": {
      "text/plain": [
       "['_source.tags',\n",
       " '_source.zip_code',\n",
       " '_source.complaint_id',\n",
       " '_source.issue',\n",
       " '_source.date_received',\n",
       " '_source.state',\n",
       " '_source.consumer_disputed',\n",
       " '_source.product',\n",
       " '_source.company_response',\n",
       " '_source.submitted_via',\n",
       " '_source.date_sent_to_company',\n",
       " '_source.company_public_response',\n",
       " '_source.sub_product',\n",
       " '_source.timely',\n",
       " '_source.complaint_what_happened',\n",
       " '_source.sub_issue',\n",
       " '_source.consumer_consent_provided']"
      ]
     },
     "execution_count": 16,
     "metadata": {},
     "output_type": "execute_result"
    }
   ],
   "source": [
    "# print the column names\n",
    "df.columns.to_list()"
   ]
  },
  {
   "cell_type": "code",
   "execution_count": 17,
   "metadata": {
    "id": "FYCtKXD1JrFw"
   },
   "outputs": [],
   "source": [
    "#Assign new column names\n",
    "df.rename(columns={'_source.tags':'tags',\n",
    "'_source.zip_code':'zip_code',\n",
    "'_source.complaint_id':'complaint_id',\n",
    "'_source.issue':'issue',\n",
    "'_source.date_received':'date_received',\n",
    "'_source.state':'state',\n",
    "'_source.consumer_disputed':'consumer_disputed',\n",
    "'_source.product':'product',\n",
    "'_source.company_response':'company_response',\n",
    "'_source.submitted_via':'submitted_via',\n",
    "'_source.date_sent_to_company':'date_sent_to_company',\n",
    "'_source.company_public_response':'company_public_response',\n",
    "'_source.sub_product':'sub_product',\n",
    "'_source.timely':'timely',\n",
    "'_source.complaint_what_happened':'complaint_what_happened',\n",
    "'_source.sub_issue':'sub_issue',\n",
    "'_source.consumer_consent_provided':'consumer_consent_provided'},\n",
    "          inplace=True\n",
    ")"
   ]
  },
  {
   "cell_type": "code",
   "execution_count": 18,
   "metadata": {},
   "outputs": [
    {
     "data": {
      "text/plain": [
       "['tags',\n",
       " 'zip_code',\n",
       " 'complaint_id',\n",
       " 'issue',\n",
       " 'date_received',\n",
       " 'state',\n",
       " 'consumer_disputed',\n",
       " 'product',\n",
       " 'company_response',\n",
       " 'submitted_via',\n",
       " 'date_sent_to_company',\n",
       " 'company_public_response',\n",
       " 'sub_product',\n",
       " 'timely',\n",
       " 'complaint_what_happened',\n",
       " 'sub_issue',\n",
       " 'consumer_consent_provided']"
      ]
     },
     "execution_count": 18,
     "metadata": {},
     "output_type": "execute_result"
    }
   ],
   "source": [
    "df.columns.to_list()"
   ]
  },
  {
   "cell_type": "code",
   "execution_count": 19,
   "metadata": {},
   "outputs": [
    {
     "name": "stdout",
     "output_type": "stream",
     "text": [
      "zip_code : 9443\n",
      "complaint_id : 78313\n",
      "issue : 154\n",
      "date_received : 3444\n",
      "state : 63\n",
      "product : 17\n",
      "date_sent_to_company : 3309\n",
      "sub_product : 73\n",
      "complaint_what_happened : 20931\n",
      "sub_issue : 206\n"
     ]
    }
   ],
   "source": [
    "for column in df:\n",
    "    if len(df[column].unique()) > 10:\n",
    "        print(column, ':', len(df[column].unique()))\n",
    "        # print(column, \":\", df[column].unique())"
   ]
  },
  {
   "cell_type": "code",
   "execution_count": 20,
   "metadata": {},
   "outputs": [],
   "source": [
    "df.drop('complaint_id', inplace=True, axis=1)"
   ]
  },
  {
   "cell_type": "code",
   "execution_count": 21,
   "metadata": {},
   "outputs": [
    {
     "data": {
      "text/plain": [
       "(78313, 16)"
      ]
     },
     "execution_count": 21,
     "metadata": {},
     "output_type": "execute_result"
    }
   ],
   "source": [
    "df.shape"
   ]
  },
  {
   "cell_type": "code",
   "execution_count": 22,
   "metadata": {},
   "outputs": [
    {
     "data": {
      "text/html": [
       "<div>\n",
       "<style scoped>\n",
       "    .dataframe tbody tr th:only-of-type {\n",
       "        vertical-align: middle;\n",
       "    }\n",
       "\n",
       "    .dataframe tbody tr th {\n",
       "        vertical-align: top;\n",
       "    }\n",
       "\n",
       "    .dataframe thead th {\n",
       "        text-align: right;\n",
       "    }\n",
       "</style>\n",
       "<table border=\"1\" class=\"dataframe\">\n",
       "  <thead>\n",
       "    <tr style=\"text-align: right;\">\n",
       "      <th></th>\n",
       "      <th>tags</th>\n",
       "      <th>zip_code</th>\n",
       "      <th>issue</th>\n",
       "      <th>date_received</th>\n",
       "      <th>state</th>\n",
       "      <th>consumer_disputed</th>\n",
       "      <th>product</th>\n",
       "      <th>company_response</th>\n",
       "      <th>submitted_via</th>\n",
       "      <th>date_sent_to_company</th>\n",
       "      <th>company_public_response</th>\n",
       "      <th>sub_product</th>\n",
       "      <th>timely</th>\n",
       "      <th>complaint_what_happened</th>\n",
       "      <th>sub_issue</th>\n",
       "      <th>consumer_consent_provided</th>\n",
       "    </tr>\n",
       "  </thead>\n",
       "  <tbody>\n",
       "    <tr>\n",
       "      <th>0</th>\n",
       "      <td>None</td>\n",
       "      <td>90301</td>\n",
       "      <td>Attempts to collect debt not owed</td>\n",
       "      <td>2019-04-13T12:00:00-05:00</td>\n",
       "      <td>CA</td>\n",
       "      <td>N/A</td>\n",
       "      <td>Debt collection</td>\n",
       "      <td>Closed with explanation</td>\n",
       "      <td>Web</td>\n",
       "      <td>2019-04-13T12:00:00-05:00</td>\n",
       "      <td>None</td>\n",
       "      <td>Credit card debt</td>\n",
       "      <td>Yes</td>\n",
       "      <td></td>\n",
       "      <td>Debt is not yours</td>\n",
       "      <td>Consent not provided</td>\n",
       "    </tr>\n",
       "  </tbody>\n",
       "</table>\n",
       "</div>"
      ],
      "text/plain": [
       "   tags zip_code                              issue  \\\n",
       "0  None    90301  Attempts to collect debt not owed   \n",
       "\n",
       "               date_received state consumer_disputed          product  \\\n",
       "0  2019-04-13T12:00:00-05:00    CA               N/A  Debt collection   \n",
       "\n",
       "          company_response submitted_via       date_sent_to_company  \\\n",
       "0  Closed with explanation           Web  2019-04-13T12:00:00-05:00   \n",
       "\n",
       "  company_public_response       sub_product timely complaint_what_happened  \\\n",
       "0                    None  Credit card debt    Yes                           \n",
       "\n",
       "           sub_issue consumer_consent_provided  \n",
       "0  Debt is not yours      Consent not provided  "
      ]
     },
     "execution_count": 22,
     "metadata": {},
     "output_type": "execute_result"
    }
   ],
   "source": [
    "df.head(1)"
   ]
  },
  {
   "cell_type": "code",
   "execution_count": 23,
   "metadata": {},
   "outputs": [
    {
     "name": "stdout",
     "output_type": "stream",
     "text": [
      "['tags', 'zip_code', 'issue', 'date_received', 'state', 'consumer_disputed', 'product', 'company_response', 'submitted_via', 'date_sent_to_company', 'company_public_response', 'sub_product', 'timely', 'complaint_what_happened', 'sub_issue', 'consumer_consent_provided']\n"
     ]
    }
   ],
   "source": [
    "print(df.columns.to_list())"
   ]
  },
  {
   "cell_type": "code",
   "execution_count": 24,
   "metadata": {
    "id": "grQUPFL5JrFx"
   },
   "outputs": [
    {
     "data": {
      "text/plain": [
       "0                                                     \n",
       "1    Good morning my name is XXXX XXXX and I apprec...\n",
       "2    I upgraded my XXXX XXXX card in XX/XX/2018 and...\n",
       "Name: complaint_what_happened, dtype: object"
      ]
     },
     "execution_count": 24,
     "metadata": {},
     "output_type": "execute_result"
    }
   ],
   "source": [
    "# Assign nan in place of blanks in the complaints column\n",
    "df['complaint_what_happened'].head(3)"
   ]
  },
  {
   "cell_type": "code",
   "execution_count": 25,
   "metadata": {},
   "outputs": [
    {
     "data": {
      "text/plain": [
       "0         True\n",
       "1        False\n",
       "2        False\n",
       "3         True\n",
       "4         True\n",
       "         ...  \n",
       "78308     True\n",
       "78309    False\n",
       "78310    False\n",
       "78311    False\n",
       "78312    False\n",
       "Name: complaint_what_happened, Length: 78313, dtype: bool"
      ]
     },
     "execution_count": 25,
     "metadata": {},
     "output_type": "execute_result"
    }
   ],
   "source": [
    "df['complaint_what_happened'].str.strip() == ''"
   ]
  },
  {
   "cell_type": "code",
   "execution_count": 26,
   "metadata": {},
   "outputs": [
    {
     "data": {
      "text/plain": [
       "57241"
      ]
     },
     "execution_count": 26,
     "metadata": {},
     "output_type": "execute_result"
    }
   ],
   "source": [
    "# count tickets with actual complaints\n",
    "sum(df['complaint_what_happened'].str.strip() == '')"
   ]
  },
  {
   "cell_type": "code",
   "execution_count": 27,
   "metadata": {},
   "outputs": [
    {
     "data": {
      "text/plain": [
       "0"
      ]
     },
     "execution_count": 27,
     "metadata": {},
     "output_type": "execute_result"
    }
   ],
   "source": [
    "df['complaint_what_happened'].isna().sum()"
   ]
  },
  {
   "cell_type": "code",
   "execution_count": 28,
   "metadata": {},
   "outputs": [],
   "source": [
    "df['complaint_what_happened'].replace(r'^\\s*$', np.nan, regex=True, inplace=True)"
   ]
  },
  {
   "cell_type": "code",
   "execution_count": 29,
   "metadata": {},
   "outputs": [
    {
     "data": {
      "text/plain": [
       "57241"
      ]
     },
     "execution_count": 29,
     "metadata": {},
     "output_type": "execute_result"
    }
   ],
   "source": [
    "df['complaint_what_happened'].isna().sum()"
   ]
  },
  {
   "cell_type": "code",
   "execution_count": 30,
   "metadata": {
    "id": "Jfxd8VSmJrFy"
   },
   "outputs": [
    {
     "data": {
      "text/html": [
       "<div>\n",
       "<style scoped>\n",
       "    .dataframe tbody tr th:only-of-type {\n",
       "        vertical-align: middle;\n",
       "    }\n",
       "\n",
       "    .dataframe tbody tr th {\n",
       "        vertical-align: top;\n",
       "    }\n",
       "\n",
       "    .dataframe thead th {\n",
       "        text-align: right;\n",
       "    }\n",
       "</style>\n",
       "<table border=\"1\" class=\"dataframe\">\n",
       "  <thead>\n",
       "    <tr style=\"text-align: right;\">\n",
       "      <th></th>\n",
       "      <th>tags</th>\n",
       "      <th>zip_code</th>\n",
       "      <th>issue</th>\n",
       "      <th>date_received</th>\n",
       "      <th>state</th>\n",
       "      <th>consumer_disputed</th>\n",
       "      <th>product</th>\n",
       "      <th>company_response</th>\n",
       "      <th>submitted_via</th>\n",
       "      <th>date_sent_to_company</th>\n",
       "      <th>company_public_response</th>\n",
       "      <th>sub_product</th>\n",
       "      <th>timely</th>\n",
       "      <th>complaint_what_happened</th>\n",
       "      <th>sub_issue</th>\n",
       "      <th>consumer_consent_provided</th>\n",
       "    </tr>\n",
       "  </thead>\n",
       "  <tbody>\n",
       "    <tr>\n",
       "      <th>1</th>\n",
       "      <td>Servicemember</td>\n",
       "      <td>319XX</td>\n",
       "      <td>Written notification about debt</td>\n",
       "      <td>2019-05-01T12:00:00-05:00</td>\n",
       "      <td>GA</td>\n",
       "      <td>N/A</td>\n",
       "      <td>Debt collection</td>\n",
       "      <td>Closed with explanation</td>\n",
       "      <td>Web</td>\n",
       "      <td>2019-05-01T12:00:00-05:00</td>\n",
       "      <td>None</td>\n",
       "      <td>Credit card debt</td>\n",
       "      <td>Yes</td>\n",
       "      <td>Good morning my name is XXXX XXXX and I apprec...</td>\n",
       "      <td>Didn't receive enough information to verify debt</td>\n",
       "      <td>Consent provided</td>\n",
       "    </tr>\n",
       "  </tbody>\n",
       "</table>\n",
       "</div>"
      ],
      "text/plain": [
       "            tags zip_code                            issue  \\\n",
       "1  Servicemember    319XX  Written notification about debt   \n",
       "\n",
       "               date_received state consumer_disputed          product  \\\n",
       "1  2019-05-01T12:00:00-05:00    GA               N/A  Debt collection   \n",
       "\n",
       "          company_response submitted_via       date_sent_to_company  \\\n",
       "1  Closed with explanation           Web  2019-05-01T12:00:00-05:00   \n",
       "\n",
       "  company_public_response       sub_product timely  \\\n",
       "1                    None  Credit card debt    Yes   \n",
       "\n",
       "                             complaint_what_happened  \\\n",
       "1  Good morning my name is XXXX XXXX and I apprec...   \n",
       "\n",
       "                                          sub_issue consumer_consent_provided  \n",
       "1  Didn't receive enough information to verify debt          Consent provided  "
      ]
     },
     "execution_count": 30,
     "metadata": {},
     "output_type": "execute_result"
    }
   ],
   "source": [
    "# Remove all rows where complaints column is nan\n",
    "df.dropna(subset=['complaint_what_happened']).head(1)"
   ]
  },
  {
   "cell_type": "code",
   "execution_count": 31,
   "metadata": {},
   "outputs": [],
   "source": [
    "df.dropna(subset=['complaint_what_happened'], inplace=True)"
   ]
  },
  {
   "cell_type": "code",
   "execution_count": 32,
   "metadata": {},
   "outputs": [
    {
     "data": {
      "text/plain": [
       "0"
      ]
     },
     "execution_count": 32,
     "metadata": {},
     "output_type": "execute_result"
    }
   ],
   "source": [
    "df['complaint_what_happened'].isna().sum()"
   ]
  },
  {
   "cell_type": "code",
   "execution_count": 33,
   "metadata": {},
   "outputs": [
    {
     "data": {
      "text/plain": [
       "(21072, 16)"
      ]
     },
     "execution_count": 33,
     "metadata": {},
     "output_type": "execute_result"
    }
   ],
   "source": [
    "df.shape"
   ]
  },
  {
   "cell_type": "markdown",
   "metadata": {
    "id": "L944HZpsJrFy"
   },
   "source": [
    "## Prepare the text for topic modeling\n",
    "\n",
    "Once you have removed all the blank complaints, you need to:\n",
    "\n",
    "* Make the text lowercase\n",
    "* Remove text in square brackets\n",
    "* Remove punctuation\n",
    "* Remove words containing numbers\n",
    "\n",
    "\n",
    "Once you have done these cleaning operations you need to perform the following:\n",
    "* Lemmatize the texts\n",
    "* Use POS tags to get relevant words from the texts.\n"
   ]
  },
  {
   "cell_type": "code",
   "execution_count": 34,
   "metadata": {
    "id": "qm7SjjSkJrFz"
   },
   "outputs": [],
   "source": [
    "def preprocess_text(inp):\n",
    "    # make the text lowercase\n",
    "    # remove text in square brackets\n",
    "    # remove punctuation\n",
    "    # remove words containing numbers\n",
    "    # remove \\n\n",
    "    inp = inp.lower()\n",
    "    inp = re.sub(\"\\[.*\\]\", \"\", inp).strip()\n",
    "    inp = re.sub(r'[^\\w\\s]', '', inp).strip()\n",
    "    inp = re.sub(r'\\w*\\d\\w*', '', inp).strip()\n",
    "    inp = re.sub(r'\\n', '', inp).strip()\n",
    "    \n",
    "    return inp"
   ]
  },
  {
   "cell_type": "code",
   "execution_count": 35,
   "metadata": {},
   "outputs": [],
   "source": [
    "df['complaint_what_happened'] = df['complaint_what_happened'].apply(preprocess_text)"
   ]
  },
  {
   "cell_type": "code",
   "execution_count": 36,
   "metadata": {},
   "outputs": [],
   "source": [
    "df.reset_index(drop=True, inplace=True)"
   ]
  },
  {
   "cell_type": "markdown",
   "metadata": {},
   "source": [
    "#### Lemmatize"
   ]
  },
  {
   "cell_type": "code",
   "execution_count": 37,
   "metadata": {
    "id": "zgOu8t8HJrFz"
   },
   "outputs": [
    {
     "data": {
      "text/plain": [
       "'good morning my name is xxxx xxxx and i appreciate it if you could help me put a stop to chase bank cardmember services in  i wrote to chase asking for debt verification and what they sent me a statement which is not acceptable i am asking the bank to validate the debt instead i been receiving mail every month from them attempting to collect a debt i have a right to know this information as a consumer chase account  xxxx xxxx xxxx xxxx thanks in advance for your help'"
      ]
     },
     "execution_count": 37,
     "metadata": {},
     "output_type": "execute_result"
    }
   ],
   "source": [
    "df['complaint_what_happened'][0]"
   ]
  },
  {
   "cell_type": "code",
   "execution_count": 38,
   "metadata": {
    "id": "uXnN7aa_JrF0"
   },
   "outputs": [],
   "source": [
    "# Create a dataframe('df_clean') that will have only the complaints and the lemmatized complaints \n",
    "x = nlp(df['complaint_what_happened'][0])"
   ]
  },
  {
   "cell_type": "code",
   "execution_count": 39,
   "metadata": {},
   "outputs": [],
   "source": [
    "# for idx, word in enumerate(x.text.split(\" \")):\n",
    "#     print(idx, \":\", word)"
   ]
  },
  {
   "cell_type": "code",
   "execution_count": 40,
   "metadata": {},
   "outputs": [
    {
     "data": {
      "text/plain": [
       "(receiving, 'receive')"
      ]
     },
     "execution_count": 40,
     "metadata": {},
     "output_type": "execute_result"
    }
   ],
   "source": [
    "x[57], x[57].lemma_"
   ]
  },
  {
   "cell_type": "code",
   "execution_count": 41,
   "metadata": {},
   "outputs": [],
   "source": [
    "lemmatizer = lambda doc: [token.lemma_ for token in doc]"
   ]
  },
  {
   "cell_type": "code",
   "execution_count": 42,
   "metadata": {},
   "outputs": [],
   "source": [
    "df_clean = pd.DataFrame(df['complaint_what_happened'])"
   ]
  },
  {
   "cell_type": "code",
   "execution_count": 43,
   "metadata": {},
   "outputs": [
    {
     "data": {
      "text/plain": [
       "'i upgraded my xxxx xxxx card in  and was told by the agent who did the upgrade my anniversary date would not change it turned the agent was giving me the wrong information in order to upgrade the account xxxx   changed my anniversary date from xxxxxxxx to xxxxxxxx without my consent xxxx has the recording of the agent who was misled me'"
      ]
     },
     "execution_count": 43,
     "metadata": {},
     "output_type": "execute_result"
    }
   ],
   "source": [
    "df_clean['complaint_what_happened'][1]"
   ]
  },
  {
   "cell_type": "code",
   "execution_count": 44,
   "metadata": {},
   "outputs": [
    {
     "name": "stdout",
     "output_type": "stream",
     "text": [
      "['I', 'upgrade', 'my', 'xxxx', 'xxxx', 'card', 'in', ' ', 'and', 'be', 'tell', 'by', 'the', 'agent', 'who', 'do', 'the', 'upgrade', 'my', 'anniversary', 'date', 'would', 'not', 'change', 'it', 'turn', 'the', 'agent', 'be', 'give', 'I', 'the', 'wrong', 'information', 'in', 'order', 'to', 'upgrade', 'the', 'account', 'xxxx', '  ', 'change', 'my', 'anniversary', 'date', 'from', 'xxxxxxxx', 'to', 'xxxxxxxx', 'without', 'my', 'consent', 'xxxx', 'have', 'the', 'recording', 'of', 'the', 'agent', 'who', 'be', 'mislead', 'I']\n"
     ]
    }
   ],
   "source": [
    "print(lemmatizer(nlp(df_clean['complaint_what_happened'][1])))"
   ]
  },
  {
   "cell_type": "code",
   "execution_count": 45,
   "metadata": {
    "tags": []
   },
   "outputs": [
    {
     "name": "stderr",
     "output_type": "stream",
     "text": [
      "100%|█████████████████████████████████████████████████████████| 21072/21072 [04:35<00:00, 76.40it/s]\n"
     ]
    }
   ],
   "source": [
    "def lemmatize_series(series):\n",
    "    lemmatized_complaints = []\n",
    "    nlp = en_core_web_sm.load()\n",
    "    nlp.select_pipes(disable=['ner'])\n",
    "    for index, doc in enumerate(tqdm(nlp.pipe(series), total=len(series))):\n",
    "        lemmatized_complaint = lemmatizer(doc)\n",
    "        lemmatized_complaints.append(\" \".join(lemmatized_complaint))\n",
    "    return lemmatized_complaints\n",
    "    \n",
    "lemmatized_complaints = lemmatize_series(df['complaint_what_happened'])"
   ]
  },
  {
   "cell_type": "code",
   "execution_count": 46,
   "metadata": {},
   "outputs": [
    {
     "data": {
      "text/plain": [
       "21072"
      ]
     },
     "execution_count": 46,
     "metadata": {},
     "output_type": "execute_result"
    }
   ],
   "source": [
    "len(lemmatized_complaints)"
   ]
  },
  {
   "cell_type": "code",
   "execution_count": 47,
   "metadata": {},
   "outputs": [
    {
     "data": {
      "text/plain": [
       "21072"
      ]
     },
     "execution_count": 47,
     "metadata": {},
     "output_type": "execute_result"
    }
   ],
   "source": [
    "len(df['complaint_what_happened'])"
   ]
  },
  {
   "cell_type": "code",
   "execution_count": 48,
   "metadata": {},
   "outputs": [],
   "source": [
    "df_clean = pd.DataFrame({\"complaint\": df['complaint_what_happened'].tolist(), \n",
    "                         \"lemmatized_complaint\": lemmatized_complaints})"
   ]
  },
  {
   "cell_type": "code",
   "execution_count": 49,
   "metadata": {},
   "outputs": [
    {
     "data": {
      "text/html": [
       "<div>\n",
       "<style scoped>\n",
       "    .dataframe tbody tr th:only-of-type {\n",
       "        vertical-align: middle;\n",
       "    }\n",
       "\n",
       "    .dataframe tbody tr th {\n",
       "        vertical-align: top;\n",
       "    }\n",
       "\n",
       "    .dataframe thead th {\n",
       "        text-align: right;\n",
       "    }\n",
       "</style>\n",
       "<table border=\"1\" class=\"dataframe\">\n",
       "  <thead>\n",
       "    <tr style=\"text-align: right;\">\n",
       "      <th></th>\n",
       "      <th>complaint</th>\n",
       "      <th>lemmatized_complaint</th>\n",
       "    </tr>\n",
       "  </thead>\n",
       "  <tbody>\n",
       "    <tr>\n",
       "      <th>0</th>\n",
       "      <td>good morning my name is xxxx xxxx and i apprec...</td>\n",
       "      <td>good morning my name be xxxx xxxx and I apprec...</td>\n",
       "    </tr>\n",
       "    <tr>\n",
       "      <th>1</th>\n",
       "      <td>i upgraded my xxxx xxxx card in  and was told ...</td>\n",
       "      <td>I upgrade my xxxx xxxx card in   and be tell b...</td>\n",
       "    </tr>\n",
       "    <tr>\n",
       "      <th>2</th>\n",
       "      <td>chase card was reported on  however fraudulent...</td>\n",
       "      <td>chase card be report on   however fraudulent a...</td>\n",
       "    </tr>\n",
       "    <tr>\n",
       "      <th>3</th>\n",
       "      <td>on  while trying to book a xxxx  xxxx  ticket ...</td>\n",
       "      <td>on   while try to book a xxxx   xxxx   ticket ...</td>\n",
       "    </tr>\n",
       "    <tr>\n",
       "      <th>4</th>\n",
       "      <td>my grand son give me check for  i deposit it i...</td>\n",
       "      <td>my grand son give I check for   I deposit it i...</td>\n",
       "    </tr>\n",
       "  </tbody>\n",
       "</table>\n",
       "</div>"
      ],
      "text/plain": [
       "                                           complaint  \\\n",
       "0  good morning my name is xxxx xxxx and i apprec...   \n",
       "1  i upgraded my xxxx xxxx card in  and was told ...   \n",
       "2  chase card was reported on  however fraudulent...   \n",
       "3  on  while trying to book a xxxx  xxxx  ticket ...   \n",
       "4  my grand son give me check for  i deposit it i...   \n",
       "\n",
       "                                lemmatized_complaint  \n",
       "0  good morning my name be xxxx xxxx and I apprec...  \n",
       "1  I upgrade my xxxx xxxx card in   and be tell b...  \n",
       "2  chase card be report on   however fraudulent a...  \n",
       "3  on   while try to book a xxxx   xxxx   ticket ...  \n",
       "4  my grand son give I check for   I deposit it i...  "
      ]
     },
     "execution_count": 49,
     "metadata": {},
     "output_type": "execute_result"
    }
   ],
   "source": [
    "df_clean.head()"
   ]
  },
  {
   "cell_type": "code",
   "execution_count": 52,
   "metadata": {},
   "outputs": [
    {
     "data": {
      "text/plain": [
       "['lemmatized_data.gz']"
      ]
     },
     "execution_count": 52,
     "metadata": {},
     "output_type": "execute_result"
    }
   ],
   "source": [
    "joblib.dump(df_clean, \"lemmatized_data.gz\")"
   ]
  },
  {
   "cell_type": "markdown",
   "metadata": {},
   "source": [
    "---"
   ]
  },
  {
   "cell_type": "code",
   "execution_count": 53,
   "metadata": {},
   "outputs": [],
   "source": [
    "df_clean = joblib.load(\"lemmatized_data.gz\")"
   ]
  },
  {
   "cell_type": "code",
   "execution_count": 54,
   "metadata": {},
   "outputs": [
    {
     "data": {
      "text/html": [
       "<div>\n",
       "<style scoped>\n",
       "    .dataframe tbody tr th:only-of-type {\n",
       "        vertical-align: middle;\n",
       "    }\n",
       "\n",
       "    .dataframe tbody tr th {\n",
       "        vertical-align: top;\n",
       "    }\n",
       "\n",
       "    .dataframe thead th {\n",
       "        text-align: right;\n",
       "    }\n",
       "</style>\n",
       "<table border=\"1\" class=\"dataframe\">\n",
       "  <thead>\n",
       "    <tr style=\"text-align: right;\">\n",
       "      <th></th>\n",
       "      <th>complaint</th>\n",
       "      <th>lemmatized_complaint</th>\n",
       "    </tr>\n",
       "  </thead>\n",
       "  <tbody>\n",
       "    <tr>\n",
       "      <th>0</th>\n",
       "      <td>good morning my name is xxxx xxxx and i apprec...</td>\n",
       "      <td>good morning my name be xxxx xxxx and I apprec...</td>\n",
       "    </tr>\n",
       "    <tr>\n",
       "      <th>1</th>\n",
       "      <td>i upgraded my xxxx xxxx card in  and was told ...</td>\n",
       "      <td>I upgrade my xxxx xxxx card in   and be tell b...</td>\n",
       "    </tr>\n",
       "    <tr>\n",
       "      <th>2</th>\n",
       "      <td>chase card was reported on  however fraudulent...</td>\n",
       "      <td>chase card be report on   however fraudulent a...</td>\n",
       "    </tr>\n",
       "    <tr>\n",
       "      <th>3</th>\n",
       "      <td>on  while trying to book a xxxx  xxxx  ticket ...</td>\n",
       "      <td>on   while try to book a xxxx   xxxx   ticket ...</td>\n",
       "    </tr>\n",
       "    <tr>\n",
       "      <th>4</th>\n",
       "      <td>my grand son give me check for  i deposit it i...</td>\n",
       "      <td>my grand son give I check for   I deposit it i...</td>\n",
       "    </tr>\n",
       "  </tbody>\n",
       "</table>\n",
       "</div>"
      ],
      "text/plain": [
       "                                           complaint  \\\n",
       "0  good morning my name is xxxx xxxx and i apprec...   \n",
       "1  i upgraded my xxxx xxxx card in  and was told ...   \n",
       "2  chase card was reported on  however fraudulent...   \n",
       "3  on  while trying to book a xxxx  xxxx  ticket ...   \n",
       "4  my grand son give me check for  i deposit it i...   \n",
       "\n",
       "                                lemmatized_complaint  \n",
       "0  good morning my name be xxxx xxxx and I apprec...  \n",
       "1  I upgrade my xxxx xxxx card in   and be tell b...  \n",
       "2  chase card be report on   however fraudulent a...  \n",
       "3  on   while try to book a xxxx   xxxx   ticket ...  \n",
       "4  my grand son give I check for   I deposit it i...  "
      ]
     },
     "execution_count": 54,
     "metadata": {},
     "output_type": "execute_result"
    }
   ],
   "source": [
    "df_clean.head()"
   ]
  },
  {
   "cell_type": "code",
   "execution_count": 55,
   "metadata": {},
   "outputs": [
    {
     "data": {
      "text/plain": [
       "0        good morning my name be xxxx xxxx and I apprec...\n",
       "1        I upgrade my xxxx xxxx card in   and be tell b...\n",
       "2        chase card be report on   however fraudulent a...\n",
       "3        on   while try to book a xxxx   xxxx   ticket ...\n",
       "4        my grand son give I check for   I deposit it i...\n",
       "                               ...                        \n",
       "21067    after be a chase card customer for well over a...\n",
       "21068    on wednesday xxxxxxxx I call chas my xxxx xxxx...\n",
       "21069    I be not familiar with xxxx pay and do not und...\n",
       "21070    I have have flawless credit for   yrs I ve hav...\n",
       "21071    roughly   year ago I close out my account with...\n",
       "Name: lemmatized_complaint, Length: 21072, dtype: object"
      ]
     },
     "execution_count": 55,
     "metadata": {},
     "output_type": "execute_result"
    }
   ],
   "source": [
    "df_clean['lemmatized_complaint']"
   ]
  },
  {
   "cell_type": "code",
   "execution_count": 56,
   "metadata": {},
   "outputs": [],
   "source": [
    "# pos tag analysis\n",
    "# stopword removal"
   ]
  },
  {
   "cell_type": "markdown",
   "metadata": {},
   "source": [
    "![SpaCy Pipeline](spacy_pipeline.png)"
   ]
  },
  {
   "cell_type": "code",
   "execution_count": 57,
   "metadata": {},
   "outputs": [
    {
     "name": "stderr",
     "output_type": "stream",
     "text": [
      "100%|█████████████████████████████████████████████████████████| 21072/21072 [04:27<00:00, 78.82it/s]\n"
     ]
    }
   ],
   "source": [
    "def get_relevant_words_via_pos_tagging(series):\n",
    "    relevant_words_list = []\n",
    "    nlp = en_core_web_sm.load()\n",
    "    nlp.select_pipes(disable=['ner'])\n",
    "    cnt = 0\n",
    "    for index, doc in enumerate(tqdm(nlp.pipe(series), total=len(series))):\n",
    "        relevant_words = []\n",
    "        for word in doc:\n",
    "            if \"NN\" in word.tag_:\n",
    "                relevant_words.append(word.text)\n",
    "        relevant_words_list.append(\" \".join(relevant_words))\n",
    "    return relevant_words_list\n",
    "\n",
    "relevant_words_from_complaints = get_relevant_words_via_pos_tagging(df_clean['lemmatized_complaint'])"
   ]
  },
  {
   "cell_type": "code",
   "execution_count": 58,
   "metadata": {},
   "outputs": [],
   "source": [
    "df_clean['nouns'] = relevant_words_from_complaints"
   ]
  },
  {
   "cell_type": "code",
   "execution_count": 59,
   "metadata": {},
   "outputs": [
    {
     "data": {
      "text/plain": [
       "['relevant_words.gz']"
      ]
     },
     "execution_count": 59,
     "metadata": {},
     "output_type": "execute_result"
    }
   ],
   "source": [
    "joblib.dump(df_clean, \"relevant_words.gz\")"
   ]
  },
  {
   "cell_type": "code",
   "execution_count": 60,
   "metadata": {
    "id": "AjxfchvFJrF2"
   },
   "outputs": [
    {
     "data": {
      "text/html": [
       "<div>\n",
       "<style scoped>\n",
       "    .dataframe tbody tr th:only-of-type {\n",
       "        vertical-align: middle;\n",
       "    }\n",
       "\n",
       "    .dataframe tbody tr th {\n",
       "        vertical-align: top;\n",
       "    }\n",
       "\n",
       "    .dataframe thead th {\n",
       "        text-align: right;\n",
       "    }\n",
       "</style>\n",
       "<table border=\"1\" class=\"dataframe\">\n",
       "  <thead>\n",
       "    <tr style=\"text-align: right;\">\n",
       "      <th></th>\n",
       "      <th>complaint</th>\n",
       "      <th>lemmatized_complaint</th>\n",
       "      <th>nouns</th>\n",
       "    </tr>\n",
       "  </thead>\n",
       "  <tbody>\n",
       "    <tr>\n",
       "      <th>0</th>\n",
       "      <td>good morning my name is xxxx xxxx and i apprec...</td>\n",
       "      <td>good morning my name be xxxx xxxx and I apprec...</td>\n",
       "      <td>morning name xxxx stop bank cardmember service...</td>\n",
       "    </tr>\n",
       "    <tr>\n",
       "      <th>1</th>\n",
       "      <td>i upgraded my xxxx xxxx card in  and was told ...</td>\n",
       "      <td>I upgrade my xxxx xxxx card in   and be tell b...</td>\n",
       "      <td>xxxx card agent anniversary date agent informa...</td>\n",
       "    </tr>\n",
       "  </tbody>\n",
       "</table>\n",
       "</div>"
      ],
      "text/plain": [
       "                                           complaint  \\\n",
       "0  good morning my name is xxxx xxxx and i apprec...   \n",
       "1  i upgraded my xxxx xxxx card in  and was told ...   \n",
       "\n",
       "                                lemmatized_complaint  \\\n",
       "0  good morning my name be xxxx xxxx and I apprec...   \n",
       "1  I upgrade my xxxx xxxx card in   and be tell b...   \n",
       "\n",
       "                                               nouns  \n",
       "0  morning name xxxx stop bank cardmember service...  \n",
       "1  xxxx card agent anniversary date agent informa...  "
      ]
     },
     "execution_count": 60,
     "metadata": {},
     "output_type": "execute_result"
    }
   ],
   "source": [
    "#The clean dataframe should now contain the raw complaint, lemmatized complaint and the complaint after removing POS tags.\n",
    "df_clean.head(2)"
   ]
  },
  {
   "cell_type": "markdown",
   "metadata": {
    "id": "_7Un1AElJrF2"
   },
   "source": [
    "## Exploratory data analysis to get familiar with the data.\n",
    "\n",
    "Write the code in this task to perform the following:\n",
    "\n",
    "*   Visualise the data according to the 'Complaint' character length\n",
    "*   Using a word cloud find the top 40 words by frequency among all the articles after processing the text\n",
    "*   Find the top unigrams,bigrams and trigrams by frequency among all the complaints after processing the text. ‘"
   ]
  },
  {
   "cell_type": "markdown",
   "metadata": {
    "id": "q-zaqJF6JrF2"
   },
   "source": [
    "### Visualising the data \n",
    "- according to the 'Complaint' character length"
   ]
  },
  {
   "cell_type": "code",
   "execution_count": 63,
   "metadata": {},
   "outputs": [
    {
     "data": {
      "image/png": "[encoded data removed]",
      "text/plain": [
       "<Figure size 1080x432 with 1 Axes>"
      ]
     },
     "metadata": {
      "needs_background": "light"
     },
     "output_type": "display_data"
    }
   ],
   "source": [
    "plt.figure(figsize=(15,6))\n",
    "bins = list(np.arange(0, 10500, 500))\n",
    "bins.append(100000)\n",
    "pd.cut(df_clean['complaint'].str.len(), bins=bins).value_counts(sort=False).plot(kind='bar')\n",
    "plt.show()"
   ]
  },
  {
   "cell_type": "markdown",
   "metadata": {},
   "source": [
    "#### Observation\n",
    "- Majority of the complaints are below 4000 characters\n",
    "- Most common complaint length is 500-1000 characters long"
   ]
  },
  {
   "cell_type": "markdown",
   "metadata": {
    "id": "T9jD_6SeJrF3"
   },
   "source": [
    "### WordCloug with top 40 words by frequency of occurence"
   ]
  },
  {
   "cell_type": "code",
   "execution_count": 65,
   "metadata": {},
   "outputs": [
    {
     "data": {
      "image/png": "[encoded data removed]",
      "text/plain": [
       "<Figure size 720x720 with 1 Axes>"
      ]
     },
     "metadata": {
      "needs_background": "light"
     },
     "output_type": "display_data"
    }
   ],
   "source": [
    "from wordcloud import WordCloud, STOPWORDS\n",
    "text = \" \".join(complaint for complaint in df_clean.nouns)\n",
    "\n",
    "wordcloud = WordCloud(max_words=40, background_color='black', colormap='Set2', stopwords=STOPWORDS).generate(text)\n",
    "\n",
    "plt.figure(figsize=(10,10))\n",
    "plt.imshow(wordcloud, interpolation='bilinear')\n",
    "plt.axis(\"off\")\n",
    "plt.show()"
   ]
  },
  {
   "cell_type": "code",
   "execution_count": 67,
   "metadata": {},
   "outputs": [
    {
     "name": "stderr",
     "output_type": "stream",
     "text": [
      "[nltk_data] Downloading package punkt to /home/sameer/nltk_data...\n",
      "[nltk_data]   Unzipping tokenizers/punkt.zip.\n"
     ]
    },
    {
     "data": {
      "text/plain": [
       "True"
      ]
     },
     "execution_count": 67,
     "metadata": {},
     "output_type": "execute_result"
    }
   ],
   "source": [
    "nltk.download('punkt')"
   ]
  },
  {
   "cell_type": "code",
   "execution_count": 68,
   "metadata": {},
   "outputs": [],
   "source": [
    "text = \" \".join(df_clean['nouns'].tolist())\n",
    "tokens = nltk.word_tokenize(text)"
   ]
  },
  {
   "cell_type": "code",
   "execution_count": 69,
   "metadata": {},
   "outputs": [
    {
     "data": {
      "text/plain": [
       "['morning', 'name', 'xxxx', 'stop', 'bank']"
      ]
     },
     "execution_count": 69,
     "metadata": {},
     "output_type": "execute_result"
    }
   ],
   "source": [
    "tokens[0:5]"
   ]
  },
  {
   "cell_type": "markdown",
   "metadata": {},
   "source": [
    "#### Top 30 Unigrams"
   ]
  },
  {
   "cell_type": "code",
   "execution_count": 70,
   "metadata": {
    "id": "5mbk5DS5JrF4"
   },
   "outputs": [],
   "source": [
    "unigrams = ngrams(tokens,1)\n",
    "unigrams_list = list(Counter(unigrams).most_common(30))"
   ]
  },
  {
   "cell_type": "code",
   "execution_count": 71,
   "metadata": {},
   "outputs": [
    {
     "data": {
      "text/plain": [
       "[(('xxxx',), 134113),\n",
       " (('chase',), 72496),\n",
       " (('account',), 47706),\n",
       " (('credit',), 33485),\n",
       " (('card',), 30425),\n",
       " (('bank',), 28098),\n",
       " (('xxxxxxxx',), 27628),\n",
       " (('payment',), 21085),\n",
       " (('time',), 15995),\n",
       " (('charge',), 14063),\n",
       " (('day',), 12899),\n",
       " (('money',), 11900),\n",
       " (('check',), 11374),\n",
       " (('loan',), 10950),\n",
       " (('information',), 9624),\n",
       " (('letter',), 9602),\n",
       " (('call',), 9062),\n",
       " (('fee',), 8924),\n",
       " (('report',), 8808),\n",
       " (('transaction',), 8628),\n",
       " (('number',), 8596),\n",
       " (('month',), 8443),\n",
       " (('amount',), 8403),\n",
       " (('year',), 8257),\n",
       " (('mortgage',), 8152),\n",
       " (('customer',), 8145),\n",
       " (('balance',), 7771),\n",
       " (('service',), 7715),\n",
       " (('phone',), 7610),\n",
       " (('company',), 7584)]"
      ]
     },
     "execution_count": 71,
     "metadata": {},
     "output_type": "execute_result"
    }
   ],
   "source": [
    "unigrams_list"
   ]
  },
  {
   "cell_type": "markdown",
   "metadata": {
    "id": "YX7fedm1JrF8"
   },
   "source": [
    "#### Top 10 words in unigram by frequency"
   ]
  },
  {
   "cell_type": "code",
   "execution_count": 72,
   "metadata": {},
   "outputs": [
    {
     "name": "stdout",
     "output_type": "stream",
     "text": [
      "xxxx\n",
      "chase\n",
      "account\n",
      "credit\n",
      "card\n",
      "bank\n",
      "xxxxxxxx\n",
      "payment\n",
      "time\n",
      "charge\n"
     ]
    }
   ],
   "source": [
    "for word in unigrams_list[0:10]:\n",
    "    print(word[0][0])"
   ]
  },
  {
   "cell_type": "markdown",
   "metadata": {},
   "source": [
    "#### Top 30 Bigrams\n",
    "- printing 10 bigrams from top 30"
   ]
  },
  {
   "cell_type": "code",
   "execution_count": 73,
   "metadata": {
    "id": "aV7kD7w8JrF8"
   },
   "outputs": [
    {
     "name": "stdout",
     "output_type": "stream",
     "text": [
      "[(('xxxx', 'xxxx'), 58042), (('credit', 'card'), 12839), (('chase', 'bank'), 12116), (('xxxx', 'chase'), 4680), (('credit', 'report'), 3941), (('account', 'chase'), 3806), (('xxxxxxxx', 'xxxx'), 3380), (('chase', 'credit'), 3348), (('customer', 'service'), 3080), (('xxxx', 'xxxxxxxx'), 2938), (('xxxxxxxx', 'xxxxxxxx'), 2803), (('chase', 'xxxx'), 2767), (('chase', 'account'), 2727), (('bank', 'account'), 2718), (('account', 'xxxx'), 2707), (('checking', 'account'), 2606), (('jp', 'morgan'), 2465), (('morgan', 'chase'), 2463), (('xxxxxxxx', 'chase'), 2226), (('xxxx', 'account'), 2224), (('debit', 'card'), 2022), (('account', 'account'), 1959), (('card', 'chase'), 1873), (('chase', 'card'), 1722), (('bank', 'xxxx'), 1710), (('credit', 'score'), 1707), (('number', 'xxxx'), 1659), (('phone', 'call'), 1639), (('xxxx', 'credit'), 1592), (('card', 'account'), 1569)]\n"
     ]
    }
   ],
   "source": [
    "bigrams = ngrams(tokens,2)\n",
    "bigrams_list = list(Counter(bigrams).most_common(30))\n",
    "print(bigrams_list)"
   ]
  },
  {
   "cell_type": "code",
   "execution_count": 74,
   "metadata": {
    "id": "NPnMNIpyJrF9"
   },
   "outputs": [
    {
     "name": "stdout",
     "output_type": "stream",
     "text": [
      "xxxx | xxxx\n",
      "credit | card\n",
      "chase | bank\n",
      "xxxx | chase\n",
      "credit | report\n",
      "account | chase\n",
      "xxxxxxxx | xxxx\n",
      "chase | credit\n",
      "customer | service\n",
      "xxxx | xxxxxxxx\n"
     ]
    }
   ],
   "source": [
    "for word in bigrams_list[0:10]:\n",
    "    print(word[0][0], \"|\", word[0][1])"
   ]
  },
  {
   "cell_type": "markdown",
   "metadata": {},
   "source": [
    "#### Top 30 Trigrams\n",
    "- printing 10 Trigrams from top 30"
   ]
  },
  {
   "cell_type": "code",
   "execution_count": 75,
   "metadata": {
    "id": "Xkh7vtbtJrF-"
   },
   "outputs": [
    {
     "name": "stdout",
     "output_type": "stream",
     "text": [
      "[(('xxxx', 'xxxx', 'xxxx'), 29176), (('chase', 'credit', 'card'), 2356), (('jp', 'morgan', 'chase'), 2080), (('xxxx', 'xxxx', 'chase'), 1741), (('xxxxxxxx', 'xxxx', 'xxxx'), 1549), (('xxxx', 'xxxx', 'xxxxxxxx'), 1280), (('credit', 'card', 'account'), 1030), (('credit', 'card', 'company'), 975), (('_', '_', '_'), 951), (('chase', 'xxxx', 'xxxx'), 943), (('account', 'xxxx', 'xxxx'), 934), (('xxxx', 'xxxxxxxx', 'xxxx'), 933), (('credit', 'card', 'chase'), 925), (('chase', 'bank', 'xxxx'), 920), (('account', 'chase', 'bank'), 894), (('xxxx', 'chase', 'bank'), 866), (('bank', 'xxxx', 'xxxx'), 826), (('xxxx', 'xxxx', 'account'), 804), (('chase', 'bank', 'account'), 787), (('xxxx', 'credit', 'card'), 751), (('xxxxxxxx', 'xxxxxxxx', 'xxxxxxxx'), 716), (('morgan', 'chase', 'bank'), 677), (('name', 'xxxx', 'xxxx'), 607), (('xxxx', 'xxxx', 'credit'), 554), (('credit', 'card', 'xxxx'), 530), (('card', 'xxxx', 'xxxx'), 507), (('inquiry', 'credit', 'report'), 493), (('payment', 'xxxx', 'xxxx'), 483), (('xxxx', 'xxxx', 'payment'), 436), (('credit', 'card', 'credit'), 434)]\n"
     ]
    }
   ],
   "source": [
    "trigrams = ngrams(tokens,3)\n",
    "trigrams_list = list(Counter(trigrams).most_common(30))\n",
    "print(trigrams_list)"
   ]
  },
  {
   "cell_type": "code",
   "execution_count": 76,
   "metadata": {
    "id": "REcVxNfvJrF-"
   },
   "outputs": [
    {
     "name": "stdout",
     "output_type": "stream",
     "text": [
      "xxxx | xxxx | xxxx\n",
      "chase | credit | card\n",
      "jp | morgan | chase\n",
      "xxxx | xxxx | chase\n",
      "xxxxxxxx | xxxx | xxxx\n",
      "xxxx | xxxx | xxxxxxxx\n",
      "credit | card | account\n",
      "credit | card | company\n",
      "_ | _ | _\n",
      "chase | xxxx | xxxx\n"
     ]
    }
   ],
   "source": [
    "for word in trigrams_list[0:10]:\n",
    "    print(word[0][0], \"|\", word[0][1], \"|\", word[0][2])"
   ]
  },
  {
   "cell_type": "code",
   "execution_count": 77,
   "metadata": {},
   "outputs": [],
   "source": [
    "#for row in df_clean['complaint']:\n",
    "#    if \"_\" in row:\n",
    "#        print(row)"
   ]
  },
  {
   "cell_type": "markdown",
   "metadata": {
    "id": "yUXzFji0JrF_"
   },
   "source": [
    "---\n",
    "#### The personal details of customer has been masked in the dataset with xxxx. Let's remove the masked text as this will be of no use for our analysis"
   ]
  },
  {
   "cell_type": "code",
   "execution_count": 78,
   "metadata": {
    "id": "qm7SjjSkJrFz"
   },
   "outputs": [],
   "source": [
    "def remove_masking_characters(inp):\n",
    "    # remove _+\n",
    "    # remove xx+\n",
    "    inp = inp.lower()\n",
    "    inp = re.sub(r\"_+\", \"\", inp).strip()\n",
    "    inp = re.sub(r\"xx+\", \"\", inp).strip()\n",
    "    inp = re.sub(r\"\\s+\", \" \", inp).strip()\n",
    "    \n",
    "    return inp"
   ]
  },
  {
   "cell_type": "code",
   "execution_count": 79,
   "metadata": {},
   "outputs": [
    {
     "data": {
      "text/plain": [
       "'complaint filing sustain bank accuse wrongdoing _ _ _ _ _ xxxx xxxx _ _ _ _ _ _ _ _ _ _ _ _ xxxx xxxx xxxx _ _ _ _ _ xxxx xxxx va xxxx _ _ _ complaint notice retaliation discrimination date chase bank act retaliation person transaction ability account end account number show copy statement reject date copy complaint term condition account obligation bank way bank action filing cfpb bank cfpb access complaint rejection write bank attempt arbitration complaint bank behavior person chase bank chase card service company chase business name us act consumer protrction act reform cfpa credit opportunity act act law regulation provision prohibit retaliation discrimination consumer anyone company cfpb regulator receipt decline purchase chase bank chase law term aggression action bank consequence bank _ bank act action retaliation type matter bank aggression type harm action action time notice kind bank moment credit limit e state herein state belief knowledge understanding change correction kind time person counsel notice waive today'"
      ]
     },
     "execution_count": 79,
     "metadata": {},
     "output_type": "execute_result"
    }
   ],
   "source": [
    "df_clean['nouns'][171]"
   ]
  },
  {
   "cell_type": "code",
   "execution_count": 80,
   "metadata": {},
   "outputs": [
    {
     "data": {
      "text/plain": [
       "'complaint filing sustain bank accuse wrongdoing va complaint notice retaliation discrimination date chase bank act retaliation person transaction ability account end account number show copy statement reject date copy complaint term condition account obligation bank way bank action filing cfpb bank cfpb access complaint rejection write bank attempt arbitration complaint bank behavior person chase bank chase card service company chase business name us act consumer protrction act reform cfpa credit opportunity act act law regulation provision prohibit retaliation discrimination consumer anyone company cfpb regulator receipt decline purchase chase bank chase law term aggression action bank consequence bank bank act action retaliation type matter bank aggression type harm action action time notice kind bank moment credit limit e state herein state belief knowledge understanding change correction kind time person counsel notice waive today'"
      ]
     },
     "execution_count": 80,
     "metadata": {},
     "output_type": "execute_result"
    }
   ],
   "source": [
    "df_clean['nouns'].apply(remove_masking_characters)[171]"
   ]
  },
  {
   "cell_type": "code",
   "execution_count": 81,
   "metadata": {},
   "outputs": [],
   "source": [
    "# df_clean[df_clean['nouns'].str.contains('_', regex=True)]['nouns']"
   ]
  },
  {
   "cell_type": "code",
   "execution_count": 82,
   "metadata": {},
   "outputs": [],
   "source": [
    "df_clean['nouns'] = df_clean['nouns'].apply(remove_masking_characters)"
   ]
  },
  {
   "cell_type": "code",
   "execution_count": 83,
   "metadata": {
    "id": "9UIFk8fQJrF_"
   },
   "outputs": [
    {
     "data": {
      "text/html": [
       "<div>\n",
       "<style scoped>\n",
       "    .dataframe tbody tr th:only-of-type {\n",
       "        vertical-align: middle;\n",
       "    }\n",
       "\n",
       "    .dataframe tbody tr th {\n",
       "        vertical-align: top;\n",
       "    }\n",
       "\n",
       "    .dataframe thead th {\n",
       "        text-align: right;\n",
       "    }\n",
       "</style>\n",
       "<table border=\"1\" class=\"dataframe\">\n",
       "  <thead>\n",
       "    <tr style=\"text-align: right;\">\n",
       "      <th></th>\n",
       "      <th>complaint</th>\n",
       "      <th>lemmatized_complaint</th>\n",
       "      <th>nouns</th>\n",
       "    </tr>\n",
       "  </thead>\n",
       "  <tbody>\n",
       "    <tr>\n",
       "      <th>0</th>\n",
       "      <td>good morning my name is xxxx xxxx and i apprec...</td>\n",
       "      <td>good morning my name be xxxx xxxx and I apprec...</td>\n",
       "      <td>morning name stop bank cardmember service debt...</td>\n",
       "    </tr>\n",
       "    <tr>\n",
       "      <th>1</th>\n",
       "      <td>i upgraded my xxxx xxxx card in  and was told ...</td>\n",
       "      <td>I upgrade my xxxx xxxx card in   and be tell b...</td>\n",
       "      <td>card agent anniversary date agent information ...</td>\n",
       "    </tr>\n",
       "  </tbody>\n",
       "</table>\n",
       "</div>"
      ],
      "text/plain": [
       "                                           complaint  \\\n",
       "0  good morning my name is xxxx xxxx and i apprec...   \n",
       "1  i upgraded my xxxx xxxx card in  and was told ...   \n",
       "\n",
       "                                lemmatized_complaint  \\\n",
       "0  good morning my name be xxxx xxxx and I apprec...   \n",
       "1  I upgrade my xxxx xxxx card in   and be tell b...   \n",
       "\n",
       "                                               nouns  \n",
       "0  morning name stop bank cardmember service debt...  \n",
       "1  card agent anniversary date agent information ...  "
      ]
     },
     "execution_count": 83,
     "metadata": {},
     "output_type": "execute_result"
    }
   ],
   "source": [
    "# all masked texts has been removed\n",
    "df_clean.head(2)"
   ]
  },
  {
   "cell_type": "code",
   "execution_count": 97,
   "metadata": {},
   "outputs": [
    {
     "data": {
      "text/html": [
       "<div>\n",
       "<style scoped>\n",
       "    .dataframe tbody tr th:only-of-type {\n",
       "        vertical-align: middle;\n",
       "    }\n",
       "\n",
       "    .dataframe tbody tr th {\n",
       "        vertical-align: top;\n",
       "    }\n",
       "\n",
       "    .dataframe thead th {\n",
       "        text-align: right;\n",
       "    }\n",
       "</style>\n",
       "<table border=\"1\" class=\"dataframe\">\n",
       "  <thead>\n",
       "    <tr style=\"text-align: right;\">\n",
       "      <th></th>\n",
       "      <th>complaint</th>\n",
       "      <th>lemmatized_complaint</th>\n",
       "      <th>nouns</th>\n",
       "    </tr>\n",
       "  </thead>\n",
       "  <tbody>\n",
       "    <tr>\n",
       "      <th>1878</th>\n",
       "      <td>once again this is following complaints xxxx a...</td>\n",
       "      <td>once again this be follow complaint xxxx and x...</td>\n",
       "      <td>complaint cfpb case base chase answer interest...</td>\n",
       "    </tr>\n",
       "    <tr>\n",
       "      <th>1978</th>\n",
       "      <td>update  without any warning chase took away my...</td>\n",
       "      <td>update   without any warning chase take away m...</td>\n",
       "      <td>warning chase reward point purchase card answe...</td>\n",
       "    </tr>\n",
       "    <tr>\n",
       "      <th>3927</th>\n",
       "      <td>i made an online purchase at xxxx xxxx in  the...</td>\n",
       "      <td>I make an online purchase at xxxx xxxx in   th...</td>\n",
       "      <td>purchase pickup store pickup desk order wait m...</td>\n",
       "    </tr>\n",
       "    <tr>\n",
       "      <th>10468</th>\n",
       "      <td>i have been in conflict with jp morgan chase b...</td>\n",
       "      <td>I have be in conflict with jp morgan chase ban...</td>\n",
       "      <td>conflict jp morgan chase bank note washington ...</td>\n",
       "    </tr>\n",
       "    <tr>\n",
       "      <th>14576</th>\n",
       "      <td>in xxxx my husband died and all creditors were...</td>\n",
       "      <td>in xxxx my husband die and all creditor be so ...</td>\n",
       "      <td>husband creditor notify chase heloc account bu...</td>\n",
       "    </tr>\n",
       "    <tr>\n",
       "      <th>16129</th>\n",
       "      <td>both myself and my husband are victims of irs ...</td>\n",
       "      <td>both myself and my husband be victim of irs fr...</td>\n",
       "      <td>husband victim irs fraud mortgage fraud pronzy...</td>\n",
       "    </tr>\n",
       "    <tr>\n",
       "      <th>20679</th>\n",
       "      <td>our home has been on the market for a year got...</td>\n",
       "      <td>our home have be on the market for a year get ...</td>\n",
       "      <td>home market year cash buyer closing process mo...</td>\n",
       "    </tr>\n",
       "    <tr>\n",
       "      <th>20759</th>\n",
       "      <td>the following occurred on  an advertisement on...</td>\n",
       "      <td>the following occur on   an advertisement on t...</td>\n",
       "      <td>advertisement banking portal gift card wording...</td>\n",
       "    </tr>\n",
       "  </tbody>\n",
       "</table>\n",
       "</div>"
      ],
      "text/plain": [
       "                                               complaint  \\\n",
       "1878   once again this is following complaints xxxx a...   \n",
       "1978   update  without any warning chase took away my...   \n",
       "3927   i made an online purchase at xxxx xxxx in  the...   \n",
       "10468  i have been in conflict with jp morgan chase b...   \n",
       "14576  in xxxx my husband died and all creditors were...   \n",
       "16129  both myself and my husband are victims of irs ...   \n",
       "20679  our home has been on the market for a year got...   \n",
       "20759  the following occurred on  an advertisement on...   \n",
       "\n",
       "                                    lemmatized_complaint  \\\n",
       "1878   once again this be follow complaint xxxx and x...   \n",
       "1978   update   without any warning chase take away m...   \n",
       "3927   I make an online purchase at xxxx xxxx in   th...   \n",
       "10468  I have be in conflict with jp morgan chase ban...   \n",
       "14576  in xxxx my husband die and all creditor be so ...   \n",
       "16129  both myself and my husband be victim of irs fr...   \n",
       "20679  our home have be on the market for a year get ...   \n",
       "20759  the following occur on   an advertisement on t...   \n",
       "\n",
       "                                                   nouns  \n",
       "1878   complaint cfpb case base chase answer interest...  \n",
       "1978   warning chase reward point purchase card answe...  \n",
       "3927   purchase pickup store pickup desk order wait m...  \n",
       "10468  conflict jp morgan chase bank note washington ...  \n",
       "14576  husband creditor notify chase heloc account bu...  \n",
       "16129  husband victim irs fraud mortgage fraud pronzy...  \n",
       "20679  home market year cash buyer closing process mo...  \n",
       "20759  advertisement banking portal gift card wording...  "
      ]
     },
     "execution_count": 97,
     "metadata": {},
     "output_type": "execute_result"
    }
   ],
   "source": [
    "# df_clean[df_clean['nouns'].str.contains('pron')]"
   ]
  },
  {
   "cell_type": "code",
   "execution_count": 85,
   "metadata": {},
   "outputs": [
    {
     "data": {
      "text/plain": [
       "['complaint_nouns.gz']"
      ]
     },
     "execution_count": 85,
     "metadata": {},
     "output_type": "execute_result"
    }
   ],
   "source": [
    "joblib.dump(df_clean, \"complaint_nouns.gz\")"
   ]
  },
  {
   "cell_type": "code",
   "execution_count": 158,
   "metadata": {},
   "outputs": [],
   "source": [
    "df_clean = joblib.load(\"complaint_nouns.gz\")"
   ]
  },
  {
   "cell_type": "markdown",
   "metadata": {
    "id": "k-I0k0QtJrGA"
   },
   "source": [
    "## Feature Extraction\n",
    "Convert the raw texts to a matrix of TF-IDF features"
   ]
  },
  {
   "cell_type": "code",
   "execution_count": 159,
   "metadata": {
    "id": "Y8fGwaCPJrGA"
   },
   "outputs": [],
   "source": [
    "from sklearn.feature_extraction.text import TfidfVectorizer"
   ]
  },
  {
   "cell_type": "markdown",
   "metadata": {
    "id": "yYzD85nTJrGA"
   },
   "source": [
    "#### Creating a document term matrix\n",
    "\n",
    "- The contents of a document term matrix are tuples of (complaint_id,token_id) \n",
    "- The tuples that are not there have a tf-idf score of 0"
   ]
  },
  {
   "cell_type": "code",
   "execution_count": 160,
   "metadata": {},
   "outputs": [],
   "source": [
    "vect = TfidfVectorizer(stop_words='english', max_df=0.95, min_df=0.01)\n",
    "X = vect.fit_transform(df_clean['nouns'])\n",
    "\n",
    "dtm = pd.DataFrame(X.toarray(), columns=vect.get_feature_names_out())"
   ]
  },
  {
   "cell_type": "code",
   "execution_count": 161,
   "metadata": {},
   "outputs": [
    {
     "data": {
      "text/html": [
       "<div>\n",
       "<style scoped>\n",
       "    .dataframe tbody tr th:only-of-type {\n",
       "        vertical-align: middle;\n",
       "    }\n",
       "\n",
       "    .dataframe tbody tr th {\n",
       "        vertical-align: top;\n",
       "    }\n",
       "\n",
       "    .dataframe thead th {\n",
       "        text-align: right;\n",
       "    }\n",
       "</style>\n",
       "<table border=\"1\" class=\"dataframe\">\n",
       "  <thead>\n",
       "    <tr style=\"text-align: right;\">\n",
       "      <th></th>\n",
       "      <th>ability</th>\n",
       "      <th>abuse</th>\n",
       "      <th>access</th>\n",
       "      <th>accord</th>\n",
       "      <th>account</th>\n",
       "      <th>acct</th>\n",
       "      <th>ach</th>\n",
       "      <th>act</th>\n",
       "      <th>action</th>\n",
       "      <th>activity</th>\n",
       "      <th>...</th>\n",
       "      <th>wife</th>\n",
       "      <th>wire</th>\n",
       "      <th>withdrawal</th>\n",
       "      <th>woman</th>\n",
       "      <th>word</th>\n",
       "      <th>work</th>\n",
       "      <th>write</th>\n",
       "      <th>writing</th>\n",
       "      <th>year</th>\n",
       "      <th>yesterday</th>\n",
       "    </tr>\n",
       "  </thead>\n",
       "  <tbody>\n",
       "    <tr>\n",
       "      <th>0</th>\n",
       "      <td>0.0</td>\n",
       "      <td>0.0</td>\n",
       "      <td>0.0</td>\n",
       "      <td>0.0</td>\n",
       "      <td>0.086945</td>\n",
       "      <td>0.0</td>\n",
       "      <td>0.0</td>\n",
       "      <td>0.0</td>\n",
       "      <td>0.0</td>\n",
       "      <td>0.0</td>\n",
       "      <td>...</td>\n",
       "      <td>0.0</td>\n",
       "      <td>0.0</td>\n",
       "      <td>0.0</td>\n",
       "      <td>0.0</td>\n",
       "      <td>0.0</td>\n",
       "      <td>0.0</td>\n",
       "      <td>0.0</td>\n",
       "      <td>0.0</td>\n",
       "      <td>0.0</td>\n",
       "      <td>0.0</td>\n",
       "    </tr>\n",
       "    <tr>\n",
       "      <th>1</th>\n",
       "      <td>0.0</td>\n",
       "      <td>0.0</td>\n",
       "      <td>0.0</td>\n",
       "      <td>0.0</td>\n",
       "      <td>0.094261</td>\n",
       "      <td>0.0</td>\n",
       "      <td>0.0</td>\n",
       "      <td>0.0</td>\n",
       "      <td>0.0</td>\n",
       "      <td>0.0</td>\n",
       "      <td>...</td>\n",
       "      <td>0.0</td>\n",
       "      <td>0.0</td>\n",
       "      <td>0.0</td>\n",
       "      <td>0.0</td>\n",
       "      <td>0.0</td>\n",
       "      <td>0.0</td>\n",
       "      <td>0.0</td>\n",
       "      <td>0.0</td>\n",
       "      <td>0.0</td>\n",
       "      <td>0.0</td>\n",
       "    </tr>\n",
       "  </tbody>\n",
       "</table>\n",
       "<p>2 rows × 487 columns</p>\n",
       "</div>"
      ],
      "text/plain": [
       "   ability  abuse  access  accord   account  acct  ach  act  action  activity  \\\n",
       "0      0.0    0.0     0.0     0.0  0.086945   0.0  0.0  0.0     0.0       0.0   \n",
       "1      0.0    0.0     0.0     0.0  0.094261   0.0  0.0  0.0     0.0       0.0   \n",
       "\n",
       "   ...  wife  wire  withdrawal  woman  word  work  write  writing  year  \\\n",
       "0  ...   0.0   0.0         0.0    0.0   0.0   0.0    0.0      0.0   0.0   \n",
       "1  ...   0.0   0.0         0.0    0.0   0.0   0.0    0.0      0.0   0.0   \n",
       "\n",
       "   yesterday  \n",
       "0        0.0  \n",
       "1        0.0  \n",
       "\n",
       "[2 rows x 487 columns]"
      ]
     },
     "execution_count": 161,
     "metadata": {},
     "output_type": "execute_result"
    }
   ],
   "source": [
    "dtm.head(2)"
   ]
  },
  {
   "cell_type": "markdown",
   "metadata": {
    "id": "7Q9lwvNEJrGB"
   },
   "source": [
    "## Topic Modelling using NMF\n",
    "\n",
    "Non-Negative Matrix Factorization (NMF) is an unsupervised technique so there are no labeling of topics that the model will be trained on. The way it works is that, NMF decomposes (or factorizes) high-dimensional vectors into a lower-dimensional representation. These lower-dimensional vectors are non-negative which also means their coefficients are non-negative.\n",
    "\n",
    "##### Steps\n",
    "\n",
    "* Find the best number of clusters \n",
    "* Apply the best number to create word clusters\n",
    "* Inspect & validate the correction of each cluster wrt the complaints \n",
    "* Correct the labels if needed \n",
    "* Map the clusters to topics/cluster names"
   ]
  },
  {
   "cell_type": "markdown",
   "metadata": {
    "id": "0wYR1xUTJrGD"
   },
   "source": [
    "## Manual Topic Modeling\n",
    "We will take a trial & error approach to find the best number of topics for the NMF model.\n",
    "\n",
    "- The only parameter that is required is the number of components i.e. the number of topics we want. \n",
    "- This is the most crucial step in the whole topic modeling process and will greatly affect how good the final topics are."
   ]
  },
  {
   "cell_type": "code",
   "execution_count": 162,
   "metadata": {
    "id": "ffzdDpp_JrGB"
   },
   "outputs": [],
   "source": [
    "from sklearn.decomposition import NMF\n",
    "\n",
    "N_TOPICS = 10\n",
    "N_WORDS = 15\n",
    "nmf = NMF(n_components=N_TOPICS, init='nndsvd', max_iter=500, random_state=40)\n",
    "W = nmf.fit_transform(X)  # Document-topic matrix\n",
    "H = nmf.components_       # Topic-term matrix"
   ]
  },
  {
   "cell_type": "markdown",
   "metadata": {
    "id": "16kRfat5JrGE"
   },
   "source": [
    "#### Top 15 words for each of the topics"
   ]
  },
  {
   "cell_type": "code",
   "execution_count": 163,
   "metadata": {
    "tags": []
   },
   "outputs": [
    {
     "data": {
      "text/html": [
       "<div>\n",
       "<style scoped>\n",
       "    .dataframe tbody tr th:only-of-type {\n",
       "        vertical-align: middle;\n",
       "    }\n",
       "\n",
       "    .dataframe tbody tr th {\n",
       "        vertical-align: top;\n",
       "    }\n",
       "\n",
       "    .dataframe thead th {\n",
       "        text-align: right;\n",
       "    }\n",
       "</style>\n",
       "<table border=\"1\" class=\"dataframe\">\n",
       "  <thead>\n",
       "    <tr style=\"text-align: right;\">\n",
       "      <th></th>\n",
       "      <th>Word 1</th>\n",
       "      <th>Word 2</th>\n",
       "      <th>Word 3</th>\n",
       "      <th>Word 4</th>\n",
       "      <th>Word 5</th>\n",
       "      <th>Word 6</th>\n",
       "      <th>Word 7</th>\n",
       "      <th>Word 8</th>\n",
       "      <th>Word 9</th>\n",
       "      <th>Word 10</th>\n",
       "      <th>Word 11</th>\n",
       "      <th>Word 12</th>\n",
       "      <th>Word 13</th>\n",
       "      <th>Word 14</th>\n",
       "      <th>Word 15</th>\n",
       "    </tr>\n",
       "  </thead>\n",
       "  <tbody>\n",
       "    <tr>\n",
       "      <th>Topic 1</th>\n",
       "      <td>account</td>\n",
       "      <td>checking</td>\n",
       "      <td>chase</td>\n",
       "      <td>reason</td>\n",
       "      <td>deposit</td>\n",
       "      <td>branch</td>\n",
       "      <td>balance</td>\n",
       "      <td>business</td>\n",
       "      <td>fund</td>\n",
       "      <td>access</td>\n",
       "      <td>saving</td>\n",
       "      <td>year</td>\n",
       "      <td>number</td>\n",
       "      <td>activity</td>\n",
       "      <td>identity</td>\n",
       "    </tr>\n",
       "    <tr>\n",
       "      <th>Topic 2</th>\n",
       "      <td>card</td>\n",
       "      <td>credit</td>\n",
       "      <td>chase</td>\n",
       "      <td>balance</td>\n",
       "      <td>limit</td>\n",
       "      <td>score</td>\n",
       "      <td>year</td>\n",
       "      <td>purchase</td>\n",
       "      <td>point</td>\n",
       "      <td>month</td>\n",
       "      <td>freedom</td>\n",
       "      <td>rate</td>\n",
       "      <td>offer</td>\n",
       "      <td>reward</td>\n",
       "      <td>amazon</td>\n",
       "    </tr>\n",
       "    <tr>\n",
       "      <th>Topic 3</th>\n",
       "      <td>loan</td>\n",
       "      <td>mortgage</td>\n",
       "      <td>home</td>\n",
       "      <td>modification</td>\n",
       "      <td>chase</td>\n",
       "      <td>year</td>\n",
       "      <td>property</td>\n",
       "      <td>rate</td>\n",
       "      <td>foreclosure</td>\n",
       "      <td>house</td>\n",
       "      <td>document</td>\n",
       "      <td>sale</td>\n",
       "      <td>morgan</td>\n",
       "      <td>jp</td>\n",
       "      <td>time</td>\n",
       "    </tr>\n",
       "    <tr>\n",
       "      <th>Topic 4</th>\n",
       "      <td>charge</td>\n",
       "      <td>dispute</td>\n",
       "      <td>merchant</td>\n",
       "      <td>transaction</td>\n",
       "      <td>fraud</td>\n",
       "      <td>purchase</td>\n",
       "      <td>statement</td>\n",
       "      <td>company</td>\n",
       "      <td>card</td>\n",
       "      <td>claim</td>\n",
       "      <td>billing</td>\n",
       "      <td>visa</td>\n",
       "      <td>month</td>\n",
       "      <td>refund</td>\n",
       "      <td>investigation</td>\n",
       "    </tr>\n",
       "    <tr>\n",
       "      <th>Topic 5</th>\n",
       "      <td>payment</td>\n",
       "      <td>month</td>\n",
       "      <td>balance</td>\n",
       "      <td>statement</td>\n",
       "      <td>chase</td>\n",
       "      <td>day</td>\n",
       "      <td>time</td>\n",
       "      <td>credit</td>\n",
       "      <td>auto</td>\n",
       "      <td>date</td>\n",
       "      <td>mortgage</td>\n",
       "      <td>pay</td>\n",
       "      <td>car</td>\n",
       "      <td>error</td>\n",
       "      <td>history</td>\n",
       "    </tr>\n",
       "    <tr>\n",
       "      <th>Topic 6</th>\n",
       "      <td>check</td>\n",
       "      <td>deposit</td>\n",
       "      <td>fund</td>\n",
       "      <td>day</td>\n",
       "      <td>cash</td>\n",
       "      <td>branch</td>\n",
       "      <td>hold</td>\n",
       "      <td>chase</td>\n",
       "      <td>cashier</td>\n",
       "      <td>business</td>\n",
       "      <td>bank</td>\n",
       "      <td>mail</td>\n",
       "      <td>teller</td>\n",
       "      <td>issue</td>\n",
       "      <td>customer</td>\n",
       "    </tr>\n",
       "    <tr>\n",
       "      <th>Topic 7</th>\n",
       "      <td>report</td>\n",
       "      <td>credit</td>\n",
       "      <td>inquiry</td>\n",
       "      <td>company</td>\n",
       "      <td>reporting</td>\n",
       "      <td>jpmcb</td>\n",
       "      <td>debt</td>\n",
       "      <td>bureaus</td>\n",
       "      <td>score</td>\n",
       "      <td>information</td>\n",
       "      <td>identity</td>\n",
       "      <td>remove</td>\n",
       "      <td>theft</td>\n",
       "      <td>agency</td>\n",
       "      <td>creditor</td>\n",
       "    </tr>\n",
       "    <tr>\n",
       "      <th>Topic 8</th>\n",
       "      <td>fee</td>\n",
       "      <td>overdraft</td>\n",
       "      <td>balance</td>\n",
       "      <td>time</td>\n",
       "      <td>year</td>\n",
       "      <td>customer</td>\n",
       "      <td>transfer</td>\n",
       "      <td>month</td>\n",
       "      <td>transaction</td>\n",
       "      <td>dollar</td>\n",
       "      <td>service</td>\n",
       "      <td>day</td>\n",
       "      <td>fund</td>\n",
       "      <td>statement</td>\n",
       "      <td>chase</td>\n",
       "    </tr>\n",
       "    <tr>\n",
       "      <th>Topic 9</th>\n",
       "      <td>chase</td>\n",
       "      <td>letter</td>\n",
       "      <td>information</td>\n",
       "      <td>number</td>\n",
       "      <td>dispute</td>\n",
       "      <td>email</td>\n",
       "      <td>phone</td>\n",
       "      <td>time</td>\n",
       "      <td>service</td>\n",
       "      <td>claim</td>\n",
       "      <td>state</td>\n",
       "      <td>complaint</td>\n",
       "      <td>customer</td>\n",
       "      <td>request</td>\n",
       "      <td>day</td>\n",
       "    </tr>\n",
       "    <tr>\n",
       "      <th>Topic 10</th>\n",
       "      <td>bank</td>\n",
       "      <td>money</td>\n",
       "      <td>transaction</td>\n",
       "      <td>chase</td>\n",
       "      <td>fund</td>\n",
       "      <td>claim</td>\n",
       "      <td>atm</td>\n",
       "      <td>debit</td>\n",
       "      <td>fraud</td>\n",
       "      <td>transfer</td>\n",
       "      <td>day</td>\n",
       "      <td>person</td>\n",
       "      <td>wire</td>\n",
       "      <td>deposit</td>\n",
       "      <td>dollar</td>\n",
       "    </tr>\n",
       "  </tbody>\n",
       "</table>\n",
       "</div>"
      ],
      "text/plain": [
       "           Word 1     Word 2       Word 3        Word 4     Word 5    Word 6  \\\n",
       "Topic 1   account   checking        chase        reason    deposit    branch   \n",
       "Topic 2      card     credit        chase       balance      limit     score   \n",
       "Topic 3      loan   mortgage         home  modification      chase      year   \n",
       "Topic 4    charge    dispute     merchant   transaction      fraud  purchase   \n",
       "Topic 5   payment      month      balance     statement      chase       day   \n",
       "Topic 6     check    deposit         fund           day       cash    branch   \n",
       "Topic 7    report     credit      inquiry       company  reporting     jpmcb   \n",
       "Topic 8       fee  overdraft      balance          time       year  customer   \n",
       "Topic 9     chase     letter  information        number    dispute     email   \n",
       "Topic 10     bank      money  transaction         chase       fund     claim   \n",
       "\n",
       "             Word 7    Word 8       Word 9      Word 10   Word 11    Word 12  \\\n",
       "Topic 1     balance  business         fund       access    saving       year   \n",
       "Topic 2        year  purchase        point        month   freedom       rate   \n",
       "Topic 3    property      rate  foreclosure        house  document       sale   \n",
       "Topic 4   statement   company         card        claim   billing       visa   \n",
       "Topic 5        time    credit         auto         date  mortgage        pay   \n",
       "Topic 6        hold     chase      cashier     business      bank       mail   \n",
       "Topic 7        debt   bureaus        score  information  identity     remove   \n",
       "Topic 8    transfer     month  transaction       dollar   service        day   \n",
       "Topic 9       phone      time      service        claim     state  complaint   \n",
       "Topic 10        atm     debit        fraud     transfer       day     person   \n",
       "\n",
       "           Word 13    Word 14        Word 15  \n",
       "Topic 1     number   activity       identity  \n",
       "Topic 2      offer     reward         amazon  \n",
       "Topic 3     morgan         jp           time  \n",
       "Topic 4      month     refund  investigation  \n",
       "Topic 5        car      error        history  \n",
       "Topic 6     teller      issue       customer  \n",
       "Topic 7      theft     agency       creditor  \n",
       "Topic 8       fund  statement          chase  \n",
       "Topic 9   customer    request            day  \n",
       "Topic 10      wire    deposit         dollar  "
      ]
     },
     "execution_count": 163,
     "metadata": {},
     "output_type": "execute_result"
    }
   ],
   "source": [
    "words = np.array(vect.get_feature_names_out())\n",
    "topic_words = pd.DataFrame(np.zeros((N_TOPICS, N_WORDS)), index=[f'Topic {i + 1}' for i in range(N_TOPICS)],\n",
    "                           columns=[f'Word {i + 1}' for i in range(N_WORDS)]).astype(str)\n",
    "for i in range(N_TOPICS):\n",
    "    ix = H[i].argsort()[::-1][:N_WORDS]\n",
    "    topic_words.iloc[i] = words[ix]\n",
    "\n",
    "topic_words"
   ]
  },
  {
   "cell_type": "markdown",
   "metadata": {},
   "source": [
    "#### Observation: On taking 10 topics, we find many similar topics, therefore we need to merge few topics into one and hence taking lesser topics"
   ]
  },
  {
   "cell_type": "code",
   "execution_count": 164,
   "metadata": {
    "id": "ffzdDpp_JrGB"
   },
   "outputs": [],
   "source": [
    "from sklearn.decomposition import NMF\n",
    "\n",
    "N_TOPICS = 5\n",
    "N_WORDS = 15\n",
    "nmf = NMF(n_components=N_TOPICS, init='nndsvd', max_iter=500, random_state=40)\n",
    "W = nmf.fit_transform(X)  # Document-topic matrix\n",
    "H = nmf.components_       # Topic-term matrix"
   ]
  },
  {
   "cell_type": "markdown",
   "metadata": {
    "id": "16kRfat5JrGE"
   },
   "source": [
    "#### Top 15 words for each of the topics"
   ]
  },
  {
   "cell_type": "code",
   "execution_count": 165,
   "metadata": {
    "tags": []
   },
   "outputs": [
    {
     "data": {
      "text/html": [
       "<div>\n",
       "<style scoped>\n",
       "    .dataframe tbody tr th:only-of-type {\n",
       "        vertical-align: middle;\n",
       "    }\n",
       "\n",
       "    .dataframe tbody tr th {\n",
       "        vertical-align: top;\n",
       "    }\n",
       "\n",
       "    .dataframe thead th {\n",
       "        text-align: right;\n",
       "    }\n",
       "</style>\n",
       "<table border=\"1\" class=\"dataframe\">\n",
       "  <thead>\n",
       "    <tr style=\"text-align: right;\">\n",
       "      <th></th>\n",
       "      <th>Word 1</th>\n",
       "      <th>Word 2</th>\n",
       "      <th>Word 3</th>\n",
       "      <th>Word 4</th>\n",
       "      <th>Word 5</th>\n",
       "      <th>Word 6</th>\n",
       "      <th>Word 7</th>\n",
       "      <th>Word 8</th>\n",
       "      <th>Word 9</th>\n",
       "      <th>Word 10</th>\n",
       "      <th>Word 11</th>\n",
       "      <th>Word 12</th>\n",
       "      <th>Word 13</th>\n",
       "      <th>Word 14</th>\n",
       "      <th>Word 15</th>\n",
       "    </tr>\n",
       "  </thead>\n",
       "  <tbody>\n",
       "    <tr>\n",
       "      <th>Topic 1</th>\n",
       "      <td>account</td>\n",
       "      <td>bank</td>\n",
       "      <td>check</td>\n",
       "      <td>chase</td>\n",
       "      <td>money</td>\n",
       "      <td>fund</td>\n",
       "      <td>deposit</td>\n",
       "      <td>branch</td>\n",
       "      <td>day</td>\n",
       "      <td>checking</td>\n",
       "      <td>number</td>\n",
       "      <td>business</td>\n",
       "      <td>transaction</td>\n",
       "      <td>transfer</td>\n",
       "      <td>customer</td>\n",
       "    </tr>\n",
       "    <tr>\n",
       "      <th>Topic 2</th>\n",
       "      <td>credit</td>\n",
       "      <td>card</td>\n",
       "      <td>report</td>\n",
       "      <td>inquiry</td>\n",
       "      <td>chase</td>\n",
       "      <td>account</td>\n",
       "      <td>score</td>\n",
       "      <td>company</td>\n",
       "      <td>limit</td>\n",
       "      <td>debt</td>\n",
       "      <td>information</td>\n",
       "      <td>year</td>\n",
       "      <td>balance</td>\n",
       "      <td>application</td>\n",
       "      <td>letter</td>\n",
       "    </tr>\n",
       "    <tr>\n",
       "      <th>Topic 3</th>\n",
       "      <td>loan</td>\n",
       "      <td>mortgage</td>\n",
       "      <td>chase</td>\n",
       "      <td>home</td>\n",
       "      <td>modification</td>\n",
       "      <td>property</td>\n",
       "      <td>year</td>\n",
       "      <td>letter</td>\n",
       "      <td>document</td>\n",
       "      <td>bank</td>\n",
       "      <td>rate</td>\n",
       "      <td>time</td>\n",
       "      <td>foreclosure</td>\n",
       "      <td>house</td>\n",
       "      <td>morgan</td>\n",
       "    </tr>\n",
       "    <tr>\n",
       "      <th>Topic 4</th>\n",
       "      <td>charge</td>\n",
       "      <td>card</td>\n",
       "      <td>chase</td>\n",
       "      <td>dispute</td>\n",
       "      <td>transaction</td>\n",
       "      <td>fee</td>\n",
       "      <td>merchant</td>\n",
       "      <td>fraud</td>\n",
       "      <td>purchase</td>\n",
       "      <td>claim</td>\n",
       "      <td>service</td>\n",
       "      <td>email</td>\n",
       "      <td>time</td>\n",
       "      <td>refund</td>\n",
       "      <td>company</td>\n",
       "    </tr>\n",
       "    <tr>\n",
       "      <th>Topic 5</th>\n",
       "      <td>payment</td>\n",
       "      <td>balance</td>\n",
       "      <td>fee</td>\n",
       "      <td>month</td>\n",
       "      <td>statement</td>\n",
       "      <td>day</td>\n",
       "      <td>time</td>\n",
       "      <td>auto</td>\n",
       "      <td>chase</td>\n",
       "      <td>date</td>\n",
       "      <td>pay</td>\n",
       "      <td>credit</td>\n",
       "      <td>year</td>\n",
       "      <td>mortgage</td>\n",
       "      <td>account</td>\n",
       "    </tr>\n",
       "  </tbody>\n",
       "</table>\n",
       "</div>"
      ],
      "text/plain": [
       "          Word 1    Word 2  Word 3   Word 4        Word 5    Word 6    Word 7  \\\n",
       "Topic 1  account      bank   check    chase         money      fund   deposit   \n",
       "Topic 2   credit      card  report  inquiry         chase   account     score   \n",
       "Topic 3     loan  mortgage   chase     home  modification  property      year   \n",
       "Topic 4   charge      card   chase  dispute   transaction       fee  merchant   \n",
       "Topic 5  payment   balance     fee    month     statement       day      time   \n",
       "\n",
       "          Word 8    Word 9   Word 10      Word 11   Word 12      Word 13  \\\n",
       "Topic 1   branch       day  checking       number  business  transaction   \n",
       "Topic 2  company     limit      debt  information      year      balance   \n",
       "Topic 3   letter  document      bank         rate      time  foreclosure   \n",
       "Topic 4    fraud  purchase     claim      service     email         time   \n",
       "Topic 5     auto     chase      date          pay    credit         year   \n",
       "\n",
       "             Word 14   Word 15  \n",
       "Topic 1     transfer  customer  \n",
       "Topic 2  application    letter  \n",
       "Topic 3        house    morgan  \n",
       "Topic 4       refund   company  \n",
       "Topic 5     mortgage   account  "
      ]
     },
     "execution_count": 165,
     "metadata": {},
     "output_type": "execute_result"
    }
   ],
   "source": [
    "words = np.array(vect.get_feature_names_out())\n",
    "topic_words = pd.DataFrame(np.zeros((N_TOPICS, N_WORDS)), index=[f'Topic {i + 1}' for i in range(N_TOPICS)],\n",
    "                           columns=[f'Word {i + 1}' for i in range(N_WORDS)]).astype(str)\n",
    "for i in range(N_TOPICS):\n",
    "    ix = H[i].argsort()[::-1][:N_WORDS]\n",
    "    topic_words.iloc[i] = words[ix]\n",
    "\n",
    "topic_words"
   ]
  },
  {
   "cell_type": "markdown",
   "metadata": {},
   "source": [
    "#### Creating the best topic for each complaint in terms of integer value 0,1,2,3 & 4\n",
    "- Credit card / Prepaid card\n",
    "- Bank account services\n",
    "- Theft/Dispute reporting\n",
    "- Mortgages/loans\n",
    "- Others "
   ]
  },
  {
   "cell_type": "code",
   "execution_count": 176,
   "metadata": {
    "id": "0OIT7LmFJrGF"
   },
   "outputs": [],
   "source": [
    "##### Create a topic mapping\n",
    "\n",
    "topic_mapping = {\n",
    "    'Topic 1': 0,\n",
    "    'Topic 2': 1,\n",
    "    'Topic 3': 2,\n",
    "    'Topic 4': 3,\n",
    "    'Topic 5': 4,\n",
    "}"
   ]
  },
  {
   "cell_type": "code",
   "execution_count": 177,
   "metadata": {},
   "outputs": [
    {
     "data": {
      "text/html": [
       "<div>\n",
       "<style scoped>\n",
       "    .dataframe tbody tr th:only-of-type {\n",
       "        vertical-align: middle;\n",
       "    }\n",
       "\n",
       "    .dataframe tbody tr th {\n",
       "        vertical-align: top;\n",
       "    }\n",
       "\n",
       "    .dataframe thead th {\n",
       "        text-align: right;\n",
       "    }\n",
       "</style>\n",
       "<table border=\"1\" class=\"dataframe\">\n",
       "  <thead>\n",
       "    <tr style=\"text-align: right;\">\n",
       "      <th></th>\n",
       "      <th>Topic 1</th>\n",
       "      <th>Topic 2</th>\n",
       "      <th>Topic 3</th>\n",
       "      <th>Topic 4</th>\n",
       "      <th>Topic 5</th>\n",
       "      <th>max_topic</th>\n",
       "    </tr>\n",
       "  </thead>\n",
       "  <tbody>\n",
       "    <tr>\n",
       "      <th>0</th>\n",
       "      <td>0.022253</td>\n",
       "      <td>0.011613</td>\n",
       "      <td>0.018709</td>\n",
       "      <td>0.005120</td>\n",
       "      <td>0.007282</td>\n",
       "      <td>0</td>\n",
       "    </tr>\n",
       "    <tr>\n",
       "      <th>1</th>\n",
       "      <td>0.008430</td>\n",
       "      <td>0.014395</td>\n",
       "      <td>0.003871</td>\n",
       "      <td>0.012650</td>\n",
       "      <td>0.002029</td>\n",
       "      <td>1</td>\n",
       "    </tr>\n",
       "    <tr>\n",
       "      <th>2</th>\n",
       "      <td>0.000000</td>\n",
       "      <td>0.065767</td>\n",
       "      <td>0.002960</td>\n",
       "      <td>0.002541</td>\n",
       "      <td>0.000000</td>\n",
       "      <td>1</td>\n",
       "    </tr>\n",
       "    <tr>\n",
       "      <th>3</th>\n",
       "      <td>0.017298</td>\n",
       "      <td>0.061300</td>\n",
       "      <td>0.016996</td>\n",
       "      <td>0.001573</td>\n",
       "      <td>0.000000</td>\n",
       "      <td>1</td>\n",
       "    </tr>\n",
       "    <tr>\n",
       "      <th>4</th>\n",
       "      <td>0.063132</td>\n",
       "      <td>0.000000</td>\n",
       "      <td>0.010181</td>\n",
       "      <td>0.007589</td>\n",
       "      <td>0.000000</td>\n",
       "      <td>0</td>\n",
       "    </tr>\n",
       "    <tr>\n",
       "      <th>5</th>\n",
       "      <td>0.000000</td>\n",
       "      <td>0.037735</td>\n",
       "      <td>0.000000</td>\n",
       "      <td>0.000000</td>\n",
       "      <td>0.000000</td>\n",
       "      <td>1</td>\n",
       "    </tr>\n",
       "    <tr>\n",
       "      <th>6</th>\n",
       "      <td>0.064602</td>\n",
       "      <td>0.002305</td>\n",
       "      <td>0.009318</td>\n",
       "      <td>0.007296</td>\n",
       "      <td>0.013939</td>\n",
       "      <td>0</td>\n",
       "    </tr>\n",
       "    <tr>\n",
       "      <th>7</th>\n",
       "      <td>0.003623</td>\n",
       "      <td>0.003028</td>\n",
       "      <td>0.046525</td>\n",
       "      <td>0.008831</td>\n",
       "      <td>0.056535</td>\n",
       "      <td>4</td>\n",
       "    </tr>\n",
       "    <tr>\n",
       "      <th>8</th>\n",
       "      <td>0.025280</td>\n",
       "      <td>0.000245</td>\n",
       "      <td>0.019380</td>\n",
       "      <td>0.064725</td>\n",
       "      <td>0.002704</td>\n",
       "      <td>3</td>\n",
       "    </tr>\n",
       "    <tr>\n",
       "      <th>9</th>\n",
       "      <td>0.000000</td>\n",
       "      <td>0.112194</td>\n",
       "      <td>0.000779</td>\n",
       "      <td>0.000338</td>\n",
       "      <td>0.000000</td>\n",
       "      <td>1</td>\n",
       "    </tr>\n",
       "  </tbody>\n",
       "</table>\n",
       "</div>"
      ],
      "text/plain": [
       "    Topic 1   Topic 2   Topic 3   Topic 4   Topic 5  max_topic\n",
       "0  0.022253  0.011613  0.018709  0.005120  0.007282          0\n",
       "1  0.008430  0.014395  0.003871  0.012650  0.002029          1\n",
       "2  0.000000  0.065767  0.002960  0.002541  0.000000          1\n",
       "3  0.017298  0.061300  0.016996  0.001573  0.000000          1\n",
       "4  0.063132  0.000000  0.010181  0.007589  0.000000          0\n",
       "5  0.000000  0.037735  0.000000  0.000000  0.000000          1\n",
       "6  0.064602  0.002305  0.009318  0.007296  0.013939          0\n",
       "7  0.003623  0.003028  0.046525  0.008831  0.056535          4\n",
       "8  0.025280  0.000245  0.019380  0.064725  0.002704          3\n",
       "9  0.000000  0.112194  0.000779  0.000338  0.000000          1"
      ]
     },
     "execution_count": 177,
     "metadata": {},
     "output_type": "execute_result"
    }
   ],
   "source": [
    "W = pd.DataFrame(W, columns=[f'Topic {i + 1}' for i in range(N_TOPICS)])\n",
    "W['max_topic'] = W.apply(lambda x: topic_mapping.get(x.idxmax()), axis=1)\n",
    "W[pd.notnull(W['max_topic'])].head(10)"
   ]
  },
  {
   "cell_type": "markdown",
   "metadata": {},
   "source": [
    "### Verifying topic laelling for the documents"
   ]
  },
  {
   "cell_type": "code",
   "execution_count": 178,
   "metadata": {},
   "outputs": [
    {
     "data": {
      "text/plain": [
       "'good morning my name is xxxx xxxx and i appreciate it if you could help me put a stop to chase bank cardmember services in  i wrote to chase asking for debt verification and what they sent me a statement which is not acceptable i am asking the bank to validate the debt instead i been receiving mail every month from them attempting to collect a debt i have a right to know this information as a consumer chase account  xxxx xxxx xxxx xxxx thanks in advance for your help'"
      ]
     },
     "execution_count": 178,
     "metadata": {},
     "output_type": "execute_result"
    }
   ],
   "source": [
    "df_clean.iloc[0]['complaint']"
   ]
  },
  {
   "cell_type": "code",
   "execution_count": 179,
   "metadata": {},
   "outputs": [
    {
     "data": {
      "text/plain": [
       "'i upgraded my xxxx xxxx card in  and was told by the agent who did the upgrade my anniversary date would not change it turned the agent was giving me the wrong information in order to upgrade the account xxxx   changed my anniversary date from xxxxxxxx to xxxxxxxx without my consent xxxx has the recording of the agent who was misled me'"
      ]
     },
     "execution_count": 179,
     "metadata": {},
     "output_type": "execute_result"
    }
   ],
   "source": [
    "df_clean.iloc[1]['complaint']"
   ]
  },
  {
   "cell_type": "code",
   "execution_count": 180,
   "metadata": {},
   "outputs": [
    {
     "data": {
      "text/plain": [
       "'during the summer months i experience a decline income due to my employment therefore i request a one month payment extension with my auto loan company chase for the past almost fours years my request for payment extension is granted i have never been delinquent with my auto loan payment however on  my request for a one month payment extension was denied this year i explained my situation to representative and the supervisor with no avail after a lengthy discussion and waiting i was informed the reason for the decline as it is not  contractual  this reason for denial baffled me and therefore i emailed the office of xxxx xxxx executive director communications jpmorgan chase  co a representative contacted me and stated chase will followup about week later a representative of xxxx xxxx xxxx xxxx office called the representative shared her role was help resolve the matter the representative via conference call contacted the department handing my request after reviewing my information my request was still denied based on  policy changes  i requested an explanation and representative stated a letter will be mailed with explanation i have received xxxx letters the reason for denial was not  policy changes  i would like cfpb help in exploring the denial of my payment extension request especially since i have been clear reason for denial'"
      ]
     },
     "execution_count": 180,
     "metadata": {},
     "output_type": "execute_result"
    }
   ],
   "source": [
    "df_clean.iloc[7]['complaint']"
   ]
  },
  {
   "cell_type": "code",
   "execution_count": 181,
   "metadata": {},
   "outputs": [
    {
     "data": {
      "text/plain": [
       "'on xxxx  i made a  payment to an online retailer using chase quick pay with xxxx on the chase website i realized that this was a scam website after no confirmation product or response to any inquiries regarding the order and contacted chase to get more information about the transaction to attempt getting a refund through the retailers bank i contacted chase via a secured message on  explaining what happened and asked  is there a way to reverse this transaction or do you have a contact at xxxx that can give me more information about the recipient  that xxxx my message was reviewed and i received a response restating my original email and informing me that  the transfer has been completed however as you mentioned that the website is a scam while we can handle most inquiries by email some require the expertise of another team in order to assist you better in regards to the refund we request you to call our consumer online technical support team  i called the number listed in the email and explained my situation to then be transferred to the claims department i was directed to call xxxx and ask them about the transaction because chase did not have any information outside of what i provided when initiating the transfer i felt like this agent was trying to get me to end the call as quickly as possible and i had to interrupt her closing script to ask for a contact number at xxxx and didnt have an opportunity to get any information about what the right questions would be to ask xxxx or what words and phrases i should use to get the information i was looking for i called xxxx whos automated system initially directed me to call my bank because i used the banks app to initiate the transaction i called xxxx again to navigate their menus and talk to a customer service agent they told me that all of the information about the transaction would in chase s system because i used the banks app to perform the transaction she stayed on the line with me until i understood everything that i should ask and had a better understanding of the situation i ended the call and called chase again when i called chase the second time the agent tried to look up the information about the receiving bank but could not find any additional information she then asked me why i needed this information and i explained my situation again i was once again transferred to the claims department who told me that i needed to contact xxxx to get the information i was looking for after i told her that i had already contacted them she finally admitted that there was nothing that she could do due to the nature of the transaction and that these types of transactions are not secured she said that chase had no information about the recipient other than the email address that i inputted and that the recipients banking information was not kept in the system in both phone calls they asked if i initiated that transaction and used that to absolve themselves of all responsibility in regards to this matter during this whole process it felt like chase was not transparent about their policies regarding these types of transactions nor were they helpful in helping me get any information about the situation these transactions are advertised as a  fast safe and easy way to send money  but seem to be a dangerous way to do business i feel deceived by chase s advertising and further victimized by the way i was treated by the members on their customer service team'"
      ]
     },
     "execution_count": 181,
     "metadata": {},
     "output_type": "execute_result"
    }
   ],
   "source": [
    "df_clean.iloc[8]['complaint']"
   ]
  },
  {
   "cell_type": "code",
   "execution_count": 182,
   "metadata": {},
   "outputs": [
    {
     "data": {
      "text/plain": [
       "'i have been trying to do a loan modification with chase and all they do is give me the runaround im  mo behind they dont let me make payments i have aens all doc in but always asking more'"
      ]
     },
     "execution_count": 182,
     "metadata": {},
     "output_type": "execute_result"
    }
   ],
   "source": [
    "df_clean.iloc[23]['complaint']"
   ]
  },
  {
   "cell_type": "markdown",
   "metadata": {},
   "source": [
    "### Observation: The topic modelling for each complaint seem to be correct to us."
   ]
  },
  {
   "cell_type": "code",
   "execution_count": 183,
   "metadata": {
    "id": "peyYv-ORJrGF"
   },
   "outputs": [],
   "source": [
    "# Assign the best topic to each of the cmplaints in Topic Column\n",
    "\n",
    "df_clean['Topic'] = W['max_topic']"
   ]
  },
  {
   "cell_type": "code",
   "execution_count": 184,
   "metadata": {
    "id": "aQKpufSPJrGG"
   },
   "outputs": [
    {
     "data": {
      "text/html": [
       "<div>\n",
       "<style scoped>\n",
       "    .dataframe tbody tr th:only-of-type {\n",
       "        vertical-align: middle;\n",
       "    }\n",
       "\n",
       "    .dataframe tbody tr th {\n",
       "        vertical-align: top;\n",
       "    }\n",
       "\n",
       "    .dataframe thead th {\n",
       "        text-align: right;\n",
       "    }\n",
       "</style>\n",
       "<table border=\"1\" class=\"dataframe\">\n",
       "  <thead>\n",
       "    <tr style=\"text-align: right;\">\n",
       "      <th></th>\n",
       "      <th>complaint</th>\n",
       "      <th>lemmatized_complaint</th>\n",
       "      <th>nouns</th>\n",
       "      <th>Topic</th>\n",
       "    </tr>\n",
       "  </thead>\n",
       "  <tbody>\n",
       "    <tr>\n",
       "      <th>0</th>\n",
       "      <td>good morning my name is xxxx xxxx and i apprec...</td>\n",
       "      <td>good morning my name be xxxx xxxx and I apprec...</td>\n",
       "      <td>morning name stop bank cardmember service debt...</td>\n",
       "      <td>0</td>\n",
       "    </tr>\n",
       "    <tr>\n",
       "      <th>4</th>\n",
       "      <td>my grand son give me check for  i deposit it i...</td>\n",
       "      <td>my grand son give I check for   I deposit it i...</td>\n",
       "      <td>son chase account fund chase bank account mone...</td>\n",
       "      <td>0</td>\n",
       "    </tr>\n",
       "    <tr>\n",
       "      <th>6</th>\n",
       "      <td>with out notice jp morgan chase restricted my ...</td>\n",
       "      <td>with out notice jp morgan chase restrict my ac...</td>\n",
       "      <td>notice jp morgan chase account debit card tues...</td>\n",
       "      <td>0</td>\n",
       "    </tr>\n",
       "    <tr>\n",
       "      <th>10</th>\n",
       "      <td>mishandling of this account by chase auto and ...</td>\n",
       "      <td>mishandle of this account by chase auto and xxxx</td>\n",
       "      <td>mishandle account chase auto</td>\n",
       "      <td>0</td>\n",
       "    </tr>\n",
       "    <tr>\n",
       "      <th>12</th>\n",
       "      <td>i opened an account with chase bank on xxxx an...</td>\n",
       "      <td>I open an account with chase bank on xxxx and ...</td>\n",
       "      <td>account chase bank code bonus term everything ...</td>\n",
       "      <td>0</td>\n",
       "    </tr>\n",
       "    <tr>\n",
       "      <th>1</th>\n",
       "      <td>i upgraded my xxxx xxxx card in  and was told ...</td>\n",
       "      <td>I upgrade my xxxx xxxx card in   and be tell b...</td>\n",
       "      <td>card agent anniversary date agent information ...</td>\n",
       "      <td>1</td>\n",
       "    </tr>\n",
       "    <tr>\n",
       "      <th>2</th>\n",
       "      <td>chase card was reported on  however fraudulent...</td>\n",
       "      <td>chase card be report on   however fraudulent a...</td>\n",
       "      <td>chase card report application identity consent...</td>\n",
       "      <td>1</td>\n",
       "    </tr>\n",
       "    <tr>\n",
       "      <th>3</th>\n",
       "      <td>on  while trying to book a xxxx  xxxx  ticket ...</td>\n",
       "      <td>on   while try to book a xxxx   xxxx   ticket ...</td>\n",
       "      <td>ticket offer ticket reward card information of...</td>\n",
       "      <td>1</td>\n",
       "    </tr>\n",
       "    <tr>\n",
       "      <th>5</th>\n",
       "      <td>can you please remove inquiry</td>\n",
       "      <td>can you please remove inquiry</td>\n",
       "      <td>inquiry</td>\n",
       "      <td>1</td>\n",
       "    </tr>\n",
       "    <tr>\n",
       "      <th>9</th>\n",
       "      <td>i have a chase credit card which is incorrectl...</td>\n",
       "      <td>I have a chase credit card which be incorrectl...</td>\n",
       "      <td>chase credit card datum credit report company ...</td>\n",
       "      <td>1</td>\n",
       "    </tr>\n",
       "    <tr>\n",
       "      <th>47</th>\n",
       "      <td>i am xxxx military member  xxxx  with the xxxx...</td>\n",
       "      <td>I be xxxx military member   xxxx   with the xx...</td>\n",
       "      <td>member chase auto finance gap insurancewaiver ...</td>\n",
       "      <td>2</td>\n",
       "    </tr>\n",
       "    <tr>\n",
       "      <th>41</th>\n",
       "      <td>my name is xxxx xxxx i have missed a payment i...</td>\n",
       "      <td>my name be xxxx xxxx I have miss a payment in ...</td>\n",
       "      <td>name payment day past time loan modification l...</td>\n",
       "      <td>2</td>\n",
       "    </tr>\n",
       "    <tr>\n",
       "      <th>32</th>\n",
       "      <td>i bought a new xxxx xxxx on xxxxxxxx from xxxx...</td>\n",
       "      <td>I buy a new xxxx xxxx on xxxxxxxx from xxxx xx...</td>\n",
       "      <td>loan but chase financial title chase time reso...</td>\n",
       "      <td>2</td>\n",
       "    </tr>\n",
       "    <tr>\n",
       "      <th>30</th>\n",
       "      <td>i have wired through one of chase branches in ...</td>\n",
       "      <td>I have wire through one of chase branch in xxx...</td>\n",
       "      <td>wire chase branch reinstatement amount jpmorga...</td>\n",
       "      <td>2</td>\n",
       "    </tr>\n",
       "    <tr>\n",
       "      <th>23</th>\n",
       "      <td>i have been trying to do a loan modification w...</td>\n",
       "      <td>I have be try to do a loan modification with c...</td>\n",
       "      <td>loan modification chase runaround mo payment a...</td>\n",
       "      <td>2</td>\n",
       "    </tr>\n",
       "    <tr>\n",
       "      <th>13</th>\n",
       "      <td>to whom it may concern chase bank charged wron...</td>\n",
       "      <td>to whom it may concern chase bank charge wrong...</td>\n",
       "      <td>concern chase bank charge overdraft fee alert ...</td>\n",
       "      <td>3</td>\n",
       "    </tr>\n",
       "    <tr>\n",
       "      <th>16</th>\n",
       "      <td>xxxx xxxx a sofa love seat table and chairs an...</td>\n",
       "      <td>xxxx xxxx a sofa love seat table and chair and...</td>\n",
       "      <td>sofa love seat table chair debit card charge b...</td>\n",
       "      <td>3</td>\n",
       "    </tr>\n",
       "    <tr>\n",
       "      <th>14</th>\n",
       "      <td>my chase amazon card was declined for a cateri...</td>\n",
       "      <td>my chase amazon card be decline for a catering...</td>\n",
       "      <td>chase amazon card decline catering order place...</td>\n",
       "      <td>3</td>\n",
       "    </tr>\n",
       "    <tr>\n",
       "      <th>8</th>\n",
       "      <td>on xxxx  i made a  payment to an online retail...</td>\n",
       "      <td>on xxxx   I make a   payment to an online reta...</td>\n",
       "      <td>payment retailer use chase pay chase website s...</td>\n",
       "      <td>3</td>\n",
       "    </tr>\n",
       "    <tr>\n",
       "      <th>19</th>\n",
       "      <td>i made a purchase with xxxx xxxx xxxx on  in t...</td>\n",
       "      <td>I make a purchase with xxxx xxxx xxxx on   in ...</td>\n",
       "      <td>purchase amount transaction dispute case chase...</td>\n",
       "      <td>3</td>\n",
       "    </tr>\n",
       "    <tr>\n",
       "      <th>24</th>\n",
       "      <td>i made a purchase of  on xxxxxxxx i made payme...</td>\n",
       "      <td>I make a purchase of   on xxxxxxxx I make paym...</td>\n",
       "      <td>purchase payment payment closing date statemen...</td>\n",
       "      <td>4</td>\n",
       "    </tr>\n",
       "    <tr>\n",
       "      <th>57</th>\n",
       "      <td>action taken by the company between the dates ...</td>\n",
       "      <td>action take by the company between the date of...</td>\n",
       "      <td>action company date group contact chase claim ...</td>\n",
       "      <td>4</td>\n",
       "    </tr>\n",
       "    <tr>\n",
       "      <th>33</th>\n",
       "      <td>i recently called to ask chase bank why they r...</td>\n",
       "      <td>I recently call to ask chase bank why they rep...</td>\n",
       "      <td>chase bank credit bureau day payment info bill...</td>\n",
       "      <td>4</td>\n",
       "    </tr>\n",
       "    <tr>\n",
       "      <th>7</th>\n",
       "      <td>during the summer months i experience a declin...</td>\n",
       "      <td>during the summer month I experience a decline...</td>\n",
       "      <td>summer month decline income employment month p...</td>\n",
       "      <td>4</td>\n",
       "    </tr>\n",
       "    <tr>\n",
       "      <th>73</th>\n",
       "      <td>a double payment from my chase debt cart to ch...</td>\n",
       "      <td>a double payment from my chase debt cart to ch...</td>\n",
       "      <td>payment chase debt cart credit card post reque...</td>\n",
       "      <td>4</td>\n",
       "    </tr>\n",
       "  </tbody>\n",
       "</table>\n",
       "</div>"
      ],
      "text/plain": [
       "                                            complaint  \\\n",
       "0   good morning my name is xxxx xxxx and i apprec...   \n",
       "4   my grand son give me check for  i deposit it i...   \n",
       "6   with out notice jp morgan chase restricted my ...   \n",
       "10  mishandling of this account by chase auto and ...   \n",
       "12  i opened an account with chase bank on xxxx an...   \n",
       "1   i upgraded my xxxx xxxx card in  and was told ...   \n",
       "2   chase card was reported on  however fraudulent...   \n",
       "3   on  while trying to book a xxxx  xxxx  ticket ...   \n",
       "5                       can you please remove inquiry   \n",
       "9   i have a chase credit card which is incorrectl...   \n",
       "47  i am xxxx military member  xxxx  with the xxxx...   \n",
       "41  my name is xxxx xxxx i have missed a payment i...   \n",
       "32  i bought a new xxxx xxxx on xxxxxxxx from xxxx...   \n",
       "30  i have wired through one of chase branches in ...   \n",
       "23  i have been trying to do a loan modification w...   \n",
       "13  to whom it may concern chase bank charged wron...   \n",
       "16  xxxx xxxx a sofa love seat table and chairs an...   \n",
       "14  my chase amazon card was declined for a cateri...   \n",
       "8   on xxxx  i made a  payment to an online retail...   \n",
       "19  i made a purchase with xxxx xxxx xxxx on  in t...   \n",
       "24  i made a purchase of  on xxxxxxxx i made payme...   \n",
       "57  action taken by the company between the dates ...   \n",
       "33  i recently called to ask chase bank why they r...   \n",
       "7   during the summer months i experience a declin...   \n",
       "73  a double payment from my chase debt cart to ch...   \n",
       "\n",
       "                                 lemmatized_complaint  \\\n",
       "0   good morning my name be xxxx xxxx and I apprec...   \n",
       "4   my grand son give I check for   I deposit it i...   \n",
       "6   with out notice jp morgan chase restrict my ac...   \n",
       "10   mishandle of this account by chase auto and xxxx   \n",
       "12  I open an account with chase bank on xxxx and ...   \n",
       "1   I upgrade my xxxx xxxx card in   and be tell b...   \n",
       "2   chase card be report on   however fraudulent a...   \n",
       "3   on   while try to book a xxxx   xxxx   ticket ...   \n",
       "5                       can you please remove inquiry   \n",
       "9   I have a chase credit card which be incorrectl...   \n",
       "47  I be xxxx military member   xxxx   with the xx...   \n",
       "41  my name be xxxx xxxx I have miss a payment in ...   \n",
       "32  I buy a new xxxx xxxx on xxxxxxxx from xxxx xx...   \n",
       "30  I have wire through one of chase branch in xxx...   \n",
       "23  I have be try to do a loan modification with c...   \n",
       "13  to whom it may concern chase bank charge wrong...   \n",
       "16  xxxx xxxx a sofa love seat table and chair and...   \n",
       "14  my chase amazon card be decline for a catering...   \n",
       "8   on xxxx   I make a   payment to an online reta...   \n",
       "19  I make a purchase with xxxx xxxx xxxx on   in ...   \n",
       "24  I make a purchase of   on xxxxxxxx I make paym...   \n",
       "57  action take by the company between the date of...   \n",
       "33  I recently call to ask chase bank why they rep...   \n",
       "7   during the summer month I experience a decline...   \n",
       "73  a double payment from my chase debt cart to ch...   \n",
       "\n",
       "                                                nouns  Topic  \n",
       "0   morning name stop bank cardmember service debt...      0  \n",
       "4   son chase account fund chase bank account mone...      0  \n",
       "6   notice jp morgan chase account debit card tues...      0  \n",
       "10                       mishandle account chase auto      0  \n",
       "12  account chase bank code bonus term everything ...      0  \n",
       "1   card agent anniversary date agent information ...      1  \n",
       "2   chase card report application identity consent...      1  \n",
       "3   ticket offer ticket reward card information of...      1  \n",
       "5                                             inquiry      1  \n",
       "9   chase credit card datum credit report company ...      1  \n",
       "47  member chase auto finance gap insurancewaiver ...      2  \n",
       "41  name payment day past time loan modification l...      2  \n",
       "32  loan but chase financial title chase time reso...      2  \n",
       "30  wire chase branch reinstatement amount jpmorga...      2  \n",
       "23  loan modification chase runaround mo payment a...      2  \n",
       "13  concern chase bank charge overdraft fee alert ...      3  \n",
       "16  sofa love seat table chair debit card charge b...      3  \n",
       "14  chase amazon card decline catering order place...      3  \n",
       "8   payment retailer use chase pay chase website s...      3  \n",
       "19  purchase amount transaction dispute case chase...      3  \n",
       "24  purchase payment payment closing date statemen...      4  \n",
       "57  action company date group contact chase claim ...      4  \n",
       "33  chase bank credit bureau day payment info bill...      4  \n",
       "7   summer month decline income employment month p...      4  \n",
       "73  payment chase debt cart credit card post reque...      4  "
      ]
     },
     "execution_count": 184,
     "metadata": {},
     "output_type": "execute_result"
    }
   ],
   "source": [
    "#Print the first 5 Complaint for each of the Topics\n",
    "temp=df_clean.groupby('Topic').head(5)\n",
    "temp.sort_values('Topic')"
   ]
  },
  {
   "cell_type": "markdown",
   "metadata": {
    "id": "piyLxzj6v07j"
   },
   "source": [
    "#### After evaluating the mapping, if the topics assigned are correct then assign these names to the relevant topic:\n",
    "* Bank Account services\n",
    "* Credit card or prepaid card\n",
    "* Theft/Dispute Reporting\n",
    "* Mortgage/Loan\n",
    "* Others"
   ]
  },
  {
   "cell_type": "code",
   "execution_count": 185,
   "metadata": {
    "id": "TWpwDG4RJrGG"
   },
   "outputs": [],
   "source": [
    "#Create the dictionary of Topic names and Topics\n",
    "\n",
    "Topic_names = {\n",
    "    0: 'Bank account services',\n",
    "    1: 'Credit Card / Prepaid card',\n",
    "    2: 'Mortgages/loans',\n",
    "    3: 'Theft/Dispute reporting',\n",
    "    4: 'Other',\n",
    "}\n",
    "#Replace Topics with Topic Names\n",
    "df_clean['Topic'] = df_clean['Topic'].map(Topic_names)"
   ]
  },
  {
   "cell_type": "code",
   "execution_count": 186,
   "metadata": {
    "id": "-2ULY5K6JrGG"
   },
   "outputs": [
    {
     "data": {
      "text/html": [
       "<div>\n",
       "<style scoped>\n",
       "    .dataframe tbody tr th:only-of-type {\n",
       "        vertical-align: middle;\n",
       "    }\n",
       "\n",
       "    .dataframe tbody tr th {\n",
       "        vertical-align: top;\n",
       "    }\n",
       "\n",
       "    .dataframe thead th {\n",
       "        text-align: right;\n",
       "    }\n",
       "</style>\n",
       "<table border=\"1\" class=\"dataframe\">\n",
       "  <thead>\n",
       "    <tr style=\"text-align: right;\">\n",
       "      <th></th>\n",
       "      <th>complaint</th>\n",
       "      <th>lemmatized_complaint</th>\n",
       "      <th>nouns</th>\n",
       "      <th>Topic</th>\n",
       "    </tr>\n",
       "  </thead>\n",
       "  <tbody>\n",
       "    <tr>\n",
       "      <th>0</th>\n",
       "      <td>good morning my name is xxxx xxxx and i apprec...</td>\n",
       "      <td>good morning my name be xxxx xxxx and I apprec...</td>\n",
       "      <td>morning name stop bank cardmember service debt...</td>\n",
       "      <td>Bank account services</td>\n",
       "    </tr>\n",
       "    <tr>\n",
       "      <th>1</th>\n",
       "      <td>i upgraded my xxxx xxxx card in  and was told ...</td>\n",
       "      <td>I upgrade my xxxx xxxx card in   and be tell b...</td>\n",
       "      <td>card agent anniversary date agent information ...</td>\n",
       "      <td>Credit Card / Prepaid card</td>\n",
       "    </tr>\n",
       "    <tr>\n",
       "      <th>2</th>\n",
       "      <td>chase card was reported on  however fraudulent...</td>\n",
       "      <td>chase card be report on   however fraudulent a...</td>\n",
       "      <td>chase card report application identity consent...</td>\n",
       "      <td>Credit Card / Prepaid card</td>\n",
       "    </tr>\n",
       "    <tr>\n",
       "      <th>3</th>\n",
       "      <td>on  while trying to book a xxxx  xxxx  ticket ...</td>\n",
       "      <td>on   while try to book a xxxx   xxxx   ticket ...</td>\n",
       "      <td>ticket offer ticket reward card information of...</td>\n",
       "      <td>Credit Card / Prepaid card</td>\n",
       "    </tr>\n",
       "    <tr>\n",
       "      <th>4</th>\n",
       "      <td>my grand son give me check for  i deposit it i...</td>\n",
       "      <td>my grand son give I check for   I deposit it i...</td>\n",
       "      <td>son chase account fund chase bank account mone...</td>\n",
       "      <td>Bank account services</td>\n",
       "    </tr>\n",
       "    <tr>\n",
       "      <th>...</th>\n",
       "      <td>...</td>\n",
       "      <td>...</td>\n",
       "      <td>...</td>\n",
       "      <td>...</td>\n",
       "    </tr>\n",
       "    <tr>\n",
       "      <th>21067</th>\n",
       "      <td>after being a chase card customer for well ove...</td>\n",
       "      <td>after be a chase card customer for well over a...</td>\n",
       "      <td>chase card customer decade solicitation credit...</td>\n",
       "      <td>Credit Card / Prepaid card</td>\n",
       "    </tr>\n",
       "    <tr>\n",
       "      <th>21068</th>\n",
       "      <td>on wednesday xxxxxxxx i called chas my xxxx xx...</td>\n",
       "      <td>on wednesday xxxxxxxx I call chas my xxxx xxxx...</td>\n",
       "      <td>wednesday visa credit card provider claim purc...</td>\n",
       "      <td>Theft/Dispute reporting</td>\n",
       "    </tr>\n",
       "    <tr>\n",
       "      <th>21069</th>\n",
       "      <td>i am not familiar with xxxx pay and did not un...</td>\n",
       "      <td>I be not familiar with xxxx pay and do not und...</td>\n",
       "      <td>pay risk consumer chase bank app chase year ba...</td>\n",
       "      <td>Theft/Dispute reporting</td>\n",
       "    </tr>\n",
       "    <tr>\n",
       "      <th>21070</th>\n",
       "      <td>i have had flawless credit for  yrs ive had ch...</td>\n",
       "      <td>I have have flawless credit for   yrs I ve hav...</td>\n",
       "      <td>credit yrs chase credit card chase freedom pro...</td>\n",
       "      <td>Other</td>\n",
       "    </tr>\n",
       "    <tr>\n",
       "      <th>21071</th>\n",
       "      <td>roughly  years ago i closed out my accounts wi...</td>\n",
       "      <td>roughly   year ago I close out my account with...</td>\n",
       "      <td>year account jp morgan chase bank order line c...</td>\n",
       "      <td>Other</td>\n",
       "    </tr>\n",
       "  </tbody>\n",
       "</table>\n",
       "<p>21072 rows × 4 columns</p>\n",
       "</div>"
      ],
      "text/plain": [
       "                                               complaint  \\\n",
       "0      good morning my name is xxxx xxxx and i apprec...   \n",
       "1      i upgraded my xxxx xxxx card in  and was told ...   \n",
       "2      chase card was reported on  however fraudulent...   \n",
       "3      on  while trying to book a xxxx  xxxx  ticket ...   \n",
       "4      my grand son give me check for  i deposit it i...   \n",
       "...                                                  ...   \n",
       "21067  after being a chase card customer for well ove...   \n",
       "21068  on wednesday xxxxxxxx i called chas my xxxx xx...   \n",
       "21069  i am not familiar with xxxx pay and did not un...   \n",
       "21070  i have had flawless credit for  yrs ive had ch...   \n",
       "21071  roughly  years ago i closed out my accounts wi...   \n",
       "\n",
       "                                    lemmatized_complaint  \\\n",
       "0      good morning my name be xxxx xxxx and I apprec...   \n",
       "1      I upgrade my xxxx xxxx card in   and be tell b...   \n",
       "2      chase card be report on   however fraudulent a...   \n",
       "3      on   while try to book a xxxx   xxxx   ticket ...   \n",
       "4      my grand son give I check for   I deposit it i...   \n",
       "...                                                  ...   \n",
       "21067  after be a chase card customer for well over a...   \n",
       "21068  on wednesday xxxxxxxx I call chas my xxxx xxxx...   \n",
       "21069  I be not familiar with xxxx pay and do not und...   \n",
       "21070  I have have flawless credit for   yrs I ve hav...   \n",
       "21071  roughly   year ago I close out my account with...   \n",
       "\n",
       "                                                   nouns  \\\n",
       "0      morning name stop bank cardmember service debt...   \n",
       "1      card agent anniversary date agent information ...   \n",
       "2      chase card report application identity consent...   \n",
       "3      ticket offer ticket reward card information of...   \n",
       "4      son chase account fund chase bank account mone...   \n",
       "...                                                  ...   \n",
       "21067  chase card customer decade solicitation credit...   \n",
       "21068  wednesday visa credit card provider claim purc...   \n",
       "21069  pay risk consumer chase bank app chase year ba...   \n",
       "21070  credit yrs chase credit card chase freedom pro...   \n",
       "21071  year account jp morgan chase bank order line c...   \n",
       "\n",
       "                            Topic  \n",
       "0           Bank account services  \n",
       "1      Credit Card / Prepaid card  \n",
       "2      Credit Card / Prepaid card  \n",
       "3      Credit Card / Prepaid card  \n",
       "4           Bank account services  \n",
       "...                           ...  \n",
       "21067  Credit Card / Prepaid card  \n",
       "21068     Theft/Dispute reporting  \n",
       "21069     Theft/Dispute reporting  \n",
       "21070                       Other  \n",
       "21071                       Other  \n",
       "\n",
       "[21072 rows x 4 columns]"
      ]
     },
     "execution_count": 186,
     "metadata": {},
     "output_type": "execute_result"
    }
   ],
   "source": [
    "df_clean"
   ]
  },
  {
   "cell_type": "markdown",
   "metadata": {
    "id": "7Mu0QBOcJrGH"
   },
   "source": [
    "## Supervised model to predict any new complaints to the relevant Topics.\n",
    "\n",
    "You have now build the model to create the topics for each complaints.Now in the below section you will use them to classify any new complaints.\n",
    "\n",
    "Since you will be using supervised learning technique we have to convert the topic names to numbers(numpy arrays only understand numbers)"
   ]
  },
  {
   "cell_type": "code",
   "execution_count": 187,
   "metadata": {
    "id": "_U8J3J8wJrGH"
   },
   "outputs": [],
   "source": [
    "#Create the dictionary again of Topic names and Topics\n",
    "\n",
    "Topic_names = {\n",
    "    'Bank account services': 0,\n",
    "    'Credit Card / Prepaid card': 1,\n",
    "    'Mortgages/loans': 2,\n",
    "    'Theft/Dispute reporting': 3,\n",
    "    'Other': 4,\n",
    "}\n",
    "\n",
    "#Replace Topic Names with topic numbers for modelling\n",
    "df_clean['Topic'] = df_clean['Topic'].map(Topic_names)"
   ]
  },
  {
   "cell_type": "code",
   "execution_count": 188,
   "metadata": {
    "id": "BWIgJUkQJrGH"
   },
   "outputs": [
    {
     "data": {
      "text/html": [
       "<div>\n",
       "<style scoped>\n",
       "    .dataframe tbody tr th:only-of-type {\n",
       "        vertical-align: middle;\n",
       "    }\n",
       "\n",
       "    .dataframe tbody tr th {\n",
       "        vertical-align: top;\n",
       "    }\n",
       "\n",
       "    .dataframe thead th {\n",
       "        text-align: right;\n",
       "    }\n",
       "</style>\n",
       "<table border=\"1\" class=\"dataframe\">\n",
       "  <thead>\n",
       "    <tr style=\"text-align: right;\">\n",
       "      <th></th>\n",
       "      <th>complaint</th>\n",
       "      <th>lemmatized_complaint</th>\n",
       "      <th>nouns</th>\n",
       "      <th>Topic</th>\n",
       "    </tr>\n",
       "  </thead>\n",
       "  <tbody>\n",
       "    <tr>\n",
       "      <th>0</th>\n",
       "      <td>good morning my name is xxxx xxxx and i apprec...</td>\n",
       "      <td>good morning my name be xxxx xxxx and I apprec...</td>\n",
       "      <td>morning name stop bank cardmember service debt...</td>\n",
       "      <td>0</td>\n",
       "    </tr>\n",
       "    <tr>\n",
       "      <th>1</th>\n",
       "      <td>i upgraded my xxxx xxxx card in  and was told ...</td>\n",
       "      <td>I upgrade my xxxx xxxx card in   and be tell b...</td>\n",
       "      <td>card agent anniversary date agent information ...</td>\n",
       "      <td>1</td>\n",
       "    </tr>\n",
       "    <tr>\n",
       "      <th>2</th>\n",
       "      <td>chase card was reported on  however fraudulent...</td>\n",
       "      <td>chase card be report on   however fraudulent a...</td>\n",
       "      <td>chase card report application identity consent...</td>\n",
       "      <td>1</td>\n",
       "    </tr>\n",
       "    <tr>\n",
       "      <th>3</th>\n",
       "      <td>on  while trying to book a xxxx  xxxx  ticket ...</td>\n",
       "      <td>on   while try to book a xxxx   xxxx   ticket ...</td>\n",
       "      <td>ticket offer ticket reward card information of...</td>\n",
       "      <td>1</td>\n",
       "    </tr>\n",
       "    <tr>\n",
       "      <th>4</th>\n",
       "      <td>my grand son give me check for  i deposit it i...</td>\n",
       "      <td>my grand son give I check for   I deposit it i...</td>\n",
       "      <td>son chase account fund chase bank account mone...</td>\n",
       "      <td>0</td>\n",
       "    </tr>\n",
       "    <tr>\n",
       "      <th>...</th>\n",
       "      <td>...</td>\n",
       "      <td>...</td>\n",
       "      <td>...</td>\n",
       "      <td>...</td>\n",
       "    </tr>\n",
       "    <tr>\n",
       "      <th>21067</th>\n",
       "      <td>after being a chase card customer for well ove...</td>\n",
       "      <td>after be a chase card customer for well over a...</td>\n",
       "      <td>chase card customer decade solicitation credit...</td>\n",
       "      <td>1</td>\n",
       "    </tr>\n",
       "    <tr>\n",
       "      <th>21068</th>\n",
       "      <td>on wednesday xxxxxxxx i called chas my xxxx xx...</td>\n",
       "      <td>on wednesday xxxxxxxx I call chas my xxxx xxxx...</td>\n",
       "      <td>wednesday visa credit card provider claim purc...</td>\n",
       "      <td>3</td>\n",
       "    </tr>\n",
       "    <tr>\n",
       "      <th>21069</th>\n",
       "      <td>i am not familiar with xxxx pay and did not un...</td>\n",
       "      <td>I be not familiar with xxxx pay and do not und...</td>\n",
       "      <td>pay risk consumer chase bank app chase year ba...</td>\n",
       "      <td>3</td>\n",
       "    </tr>\n",
       "    <tr>\n",
       "      <th>21070</th>\n",
       "      <td>i have had flawless credit for  yrs ive had ch...</td>\n",
       "      <td>I have have flawless credit for   yrs I ve hav...</td>\n",
       "      <td>credit yrs chase credit card chase freedom pro...</td>\n",
       "      <td>4</td>\n",
       "    </tr>\n",
       "    <tr>\n",
       "      <th>21071</th>\n",
       "      <td>roughly  years ago i closed out my accounts wi...</td>\n",
       "      <td>roughly   year ago I close out my account with...</td>\n",
       "      <td>year account jp morgan chase bank order line c...</td>\n",
       "      <td>4</td>\n",
       "    </tr>\n",
       "  </tbody>\n",
       "</table>\n",
       "<p>21072 rows × 4 columns</p>\n",
       "</div>"
      ],
      "text/plain": [
       "                                               complaint  \\\n",
       "0      good morning my name is xxxx xxxx and i apprec...   \n",
       "1      i upgraded my xxxx xxxx card in  and was told ...   \n",
       "2      chase card was reported on  however fraudulent...   \n",
       "3      on  while trying to book a xxxx  xxxx  ticket ...   \n",
       "4      my grand son give me check for  i deposit it i...   \n",
       "...                                                  ...   \n",
       "21067  after being a chase card customer for well ove...   \n",
       "21068  on wednesday xxxxxxxx i called chas my xxxx xx...   \n",
       "21069  i am not familiar with xxxx pay and did not un...   \n",
       "21070  i have had flawless credit for  yrs ive had ch...   \n",
       "21071  roughly  years ago i closed out my accounts wi...   \n",
       "\n",
       "                                    lemmatized_complaint  \\\n",
       "0      good morning my name be xxxx xxxx and I apprec...   \n",
       "1      I upgrade my xxxx xxxx card in   and be tell b...   \n",
       "2      chase card be report on   however fraudulent a...   \n",
       "3      on   while try to book a xxxx   xxxx   ticket ...   \n",
       "4      my grand son give I check for   I deposit it i...   \n",
       "...                                                  ...   \n",
       "21067  after be a chase card customer for well over a...   \n",
       "21068  on wednesday xxxxxxxx I call chas my xxxx xxxx...   \n",
       "21069  I be not familiar with xxxx pay and do not und...   \n",
       "21070  I have have flawless credit for   yrs I ve hav...   \n",
       "21071  roughly   year ago I close out my account with...   \n",
       "\n",
       "                                                   nouns  Topic  \n",
       "0      morning name stop bank cardmember service debt...      0  \n",
       "1      card agent anniversary date agent information ...      1  \n",
       "2      chase card report application identity consent...      1  \n",
       "3      ticket offer ticket reward card information of...      1  \n",
       "4      son chase account fund chase bank account mone...      0  \n",
       "...                                                  ...    ...  \n",
       "21067  chase card customer decade solicitation credit...      1  \n",
       "21068  wednesday visa credit card provider claim purc...      3  \n",
       "21069  pay risk consumer chase bank app chase year ba...      3  \n",
       "21070  credit yrs chase credit card chase freedom pro...      4  \n",
       "21071  year account jp morgan chase bank order line c...      4  \n",
       "\n",
       "[21072 rows x 4 columns]"
      ]
     },
     "execution_count": 188,
     "metadata": {},
     "output_type": "execute_result"
    }
   ],
   "source": [
    "df_clean"
   ]
  },
  {
   "cell_type": "code",
   "execution_count": 192,
   "metadata": {
    "id": "Xx-FrbkWJrGH"
   },
   "outputs": [
    {
     "data": {
      "text/html": [
       "<div>\n",
       "<style scoped>\n",
       "    .dataframe tbody tr th:only-of-type {\n",
       "        vertical-align: middle;\n",
       "    }\n",
       "\n",
       "    .dataframe tbody tr th {\n",
       "        vertical-align: top;\n",
       "    }\n",
       "\n",
       "    .dataframe thead th {\n",
       "        text-align: right;\n",
       "    }\n",
       "</style>\n",
       "<table border=\"1\" class=\"dataframe\">\n",
       "  <thead>\n",
       "    <tr style=\"text-align: right;\">\n",
       "      <th></th>\n",
       "      <th>complaint</th>\n",
       "      <th>Topic</th>\n",
       "    </tr>\n",
       "  </thead>\n",
       "  <tbody>\n",
       "    <tr>\n",
       "      <th>0</th>\n",
       "      <td>good morning my name is xxxx xxxx and i apprec...</td>\n",
       "      <td>0</td>\n",
       "    </tr>\n",
       "    <tr>\n",
       "      <th>1</th>\n",
       "      <td>i upgraded my xxxx xxxx card in  and was told ...</td>\n",
       "      <td>1</td>\n",
       "    </tr>\n",
       "    <tr>\n",
       "      <th>2</th>\n",
       "      <td>chase card was reported on  however fraudulent...</td>\n",
       "      <td>1</td>\n",
       "    </tr>\n",
       "    <tr>\n",
       "      <th>3</th>\n",
       "      <td>on  while trying to book a xxxx  xxxx  ticket ...</td>\n",
       "      <td>1</td>\n",
       "    </tr>\n",
       "    <tr>\n",
       "      <th>4</th>\n",
       "      <td>my grand son give me check for  i deposit it i...</td>\n",
       "      <td>0</td>\n",
       "    </tr>\n",
       "  </tbody>\n",
       "</table>\n",
       "</div>"
      ],
      "text/plain": [
       "                                           complaint  Topic\n",
       "0  good morning my name is xxxx xxxx and i apprec...      0\n",
       "1  i upgraded my xxxx xxxx card in  and was told ...      1\n",
       "2  chase card was reported on  however fraudulent...      1\n",
       "3  on  while trying to book a xxxx  xxxx  ticket ...      1\n",
       "4  my grand son give me check for  i deposit it i...      0"
      ]
     },
     "execution_count": 192,
     "metadata": {},
     "output_type": "execute_result"
    }
   ],
   "source": [
    "#Keep the columns\"complaint_what_happened\" & \"Topic\" only in the new dataframe --> training_data\n",
    "df_model = df_clean[['complaint', 'Topic']]\n",
    "df_model.head(5)"
   ]
  },
  {
   "cell_type": "code",
   "execution_count": null,
   "metadata": {
    "id": "lVg2pa12JrGI"
   },
   "outputs": [],
   "source": [
    "training_data"
   ]
  },
  {
   "cell_type": "markdown",
   "metadata": {
    "id": "280Vbqk-7a8M"
   },
   "source": [
    "####Apply the supervised models on the training data created. In this process, you have to do the following:\n",
    "* Create the vector counts using Count Vectoriser\n",
    "* Transform the word vecotr to tf-idf\n",
    "* Create the train & test data using the train_test_split on the tf-idf & topics\n"
   ]
  },
  {
   "cell_type": "code",
   "execution_count": null,
   "metadata": {
    "id": "oUlQpgkzJrGI"
   },
   "outputs": [],
   "source": [
    "\n",
    "#Write your code to get the Vector count\n",
    "\n",
    "\n",
    "#Write your code here to transform the word vector to tf-idf"
   ]
  },
  {
   "cell_type": "markdown",
   "metadata": {
    "id": "uMU3vj6w-wqL"
   },
   "source": [
    "You have to try atleast 3 models on the train & test data from these options:\n",
    "* Logistic regression\n",
    "* Decision Tree\n",
    "* Random Forest\n",
    "* Naive Bayes (optional)\n",
    "\n",
    "**Using the required evaluation metrics judge the tried models and select the ones performing the best**"
   ]
  },
  {
   "cell_type": "code",
   "execution_count": null,
   "metadata": {
    "id": "udLHpPsZJrGI"
   },
   "outputs": [],
   "source": [
    "# Write your code here to build any 3 models and evaluate them using the required metrics\n",
    "\n",
    "\n",
    "\n"
   ]
  },
  {
   "cell_type": "code",
   "execution_count": null,
   "metadata": {
    "id": "N2OznsObJrGP"
   },
   "outputs": [],
   "source": []
  },
  {
   "cell_type": "markdown",
   "metadata": {},
   "source": [
    "# References"
   ]
  },
  {
   "cell_type": "markdown",
   "metadata": {},
   "source": [
    "- https://stackoverflow.com/questions/26266362/how-to-count-the-nan-values-in-a-column-in-pandas-dataframe\n",
    "- https://www.kite.com/python/answers/how-to-use-regular-expressions-to-remove-text-within-parentheses-in-python\n",
    "- https://stackoverflow.com/questions/18082130/python-regex-to-remove-all-words-which-contains-number\n",
    "- https://spacy.io/api/lemmatizer\n",
    "- https://stackoverflow.com/questions/47087741/use-tqdm-progress-bar-with-pandas\n",
    "- https://spacy.io/usage/processing-pipelines\n",
    "- https://spacy.io/usage/processing-pipelines#disabling"
   ]
  },
  {
   "cell_type": "code",
   "execution_count": null,
   "metadata": {},
   "outputs": [],
   "source": []
  }
 ],
 "metadata": {
  "colab": {
   "collapsed_sections": [
    "T9jD_6SeJrF3",
    "5DfCSbbmJrF4",
    "yYzD85nTJrGA",
    "piyLxzj6v07j",
    "280Vbqk-7a8M"
   ],
   "name": "Automatic_Ticket_Classification_Assignment.ipynb",
   "provenance": []
  },
  "kernelspec": {
   "display_name": "Python 3 (ipykernel)",
   "language": "python",
   "name": "python3"
  },
  "language_info": {
   "codemirror_mode": {
    "name": "ipython",
    "version": 3
   },
   "file_extension": ".py",
   "mimetype": "text/x-python",
   "name": "python",
   "nbconvert_exporter": "python",
   "pygments_lexer": "ipython3",
   "version": "3.10.2"
  }
 },
 "nbformat": 4,
 "nbformat_minor": 4
}
