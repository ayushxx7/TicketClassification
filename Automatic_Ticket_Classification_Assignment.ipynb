{
 "cells": [
  {
   "cell_type": "markdown",
   "metadata": {
    "id": "rhR-ZUkwJrFn"
   },
   "source": [
    "## Problem Statement \n",
    "\n",
    "You need to build a model that is able to classify customer complaints based on the products/services. By doing so, you can segregate these tickets into their relevant categories and, therefore, help in the quick resolution of the issue.\n",
    "\n",
    "You will be doing topic modelling on the <b>.json</b> data provided by the company. Since this data is not labelled, you need to apply NMF to analyse patterns and classify tickets into the following five clusters based on their products/services:\n",
    "\n",
    "* Credit card / Prepaid card\n",
    "\n",
    "* Bank account services\n",
    "\n",
    "* Theft/Dispute reporting\n",
    "\n",
    "* Mortgages/loans\n",
    "\n",
    "* Others \n",
    "\n",
    "\n",
    "With the help of topic modelling, you will be able to map each ticket onto its respective department/category. You can then use this data to train any supervised model such as logistic regression, decision tree or random forest. Using this trained model, you can classify any new customer complaint support ticket into its relevant department."
   ]
  },
  {
   "cell_type": "markdown",
   "metadata": {
    "id": "mcgXVNyaLUFS",
    "tags": []
   },
   "source": [
    "## Pipelines that needs to be performed:\n",
    "\n",
    "You need to perform the following eight major tasks to complete the assignment:\n",
    "\n",
    "1.  Data loading\n",
    "\n",
    "2. Text preprocessing\n",
    "\n",
    "3. Exploratory data analysis (EDA)\n",
    "\n",
    "4. Feature extraction\n",
    "\n",
    "5. Topic modelling \n",
    "\n",
    "6. Model building using supervised learning\n",
    "\n",
    "7. Model training and evaluation\n",
    "\n",
    "8. Model inference"
   ]
  },
  {
   "cell_type": "markdown",
   "metadata": {},
   "source": [
    "---"
   ]
  },
  {
   "cell_type": "markdown",
   "metadata": {
    "id": "JuLFIymAL58u"
   },
   "source": [
    "## Importing the necessary libraries"
   ]
  },
  {
   "cell_type": "code",
   "execution_count": 1,
   "metadata": {
    "id": "O-Q9pqrcJrFr"
   },
   "outputs": [
    {
     "name": "stderr",
     "output_type": "stream",
     "text": [
      "2022-02-28 22:33:03.917076: W tensorflow/stream_executor/platform/default/dso_loader.cc:64] Could not load dynamic library 'libcudart.so.11.0'; dlerror: libcudart.so.11.0: cannot open shared object file: No such file or directory\n",
      "2022-02-28 22:33:03.917109: I tensorflow/stream_executor/cuda/cudart_stub.cc:29] Ignore above cudart dlerror if you do not have a GPU set up on your machine.\n"
     ]
    }
   ],
   "source": [
    "import json \n",
    "import numpy as np\n",
    "import pandas as pd\n",
    "import re, nltk, spacy, string\n",
    "import en_core_web_sm\n",
    "nlp = en_core_web_sm.load()\n",
    "import seaborn as sns\n",
    "import matplotlib.pyplot as plt\n",
    "%matplotlib inline\n",
    "\n",
    "from plotly.offline import plot\n",
    "import plotly.graph_objects as go\n",
    "import plotly.express as px\n",
    "\n",
    "from sklearn.feature_extraction.text import CountVectorizer, TfidfVectorizer\n",
    "from pprint import pprint\n",
    "\n",
    "from tqdm import tqdm\n",
    "import joblib\n",
    "\n",
    "from nltk import word_tokenize\n",
    "from nltk.util import ngrams\n",
    "from collections import Counter"
   ]
  },
  {
   "cell_type": "markdown",
   "metadata": {},
   "source": [
    "---"
   ]
  },
  {
   "cell_type": "markdown",
   "metadata": {
    "id": "KtRLCsNVJrFt"
   },
   "source": [
    "## Loading the data\n",
    "\n",
    "The data is in JSON format and we need to convert it to a dataframe."
   ]
  },
  {
   "cell_type": "code",
   "execution_count": 2,
   "metadata": {
    "id": "puVzIf_iJrFt"
   },
   "outputs": [],
   "source": [
    "file_path = \"complaints.json\"\n",
    "with open(file_path, 'r') as f:\n",
    "    data = json.load(f)\n",
    "    \n",
    "df = pd.json_normalize(data)"
   ]
  },
  {
   "cell_type": "markdown",
   "metadata": {
    "id": "_xYpH-sAJrFu"
   },
   "source": [
    "## Data preparation"
   ]
  },
  {
   "cell_type": "markdown",
   "metadata": {
    "id": "Lf8ufHH5JrFu"
   },
   "source": [
    "### Inspect the dataframe to understand the given data.\n"
   ]
  },
  {
   "cell_type": "code",
   "execution_count": 3,
   "metadata": {},
   "outputs": [
    {
     "data": {
      "text/html": [
       "<div>\n",
       "<style scoped>\n",
       "    .dataframe tbody tr th:only-of-type {\n",
       "        vertical-align: middle;\n",
       "    }\n",
       "\n",
       "    .dataframe tbody tr th {\n",
       "        vertical-align: top;\n",
       "    }\n",
       "\n",
       "    .dataframe thead th {\n",
       "        text-align: right;\n",
       "    }\n",
       "</style>\n",
       "<table border=\"1\" class=\"dataframe\">\n",
       "  <thead>\n",
       "    <tr style=\"text-align: right;\">\n",
       "      <th></th>\n",
       "      <th>_index</th>\n",
       "      <th>_type</th>\n",
       "      <th>_id</th>\n",
       "      <th>_score</th>\n",
       "      <th>_source.tags</th>\n",
       "      <th>_source.zip_code</th>\n",
       "      <th>_source.complaint_id</th>\n",
       "      <th>_source.issue</th>\n",
       "      <th>_source.date_received</th>\n",
       "      <th>_source.state</th>\n",
       "      <th>...</th>\n",
       "      <th>_source.company_response</th>\n",
       "      <th>_source.company</th>\n",
       "      <th>_source.submitted_via</th>\n",
       "      <th>_source.date_sent_to_company</th>\n",
       "      <th>_source.company_public_response</th>\n",
       "      <th>_source.sub_product</th>\n",
       "      <th>_source.timely</th>\n",
       "      <th>_source.complaint_what_happened</th>\n",
       "      <th>_source.sub_issue</th>\n",
       "      <th>_source.consumer_consent_provided</th>\n",
       "    </tr>\n",
       "  </thead>\n",
       "  <tbody>\n",
       "    <tr>\n",
       "      <th>0</th>\n",
       "      <td>complaint-public-v2</td>\n",
       "      <td>complaint</td>\n",
       "      <td>3211475</td>\n",
       "      <td>0.0</td>\n",
       "      <td>None</td>\n",
       "      <td>90301</td>\n",
       "      <td>3211475</td>\n",
       "      <td>Attempts to collect debt not owed</td>\n",
       "      <td>2019-04-13T12:00:00-05:00</td>\n",
       "      <td>CA</td>\n",
       "      <td>...</td>\n",
       "      <td>Closed with explanation</td>\n",
       "      <td>JPMORGAN CHASE &amp; CO.</td>\n",
       "      <td>Web</td>\n",
       "      <td>2019-04-13T12:00:00-05:00</td>\n",
       "      <td>None</td>\n",
       "      <td>Credit card debt</td>\n",
       "      <td>Yes</td>\n",
       "      <td></td>\n",
       "      <td>Debt is not yours</td>\n",
       "      <td>Consent not provided</td>\n",
       "    </tr>\n",
       "    <tr>\n",
       "      <th>1</th>\n",
       "      <td>complaint-public-v2</td>\n",
       "      <td>complaint</td>\n",
       "      <td>3229299</td>\n",
       "      <td>0.0</td>\n",
       "      <td>Servicemember</td>\n",
       "      <td>319XX</td>\n",
       "      <td>3229299</td>\n",
       "      <td>Written notification about debt</td>\n",
       "      <td>2019-05-01T12:00:00-05:00</td>\n",
       "      <td>GA</td>\n",
       "      <td>...</td>\n",
       "      <td>Closed with explanation</td>\n",
       "      <td>JPMORGAN CHASE &amp; CO.</td>\n",
       "      <td>Web</td>\n",
       "      <td>2019-05-01T12:00:00-05:00</td>\n",
       "      <td>None</td>\n",
       "      <td>Credit card debt</td>\n",
       "      <td>Yes</td>\n",
       "      <td>Good morning my name is XXXX XXXX and I apprec...</td>\n",
       "      <td>Didn't receive enough information to verify debt</td>\n",
       "      <td>Consent provided</td>\n",
       "    </tr>\n",
       "    <tr>\n",
       "      <th>2</th>\n",
       "      <td>complaint-public-v2</td>\n",
       "      <td>complaint</td>\n",
       "      <td>3199379</td>\n",
       "      <td>0.0</td>\n",
       "      <td>None</td>\n",
       "      <td>77069</td>\n",
       "      <td>3199379</td>\n",
       "      <td>Other features, terms, or problems</td>\n",
       "      <td>2019-04-02T12:00:00-05:00</td>\n",
       "      <td>TX</td>\n",
       "      <td>...</td>\n",
       "      <td>Closed with explanation</td>\n",
       "      <td>JPMORGAN CHASE &amp; CO.</td>\n",
       "      <td>Web</td>\n",
       "      <td>2019-04-02T12:00:00-05:00</td>\n",
       "      <td>None</td>\n",
       "      <td>General-purpose credit card or charge card</td>\n",
       "      <td>Yes</td>\n",
       "      <td>I upgraded my XXXX XXXX card in XX/XX/2018 and...</td>\n",
       "      <td>Problem with rewards from credit card</td>\n",
       "      <td>Consent provided</td>\n",
       "    </tr>\n",
       "    <tr>\n",
       "      <th>3</th>\n",
       "      <td>complaint-public-v2</td>\n",
       "      <td>complaint</td>\n",
       "      <td>2673060</td>\n",
       "      <td>0.0</td>\n",
       "      <td>None</td>\n",
       "      <td>48066</td>\n",
       "      <td>2673060</td>\n",
       "      <td>Trouble during payment process</td>\n",
       "      <td>2017-09-13T12:00:00-05:00</td>\n",
       "      <td>MI</td>\n",
       "      <td>...</td>\n",
       "      <td>Closed with explanation</td>\n",
       "      <td>JPMORGAN CHASE &amp; CO.</td>\n",
       "      <td>Web</td>\n",
       "      <td>2017-09-14T12:00:00-05:00</td>\n",
       "      <td>None</td>\n",
       "      <td>Conventional home mortgage</td>\n",
       "      <td>Yes</td>\n",
       "      <td></td>\n",
       "      <td>None</td>\n",
       "      <td>Consent not provided</td>\n",
       "    </tr>\n",
       "    <tr>\n",
       "      <th>4</th>\n",
       "      <td>complaint-public-v2</td>\n",
       "      <td>complaint</td>\n",
       "      <td>3203545</td>\n",
       "      <td>0.0</td>\n",
       "      <td>None</td>\n",
       "      <td>10473</td>\n",
       "      <td>3203545</td>\n",
       "      <td>Fees or interest</td>\n",
       "      <td>2019-04-05T12:00:00-05:00</td>\n",
       "      <td>NY</td>\n",
       "      <td>...</td>\n",
       "      <td>Closed with explanation</td>\n",
       "      <td>JPMORGAN CHASE &amp; CO.</td>\n",
       "      <td>Referral</td>\n",
       "      <td>2019-04-05T12:00:00-05:00</td>\n",
       "      <td>None</td>\n",
       "      <td>General-purpose credit card or charge card</td>\n",
       "      <td>Yes</td>\n",
       "      <td></td>\n",
       "      <td>Charged too much interest</td>\n",
       "      <td>N/A</td>\n",
       "    </tr>\n",
       "  </tbody>\n",
       "</table>\n",
       "<p>5 rows × 22 columns</p>\n",
       "</div>"
      ],
      "text/plain": [
       "                _index      _type      _id  _score   _source.tags  \\\n",
       "0  complaint-public-v2  complaint  3211475     0.0           None   \n",
       "1  complaint-public-v2  complaint  3229299     0.0  Servicemember   \n",
       "2  complaint-public-v2  complaint  3199379     0.0           None   \n",
       "3  complaint-public-v2  complaint  2673060     0.0           None   \n",
       "4  complaint-public-v2  complaint  3203545     0.0           None   \n",
       "\n",
       "  _source.zip_code _source.complaint_id                       _source.issue  \\\n",
       "0            90301              3211475   Attempts to collect debt not owed   \n",
       "1            319XX              3229299     Written notification about debt   \n",
       "2            77069              3199379  Other features, terms, or problems   \n",
       "3            48066              2673060      Trouble during payment process   \n",
       "4            10473              3203545                    Fees or interest   \n",
       "\n",
       "       _source.date_received _source.state  ... _source.company_response  \\\n",
       "0  2019-04-13T12:00:00-05:00            CA  ...  Closed with explanation   \n",
       "1  2019-05-01T12:00:00-05:00            GA  ...  Closed with explanation   \n",
       "2  2019-04-02T12:00:00-05:00            TX  ...  Closed with explanation   \n",
       "3  2017-09-13T12:00:00-05:00            MI  ...  Closed with explanation   \n",
       "4  2019-04-05T12:00:00-05:00            NY  ...  Closed with explanation   \n",
       "\n",
       "        _source.company _source.submitted_via _source.date_sent_to_company  \\\n",
       "0  JPMORGAN CHASE & CO.                   Web    2019-04-13T12:00:00-05:00   \n",
       "1  JPMORGAN CHASE & CO.                   Web    2019-05-01T12:00:00-05:00   \n",
       "2  JPMORGAN CHASE & CO.                   Web    2019-04-02T12:00:00-05:00   \n",
       "3  JPMORGAN CHASE & CO.                   Web    2017-09-14T12:00:00-05:00   \n",
       "4  JPMORGAN CHASE & CO.              Referral    2019-04-05T12:00:00-05:00   \n",
       "\n",
       "  _source.company_public_response                         _source.sub_product  \\\n",
       "0                            None                            Credit card debt   \n",
       "1                            None                            Credit card debt   \n",
       "2                            None  General-purpose credit card or charge card   \n",
       "3                            None                  Conventional home mortgage   \n",
       "4                            None  General-purpose credit card or charge card   \n",
       "\n",
       "  _source.timely                    _source.complaint_what_happened  \\\n",
       "0            Yes                                                      \n",
       "1            Yes  Good morning my name is XXXX XXXX and I apprec...   \n",
       "2            Yes  I upgraded my XXXX XXXX card in XX/XX/2018 and...   \n",
       "3            Yes                                                      \n",
       "4            Yes                                                      \n",
       "\n",
       "                                  _source.sub_issue  \\\n",
       "0                                 Debt is not yours   \n",
       "1  Didn't receive enough information to verify debt   \n",
       "2             Problem with rewards from credit card   \n",
       "3                                              None   \n",
       "4                         Charged too much interest   \n",
       "\n",
       "  _source.consumer_consent_provided  \n",
       "0              Consent not provided  \n",
       "1                  Consent provided  \n",
       "2                  Consent provided  \n",
       "3              Consent not provided  \n",
       "4                               N/A  \n",
       "\n",
       "[5 rows x 22 columns]"
      ]
     },
     "execution_count": 3,
     "metadata": {},
     "output_type": "execute_result"
    }
   ],
   "source": [
    "df.head(5)"
   ]
  },
  {
   "cell_type": "code",
   "execution_count": 4,
   "metadata": {},
   "outputs": [
    {
     "data": {
      "text/plain": [
       "(78313, 22)"
      ]
     },
     "execution_count": 4,
     "metadata": {},
     "output_type": "execute_result"
    }
   ],
   "source": [
    "df.shape"
   ]
  },
  {
   "cell_type": "code",
   "execution_count": 5,
   "metadata": {},
   "outputs": [
    {
     "data": {
      "text/plain": [
       "(array(['complaint-public-v2'], dtype=object),\n",
       " array(['complaint'], dtype=object),\n",
       " array(['3211475', '3229299', '3199379', ..., '3133355', '3110963',\n",
       "        '2001189'], dtype=object))"
      ]
     },
     "execution_count": 5,
     "metadata": {},
     "output_type": "execute_result"
    }
   ],
   "source": [
    "df['_index'].unique(), df['_type'].unique(), df['_id'].unique()"
   ]
  },
  {
   "cell_type": "code",
   "execution_count": 6,
   "metadata": {},
   "outputs": [
    {
     "name": "stdout",
     "output_type": "stream",
     "text": [
      "_index : ['complaint-public-v2']\n",
      "_type : ['complaint']\n",
      "_score : [0.]\n",
      "_source.company : ['JPMORGAN CHASE & CO.']\n"
     ]
    }
   ],
   "source": [
    "only_one_value_cols = []\n",
    "for column in df:\n",
    "    if len(df[column].unique()) == 1:\n",
    "        print(column, \":\", df[column].unique())\n",
    "        only_one_value_cols.append(column)"
   ]
  },
  {
   "cell_type": "code",
   "execution_count": 7,
   "metadata": {},
   "outputs": [
    {
     "name": "stdout",
     "output_type": "stream",
     "text": [
      "_source.timely : ['Yes' 'No']\n"
     ]
    }
   ],
   "source": [
    "for column in df:\n",
    "    if len(df[column].unique()) == 2:\n",
    "        print(column, \":\", df[column].unique())"
   ]
  },
  {
   "cell_type": "code",
   "execution_count": 8,
   "metadata": {},
   "outputs": [
    {
     "name": "stdout",
     "output_type": "stream",
     "text": [
      "_source.consumer_disputed : ['N/A' 'No' 'Yes']\n"
     ]
    }
   ],
   "source": [
    "for column in df:\n",
    "    if len(df[column].unique()) == 3:\n",
    "        print(column, \":\", df[column].unique())"
   ]
  },
  {
   "cell_type": "markdown",
   "metadata": {},
   "source": [
    "#### dropping columns with only one type of value"
   ]
  },
  {
   "cell_type": "code",
   "execution_count": 9,
   "metadata": {},
   "outputs": [],
   "source": [
    "df.drop(columns=only_one_value_cols, inplace=True)"
   ]
  },
  {
   "cell_type": "code",
   "execution_count": 10,
   "metadata": {},
   "outputs": [
    {
     "data": {
      "text/html": [
       "<div>\n",
       "<style scoped>\n",
       "    .dataframe tbody tr th:only-of-type {\n",
       "        vertical-align: middle;\n",
       "    }\n",
       "\n",
       "    .dataframe tbody tr th {\n",
       "        vertical-align: top;\n",
       "    }\n",
       "\n",
       "    .dataframe thead th {\n",
       "        text-align: right;\n",
       "    }\n",
       "</style>\n",
       "<table border=\"1\" class=\"dataframe\">\n",
       "  <thead>\n",
       "    <tr style=\"text-align: right;\">\n",
       "      <th></th>\n",
       "      <th>_id</th>\n",
       "      <th>_source.tags</th>\n",
       "      <th>_source.zip_code</th>\n",
       "      <th>_source.complaint_id</th>\n",
       "      <th>_source.issue</th>\n",
       "      <th>_source.date_received</th>\n",
       "      <th>_source.state</th>\n",
       "      <th>_source.consumer_disputed</th>\n",
       "      <th>_source.product</th>\n",
       "      <th>_source.company_response</th>\n",
       "      <th>_source.submitted_via</th>\n",
       "      <th>_source.date_sent_to_company</th>\n",
       "      <th>_source.company_public_response</th>\n",
       "      <th>_source.sub_product</th>\n",
       "      <th>_source.timely</th>\n",
       "      <th>_source.complaint_what_happened</th>\n",
       "      <th>_source.sub_issue</th>\n",
       "      <th>_source.consumer_consent_provided</th>\n",
       "    </tr>\n",
       "  </thead>\n",
       "  <tbody>\n",
       "    <tr>\n",
       "      <th>0</th>\n",
       "      <td>3211475</td>\n",
       "      <td>None</td>\n",
       "      <td>90301</td>\n",
       "      <td>3211475</td>\n",
       "      <td>Attempts to collect debt not owed</td>\n",
       "      <td>2019-04-13T12:00:00-05:00</td>\n",
       "      <td>CA</td>\n",
       "      <td>N/A</td>\n",
       "      <td>Debt collection</td>\n",
       "      <td>Closed with explanation</td>\n",
       "      <td>Web</td>\n",
       "      <td>2019-04-13T12:00:00-05:00</td>\n",
       "      <td>None</td>\n",
       "      <td>Credit card debt</td>\n",
       "      <td>Yes</td>\n",
       "      <td></td>\n",
       "      <td>Debt is not yours</td>\n",
       "      <td>Consent not provided</td>\n",
       "    </tr>\n",
       "  </tbody>\n",
       "</table>\n",
       "</div>"
      ],
      "text/plain": [
       "       _id _source.tags _source.zip_code _source.complaint_id  \\\n",
       "0  3211475         None            90301              3211475   \n",
       "\n",
       "                       _source.issue      _source.date_received _source.state  \\\n",
       "0  Attempts to collect debt not owed  2019-04-13T12:00:00-05:00            CA   \n",
       "\n",
       "  _source.consumer_disputed  _source.product _source.company_response  \\\n",
       "0                       N/A  Debt collection  Closed with explanation   \n",
       "\n",
       "  _source.submitted_via _source.date_sent_to_company  \\\n",
       "0                   Web    2019-04-13T12:00:00-05:00   \n",
       "\n",
       "  _source.company_public_response _source.sub_product _source.timely  \\\n",
       "0                            None    Credit card debt            Yes   \n",
       "\n",
       "  _source.complaint_what_happened  _source.sub_issue  \\\n",
       "0                                  Debt is not yours   \n",
       "\n",
       "  _source.consumer_consent_provided  \n",
       "0              Consent not provided  "
      ]
     },
     "execution_count": 10,
     "metadata": {},
     "output_type": "execute_result"
    }
   ],
   "source": [
    "df.head(1)"
   ]
  },
  {
   "cell_type": "code",
   "execution_count": 11,
   "metadata": {},
   "outputs": [
    {
     "data": {
      "text/plain": [
       "(78313, 18)"
      ]
     },
     "execution_count": 11,
     "metadata": {},
     "output_type": "execute_result"
    }
   ],
   "source": [
    "df.shape"
   ]
  },
  {
   "cell_type": "code",
   "execution_count": 12,
   "metadata": {},
   "outputs": [
    {
     "data": {
      "text/plain": [
       "78313"
      ]
     },
     "execution_count": 12,
     "metadata": {},
     "output_type": "execute_result"
    }
   ],
   "source": [
    "len(df['_id'].unique())"
   ]
  },
  {
   "cell_type": "markdown",
   "metadata": {},
   "source": [
    "#### dropping id column as all values are different"
   ]
  },
  {
   "cell_type": "code",
   "execution_count": 13,
   "metadata": {},
   "outputs": [],
   "source": [
    "df.drop('_id', axis=1, inplace=True)"
   ]
  },
  {
   "cell_type": "code",
   "execution_count": 14,
   "metadata": {},
   "outputs": [
    {
     "data": {
      "text/html": [
       "<div>\n",
       "<style scoped>\n",
       "    .dataframe tbody tr th:only-of-type {\n",
       "        vertical-align: middle;\n",
       "    }\n",
       "\n",
       "    .dataframe tbody tr th {\n",
       "        vertical-align: top;\n",
       "    }\n",
       "\n",
       "    .dataframe thead th {\n",
       "        text-align: right;\n",
       "    }\n",
       "</style>\n",
       "<table border=\"1\" class=\"dataframe\">\n",
       "  <thead>\n",
       "    <tr style=\"text-align: right;\">\n",
       "      <th></th>\n",
       "      <th>_source.tags</th>\n",
       "      <th>_source.zip_code</th>\n",
       "      <th>_source.complaint_id</th>\n",
       "      <th>_source.issue</th>\n",
       "      <th>_source.date_received</th>\n",
       "      <th>_source.state</th>\n",
       "      <th>_source.consumer_disputed</th>\n",
       "      <th>_source.product</th>\n",
       "      <th>_source.company_response</th>\n",
       "      <th>_source.submitted_via</th>\n",
       "      <th>_source.date_sent_to_company</th>\n",
       "      <th>_source.company_public_response</th>\n",
       "      <th>_source.sub_product</th>\n",
       "      <th>_source.timely</th>\n",
       "      <th>_source.complaint_what_happened</th>\n",
       "      <th>_source.sub_issue</th>\n",
       "      <th>_source.consumer_consent_provided</th>\n",
       "    </tr>\n",
       "  </thead>\n",
       "  <tbody>\n",
       "    <tr>\n",
       "      <th>0</th>\n",
       "      <td>None</td>\n",
       "      <td>90301</td>\n",
       "      <td>3211475</td>\n",
       "      <td>Attempts to collect debt not owed</td>\n",
       "      <td>2019-04-13T12:00:00-05:00</td>\n",
       "      <td>CA</td>\n",
       "      <td>N/A</td>\n",
       "      <td>Debt collection</td>\n",
       "      <td>Closed with explanation</td>\n",
       "      <td>Web</td>\n",
       "      <td>2019-04-13T12:00:00-05:00</td>\n",
       "      <td>None</td>\n",
       "      <td>Credit card debt</td>\n",
       "      <td>Yes</td>\n",
       "      <td></td>\n",
       "      <td>Debt is not yours</td>\n",
       "      <td>Consent not provided</td>\n",
       "    </tr>\n",
       "  </tbody>\n",
       "</table>\n",
       "</div>"
      ],
      "text/plain": [
       "  _source.tags _source.zip_code _source.complaint_id  \\\n",
       "0         None            90301              3211475   \n",
       "\n",
       "                       _source.issue      _source.date_received _source.state  \\\n",
       "0  Attempts to collect debt not owed  2019-04-13T12:00:00-05:00            CA   \n",
       "\n",
       "  _source.consumer_disputed  _source.product _source.company_response  \\\n",
       "0                       N/A  Debt collection  Closed with explanation   \n",
       "\n",
       "  _source.submitted_via _source.date_sent_to_company  \\\n",
       "0                   Web    2019-04-13T12:00:00-05:00   \n",
       "\n",
       "  _source.company_public_response _source.sub_product _source.timely  \\\n",
       "0                            None    Credit card debt            Yes   \n",
       "\n",
       "  _source.complaint_what_happened  _source.sub_issue  \\\n",
       "0                                  Debt is not yours   \n",
       "\n",
       "  _source.consumer_consent_provided  \n",
       "0              Consent not provided  "
      ]
     },
     "execution_count": 14,
     "metadata": {},
     "output_type": "execute_result"
    }
   ],
   "source": [
    "df.head(1)"
   ]
  },
  {
   "cell_type": "code",
   "execution_count": 15,
   "metadata": {},
   "outputs": [
    {
     "data": {
      "text/plain": [
       "(78313, 17)"
      ]
     },
     "execution_count": 15,
     "metadata": {},
     "output_type": "execute_result"
    }
   ],
   "source": [
    "df.shape"
   ]
  },
  {
   "cell_type": "code",
   "execution_count": 16,
   "metadata": {
    "id": "Dwcty-wmJrFw"
   },
   "outputs": [
    {
     "data": {
      "text/plain": [
       "['_source.tags',\n",
       " '_source.zip_code',\n",
       " '_source.complaint_id',\n",
       " '_source.issue',\n",
       " '_source.date_received',\n",
       " '_source.state',\n",
       " '_source.consumer_disputed',\n",
       " '_source.product',\n",
       " '_source.company_response',\n",
       " '_source.submitted_via',\n",
       " '_source.date_sent_to_company',\n",
       " '_source.company_public_response',\n",
       " '_source.sub_product',\n",
       " '_source.timely',\n",
       " '_source.complaint_what_happened',\n",
       " '_source.sub_issue',\n",
       " '_source.consumer_consent_provided']"
      ]
     },
     "execution_count": 16,
     "metadata": {},
     "output_type": "execute_result"
    }
   ],
   "source": [
    "# print the column names\n",
    "df.columns.to_list()"
   ]
  },
  {
   "cell_type": "code",
   "execution_count": 17,
   "metadata": {
    "id": "FYCtKXD1JrFw"
   },
   "outputs": [],
   "source": [
    "#Assign new column names\n",
    "df.rename(columns={'_source.tags':'tags',\n",
    "'_source.zip_code':'zip_code',\n",
    "'_source.complaint_id':'complaint_id',\n",
    "'_source.issue':'issue',\n",
    "'_source.date_received':'date_received',\n",
    "'_source.state':'state',\n",
    "'_source.consumer_disputed':'consumer_disputed',\n",
    "'_source.product':'product',\n",
    "'_source.company_response':'company_response',\n",
    "'_source.submitted_via':'submitted_via',\n",
    "'_source.date_sent_to_company':'date_sent_to_company',\n",
    "'_source.company_public_response':'company_public_response',\n",
    "'_source.sub_product':'sub_product',\n",
    "'_source.timely':'timely',\n",
    "'_source.complaint_what_happened':'complaint_what_happened',\n",
    "'_source.sub_issue':'sub_issue',\n",
    "'_source.consumer_consent_provided':'consumer_consent_provided'},\n",
    "          inplace=True\n",
    ")"
   ]
  },
  {
   "cell_type": "code",
   "execution_count": 18,
   "metadata": {},
   "outputs": [
    {
     "data": {
      "text/plain": [
       "['tags',\n",
       " 'zip_code',\n",
       " 'complaint_id',\n",
       " 'issue',\n",
       " 'date_received',\n",
       " 'state',\n",
       " 'consumer_disputed',\n",
       " 'product',\n",
       " 'company_response',\n",
       " 'submitted_via',\n",
       " 'date_sent_to_company',\n",
       " 'company_public_response',\n",
       " 'sub_product',\n",
       " 'timely',\n",
       " 'complaint_what_happened',\n",
       " 'sub_issue',\n",
       " 'consumer_consent_provided']"
      ]
     },
     "execution_count": 18,
     "metadata": {},
     "output_type": "execute_result"
    }
   ],
   "source": [
    "df.columns.to_list()"
   ]
  },
  {
   "cell_type": "code",
   "execution_count": 19,
   "metadata": {},
   "outputs": [
    {
     "name": "stdout",
     "output_type": "stream",
     "text": [
      "zip_code : 9443\n",
      "complaint_id : 78313\n",
      "issue : 154\n",
      "date_received : 3444\n",
      "state : 63\n",
      "product : 17\n",
      "date_sent_to_company : 3309\n",
      "sub_product : 73\n",
      "complaint_what_happened : 20931\n",
      "sub_issue : 206\n"
     ]
    }
   ],
   "source": [
    "for column in df:\n",
    "    if len(df[column].unique()) > 10:\n",
    "        print(column, ':', len(df[column].unique()))\n",
    "        # print(column, \":\", df[column].unique())"
   ]
  },
  {
   "cell_type": "code",
   "execution_count": 20,
   "metadata": {},
   "outputs": [],
   "source": [
    "df.drop('complaint_id', inplace=True, axis=1)"
   ]
  },
  {
   "cell_type": "code",
   "execution_count": 21,
   "metadata": {},
   "outputs": [
    {
     "data": {
      "text/plain": [
       "(78313, 16)"
      ]
     },
     "execution_count": 21,
     "metadata": {},
     "output_type": "execute_result"
    }
   ],
   "source": [
    "df.shape"
   ]
  },
  {
   "cell_type": "code",
   "execution_count": 22,
   "metadata": {},
   "outputs": [
    {
     "data": {
      "text/html": [
       "<div>\n",
       "<style scoped>\n",
       "    .dataframe tbody tr th:only-of-type {\n",
       "        vertical-align: middle;\n",
       "    }\n",
       "\n",
       "    .dataframe tbody tr th {\n",
       "        vertical-align: top;\n",
       "    }\n",
       "\n",
       "    .dataframe thead th {\n",
       "        text-align: right;\n",
       "    }\n",
       "</style>\n",
       "<table border=\"1\" class=\"dataframe\">\n",
       "  <thead>\n",
       "    <tr style=\"text-align: right;\">\n",
       "      <th></th>\n",
       "      <th>tags</th>\n",
       "      <th>zip_code</th>\n",
       "      <th>issue</th>\n",
       "      <th>date_received</th>\n",
       "      <th>state</th>\n",
       "      <th>consumer_disputed</th>\n",
       "      <th>product</th>\n",
       "      <th>company_response</th>\n",
       "      <th>submitted_via</th>\n",
       "      <th>date_sent_to_company</th>\n",
       "      <th>company_public_response</th>\n",
       "      <th>sub_product</th>\n",
       "      <th>timely</th>\n",
       "      <th>complaint_what_happened</th>\n",
       "      <th>sub_issue</th>\n",
       "      <th>consumer_consent_provided</th>\n",
       "    </tr>\n",
       "  </thead>\n",
       "  <tbody>\n",
       "    <tr>\n",
       "      <th>0</th>\n",
       "      <td>None</td>\n",
       "      <td>90301</td>\n",
       "      <td>Attempts to collect debt not owed</td>\n",
       "      <td>2019-04-13T12:00:00-05:00</td>\n",
       "      <td>CA</td>\n",
       "      <td>N/A</td>\n",
       "      <td>Debt collection</td>\n",
       "      <td>Closed with explanation</td>\n",
       "      <td>Web</td>\n",
       "      <td>2019-04-13T12:00:00-05:00</td>\n",
       "      <td>None</td>\n",
       "      <td>Credit card debt</td>\n",
       "      <td>Yes</td>\n",
       "      <td></td>\n",
       "      <td>Debt is not yours</td>\n",
       "      <td>Consent not provided</td>\n",
       "    </tr>\n",
       "  </tbody>\n",
       "</table>\n",
       "</div>"
      ],
      "text/plain": [
       "   tags zip_code                              issue  \\\n",
       "0  None    90301  Attempts to collect debt not owed   \n",
       "\n",
       "               date_received state consumer_disputed          product  \\\n",
       "0  2019-04-13T12:00:00-05:00    CA               N/A  Debt collection   \n",
       "\n",
       "          company_response submitted_via       date_sent_to_company  \\\n",
       "0  Closed with explanation           Web  2019-04-13T12:00:00-05:00   \n",
       "\n",
       "  company_public_response       sub_product timely complaint_what_happened  \\\n",
       "0                    None  Credit card debt    Yes                           \n",
       "\n",
       "           sub_issue consumer_consent_provided  \n",
       "0  Debt is not yours      Consent not provided  "
      ]
     },
     "execution_count": 22,
     "metadata": {},
     "output_type": "execute_result"
    }
   ],
   "source": [
    "df.head(1)"
   ]
  },
  {
   "cell_type": "code",
   "execution_count": 23,
   "metadata": {},
   "outputs": [
    {
     "name": "stdout",
     "output_type": "stream",
     "text": [
      "['tags', 'zip_code', 'issue', 'date_received', 'state', 'consumer_disputed', 'product', 'company_response', 'submitted_via', 'date_sent_to_company', 'company_public_response', 'sub_product', 'timely', 'complaint_what_happened', 'sub_issue', 'consumer_consent_provided']\n"
     ]
    }
   ],
   "source": [
    "print(df.columns.to_list())"
   ]
  },
  {
   "cell_type": "code",
   "execution_count": 24,
   "metadata": {
    "id": "grQUPFL5JrFx"
   },
   "outputs": [
    {
     "data": {
      "text/plain": [
       "0                                                     \n",
       "1    Good morning my name is XXXX XXXX and I apprec...\n",
       "2    I upgraded my XXXX XXXX card in XX/XX/2018 and...\n",
       "Name: complaint_what_happened, dtype: object"
      ]
     },
     "execution_count": 24,
     "metadata": {},
     "output_type": "execute_result"
    }
   ],
   "source": [
    "# Assign nan in place of blanks in the complaints column\n",
    "df['complaint_what_happened'].head(3)"
   ]
  },
  {
   "cell_type": "code",
   "execution_count": 25,
   "metadata": {},
   "outputs": [
    {
     "data": {
      "text/plain": [
       "0         True\n",
       "1        False\n",
       "2        False\n",
       "3         True\n",
       "4         True\n",
       "         ...  \n",
       "78308     True\n",
       "78309    False\n",
       "78310    False\n",
       "78311    False\n",
       "78312    False\n",
       "Name: complaint_what_happened, Length: 78313, dtype: bool"
      ]
     },
     "execution_count": 25,
     "metadata": {},
     "output_type": "execute_result"
    }
   ],
   "source": [
    "df['complaint_what_happened'].str.strip() == ''"
   ]
  },
  {
   "cell_type": "code",
   "execution_count": 26,
   "metadata": {},
   "outputs": [
    {
     "data": {
      "text/plain": [
       "57241"
      ]
     },
     "execution_count": 26,
     "metadata": {},
     "output_type": "execute_result"
    }
   ],
   "source": [
    "# count tickets with actual complaints\n",
    "sum(df['complaint_what_happened'].str.strip() == '')"
   ]
  },
  {
   "cell_type": "code",
   "execution_count": 27,
   "metadata": {},
   "outputs": [
    {
     "data": {
      "text/plain": [
       "0"
      ]
     },
     "execution_count": 27,
     "metadata": {},
     "output_type": "execute_result"
    }
   ],
   "source": [
    "df['complaint_what_happened'].isna().sum()"
   ]
  },
  {
   "cell_type": "code",
   "execution_count": 28,
   "metadata": {},
   "outputs": [],
   "source": [
    "df['complaint_what_happened'].replace(r'^\\s*$', np.nan, regex=True, inplace=True)"
   ]
  },
  {
   "cell_type": "code",
   "execution_count": 29,
   "metadata": {},
   "outputs": [
    {
     "data": {
      "text/plain": [
       "57241"
      ]
     },
     "execution_count": 29,
     "metadata": {},
     "output_type": "execute_result"
    }
   ],
   "source": [
    "df['complaint_what_happened'].isna().sum()"
   ]
  },
  {
   "cell_type": "code",
   "execution_count": 30,
   "metadata": {
    "id": "Jfxd8VSmJrFy"
   },
   "outputs": [
    {
     "data": {
      "text/html": [
       "<div>\n",
       "<style scoped>\n",
       "    .dataframe tbody tr th:only-of-type {\n",
       "        vertical-align: middle;\n",
       "    }\n",
       "\n",
       "    .dataframe tbody tr th {\n",
       "        vertical-align: top;\n",
       "    }\n",
       "\n",
       "    .dataframe thead th {\n",
       "        text-align: right;\n",
       "    }\n",
       "</style>\n",
       "<table border=\"1\" class=\"dataframe\">\n",
       "  <thead>\n",
       "    <tr style=\"text-align: right;\">\n",
       "      <th></th>\n",
       "      <th>tags</th>\n",
       "      <th>zip_code</th>\n",
       "      <th>issue</th>\n",
       "      <th>date_received</th>\n",
       "      <th>state</th>\n",
       "      <th>consumer_disputed</th>\n",
       "      <th>product</th>\n",
       "      <th>company_response</th>\n",
       "      <th>submitted_via</th>\n",
       "      <th>date_sent_to_company</th>\n",
       "      <th>company_public_response</th>\n",
       "      <th>sub_product</th>\n",
       "      <th>timely</th>\n",
       "      <th>complaint_what_happened</th>\n",
       "      <th>sub_issue</th>\n",
       "      <th>consumer_consent_provided</th>\n",
       "    </tr>\n",
       "  </thead>\n",
       "  <tbody>\n",
       "    <tr>\n",
       "      <th>1</th>\n",
       "      <td>Servicemember</td>\n",
       "      <td>319XX</td>\n",
       "      <td>Written notification about debt</td>\n",
       "      <td>2019-05-01T12:00:00-05:00</td>\n",
       "      <td>GA</td>\n",
       "      <td>N/A</td>\n",
       "      <td>Debt collection</td>\n",
       "      <td>Closed with explanation</td>\n",
       "      <td>Web</td>\n",
       "      <td>2019-05-01T12:00:00-05:00</td>\n",
       "      <td>None</td>\n",
       "      <td>Credit card debt</td>\n",
       "      <td>Yes</td>\n",
       "      <td>Good morning my name is XXXX XXXX and I apprec...</td>\n",
       "      <td>Didn't receive enough information to verify debt</td>\n",
       "      <td>Consent provided</td>\n",
       "    </tr>\n",
       "  </tbody>\n",
       "</table>\n",
       "</div>"
      ],
      "text/plain": [
       "            tags zip_code                            issue  \\\n",
       "1  Servicemember    319XX  Written notification about debt   \n",
       "\n",
       "               date_received state consumer_disputed          product  \\\n",
       "1  2019-05-01T12:00:00-05:00    GA               N/A  Debt collection   \n",
       "\n",
       "          company_response submitted_via       date_sent_to_company  \\\n",
       "1  Closed with explanation           Web  2019-05-01T12:00:00-05:00   \n",
       "\n",
       "  company_public_response       sub_product timely  \\\n",
       "1                    None  Credit card debt    Yes   \n",
       "\n",
       "                             complaint_what_happened  \\\n",
       "1  Good morning my name is XXXX XXXX and I apprec...   \n",
       "\n",
       "                                          sub_issue consumer_consent_provided  \n",
       "1  Didn't receive enough information to verify debt          Consent provided  "
      ]
     },
     "execution_count": 30,
     "metadata": {},
     "output_type": "execute_result"
    }
   ],
   "source": [
    "# Remove all rows where complaints column is nan\n",
    "df.dropna(subset=['complaint_what_happened']).head(1)"
   ]
  },
  {
   "cell_type": "code",
   "execution_count": 31,
   "metadata": {},
   "outputs": [],
   "source": [
    "df.dropna(subset=['complaint_what_happened'], inplace=True)"
   ]
  },
  {
   "cell_type": "code",
   "execution_count": 32,
   "metadata": {},
   "outputs": [
    {
     "data": {
      "text/plain": [
       "0"
      ]
     },
     "execution_count": 32,
     "metadata": {},
     "output_type": "execute_result"
    }
   ],
   "source": [
    "df['complaint_what_happened'].isna().sum()"
   ]
  },
  {
   "cell_type": "code",
   "execution_count": 33,
   "metadata": {},
   "outputs": [
    {
     "data": {
      "text/plain": [
       "(21072, 16)"
      ]
     },
     "execution_count": 33,
     "metadata": {},
     "output_type": "execute_result"
    }
   ],
   "source": [
    "df.shape"
   ]
  },
  {
   "cell_type": "markdown",
   "metadata": {},
   "source": [
    "---"
   ]
  },
  {
   "cell_type": "markdown",
   "metadata": {
    "id": "L944HZpsJrFy"
   },
   "source": [
    "## Prepare the text for topic modeling\n",
    "\n",
    "Once you have removed all the blank complaints, you need to:\n",
    "\n",
    "* Make the text lowercase\n",
    "* Remove text in square brackets\n",
    "* Remove punctuation\n",
    "* Remove words containing numbers\n",
    "\n",
    "\n",
    "Once you have done these cleaning operations you need to perform the following:\n",
    "* Lemmatize the texts\n",
    "* Use POS tags to get relevant words from the texts.\n"
   ]
  },
  {
   "cell_type": "code",
   "execution_count": 34,
   "metadata": {
    "id": "qm7SjjSkJrFz"
   },
   "outputs": [],
   "source": [
    "def preprocess_text(inp):\n",
    "    # make the text lowercase\n",
    "    # remove text in square brackets\n",
    "    # remove punctuation\n",
    "    # remove words containing numbers\n",
    "    # remove \\n\n",
    "    inp = inp.lower()\n",
    "    inp = re.sub(\"\\[.*\\]\", \"\", inp).strip()\n",
    "    inp = re.sub(r'[^\\w\\s]', '', inp).strip()\n",
    "    inp = re.sub(r'\\w*\\d\\w*', '', inp).strip()\n",
    "    inp = re.sub(r'\\n', '', inp).strip()\n",
    "    \n",
    "    return inp"
   ]
  },
  {
   "cell_type": "code",
   "execution_count": 35,
   "metadata": {},
   "outputs": [],
   "source": [
    "df['complaint_what_happened'] = df['complaint_what_happened'].apply(preprocess_text)"
   ]
  },
  {
   "cell_type": "code",
   "execution_count": 36,
   "metadata": {},
   "outputs": [],
   "source": [
    "df.reset_index(drop=True, inplace=True)"
   ]
  },
  {
   "cell_type": "markdown",
   "metadata": {},
   "source": [
    "#### Lemmatize"
   ]
  },
  {
   "cell_type": "code",
   "execution_count": 37,
   "metadata": {
    "id": "zgOu8t8HJrFz"
   },
   "outputs": [
    {
     "data": {
      "text/plain": [
       "'good morning my name is xxxx xxxx and i appreciate it if you could help me put a stop to chase bank cardmember services in  i wrote to chase asking for debt verification and what they sent me a statement which is not acceptable i am asking the bank to validate the debt instead i been receiving mail every month from them attempting to collect a debt i have a right to know this information as a consumer chase account  xxxx xxxx xxxx xxxx thanks in advance for your help'"
      ]
     },
     "execution_count": 37,
     "metadata": {},
     "output_type": "execute_result"
    }
   ],
   "source": [
    "df['complaint_what_happened'][0]"
   ]
  },
  {
   "cell_type": "code",
   "execution_count": 38,
   "metadata": {
    "id": "uXnN7aa_JrF0"
   },
   "outputs": [],
   "source": [
    "# Create a dataframe('df_clean') that will have only the complaints and the lemmatized complaints \n",
    "x = nlp(df['complaint_what_happened'][0])"
   ]
  },
  {
   "cell_type": "code",
   "execution_count": 39,
   "metadata": {},
   "outputs": [],
   "source": [
    "# for idx, word in enumerate(x.text.split(\" \")):\n",
    "#     print(idx, \":\", word)"
   ]
  },
  {
   "cell_type": "code",
   "execution_count": 40,
   "metadata": {},
   "outputs": [
    {
     "data": {
      "text/plain": [
       "(receiving, 'receive')"
      ]
     },
     "execution_count": 40,
     "metadata": {},
     "output_type": "execute_result"
    }
   ],
   "source": [
    "x[57], x[57].lemma_"
   ]
  },
  {
   "cell_type": "code",
   "execution_count": 41,
   "metadata": {},
   "outputs": [],
   "source": [
    "lemmatizer = lambda doc: [token.lemma_ for token in doc]"
   ]
  },
  {
   "cell_type": "code",
   "execution_count": 42,
   "metadata": {},
   "outputs": [],
   "source": [
    "df_clean = pd.DataFrame(df['complaint_what_happened'])"
   ]
  },
  {
   "cell_type": "code",
   "execution_count": 43,
   "metadata": {},
   "outputs": [
    {
     "data": {
      "text/plain": [
       "'i upgraded my xxxx xxxx card in  and was told by the agent who did the upgrade my anniversary date would not change it turned the agent was giving me the wrong information in order to upgrade the account xxxx   changed my anniversary date from xxxxxxxx to xxxxxxxx without my consent xxxx has the recording of the agent who was misled me'"
      ]
     },
     "execution_count": 43,
     "metadata": {},
     "output_type": "execute_result"
    }
   ],
   "source": [
    "df_clean['complaint_what_happened'][1]"
   ]
  },
  {
   "cell_type": "code",
   "execution_count": 44,
   "metadata": {},
   "outputs": [
    {
     "name": "stdout",
     "output_type": "stream",
     "text": [
      "['I', 'upgrade', 'my', 'xxxx', 'xxxx', 'card', 'in', ' ', 'and', 'be', 'tell', 'by', 'the', 'agent', 'who', 'do', 'the', 'upgrade', 'my', 'anniversary', 'date', 'would', 'not', 'change', 'it', 'turn', 'the', 'agent', 'be', 'give', 'I', 'the', 'wrong', 'information', 'in', 'order', 'to', 'upgrade', 'the', 'account', 'xxxx', '  ', 'change', 'my', 'anniversary', 'date', 'from', 'xxxxxxxx', 'to', 'xxxxxxxx', 'without', 'my', 'consent', 'xxxx', 'have', 'the', 'recording', 'of', 'the', 'agent', 'who', 'be', 'mislead', 'I']\n"
     ]
    }
   ],
   "source": [
    "print(lemmatizer(nlp(df_clean['complaint_what_happened'][1])))"
   ]
  },
  {
   "cell_type": "code",
   "execution_count": 45,
   "metadata": {
    "tags": []
   },
   "outputs": [
    {
     "name": "stderr",
     "output_type": "stream",
     "text": [
      "100%|████████████████████████████████████████████████████████████████████████████████████████████████████████████████████████████████████████████████████████████████| 21072/21072 [04:20<00:00, 80.85it/s]\n"
     ]
    }
   ],
   "source": [
    "def lemmatize_series(series):\n",
    "    lemmatized_complaints = []\n",
    "    nlp = en_core_web_sm.load()\n",
    "    nlp.select_pipes(disable=['ner'])\n",
    "    for index, doc in enumerate(tqdm(nlp.pipe(series), total=len(series))):\n",
    "        lemmatized_complaint = lemmatizer(doc)\n",
    "        lemmatized_complaints.append(\" \".join(lemmatized_complaint))\n",
    "    return lemmatized_complaints\n",
    "    \n",
    "lemmatized_complaints = lemmatize_series(df['complaint_what_happened'])"
   ]
  },
  {
   "cell_type": "code",
   "execution_count": 46,
   "metadata": {},
   "outputs": [
    {
     "data": {
      "text/plain": [
       "21072"
      ]
     },
     "execution_count": 46,
     "metadata": {},
     "output_type": "execute_result"
    }
   ],
   "source": [
    "len(lemmatized_complaints)"
   ]
  },
  {
   "cell_type": "code",
   "execution_count": 47,
   "metadata": {},
   "outputs": [
    {
     "data": {
      "text/plain": [
       "21072"
      ]
     },
     "execution_count": 47,
     "metadata": {},
     "output_type": "execute_result"
    }
   ],
   "source": [
    "len(df['complaint_what_happened'])"
   ]
  },
  {
   "cell_type": "code",
   "execution_count": 48,
   "metadata": {},
   "outputs": [],
   "source": [
    "df_clean = pd.DataFrame({\"complaint\": df['complaint_what_happened'].tolist(), \n",
    "                         \"lemmatized_complaint\": lemmatized_complaints})"
   ]
  },
  {
   "cell_type": "code",
   "execution_count": 49,
   "metadata": {},
   "outputs": [
    {
     "data": {
      "text/html": [
       "<div>\n",
       "<style scoped>\n",
       "    .dataframe tbody tr th:only-of-type {\n",
       "        vertical-align: middle;\n",
       "    }\n",
       "\n",
       "    .dataframe tbody tr th {\n",
       "        vertical-align: top;\n",
       "    }\n",
       "\n",
       "    .dataframe thead th {\n",
       "        text-align: right;\n",
       "    }\n",
       "</style>\n",
       "<table border=\"1\" class=\"dataframe\">\n",
       "  <thead>\n",
       "    <tr style=\"text-align: right;\">\n",
       "      <th></th>\n",
       "      <th>complaint</th>\n",
       "      <th>lemmatized_complaint</th>\n",
       "    </tr>\n",
       "  </thead>\n",
       "  <tbody>\n",
       "    <tr>\n",
       "      <th>0</th>\n",
       "      <td>good morning my name is xxxx xxxx and i apprec...</td>\n",
       "      <td>good morning my name be xxxx xxxx and I apprec...</td>\n",
       "    </tr>\n",
       "    <tr>\n",
       "      <th>1</th>\n",
       "      <td>i upgraded my xxxx xxxx card in  and was told ...</td>\n",
       "      <td>I upgrade my xxxx xxxx card in   and be tell b...</td>\n",
       "    </tr>\n",
       "    <tr>\n",
       "      <th>2</th>\n",
       "      <td>chase card was reported on  however fraudulent...</td>\n",
       "      <td>chase card be report on   however fraudulent a...</td>\n",
       "    </tr>\n",
       "    <tr>\n",
       "      <th>3</th>\n",
       "      <td>on  while trying to book a xxxx  xxxx  ticket ...</td>\n",
       "      <td>on   while try to book a xxxx   xxxx   ticket ...</td>\n",
       "    </tr>\n",
       "    <tr>\n",
       "      <th>4</th>\n",
       "      <td>my grand son give me check for  i deposit it i...</td>\n",
       "      <td>my grand son give I check for   I deposit it i...</td>\n",
       "    </tr>\n",
       "  </tbody>\n",
       "</table>\n",
       "</div>"
      ],
      "text/plain": [
       "                                           complaint  \\\n",
       "0  good morning my name is xxxx xxxx and i apprec...   \n",
       "1  i upgraded my xxxx xxxx card in  and was told ...   \n",
       "2  chase card was reported on  however fraudulent...   \n",
       "3  on  while trying to book a xxxx  xxxx  ticket ...   \n",
       "4  my grand son give me check for  i deposit it i...   \n",
       "\n",
       "                                lemmatized_complaint  \n",
       "0  good morning my name be xxxx xxxx and I apprec...  \n",
       "1  I upgrade my xxxx xxxx card in   and be tell b...  \n",
       "2  chase card be report on   however fraudulent a...  \n",
       "3  on   while try to book a xxxx   xxxx   ticket ...  \n",
       "4  my grand son give I check for   I deposit it i...  "
      ]
     },
     "execution_count": 49,
     "metadata": {},
     "output_type": "execute_result"
    }
   ],
   "source": [
    "df_clean.head()"
   ]
  },
  {
   "cell_type": "code",
   "execution_count": 50,
   "metadata": {},
   "outputs": [
    {
     "data": {
      "text/plain": [
       "['lemmatized_data.gz']"
      ]
     },
     "execution_count": 50,
     "metadata": {},
     "output_type": "execute_result"
    }
   ],
   "source": [
    "joblib.dump(df_clean, \"lemmatized_data.gz\")"
   ]
  },
  {
   "cell_type": "code",
   "execution_count": 51,
   "metadata": {},
   "outputs": [],
   "source": [
    "df_clean = joblib.load(\"lemmatized_data.gz\")"
   ]
  },
  {
   "cell_type": "code",
   "execution_count": 52,
   "metadata": {},
   "outputs": [
    {
     "data": {
      "text/html": [
       "<div>\n",
       "<style scoped>\n",
       "    .dataframe tbody tr th:only-of-type {\n",
       "        vertical-align: middle;\n",
       "    }\n",
       "\n",
       "    .dataframe tbody tr th {\n",
       "        vertical-align: top;\n",
       "    }\n",
       "\n",
       "    .dataframe thead th {\n",
       "        text-align: right;\n",
       "    }\n",
       "</style>\n",
       "<table border=\"1\" class=\"dataframe\">\n",
       "  <thead>\n",
       "    <tr style=\"text-align: right;\">\n",
       "      <th></th>\n",
       "      <th>complaint</th>\n",
       "      <th>lemmatized_complaint</th>\n",
       "    </tr>\n",
       "  </thead>\n",
       "  <tbody>\n",
       "    <tr>\n",
       "      <th>0</th>\n",
       "      <td>good morning my name is xxxx xxxx and i apprec...</td>\n",
       "      <td>good morning my name be xxxx xxxx and I apprec...</td>\n",
       "    </tr>\n",
       "    <tr>\n",
       "      <th>1</th>\n",
       "      <td>i upgraded my xxxx xxxx card in  and was told ...</td>\n",
       "      <td>I upgrade my xxxx xxxx card in   and be tell b...</td>\n",
       "    </tr>\n",
       "    <tr>\n",
       "      <th>2</th>\n",
       "      <td>chase card was reported on  however fraudulent...</td>\n",
       "      <td>chase card be report on   however fraudulent a...</td>\n",
       "    </tr>\n",
       "    <tr>\n",
       "      <th>3</th>\n",
       "      <td>on  while trying to book a xxxx  xxxx  ticket ...</td>\n",
       "      <td>on   while try to book a xxxx   xxxx   ticket ...</td>\n",
       "    </tr>\n",
       "    <tr>\n",
       "      <th>4</th>\n",
       "      <td>my grand son give me check for  i deposit it i...</td>\n",
       "      <td>my grand son give I check for   I deposit it i...</td>\n",
       "    </tr>\n",
       "  </tbody>\n",
       "</table>\n",
       "</div>"
      ],
      "text/plain": [
       "                                           complaint  \\\n",
       "0  good morning my name is xxxx xxxx and i apprec...   \n",
       "1  i upgraded my xxxx xxxx card in  and was told ...   \n",
       "2  chase card was reported on  however fraudulent...   \n",
       "3  on  while trying to book a xxxx  xxxx  ticket ...   \n",
       "4  my grand son give me check for  i deposit it i...   \n",
       "\n",
       "                                lemmatized_complaint  \n",
       "0  good morning my name be xxxx xxxx and I apprec...  \n",
       "1  I upgrade my xxxx xxxx card in   and be tell b...  \n",
       "2  chase card be report on   however fraudulent a...  \n",
       "3  on   while try to book a xxxx   xxxx   ticket ...  \n",
       "4  my grand son give I check for   I deposit it i...  "
      ]
     },
     "execution_count": 52,
     "metadata": {},
     "output_type": "execute_result"
    }
   ],
   "source": [
    "df_clean.head()"
   ]
  },
  {
   "cell_type": "code",
   "execution_count": 53,
   "metadata": {},
   "outputs": [
    {
     "data": {
      "text/plain": [
       "0        good morning my name be xxxx xxxx and I apprec...\n",
       "1        I upgrade my xxxx xxxx card in   and be tell b...\n",
       "2        chase card be report on   however fraudulent a...\n",
       "3        on   while try to book a xxxx   xxxx   ticket ...\n",
       "4        my grand son give I check for   I deposit it i...\n",
       "                               ...                        \n",
       "21067    after be a chase card customer for well over a...\n",
       "21068    on wednesday xxxxxxxx I call chas my xxxx xxxx...\n",
       "21069    I be not familiar with xxxx pay and do not und...\n",
       "21070    I have have flawless credit for   yrs I ve hav...\n",
       "21071    roughly   year ago I close out my account with...\n",
       "Name: lemmatized_complaint, Length: 21072, dtype: object"
      ]
     },
     "execution_count": 53,
     "metadata": {},
     "output_type": "execute_result"
    }
   ],
   "source": [
    "df_clean['lemmatized_complaint']"
   ]
  },
  {
   "cell_type": "code",
   "execution_count": 54,
   "metadata": {},
   "outputs": [],
   "source": [
    "# pos tag analysis\n",
    "# stopword removal"
   ]
  },
  {
   "cell_type": "markdown",
   "metadata": {},
   "source": [
    "![SpaCy Pipeline](spacy_pipeline.png)"
   ]
  },
  {
   "cell_type": "code",
   "execution_count": 55,
   "metadata": {},
   "outputs": [
    {
     "name": "stderr",
     "output_type": "stream",
     "text": [
      "100%|████████████████████████████████████████████████████████████████████████████████████████████████████████████████████████████████████████████████████████████████| 21072/21072 [04:31<00:00, 77.57it/s]\n"
     ]
    }
   ],
   "source": [
    "def get_relevant_words_via_pos_tagging(series):\n",
    "    relevant_words_list = []\n",
    "    nlp = en_core_web_sm.load()\n",
    "    nlp.select_pipes(disable=['ner'])\n",
    "    cnt = 0\n",
    "    for index, doc in enumerate(tqdm(nlp.pipe(series), total=len(series))):\n",
    "        relevant_words = []\n",
    "        for word in doc:\n",
    "            if \"NN\" in word.tag_:\n",
    "                relevant_words.append(word.text)\n",
    "        relevant_words_list.append(\" \".join(relevant_words))\n",
    "    return relevant_words_list\n",
    "\n",
    "relevant_words_from_complaints = get_relevant_words_via_pos_tagging(df_clean['lemmatized_complaint'])"
   ]
  },
  {
   "cell_type": "code",
   "execution_count": 56,
   "metadata": {},
   "outputs": [],
   "source": [
    "df_clean['nouns'] = relevant_words_from_complaints"
   ]
  },
  {
   "cell_type": "code",
   "execution_count": 57,
   "metadata": {},
   "outputs": [
    {
     "data": {
      "text/plain": [
       "['relevant_words.gz']"
      ]
     },
     "execution_count": 57,
     "metadata": {},
     "output_type": "execute_result"
    }
   ],
   "source": [
    "joblib.dump(df_clean, \"relevant_words.gz\")"
   ]
  },
  {
   "cell_type": "code",
   "execution_count": 58,
   "metadata": {
    "id": "AjxfchvFJrF2"
   },
   "outputs": [
    {
     "data": {
      "text/html": [
       "<div>\n",
       "<style scoped>\n",
       "    .dataframe tbody tr th:only-of-type {\n",
       "        vertical-align: middle;\n",
       "    }\n",
       "\n",
       "    .dataframe tbody tr th {\n",
       "        vertical-align: top;\n",
       "    }\n",
       "\n",
       "    .dataframe thead th {\n",
       "        text-align: right;\n",
       "    }\n",
       "</style>\n",
       "<table border=\"1\" class=\"dataframe\">\n",
       "  <thead>\n",
       "    <tr style=\"text-align: right;\">\n",
       "      <th></th>\n",
       "      <th>complaint</th>\n",
       "      <th>lemmatized_complaint</th>\n",
       "      <th>nouns</th>\n",
       "    </tr>\n",
       "  </thead>\n",
       "  <tbody>\n",
       "    <tr>\n",
       "      <th>0</th>\n",
       "      <td>good morning my name is xxxx xxxx and i apprec...</td>\n",
       "      <td>good morning my name be xxxx xxxx and I apprec...</td>\n",
       "      <td>morning name xxxx stop bank cardmember service...</td>\n",
       "    </tr>\n",
       "    <tr>\n",
       "      <th>1</th>\n",
       "      <td>i upgraded my xxxx xxxx card in  and was told ...</td>\n",
       "      <td>I upgrade my xxxx xxxx card in   and be tell b...</td>\n",
       "      <td>xxxx card agent anniversary date agent informa...</td>\n",
       "    </tr>\n",
       "  </tbody>\n",
       "</table>\n",
       "</div>"
      ],
      "text/plain": [
       "                                           complaint  \\\n",
       "0  good morning my name is xxxx xxxx and i apprec...   \n",
       "1  i upgraded my xxxx xxxx card in  and was told ...   \n",
       "\n",
       "                                lemmatized_complaint  \\\n",
       "0  good morning my name be xxxx xxxx and I apprec...   \n",
       "1  I upgrade my xxxx xxxx card in   and be tell b...   \n",
       "\n",
       "                                               nouns  \n",
       "0  morning name xxxx stop bank cardmember service...  \n",
       "1  xxxx card agent anniversary date agent informa...  "
      ]
     },
     "execution_count": 58,
     "metadata": {},
     "output_type": "execute_result"
    }
   ],
   "source": [
    "#The clean dataframe should now contain the raw complaint, lemmatized complaint and the complaint after removing POS tags.\n",
    "df_clean.head(2)"
   ]
  },
  {
   "cell_type": "markdown",
   "metadata": {},
   "source": [
    "---"
   ]
  },
  {
   "cell_type": "markdown",
   "metadata": {
    "id": "_7Un1AElJrF2"
   },
   "source": [
    "## Exploratory data analysis to get familiar with the data.\n",
    "\n",
    "Write the code in this task to perform the following:\n",
    "\n",
    "*   Visualise the data according to the 'Complaint' character length\n",
    "*   Using a word cloud find the top 40 words by frequency among all the articles after processing the text\n",
    "*   Find the top unigrams,bigrams and trigrams by frequency among all the complaints after processing the text. ‘"
   ]
  },
  {
   "cell_type": "markdown",
   "metadata": {
    "id": "q-zaqJF6JrF2"
   },
   "source": [
    "### Visualising the data \n",
    "- according to the 'Complaint' character length"
   ]
  },
  {
   "cell_type": "code",
   "execution_count": 59,
   "metadata": {},
   "outputs": [
    {
     "data": {
      "image/png": "[encoded data removed]",
      "text/plain": [
       "<Figure size 1080x432 with 1 Axes>"
      ]
     },
     "metadata": {
      "needs_background": "light"
     },
     "output_type": "display_data"
    }
   ],
   "source": [
    "plt.figure(figsize=(15,6))\n",
    "bins = list(np.arange(0, 10500, 500))\n",
    "bins.append(100000)\n",
    "pd.cut(df_clean['complaint'].str.len(), bins=bins).value_counts(sort=False).plot(kind='bar')\n",
    "plt.show()"
   ]
  },
  {
   "cell_type": "markdown",
   "metadata": {},
   "source": [
    "#### Observation\n",
    "- Majority of the complaints are below 4000 characters\n",
    "- Most common complaint length is 500-1000 characters long"
   ]
  },
  {
   "cell_type": "markdown",
   "metadata": {
    "id": "T9jD_6SeJrF3"
   },
   "source": [
    "### WordCloug with top 40 words by frequency of occurence"
   ]
  },
  {
   "cell_type": "code",
   "execution_count": 60,
   "metadata": {},
   "outputs": [
    {
     "data": {
      "image/png": "[encoded data removed]",
      "text/plain": [
       "<Figure size 720x720 with 1 Axes>"
      ]
     },
     "metadata": {
      "needs_background": "light"
     },
     "output_type": "display_data"
    }
   ],
   "source": [
    "from wordcloud import WordCloud, STOPWORDS\n",
    "text = \" \".join(complaint for complaint in df_clean.nouns)\n",
    "\n",
    "wordcloud = WordCloud(max_words=40, background_color='black', colormap='Set2', stopwords=STOPWORDS).generate(text)\n",
    "\n",
    "plt.figure(figsize=(10,10))\n",
    "plt.imshow(wordcloud, interpolation='bilinear')\n",
    "plt.axis(\"off\")\n",
    "plt.show()"
   ]
  },
  {
   "cell_type": "code",
   "execution_count": 61,
   "metadata": {},
   "outputs": [
    {
     "name": "stderr",
     "output_type": "stream",
     "text": [
      "[nltk_data] Downloading package punkt to /home/sameer/nltk_data...\n",
      "[nltk_data]   Package punkt is already up-to-date!\n"
     ]
    },
    {
     "data": {
      "text/plain": [
       "True"
      ]
     },
     "execution_count": 61,
     "metadata": {},
     "output_type": "execute_result"
    }
   ],
   "source": [
    "nltk.download('punkt')"
   ]
  },
  {
   "cell_type": "code",
   "execution_count": 62,
   "metadata": {},
   "outputs": [],
   "source": [
    "text = \" \".join(df_clean['nouns'].tolist())\n",
    "tokens = nltk.word_tokenize(text)"
   ]
  },
  {
   "cell_type": "code",
   "execution_count": 63,
   "metadata": {},
   "outputs": [
    {
     "data": {
      "text/plain": [
       "['morning', 'name', 'xxxx', 'stop', 'bank']"
      ]
     },
     "execution_count": 63,
     "metadata": {},
     "output_type": "execute_result"
    }
   ],
   "source": [
    "tokens[0:5]"
   ]
  },
  {
   "cell_type": "markdown",
   "metadata": {},
   "source": [
    "#### Top 30 Unigrams"
   ]
  },
  {
   "cell_type": "code",
   "execution_count": 64,
   "metadata": {
    "id": "5mbk5DS5JrF4"
   },
   "outputs": [],
   "source": [
    "unigrams = ngrams(tokens,1)\n",
    "unigrams_list = list(Counter(unigrams).most_common(30))"
   ]
  },
  {
   "cell_type": "code",
   "execution_count": 65,
   "metadata": {},
   "outputs": [
    {
     "data": {
      "text/plain": [
       "[(('xxxx',), 134113),\n",
       " (('chase',), 72496),\n",
       " (('account',), 47706),\n",
       " (('credit',), 33485),\n",
       " (('card',), 30425),\n",
       " (('bank',), 28098),\n",
       " (('xxxxxxxx',), 27628),\n",
       " (('payment',), 21085),\n",
       " (('time',), 15995),\n",
       " (('charge',), 14063),\n",
       " (('day',), 12899),\n",
       " (('money',), 11900),\n",
       " (('check',), 11374),\n",
       " (('loan',), 10950),\n",
       " (('information',), 9624),\n",
       " (('letter',), 9602),\n",
       " (('call',), 9062),\n",
       " (('fee',), 8924),\n",
       " (('report',), 8808),\n",
       " (('transaction',), 8628),\n",
       " (('number',), 8596),\n",
       " (('month',), 8443),\n",
       " (('amount',), 8403),\n",
       " (('year',), 8257),\n",
       " (('mortgage',), 8152),\n",
       " (('customer',), 8145),\n",
       " (('balance',), 7771),\n",
       " (('service',), 7715),\n",
       " (('phone',), 7610),\n",
       " (('company',), 7584)]"
      ]
     },
     "execution_count": 65,
     "metadata": {},
     "output_type": "execute_result"
    }
   ],
   "source": [
    "unigrams_list"
   ]
  },
  {
   "cell_type": "markdown",
   "metadata": {
    "id": "YX7fedm1JrF8"
   },
   "source": [
    "#### Top 10 words in unigram by frequency"
   ]
  },
  {
   "cell_type": "code",
   "execution_count": 66,
   "metadata": {},
   "outputs": [
    {
     "name": "stdout",
     "output_type": "stream",
     "text": [
      "xxxx\n",
      "chase\n",
      "account\n",
      "credit\n",
      "card\n",
      "bank\n",
      "xxxxxxxx\n",
      "payment\n",
      "time\n",
      "charge\n"
     ]
    }
   ],
   "source": [
    "for word in unigrams_list[0:10]:\n",
    "    print(word[0][0])"
   ]
  },
  {
   "cell_type": "markdown",
   "metadata": {},
   "source": [
    "#### Top 30 Bigrams\n",
    "- printing 10 bigrams from top 30"
   ]
  },
  {
   "cell_type": "code",
   "execution_count": 67,
   "metadata": {
    "id": "aV7kD7w8JrF8"
   },
   "outputs": [
    {
     "name": "stdout",
     "output_type": "stream",
     "text": [
      "[(('xxxx', 'xxxx'), 58042), (('credit', 'card'), 12839), (('chase', 'bank'), 12116), (('xxxx', 'chase'), 4680), (('credit', 'report'), 3941), (('account', 'chase'), 3806), (('xxxxxxxx', 'xxxx'), 3380), (('chase', 'credit'), 3348), (('customer', 'service'), 3080), (('xxxx', 'xxxxxxxx'), 2938), (('xxxxxxxx', 'xxxxxxxx'), 2803), (('chase', 'xxxx'), 2767), (('chase', 'account'), 2727), (('bank', 'account'), 2718), (('account', 'xxxx'), 2707), (('checking', 'account'), 2606), (('jp', 'morgan'), 2465), (('morgan', 'chase'), 2463), (('xxxxxxxx', 'chase'), 2226), (('xxxx', 'account'), 2224), (('debit', 'card'), 2022), (('account', 'account'), 1959), (('card', 'chase'), 1873), (('chase', 'card'), 1722), (('bank', 'xxxx'), 1710), (('credit', 'score'), 1707), (('number', 'xxxx'), 1659), (('phone', 'call'), 1639), (('xxxx', 'credit'), 1592), (('card', 'account'), 1569)]\n"
     ]
    }
   ],
   "source": [
    "bigrams = ngrams(tokens,2)\n",
    "bigrams_list = list(Counter(bigrams).most_common(30))\n",
    "print(bigrams_list)"
   ]
  },
  {
   "cell_type": "code",
   "execution_count": 68,
   "metadata": {
    "id": "NPnMNIpyJrF9"
   },
   "outputs": [
    {
     "name": "stdout",
     "output_type": "stream",
     "text": [
      "xxxx | xxxx\n",
      "credit | card\n",
      "chase | bank\n",
      "xxxx | chase\n",
      "credit | report\n",
      "account | chase\n",
      "xxxxxxxx | xxxx\n",
      "chase | credit\n",
      "customer | service\n",
      "xxxx | xxxxxxxx\n"
     ]
    }
   ],
   "source": [
    "for word in bigrams_list[0:10]:\n",
    "    print(word[0][0], \"|\", word[0][1])"
   ]
  },
  {
   "cell_type": "markdown",
   "metadata": {},
   "source": [
    "#### Top 30 Trigrams\n",
    "- printing 10 Trigrams from top 30"
   ]
  },
  {
   "cell_type": "code",
   "execution_count": 69,
   "metadata": {
    "id": "Xkh7vtbtJrF-"
   },
   "outputs": [
    {
     "name": "stdout",
     "output_type": "stream",
     "text": [
      "[(('xxxx', 'xxxx', 'xxxx'), 29176), (('chase', 'credit', 'card'), 2356), (('jp', 'morgan', 'chase'), 2080), (('xxxx', 'xxxx', 'chase'), 1741), (('xxxxxxxx', 'xxxx', 'xxxx'), 1549), (('xxxx', 'xxxx', 'xxxxxxxx'), 1280), (('credit', 'card', 'account'), 1030), (('credit', 'card', 'company'), 975), (('_', '_', '_'), 951), (('chase', 'xxxx', 'xxxx'), 943), (('account', 'xxxx', 'xxxx'), 934), (('xxxx', 'xxxxxxxx', 'xxxx'), 933), (('credit', 'card', 'chase'), 925), (('chase', 'bank', 'xxxx'), 920), (('account', 'chase', 'bank'), 894), (('xxxx', 'chase', 'bank'), 866), (('bank', 'xxxx', 'xxxx'), 826), (('xxxx', 'xxxx', 'account'), 804), (('chase', 'bank', 'account'), 787), (('xxxx', 'credit', 'card'), 751), (('xxxxxxxx', 'xxxxxxxx', 'xxxxxxxx'), 716), (('morgan', 'chase', 'bank'), 677), (('name', 'xxxx', 'xxxx'), 607), (('xxxx', 'xxxx', 'credit'), 554), (('credit', 'card', 'xxxx'), 530), (('card', 'xxxx', 'xxxx'), 507), (('inquiry', 'credit', 'report'), 493), (('payment', 'xxxx', 'xxxx'), 483), (('xxxx', 'xxxx', 'payment'), 436), (('credit', 'card', 'credit'), 434)]\n"
     ]
    }
   ],
   "source": [
    "trigrams = ngrams(tokens,3)\n",
    "trigrams_list = list(Counter(trigrams).most_common(30))\n",
    "print(trigrams_list)"
   ]
  },
  {
   "cell_type": "code",
   "execution_count": 70,
   "metadata": {
    "id": "REcVxNfvJrF-"
   },
   "outputs": [
    {
     "name": "stdout",
     "output_type": "stream",
     "text": [
      "xxxx | xxxx | xxxx\n",
      "chase | credit | card\n",
      "jp | morgan | chase\n",
      "xxxx | xxxx | chase\n",
      "xxxxxxxx | xxxx | xxxx\n",
      "xxxx | xxxx | xxxxxxxx\n",
      "credit | card | account\n",
      "credit | card | company\n",
      "_ | _ | _\n",
      "chase | xxxx | xxxx\n"
     ]
    }
   ],
   "source": [
    "for word in trigrams_list[0:10]:\n",
    "    print(word[0][0], \"|\", word[0][1], \"|\", word[0][2])"
   ]
  },
  {
   "cell_type": "code",
   "execution_count": 72,
   "metadata": {
    "id": "qm7SjjSkJrFz"
   },
   "outputs": [],
   "source": [
    "def remove_masking_characters(inp):\n",
    "    # remove _+\n",
    "    # remove xx+\n",
    "    inp = inp.lower()\n",
    "    inp = re.sub(r\"_+\", \"\", inp).strip()\n",
    "    inp = re.sub(r\"xx+\", \"\", inp).strip()\n",
    "    inp = re.sub(r\"\\s+\", \" \", inp).strip()\n",
    "    \n",
    "    return inp"
   ]
  },
  {
   "cell_type": "code",
   "execution_count": 73,
   "metadata": {},
   "outputs": [
    {
     "data": {
      "text/plain": [
       "'complaint filing sustain bank accuse wrongdoing _ _ _ _ _ xxxx xxxx _ _ _ _ _ _ _ _ _ _ _ _ xxxx xxxx xxxx _ _ _ _ _ xxxx xxxx va xxxx _ _ _ complaint notice retaliation discrimination date chase bank act retaliation person transaction ability account end account number show copy statement reject date copy complaint term condition account obligation bank way bank action filing cfpb bank cfpb access complaint rejection write bank attempt arbitration complaint bank behavior person chase bank chase card service company chase business name us act consumer protrction act reform cfpa credit opportunity act act law regulation provision prohibit retaliation discrimination consumer anyone company cfpb regulator receipt decline purchase chase bank chase law term aggression action bank consequence bank _ bank act action retaliation type matter bank aggression type harm action action time notice kind bank moment credit limit e state herein state belief knowledge understanding change correction kind time person counsel notice waive today'"
      ]
     },
     "execution_count": 73,
     "metadata": {},
     "output_type": "execute_result"
    }
   ],
   "source": [
    "df_clean['nouns'][171]"
   ]
  },
  {
   "cell_type": "code",
   "execution_count": 74,
   "metadata": {},
   "outputs": [
    {
     "data": {
      "text/plain": [
       "'complaint filing sustain bank accuse wrongdoing va complaint notice retaliation discrimination date chase bank act retaliation person transaction ability account end account number show copy statement reject date copy complaint term condition account obligation bank way bank action filing cfpb bank cfpb access complaint rejection write bank attempt arbitration complaint bank behavior person chase bank chase card service company chase business name us act consumer protrction act reform cfpa credit opportunity act act law regulation provision prohibit retaliation discrimination consumer anyone company cfpb regulator receipt decline purchase chase bank chase law term aggression action bank consequence bank bank act action retaliation type matter bank aggression type harm action action time notice kind bank moment credit limit e state herein state belief knowledge understanding change correction kind time person counsel notice waive today'"
      ]
     },
     "execution_count": 74,
     "metadata": {},
     "output_type": "execute_result"
    }
   ],
   "source": [
    "df_clean['nouns'].apply(remove_masking_characters)[171]"
   ]
  },
  {
   "cell_type": "code",
   "execution_count": 75,
   "metadata": {},
   "outputs": [],
   "source": [
    "# df_clean[df_clean['nouns'].str.contains('_', regex=True)]['nouns']"
   ]
  },
  {
   "cell_type": "code",
   "execution_count": 76,
   "metadata": {},
   "outputs": [],
   "source": [
    "df_clean['nouns'] = df_clean['nouns'].apply(remove_masking_characters)"
   ]
  },
  {
   "cell_type": "code",
   "execution_count": 77,
   "metadata": {
    "id": "9UIFk8fQJrF_"
   },
   "outputs": [
    {
     "data": {
      "text/html": [
       "<div>\n",
       "<style scoped>\n",
       "    .dataframe tbody tr th:only-of-type {\n",
       "        vertical-align: middle;\n",
       "    }\n",
       "\n",
       "    .dataframe tbody tr th {\n",
       "        vertical-align: top;\n",
       "    }\n",
       "\n",
       "    .dataframe thead th {\n",
       "        text-align: right;\n",
       "    }\n",
       "</style>\n",
       "<table border=\"1\" class=\"dataframe\">\n",
       "  <thead>\n",
       "    <tr style=\"text-align: right;\">\n",
       "      <th></th>\n",
       "      <th>complaint</th>\n",
       "      <th>lemmatized_complaint</th>\n",
       "      <th>nouns</th>\n",
       "    </tr>\n",
       "  </thead>\n",
       "  <tbody>\n",
       "    <tr>\n",
       "      <th>0</th>\n",
       "      <td>good morning my name is xxxx xxxx and i apprec...</td>\n",
       "      <td>good morning my name be xxxx xxxx and I apprec...</td>\n",
       "      <td>morning name stop bank cardmember service debt...</td>\n",
       "    </tr>\n",
       "    <tr>\n",
       "      <th>1</th>\n",
       "      <td>i upgraded my xxxx xxxx card in  and was told ...</td>\n",
       "      <td>I upgrade my xxxx xxxx card in   and be tell b...</td>\n",
       "      <td>card agent anniversary date agent information ...</td>\n",
       "    </tr>\n",
       "  </tbody>\n",
       "</table>\n",
       "</div>"
      ],
      "text/plain": [
       "                                           complaint  \\\n",
       "0  good morning my name is xxxx xxxx and i apprec...   \n",
       "1  i upgraded my xxxx xxxx card in  and was told ...   \n",
       "\n",
       "                                lemmatized_complaint  \\\n",
       "0  good morning my name be xxxx xxxx and I apprec...   \n",
       "1  I upgrade my xxxx xxxx card in   and be tell b...   \n",
       "\n",
       "                                               nouns  \n",
       "0  morning name stop bank cardmember service debt...  \n",
       "1  card agent anniversary date agent information ...  "
      ]
     },
     "execution_count": 77,
     "metadata": {},
     "output_type": "execute_result"
    }
   ],
   "source": [
    "# all masked texts has been removed\n",
    "df_clean.head(2)"
   ]
  },
  {
   "cell_type": "code",
   "execution_count": 78,
   "metadata": {},
   "outputs": [],
   "source": [
    "# df_clean[df_clean['nouns'].str.contains('pron')]"
   ]
  },
  {
   "cell_type": "code",
   "execution_count": 79,
   "metadata": {},
   "outputs": [
    {
     "data": {
      "text/plain": [
       "['complaint_nouns.gz']"
      ]
     },
     "execution_count": 79,
     "metadata": {},
     "output_type": "execute_result"
    }
   ],
   "source": [
    "joblib.dump(df_clean, \"complaint_nouns.gz\")"
   ]
  },
  {
   "cell_type": "code",
   "execution_count": 80,
   "metadata": {},
   "outputs": [],
   "source": [
    "df_clean = joblib.load(\"complaint_nouns.gz\")"
   ]
  },
  {
   "cell_type": "markdown",
   "metadata": {},
   "source": [
    "---"
   ]
  },
  {
   "cell_type": "markdown",
   "metadata": {
    "id": "k-I0k0QtJrGA"
   },
   "source": [
    "## Feature Extraction\n",
    "Convert the raw texts to a matrix of TF-IDF features"
   ]
  },
  {
   "cell_type": "code",
   "execution_count": 81,
   "metadata": {
    "id": "Y8fGwaCPJrGA"
   },
   "outputs": [],
   "source": [
    "from sklearn.feature_extraction.text import TfidfVectorizer"
   ]
  },
  {
   "cell_type": "markdown",
   "metadata": {
    "id": "yYzD85nTJrGA"
   },
   "source": [
    "#### Creating a document term matrix\n",
    "\n",
    "- The contents of a document term matrix are tuples of (complaint_id,token_id) \n",
    "- The tuples that are not there have a tf-idf score of 0"
   ]
  },
  {
   "cell_type": "code",
   "execution_count": 82,
   "metadata": {},
   "outputs": [],
   "source": [
    "vect = TfidfVectorizer(stop_words='english', max_df=0.95, min_df=0.01)\n",
    "X = vect.fit_transform(df_clean['nouns'])\n",
    "\n",
    "dtm = pd.DataFrame(X.toarray(), columns=vect.get_feature_names_out())"
   ]
  },
  {
   "cell_type": "code",
   "execution_count": 83,
   "metadata": {},
   "outputs": [
    {
     "data": {
      "text/html": [
       "<div>\n",
       "<style scoped>\n",
       "    .dataframe tbody tr th:only-of-type {\n",
       "        vertical-align: middle;\n",
       "    }\n",
       "\n",
       "    .dataframe tbody tr th {\n",
       "        vertical-align: top;\n",
       "    }\n",
       "\n",
       "    .dataframe thead th {\n",
       "        text-align: right;\n",
       "    }\n",
       "</style>\n",
       "<table border=\"1\" class=\"dataframe\">\n",
       "  <thead>\n",
       "    <tr style=\"text-align: right;\">\n",
       "      <th></th>\n",
       "      <th>ability</th>\n",
       "      <th>abuse</th>\n",
       "      <th>access</th>\n",
       "      <th>accord</th>\n",
       "      <th>account</th>\n",
       "      <th>acct</th>\n",
       "      <th>ach</th>\n",
       "      <th>act</th>\n",
       "      <th>action</th>\n",
       "      <th>activity</th>\n",
       "      <th>...</th>\n",
       "      <th>wife</th>\n",
       "      <th>wire</th>\n",
       "      <th>withdrawal</th>\n",
       "      <th>woman</th>\n",
       "      <th>word</th>\n",
       "      <th>work</th>\n",
       "      <th>write</th>\n",
       "      <th>writing</th>\n",
       "      <th>year</th>\n",
       "      <th>yesterday</th>\n",
       "    </tr>\n",
       "  </thead>\n",
       "  <tbody>\n",
       "    <tr>\n",
       "      <th>0</th>\n",
       "      <td>0.0</td>\n",
       "      <td>0.0</td>\n",
       "      <td>0.0</td>\n",
       "      <td>0.0</td>\n",
       "      <td>0.086945</td>\n",
       "      <td>0.0</td>\n",
       "      <td>0.0</td>\n",
       "      <td>0.0</td>\n",
       "      <td>0.0</td>\n",
       "      <td>0.0</td>\n",
       "      <td>...</td>\n",
       "      <td>0.0</td>\n",
       "      <td>0.0</td>\n",
       "      <td>0.0</td>\n",
       "      <td>0.0</td>\n",
       "      <td>0.0</td>\n",
       "      <td>0.0</td>\n",
       "      <td>0.0</td>\n",
       "      <td>0.0</td>\n",
       "      <td>0.0</td>\n",
       "      <td>0.0</td>\n",
       "    </tr>\n",
       "    <tr>\n",
       "      <th>1</th>\n",
       "      <td>0.0</td>\n",
       "      <td>0.0</td>\n",
       "      <td>0.0</td>\n",
       "      <td>0.0</td>\n",
       "      <td>0.094261</td>\n",
       "      <td>0.0</td>\n",
       "      <td>0.0</td>\n",
       "      <td>0.0</td>\n",
       "      <td>0.0</td>\n",
       "      <td>0.0</td>\n",
       "      <td>...</td>\n",
       "      <td>0.0</td>\n",
       "      <td>0.0</td>\n",
       "      <td>0.0</td>\n",
       "      <td>0.0</td>\n",
       "      <td>0.0</td>\n",
       "      <td>0.0</td>\n",
       "      <td>0.0</td>\n",
       "      <td>0.0</td>\n",
       "      <td>0.0</td>\n",
       "      <td>0.0</td>\n",
       "    </tr>\n",
       "  </tbody>\n",
       "</table>\n",
       "<p>2 rows × 487 columns</p>\n",
       "</div>"
      ],
      "text/plain": [
       "   ability  abuse  access  accord   account  acct  ach  act  action  activity  \\\n",
       "0      0.0    0.0     0.0     0.0  0.086945   0.0  0.0  0.0     0.0       0.0   \n",
       "1      0.0    0.0     0.0     0.0  0.094261   0.0  0.0  0.0     0.0       0.0   \n",
       "\n",
       "   ...  wife  wire  withdrawal  woman  word  work  write  writing  year  \\\n",
       "0  ...   0.0   0.0         0.0    0.0   0.0   0.0    0.0      0.0   0.0   \n",
       "1  ...   0.0   0.0         0.0    0.0   0.0   0.0    0.0      0.0   0.0   \n",
       "\n",
       "   yesterday  \n",
       "0        0.0  \n",
       "1        0.0  \n",
       "\n",
       "[2 rows x 487 columns]"
      ]
     },
     "execution_count": 83,
     "metadata": {},
     "output_type": "execute_result"
    }
   ],
   "source": [
    "dtm.head(2)"
   ]
  },
  {
   "cell_type": "markdown",
   "metadata": {},
   "source": [
    "---"
   ]
  },
  {
   "cell_type": "markdown",
   "metadata": {
    "id": "7Q9lwvNEJrGB"
   },
   "source": [
    "## Topic Modelling using NMF\n",
    "\n",
    "Non-Negative Matrix Factorization (NMF) is an unsupervised technique so there are no labeling of topics that the model will be trained on. The way it works is that, NMF decomposes (or factorizes) high-dimensional vectors into a lower-dimensional representation. These lower-dimensional vectors are non-negative which also means their coefficients are non-negative.\n",
    "\n",
    "##### Steps\n",
    "\n",
    "* Find the best number of clusters \n",
    "* Apply the best number to create word clusters\n",
    "* Inspect & validate the correction of each cluster wrt the complaints \n",
    "* Correct the labels if needed \n",
    "* Map the clusters to topics/cluster names"
   ]
  },
  {
   "cell_type": "markdown",
   "metadata": {
    "id": "0wYR1xUTJrGD"
   },
   "source": [
    "## Manual Topic Modeling\n",
    "We will take a trial & error approach to find the best number of topics for the NMF model.\n",
    "\n",
    "- The only parameter that is required is the number of components i.e. the number of topics we want. \n",
    "- This is the most crucial step in the whole topic modeling process and will greatly affect how good the final topics are."
   ]
  },
  {
   "cell_type": "code",
   "execution_count": 84,
   "metadata": {
    "id": "ffzdDpp_JrGB"
   },
   "outputs": [],
   "source": [
    "from sklearn.decomposition import NMF\n",
    "\n",
    "N_TOPICS = 10\n",
    "N_WORDS = 15\n",
    "nmf = NMF(n_components=N_TOPICS, init='nndsvd', max_iter=500, random_state=40)\n",
    "W = nmf.fit_transform(X)  # Document-topic matrix\n",
    "H = nmf.components_       # Topic-term matrix"
   ]
  },
  {
   "cell_type": "markdown",
   "metadata": {
    "id": "16kRfat5JrGE"
   },
   "source": [
    "#### Top 15 words for each of the topics"
   ]
  },
  {
   "cell_type": "code",
   "execution_count": 85,
   "metadata": {
    "tags": []
   },
   "outputs": [
    {
     "data": {
      "text/html": [
       "<div>\n",
       "<style scoped>\n",
       "    .dataframe tbody tr th:only-of-type {\n",
       "        vertical-align: middle;\n",
       "    }\n",
       "\n",
       "    .dataframe tbody tr th {\n",
       "        vertical-align: top;\n",
       "    }\n",
       "\n",
       "    .dataframe thead th {\n",
       "        text-align: right;\n",
       "    }\n",
       "</style>\n",
       "<table border=\"1\" class=\"dataframe\">\n",
       "  <thead>\n",
       "    <tr style=\"text-align: right;\">\n",
       "      <th></th>\n",
       "      <th>Word 1</th>\n",
       "      <th>Word 2</th>\n",
       "      <th>Word 3</th>\n",
       "      <th>Word 4</th>\n",
       "      <th>Word 5</th>\n",
       "      <th>Word 6</th>\n",
       "      <th>Word 7</th>\n",
       "      <th>Word 8</th>\n",
       "      <th>Word 9</th>\n",
       "      <th>Word 10</th>\n",
       "      <th>Word 11</th>\n",
       "      <th>Word 12</th>\n",
       "      <th>Word 13</th>\n",
       "      <th>Word 14</th>\n",
       "      <th>Word 15</th>\n",
       "    </tr>\n",
       "  </thead>\n",
       "  <tbody>\n",
       "    <tr>\n",
       "      <th>Topic 1</th>\n",
       "      <td>account</td>\n",
       "      <td>checking</td>\n",
       "      <td>chase</td>\n",
       "      <td>reason</td>\n",
       "      <td>deposit</td>\n",
       "      <td>branch</td>\n",
       "      <td>balance</td>\n",
       "      <td>business</td>\n",
       "      <td>fund</td>\n",
       "      <td>access</td>\n",
       "      <td>saving</td>\n",
       "      <td>year</td>\n",
       "      <td>number</td>\n",
       "      <td>activity</td>\n",
       "      <td>identity</td>\n",
       "    </tr>\n",
       "    <tr>\n",
       "      <th>Topic 2</th>\n",
       "      <td>card</td>\n",
       "      <td>credit</td>\n",
       "      <td>chase</td>\n",
       "      <td>balance</td>\n",
       "      <td>limit</td>\n",
       "      <td>score</td>\n",
       "      <td>year</td>\n",
       "      <td>purchase</td>\n",
       "      <td>point</td>\n",
       "      <td>month</td>\n",
       "      <td>freedom</td>\n",
       "      <td>rate</td>\n",
       "      <td>offer</td>\n",
       "      <td>reward</td>\n",
       "      <td>amazon</td>\n",
       "    </tr>\n",
       "    <tr>\n",
       "      <th>Topic 3</th>\n",
       "      <td>loan</td>\n",
       "      <td>mortgage</td>\n",
       "      <td>home</td>\n",
       "      <td>modification</td>\n",
       "      <td>chase</td>\n",
       "      <td>year</td>\n",
       "      <td>property</td>\n",
       "      <td>rate</td>\n",
       "      <td>foreclosure</td>\n",
       "      <td>house</td>\n",
       "      <td>document</td>\n",
       "      <td>sale</td>\n",
       "      <td>morgan</td>\n",
       "      <td>jp</td>\n",
       "      <td>time</td>\n",
       "    </tr>\n",
       "    <tr>\n",
       "      <th>Topic 4</th>\n",
       "      <td>charge</td>\n",
       "      <td>dispute</td>\n",
       "      <td>merchant</td>\n",
       "      <td>transaction</td>\n",
       "      <td>fraud</td>\n",
       "      <td>purchase</td>\n",
       "      <td>statement</td>\n",
       "      <td>company</td>\n",
       "      <td>card</td>\n",
       "      <td>claim</td>\n",
       "      <td>billing</td>\n",
       "      <td>visa</td>\n",
       "      <td>month</td>\n",
       "      <td>refund</td>\n",
       "      <td>investigation</td>\n",
       "    </tr>\n",
       "    <tr>\n",
       "      <th>Topic 5</th>\n",
       "      <td>payment</td>\n",
       "      <td>month</td>\n",
       "      <td>balance</td>\n",
       "      <td>statement</td>\n",
       "      <td>chase</td>\n",
       "      <td>day</td>\n",
       "      <td>time</td>\n",
       "      <td>credit</td>\n",
       "      <td>auto</td>\n",
       "      <td>date</td>\n",
       "      <td>mortgage</td>\n",
       "      <td>pay</td>\n",
       "      <td>car</td>\n",
       "      <td>error</td>\n",
       "      <td>history</td>\n",
       "    </tr>\n",
       "    <tr>\n",
       "      <th>Topic 6</th>\n",
       "      <td>check</td>\n",
       "      <td>deposit</td>\n",
       "      <td>fund</td>\n",
       "      <td>day</td>\n",
       "      <td>cash</td>\n",
       "      <td>branch</td>\n",
       "      <td>hold</td>\n",
       "      <td>chase</td>\n",
       "      <td>cashier</td>\n",
       "      <td>business</td>\n",
       "      <td>bank</td>\n",
       "      <td>mail</td>\n",
       "      <td>teller</td>\n",
       "      <td>issue</td>\n",
       "      <td>customer</td>\n",
       "    </tr>\n",
       "    <tr>\n",
       "      <th>Topic 7</th>\n",
       "      <td>report</td>\n",
       "      <td>credit</td>\n",
       "      <td>inquiry</td>\n",
       "      <td>company</td>\n",
       "      <td>reporting</td>\n",
       "      <td>jpmcb</td>\n",
       "      <td>debt</td>\n",
       "      <td>bureaus</td>\n",
       "      <td>score</td>\n",
       "      <td>information</td>\n",
       "      <td>identity</td>\n",
       "      <td>remove</td>\n",
       "      <td>theft</td>\n",
       "      <td>agency</td>\n",
       "      <td>creditor</td>\n",
       "    </tr>\n",
       "    <tr>\n",
       "      <th>Topic 8</th>\n",
       "      <td>fee</td>\n",
       "      <td>overdraft</td>\n",
       "      <td>balance</td>\n",
       "      <td>time</td>\n",
       "      <td>year</td>\n",
       "      <td>customer</td>\n",
       "      <td>transfer</td>\n",
       "      <td>month</td>\n",
       "      <td>transaction</td>\n",
       "      <td>dollar</td>\n",
       "      <td>service</td>\n",
       "      <td>day</td>\n",
       "      <td>fund</td>\n",
       "      <td>statement</td>\n",
       "      <td>chase</td>\n",
       "    </tr>\n",
       "    <tr>\n",
       "      <th>Topic 9</th>\n",
       "      <td>chase</td>\n",
       "      <td>letter</td>\n",
       "      <td>information</td>\n",
       "      <td>number</td>\n",
       "      <td>dispute</td>\n",
       "      <td>email</td>\n",
       "      <td>phone</td>\n",
       "      <td>time</td>\n",
       "      <td>service</td>\n",
       "      <td>claim</td>\n",
       "      <td>state</td>\n",
       "      <td>complaint</td>\n",
       "      <td>customer</td>\n",
       "      <td>request</td>\n",
       "      <td>day</td>\n",
       "    </tr>\n",
       "    <tr>\n",
       "      <th>Topic 10</th>\n",
       "      <td>bank</td>\n",
       "      <td>money</td>\n",
       "      <td>transaction</td>\n",
       "      <td>chase</td>\n",
       "      <td>fund</td>\n",
       "      <td>claim</td>\n",
       "      <td>atm</td>\n",
       "      <td>debit</td>\n",
       "      <td>fraud</td>\n",
       "      <td>transfer</td>\n",
       "      <td>day</td>\n",
       "      <td>person</td>\n",
       "      <td>wire</td>\n",
       "      <td>deposit</td>\n",
       "      <td>dollar</td>\n",
       "    </tr>\n",
       "  </tbody>\n",
       "</table>\n",
       "</div>"
      ],
      "text/plain": [
       "           Word 1     Word 2       Word 3        Word 4     Word 5    Word 6  \\\n",
       "Topic 1   account   checking        chase        reason    deposit    branch   \n",
       "Topic 2      card     credit        chase       balance      limit     score   \n",
       "Topic 3      loan   mortgage         home  modification      chase      year   \n",
       "Topic 4    charge    dispute     merchant   transaction      fraud  purchase   \n",
       "Topic 5   payment      month      balance     statement      chase       day   \n",
       "Topic 6     check    deposit         fund           day       cash    branch   \n",
       "Topic 7    report     credit      inquiry       company  reporting     jpmcb   \n",
       "Topic 8       fee  overdraft      balance          time       year  customer   \n",
       "Topic 9     chase     letter  information        number    dispute     email   \n",
       "Topic 10     bank      money  transaction         chase       fund     claim   \n",
       "\n",
       "             Word 7    Word 8       Word 9      Word 10   Word 11    Word 12  \\\n",
       "Topic 1     balance  business         fund       access    saving       year   \n",
       "Topic 2        year  purchase        point        month   freedom       rate   \n",
       "Topic 3    property      rate  foreclosure        house  document       sale   \n",
       "Topic 4   statement   company         card        claim   billing       visa   \n",
       "Topic 5        time    credit         auto         date  mortgage        pay   \n",
       "Topic 6        hold     chase      cashier     business      bank       mail   \n",
       "Topic 7        debt   bureaus        score  information  identity     remove   \n",
       "Topic 8    transfer     month  transaction       dollar   service        day   \n",
       "Topic 9       phone      time      service        claim     state  complaint   \n",
       "Topic 10        atm     debit        fraud     transfer       day     person   \n",
       "\n",
       "           Word 13    Word 14        Word 15  \n",
       "Topic 1     number   activity       identity  \n",
       "Topic 2      offer     reward         amazon  \n",
       "Topic 3     morgan         jp           time  \n",
       "Topic 4      month     refund  investigation  \n",
       "Topic 5        car      error        history  \n",
       "Topic 6     teller      issue       customer  \n",
       "Topic 7      theft     agency       creditor  \n",
       "Topic 8       fund  statement          chase  \n",
       "Topic 9   customer    request            day  \n",
       "Topic 10      wire    deposit         dollar  "
      ]
     },
     "execution_count": 85,
     "metadata": {},
     "output_type": "execute_result"
    }
   ],
   "source": [
    "words = np.array(vect.get_feature_names_out())\n",
    "topic_words = pd.DataFrame(np.zeros((N_TOPICS, N_WORDS)), index=[f'Topic {i + 1}' for i in range(N_TOPICS)],\n",
    "                           columns=[f'Word {i + 1}' for i in range(N_WORDS)]).astype(str)\n",
    "for i in range(N_TOPICS):\n",
    "    ix = H[i].argsort()[::-1][:N_WORDS]\n",
    "    topic_words.iloc[i] = words[ix]\n",
    "\n",
    "topic_words"
   ]
  },
  {
   "cell_type": "markdown",
   "metadata": {},
   "source": [
    "#### Observation: On taking 10 topics, we find many similar topics, therefore we need to merge few topics into one and hence taking lesser topics"
   ]
  },
  {
   "cell_type": "code",
   "execution_count": 86,
   "metadata": {
    "id": "ffzdDpp_JrGB"
   },
   "outputs": [],
   "source": [
    "from sklearn.decomposition import NMF\n",
    "\n",
    "N_TOPICS = 5\n",
    "N_WORDS = 15\n",
    "nmf = NMF(n_components=N_TOPICS, init='nndsvd', max_iter=500, random_state=40)\n",
    "W = nmf.fit_transform(X)  # Document-topic matrix\n",
    "H = nmf.components_       # Topic-term matrix"
   ]
  },
  {
   "cell_type": "markdown",
   "metadata": {
    "id": "16kRfat5JrGE"
   },
   "source": [
    "#### Top 15 words for each of the topics"
   ]
  },
  {
   "cell_type": "code",
   "execution_count": 87,
   "metadata": {
    "tags": []
   },
   "outputs": [
    {
     "data": {
      "text/html": [
       "<div>\n",
       "<style scoped>\n",
       "    .dataframe tbody tr th:only-of-type {\n",
       "        vertical-align: middle;\n",
       "    }\n",
       "\n",
       "    .dataframe tbody tr th {\n",
       "        vertical-align: top;\n",
       "    }\n",
       "\n",
       "    .dataframe thead th {\n",
       "        text-align: right;\n",
       "    }\n",
       "</style>\n",
       "<table border=\"1\" class=\"dataframe\">\n",
       "  <thead>\n",
       "    <tr style=\"text-align: right;\">\n",
       "      <th></th>\n",
       "      <th>Word 1</th>\n",
       "      <th>Word 2</th>\n",
       "      <th>Word 3</th>\n",
       "      <th>Word 4</th>\n",
       "      <th>Word 5</th>\n",
       "      <th>Word 6</th>\n",
       "      <th>Word 7</th>\n",
       "      <th>Word 8</th>\n",
       "      <th>Word 9</th>\n",
       "      <th>Word 10</th>\n",
       "      <th>Word 11</th>\n",
       "      <th>Word 12</th>\n",
       "      <th>Word 13</th>\n",
       "      <th>Word 14</th>\n",
       "      <th>Word 15</th>\n",
       "    </tr>\n",
       "  </thead>\n",
       "  <tbody>\n",
       "    <tr>\n",
       "      <th>Topic 1</th>\n",
       "      <td>account</td>\n",
       "      <td>bank</td>\n",
       "      <td>check</td>\n",
       "      <td>chase</td>\n",
       "      <td>money</td>\n",
       "      <td>fund</td>\n",
       "      <td>deposit</td>\n",
       "      <td>branch</td>\n",
       "      <td>day</td>\n",
       "      <td>checking</td>\n",
       "      <td>number</td>\n",
       "      <td>business</td>\n",
       "      <td>transaction</td>\n",
       "      <td>transfer</td>\n",
       "      <td>customer</td>\n",
       "    </tr>\n",
       "    <tr>\n",
       "      <th>Topic 2</th>\n",
       "      <td>credit</td>\n",
       "      <td>card</td>\n",
       "      <td>report</td>\n",
       "      <td>inquiry</td>\n",
       "      <td>chase</td>\n",
       "      <td>account</td>\n",
       "      <td>score</td>\n",
       "      <td>company</td>\n",
       "      <td>limit</td>\n",
       "      <td>debt</td>\n",
       "      <td>information</td>\n",
       "      <td>year</td>\n",
       "      <td>balance</td>\n",
       "      <td>application</td>\n",
       "      <td>letter</td>\n",
       "    </tr>\n",
       "    <tr>\n",
       "      <th>Topic 3</th>\n",
       "      <td>loan</td>\n",
       "      <td>mortgage</td>\n",
       "      <td>chase</td>\n",
       "      <td>home</td>\n",
       "      <td>modification</td>\n",
       "      <td>property</td>\n",
       "      <td>year</td>\n",
       "      <td>letter</td>\n",
       "      <td>document</td>\n",
       "      <td>bank</td>\n",
       "      <td>rate</td>\n",
       "      <td>time</td>\n",
       "      <td>foreclosure</td>\n",
       "      <td>house</td>\n",
       "      <td>morgan</td>\n",
       "    </tr>\n",
       "    <tr>\n",
       "      <th>Topic 4</th>\n",
       "      <td>charge</td>\n",
       "      <td>card</td>\n",
       "      <td>chase</td>\n",
       "      <td>dispute</td>\n",
       "      <td>transaction</td>\n",
       "      <td>fee</td>\n",
       "      <td>merchant</td>\n",
       "      <td>fraud</td>\n",
       "      <td>purchase</td>\n",
       "      <td>claim</td>\n",
       "      <td>service</td>\n",
       "      <td>email</td>\n",
       "      <td>time</td>\n",
       "      <td>refund</td>\n",
       "      <td>company</td>\n",
       "    </tr>\n",
       "    <tr>\n",
       "      <th>Topic 5</th>\n",
       "      <td>payment</td>\n",
       "      <td>balance</td>\n",
       "      <td>fee</td>\n",
       "      <td>month</td>\n",
       "      <td>statement</td>\n",
       "      <td>day</td>\n",
       "      <td>time</td>\n",
       "      <td>auto</td>\n",
       "      <td>chase</td>\n",
       "      <td>date</td>\n",
       "      <td>pay</td>\n",
       "      <td>credit</td>\n",
       "      <td>year</td>\n",
       "      <td>mortgage</td>\n",
       "      <td>account</td>\n",
       "    </tr>\n",
       "  </tbody>\n",
       "</table>\n",
       "</div>"
      ],
      "text/plain": [
       "          Word 1    Word 2  Word 3   Word 4        Word 5    Word 6    Word 7  \\\n",
       "Topic 1  account      bank   check    chase         money      fund   deposit   \n",
       "Topic 2   credit      card  report  inquiry         chase   account     score   \n",
       "Topic 3     loan  mortgage   chase     home  modification  property      year   \n",
       "Topic 4   charge      card   chase  dispute   transaction       fee  merchant   \n",
       "Topic 5  payment   balance     fee    month     statement       day      time   \n",
       "\n",
       "          Word 8    Word 9   Word 10      Word 11   Word 12      Word 13  \\\n",
       "Topic 1   branch       day  checking       number  business  transaction   \n",
       "Topic 2  company     limit      debt  information      year      balance   \n",
       "Topic 3   letter  document      bank         rate      time  foreclosure   \n",
       "Topic 4    fraud  purchase     claim      service     email         time   \n",
       "Topic 5     auto     chase      date          pay    credit         year   \n",
       "\n",
       "             Word 14   Word 15  \n",
       "Topic 1     transfer  customer  \n",
       "Topic 2  application    letter  \n",
       "Topic 3        house    morgan  \n",
       "Topic 4       refund   company  \n",
       "Topic 5     mortgage   account  "
      ]
     },
     "execution_count": 87,
     "metadata": {},
     "output_type": "execute_result"
    }
   ],
   "source": [
    "words = np.array(vect.get_feature_names_out())\n",
    "topic_words = pd.DataFrame(np.zeros((N_TOPICS, N_WORDS)), index=[f'Topic {i + 1}' for i in range(N_TOPICS)],\n",
    "                           columns=[f'Word {i + 1}' for i in range(N_WORDS)]).astype(str)\n",
    "for i in range(N_TOPICS):\n",
    "    ix = H[i].argsort()[::-1][:N_WORDS]\n",
    "    topic_words.iloc[i] = words[ix]\n",
    "\n",
    "topic_words"
   ]
  },
  {
   "cell_type": "markdown",
   "metadata": {},
   "source": [
    "#### Creating the best topic for each complaint in terms of integer value 0,1,2,3 & 4\n",
    "- Credit card / Prepaid card\n",
    "- Bank account services\n",
    "- Theft/Dispute reporting\n",
    "- Mortgages/loans\n",
    "- Others "
   ]
  },
  {
   "cell_type": "code",
   "execution_count": 88,
   "metadata": {
    "id": "0OIT7LmFJrGF"
   },
   "outputs": [],
   "source": [
    "##### Create a topic mapping\n",
    "\n",
    "topic_mapping = {\n",
    "    'Topic 1': 0,\n",
    "    'Topic 2': 1,\n",
    "    'Topic 3': 2,\n",
    "    'Topic 4': 3,\n",
    "    'Topic 5': 4,\n",
    "}"
   ]
  },
  {
   "cell_type": "code",
   "execution_count": 89,
   "metadata": {},
   "outputs": [
    {
     "data": {
      "text/html": [
       "<div>\n",
       "<style scoped>\n",
       "    .dataframe tbody tr th:only-of-type {\n",
       "        vertical-align: middle;\n",
       "    }\n",
       "\n",
       "    .dataframe tbody tr th {\n",
       "        vertical-align: top;\n",
       "    }\n",
       "\n",
       "    .dataframe thead th {\n",
       "        text-align: right;\n",
       "    }\n",
       "</style>\n",
       "<table border=\"1\" class=\"dataframe\">\n",
       "  <thead>\n",
       "    <tr style=\"text-align: right;\">\n",
       "      <th></th>\n",
       "      <th>Topic 1</th>\n",
       "      <th>Topic 2</th>\n",
       "      <th>Topic 3</th>\n",
       "      <th>Topic 4</th>\n",
       "      <th>Topic 5</th>\n",
       "      <th>max_topic</th>\n",
       "    </tr>\n",
       "  </thead>\n",
       "  <tbody>\n",
       "    <tr>\n",
       "      <th>0</th>\n",
       "      <td>0.022253</td>\n",
       "      <td>0.011613</td>\n",
       "      <td>0.018709</td>\n",
       "      <td>0.005120</td>\n",
       "      <td>0.007282</td>\n",
       "      <td>0</td>\n",
       "    </tr>\n",
       "    <tr>\n",
       "      <th>1</th>\n",
       "      <td>0.008430</td>\n",
       "      <td>0.014395</td>\n",
       "      <td>0.003871</td>\n",
       "      <td>0.012650</td>\n",
       "      <td>0.002029</td>\n",
       "      <td>1</td>\n",
       "    </tr>\n",
       "    <tr>\n",
       "      <th>2</th>\n",
       "      <td>0.000000</td>\n",
       "      <td>0.065767</td>\n",
       "      <td>0.002960</td>\n",
       "      <td>0.002541</td>\n",
       "      <td>0.000000</td>\n",
       "      <td>1</td>\n",
       "    </tr>\n",
       "    <tr>\n",
       "      <th>3</th>\n",
       "      <td>0.017298</td>\n",
       "      <td>0.061300</td>\n",
       "      <td>0.016996</td>\n",
       "      <td>0.001573</td>\n",
       "      <td>0.000000</td>\n",
       "      <td>1</td>\n",
       "    </tr>\n",
       "    <tr>\n",
       "      <th>4</th>\n",
       "      <td>0.063132</td>\n",
       "      <td>0.000000</td>\n",
       "      <td>0.010181</td>\n",
       "      <td>0.007589</td>\n",
       "      <td>0.000000</td>\n",
       "      <td>0</td>\n",
       "    </tr>\n",
       "    <tr>\n",
       "      <th>5</th>\n",
       "      <td>0.000000</td>\n",
       "      <td>0.037735</td>\n",
       "      <td>0.000000</td>\n",
       "      <td>0.000000</td>\n",
       "      <td>0.000000</td>\n",
       "      <td>1</td>\n",
       "    </tr>\n",
       "    <tr>\n",
       "      <th>6</th>\n",
       "      <td>0.064602</td>\n",
       "      <td>0.002305</td>\n",
       "      <td>0.009318</td>\n",
       "      <td>0.007296</td>\n",
       "      <td>0.013939</td>\n",
       "      <td>0</td>\n",
       "    </tr>\n",
       "    <tr>\n",
       "      <th>7</th>\n",
       "      <td>0.003623</td>\n",
       "      <td>0.003028</td>\n",
       "      <td>0.046525</td>\n",
       "      <td>0.008831</td>\n",
       "      <td>0.056535</td>\n",
       "      <td>4</td>\n",
       "    </tr>\n",
       "    <tr>\n",
       "      <th>8</th>\n",
       "      <td>0.025280</td>\n",
       "      <td>0.000245</td>\n",
       "      <td>0.019380</td>\n",
       "      <td>0.064725</td>\n",
       "      <td>0.002704</td>\n",
       "      <td>3</td>\n",
       "    </tr>\n",
       "    <tr>\n",
       "      <th>9</th>\n",
       "      <td>0.000000</td>\n",
       "      <td>0.112194</td>\n",
       "      <td>0.000779</td>\n",
       "      <td>0.000338</td>\n",
       "      <td>0.000000</td>\n",
       "      <td>1</td>\n",
       "    </tr>\n",
       "  </tbody>\n",
       "</table>\n",
       "</div>"
      ],
      "text/plain": [
       "    Topic 1   Topic 2   Topic 3   Topic 4   Topic 5  max_topic\n",
       "0  0.022253  0.011613  0.018709  0.005120  0.007282          0\n",
       "1  0.008430  0.014395  0.003871  0.012650  0.002029          1\n",
       "2  0.000000  0.065767  0.002960  0.002541  0.000000          1\n",
       "3  0.017298  0.061300  0.016996  0.001573  0.000000          1\n",
       "4  0.063132  0.000000  0.010181  0.007589  0.000000          0\n",
       "5  0.000000  0.037735  0.000000  0.000000  0.000000          1\n",
       "6  0.064602  0.002305  0.009318  0.007296  0.013939          0\n",
       "7  0.003623  0.003028  0.046525  0.008831  0.056535          4\n",
       "8  0.025280  0.000245  0.019380  0.064725  0.002704          3\n",
       "9  0.000000  0.112194  0.000779  0.000338  0.000000          1"
      ]
     },
     "execution_count": 89,
     "metadata": {},
     "output_type": "execute_result"
    }
   ],
   "source": [
    "W = pd.DataFrame(W, columns=[f'Topic {i + 1}' for i in range(N_TOPICS)])\n",
    "W['max_topic'] = W.apply(lambda x: topic_mapping.get(x.idxmax()), axis=1)\n",
    "W[pd.notnull(W['max_topic'])].head(10)"
   ]
  },
  {
   "cell_type": "markdown",
   "metadata": {},
   "source": [
    "### Verifying topic labelling for the documents"
   ]
  },
  {
   "cell_type": "code",
   "execution_count": 90,
   "metadata": {},
   "outputs": [
    {
     "data": {
      "text/plain": [
       "'good morning my name is xxxx xxxx and i appreciate it if you could help me put a stop to chase bank cardmember services in  i wrote to chase asking for debt verification and what they sent me a statement which is not acceptable i am asking the bank to validate the debt instead i been receiving mail every month from them attempting to collect a debt i have a right to know this information as a consumer chase account  xxxx xxxx xxxx xxxx thanks in advance for your help'"
      ]
     },
     "execution_count": 90,
     "metadata": {},
     "output_type": "execute_result"
    }
   ],
   "source": [
    "df_clean.iloc[0]['complaint']"
   ]
  },
  {
   "cell_type": "code",
   "execution_count": 91,
   "metadata": {},
   "outputs": [
    {
     "data": {
      "text/plain": [
       "'i upgraded my xxxx xxxx card in  and was told by the agent who did the upgrade my anniversary date would not change it turned the agent was giving me the wrong information in order to upgrade the account xxxx   changed my anniversary date from xxxxxxxx to xxxxxxxx without my consent xxxx has the recording of the agent who was misled me'"
      ]
     },
     "execution_count": 91,
     "metadata": {},
     "output_type": "execute_result"
    }
   ],
   "source": [
    "df_clean.iloc[1]['complaint']"
   ]
  },
  {
   "cell_type": "code",
   "execution_count": 92,
   "metadata": {},
   "outputs": [
    {
     "data": {
      "text/plain": [
       "'during the summer months i experience a decline income due to my employment therefore i request a one month payment extension with my auto loan company chase for the past almost fours years my request for payment extension is granted i have never been delinquent with my auto loan payment however on  my request for a one month payment extension was denied this year i explained my situation to representative and the supervisor with no avail after a lengthy discussion and waiting i was informed the reason for the decline as it is not  contractual  this reason for denial baffled me and therefore i emailed the office of xxxx xxxx executive director communications jpmorgan chase  co a representative contacted me and stated chase will followup about week later a representative of xxxx xxxx xxxx xxxx office called the representative shared her role was help resolve the matter the representative via conference call contacted the department handing my request after reviewing my information my request was still denied based on  policy changes  i requested an explanation and representative stated a letter will be mailed with explanation i have received xxxx letters the reason for denial was not  policy changes  i would like cfpb help in exploring the denial of my payment extension request especially since i have been clear reason for denial'"
      ]
     },
     "execution_count": 92,
     "metadata": {},
     "output_type": "execute_result"
    }
   ],
   "source": [
    "df_clean.iloc[7]['complaint']"
   ]
  },
  {
   "cell_type": "code",
   "execution_count": 93,
   "metadata": {},
   "outputs": [
    {
     "data": {
      "text/plain": [
       "'on xxxx  i made a  payment to an online retailer using chase quick pay with xxxx on the chase website i realized that this was a scam website after no confirmation product or response to any inquiries regarding the order and contacted chase to get more information about the transaction to attempt getting a refund through the retailers bank i contacted chase via a secured message on  explaining what happened and asked  is there a way to reverse this transaction or do you have a contact at xxxx that can give me more information about the recipient  that xxxx my message was reviewed and i received a response restating my original email and informing me that  the transfer has been completed however as you mentioned that the website is a scam while we can handle most inquiries by email some require the expertise of another team in order to assist you better in regards to the refund we request you to call our consumer online technical support team  i called the number listed in the email and explained my situation to then be transferred to the claims department i was directed to call xxxx and ask them about the transaction because chase did not have any information outside of what i provided when initiating the transfer i felt like this agent was trying to get me to end the call as quickly as possible and i had to interrupt her closing script to ask for a contact number at xxxx and didnt have an opportunity to get any information about what the right questions would be to ask xxxx or what words and phrases i should use to get the information i was looking for i called xxxx whos automated system initially directed me to call my bank because i used the banks app to initiate the transaction i called xxxx again to navigate their menus and talk to a customer service agent they told me that all of the information about the transaction would in chase s system because i used the banks app to perform the transaction she stayed on the line with me until i understood everything that i should ask and had a better understanding of the situation i ended the call and called chase again when i called chase the second time the agent tried to look up the information about the receiving bank but could not find any additional information she then asked me why i needed this information and i explained my situation again i was once again transferred to the claims department who told me that i needed to contact xxxx to get the information i was looking for after i told her that i had already contacted them she finally admitted that there was nothing that she could do due to the nature of the transaction and that these types of transactions are not secured she said that chase had no information about the recipient other than the email address that i inputted and that the recipients banking information was not kept in the system in both phone calls they asked if i initiated that transaction and used that to absolve themselves of all responsibility in regards to this matter during this whole process it felt like chase was not transparent about their policies regarding these types of transactions nor were they helpful in helping me get any information about the situation these transactions are advertised as a  fast safe and easy way to send money  but seem to be a dangerous way to do business i feel deceived by chase s advertising and further victimized by the way i was treated by the members on their customer service team'"
      ]
     },
     "execution_count": 93,
     "metadata": {},
     "output_type": "execute_result"
    }
   ],
   "source": [
    "df_clean.iloc[8]['complaint']"
   ]
  },
  {
   "cell_type": "code",
   "execution_count": 94,
   "metadata": {},
   "outputs": [
    {
     "data": {
      "text/plain": [
       "'i have been trying to do a loan modification with chase and all they do is give me the runaround im  mo behind they dont let me make payments i have aens all doc in but always asking more'"
      ]
     },
     "execution_count": 94,
     "metadata": {},
     "output_type": "execute_result"
    }
   ],
   "source": [
    "df_clean.iloc[23]['complaint']"
   ]
  },
  {
   "cell_type": "markdown",
   "metadata": {
    "tags": []
   },
   "source": [
    "### Observation: The topic modelling for each complaint seem to be correct to us."
   ]
  },
  {
   "cell_type": "code",
   "execution_count": 95,
   "metadata": {
    "id": "peyYv-ORJrGF"
   },
   "outputs": [],
   "source": [
    "# Assign the best topic to each of the cmplaints in Topic Column\n",
    "\n",
    "df_clean['Topic'] = W['max_topic']"
   ]
  },
  {
   "cell_type": "code",
   "execution_count": 96,
   "metadata": {
    "id": "aQKpufSPJrGG"
   },
   "outputs": [
    {
     "data": {
      "text/html": [
       "<div>\n",
       "<style scoped>\n",
       "    .dataframe tbody tr th:only-of-type {\n",
       "        vertical-align: middle;\n",
       "    }\n",
       "\n",
       "    .dataframe tbody tr th {\n",
       "        vertical-align: top;\n",
       "    }\n",
       "\n",
       "    .dataframe thead th {\n",
       "        text-align: right;\n",
       "    }\n",
       "</style>\n",
       "<table border=\"1\" class=\"dataframe\">\n",
       "  <thead>\n",
       "    <tr style=\"text-align: right;\">\n",
       "      <th></th>\n",
       "      <th>complaint</th>\n",
       "      <th>lemmatized_complaint</th>\n",
       "      <th>nouns</th>\n",
       "      <th>Topic</th>\n",
       "    </tr>\n",
       "  </thead>\n",
       "  <tbody>\n",
       "    <tr>\n",
       "      <th>0</th>\n",
       "      <td>good morning my name is xxxx xxxx and i apprec...</td>\n",
       "      <td>good morning my name be xxxx xxxx and I apprec...</td>\n",
       "      <td>morning name stop bank cardmember service debt...</td>\n",
       "      <td>0</td>\n",
       "    </tr>\n",
       "    <tr>\n",
       "      <th>4</th>\n",
       "      <td>my grand son give me check for  i deposit it i...</td>\n",
       "      <td>my grand son give I check for   I deposit it i...</td>\n",
       "      <td>son chase account fund chase bank account mone...</td>\n",
       "      <td>0</td>\n",
       "    </tr>\n",
       "    <tr>\n",
       "      <th>6</th>\n",
       "      <td>with out notice jp morgan chase restricted my ...</td>\n",
       "      <td>with out notice jp morgan chase restrict my ac...</td>\n",
       "      <td>notice jp morgan chase account debit card tues...</td>\n",
       "      <td>0</td>\n",
       "    </tr>\n",
       "    <tr>\n",
       "      <th>10</th>\n",
       "      <td>mishandling of this account by chase auto and ...</td>\n",
       "      <td>mishandle of this account by chase auto and xxxx</td>\n",
       "      <td>mishandle account chase auto</td>\n",
       "      <td>0</td>\n",
       "    </tr>\n",
       "    <tr>\n",
       "      <th>12</th>\n",
       "      <td>i opened an account with chase bank on xxxx an...</td>\n",
       "      <td>I open an account with chase bank on xxxx and ...</td>\n",
       "      <td>account chase bank code bonus term everything ...</td>\n",
       "      <td>0</td>\n",
       "    </tr>\n",
       "    <tr>\n",
       "      <th>1</th>\n",
       "      <td>i upgraded my xxxx xxxx card in  and was told ...</td>\n",
       "      <td>I upgrade my xxxx xxxx card in   and be tell b...</td>\n",
       "      <td>card agent anniversary date agent information ...</td>\n",
       "      <td>1</td>\n",
       "    </tr>\n",
       "    <tr>\n",
       "      <th>2</th>\n",
       "      <td>chase card was reported on  however fraudulent...</td>\n",
       "      <td>chase card be report on   however fraudulent a...</td>\n",
       "      <td>chase card report application identity consent...</td>\n",
       "      <td>1</td>\n",
       "    </tr>\n",
       "    <tr>\n",
       "      <th>3</th>\n",
       "      <td>on  while trying to book a xxxx  xxxx  ticket ...</td>\n",
       "      <td>on   while try to book a xxxx   xxxx   ticket ...</td>\n",
       "      <td>ticket offer ticket reward card information of...</td>\n",
       "      <td>1</td>\n",
       "    </tr>\n",
       "    <tr>\n",
       "      <th>5</th>\n",
       "      <td>can you please remove inquiry</td>\n",
       "      <td>can you please remove inquiry</td>\n",
       "      <td>inquiry</td>\n",
       "      <td>1</td>\n",
       "    </tr>\n",
       "    <tr>\n",
       "      <th>9</th>\n",
       "      <td>i have a chase credit card which is incorrectl...</td>\n",
       "      <td>I have a chase credit card which be incorrectl...</td>\n",
       "      <td>chase credit card datum credit report company ...</td>\n",
       "      <td>1</td>\n",
       "    </tr>\n",
       "    <tr>\n",
       "      <th>47</th>\n",
       "      <td>i am xxxx military member  xxxx  with the xxxx...</td>\n",
       "      <td>I be xxxx military member   xxxx   with the xx...</td>\n",
       "      <td>member chase auto finance gap insurancewaiver ...</td>\n",
       "      <td>2</td>\n",
       "    </tr>\n",
       "    <tr>\n",
       "      <th>41</th>\n",
       "      <td>my name is xxxx xxxx i have missed a payment i...</td>\n",
       "      <td>my name be xxxx xxxx I have miss a payment in ...</td>\n",
       "      <td>name payment day past time loan modification l...</td>\n",
       "      <td>2</td>\n",
       "    </tr>\n",
       "    <tr>\n",
       "      <th>32</th>\n",
       "      <td>i bought a new xxxx xxxx on xxxxxxxx from xxxx...</td>\n",
       "      <td>I buy a new xxxx xxxx on xxxxxxxx from xxxx xx...</td>\n",
       "      <td>loan but chase financial title chase time reso...</td>\n",
       "      <td>2</td>\n",
       "    </tr>\n",
       "    <tr>\n",
       "      <th>30</th>\n",
       "      <td>i have wired through one of chase branches in ...</td>\n",
       "      <td>I have wire through one of chase branch in xxx...</td>\n",
       "      <td>wire chase branch reinstatement amount jpmorga...</td>\n",
       "      <td>2</td>\n",
       "    </tr>\n",
       "    <tr>\n",
       "      <th>23</th>\n",
       "      <td>i have been trying to do a loan modification w...</td>\n",
       "      <td>I have be try to do a loan modification with c...</td>\n",
       "      <td>loan modification chase runaround mo payment a...</td>\n",
       "      <td>2</td>\n",
       "    </tr>\n",
       "    <tr>\n",
       "      <th>13</th>\n",
       "      <td>to whom it may concern chase bank charged wron...</td>\n",
       "      <td>to whom it may concern chase bank charge wrong...</td>\n",
       "      <td>concern chase bank charge overdraft fee alert ...</td>\n",
       "      <td>3</td>\n",
       "    </tr>\n",
       "    <tr>\n",
       "      <th>16</th>\n",
       "      <td>xxxx xxxx a sofa love seat table and chairs an...</td>\n",
       "      <td>xxxx xxxx a sofa love seat table and chair and...</td>\n",
       "      <td>sofa love seat table chair debit card charge b...</td>\n",
       "      <td>3</td>\n",
       "    </tr>\n",
       "    <tr>\n",
       "      <th>14</th>\n",
       "      <td>my chase amazon card was declined for a cateri...</td>\n",
       "      <td>my chase amazon card be decline for a catering...</td>\n",
       "      <td>chase amazon card decline catering order place...</td>\n",
       "      <td>3</td>\n",
       "    </tr>\n",
       "    <tr>\n",
       "      <th>8</th>\n",
       "      <td>on xxxx  i made a  payment to an online retail...</td>\n",
       "      <td>on xxxx   I make a   payment to an online reta...</td>\n",
       "      <td>payment retailer use chase pay chase website s...</td>\n",
       "      <td>3</td>\n",
       "    </tr>\n",
       "    <tr>\n",
       "      <th>19</th>\n",
       "      <td>i made a purchase with xxxx xxxx xxxx on  in t...</td>\n",
       "      <td>I make a purchase with xxxx xxxx xxxx on   in ...</td>\n",
       "      <td>purchase amount transaction dispute case chase...</td>\n",
       "      <td>3</td>\n",
       "    </tr>\n",
       "    <tr>\n",
       "      <th>24</th>\n",
       "      <td>i made a purchase of  on xxxxxxxx i made payme...</td>\n",
       "      <td>I make a purchase of   on xxxxxxxx I make paym...</td>\n",
       "      <td>purchase payment payment closing date statemen...</td>\n",
       "      <td>4</td>\n",
       "    </tr>\n",
       "    <tr>\n",
       "      <th>57</th>\n",
       "      <td>action taken by the company between the dates ...</td>\n",
       "      <td>action take by the company between the date of...</td>\n",
       "      <td>action company date group contact chase claim ...</td>\n",
       "      <td>4</td>\n",
       "    </tr>\n",
       "    <tr>\n",
       "      <th>33</th>\n",
       "      <td>i recently called to ask chase bank why they r...</td>\n",
       "      <td>I recently call to ask chase bank why they rep...</td>\n",
       "      <td>chase bank credit bureau day payment info bill...</td>\n",
       "      <td>4</td>\n",
       "    </tr>\n",
       "    <tr>\n",
       "      <th>7</th>\n",
       "      <td>during the summer months i experience a declin...</td>\n",
       "      <td>during the summer month I experience a decline...</td>\n",
       "      <td>summer month decline income employment month p...</td>\n",
       "      <td>4</td>\n",
       "    </tr>\n",
       "    <tr>\n",
       "      <th>73</th>\n",
       "      <td>a double payment from my chase debt cart to ch...</td>\n",
       "      <td>a double payment from my chase debt cart to ch...</td>\n",
       "      <td>payment chase debt cart credit card post reque...</td>\n",
       "      <td>4</td>\n",
       "    </tr>\n",
       "  </tbody>\n",
       "</table>\n",
       "</div>"
      ],
      "text/plain": [
       "                                            complaint  \\\n",
       "0   good morning my name is xxxx xxxx and i apprec...   \n",
       "4   my grand son give me check for  i deposit it i...   \n",
       "6   with out notice jp morgan chase restricted my ...   \n",
       "10  mishandling of this account by chase auto and ...   \n",
       "12  i opened an account with chase bank on xxxx an...   \n",
       "1   i upgraded my xxxx xxxx card in  and was told ...   \n",
       "2   chase card was reported on  however fraudulent...   \n",
       "3   on  while trying to book a xxxx  xxxx  ticket ...   \n",
       "5                       can you please remove inquiry   \n",
       "9   i have a chase credit card which is incorrectl...   \n",
       "47  i am xxxx military member  xxxx  with the xxxx...   \n",
       "41  my name is xxxx xxxx i have missed a payment i...   \n",
       "32  i bought a new xxxx xxxx on xxxxxxxx from xxxx...   \n",
       "30  i have wired through one of chase branches in ...   \n",
       "23  i have been trying to do a loan modification w...   \n",
       "13  to whom it may concern chase bank charged wron...   \n",
       "16  xxxx xxxx a sofa love seat table and chairs an...   \n",
       "14  my chase amazon card was declined for a cateri...   \n",
       "8   on xxxx  i made a  payment to an online retail...   \n",
       "19  i made a purchase with xxxx xxxx xxxx on  in t...   \n",
       "24  i made a purchase of  on xxxxxxxx i made payme...   \n",
       "57  action taken by the company between the dates ...   \n",
       "33  i recently called to ask chase bank why they r...   \n",
       "7   during the summer months i experience a declin...   \n",
       "73  a double payment from my chase debt cart to ch...   \n",
       "\n",
       "                                 lemmatized_complaint  \\\n",
       "0   good morning my name be xxxx xxxx and I apprec...   \n",
       "4   my grand son give I check for   I deposit it i...   \n",
       "6   with out notice jp morgan chase restrict my ac...   \n",
       "10   mishandle of this account by chase auto and xxxx   \n",
       "12  I open an account with chase bank on xxxx and ...   \n",
       "1   I upgrade my xxxx xxxx card in   and be tell b...   \n",
       "2   chase card be report on   however fraudulent a...   \n",
       "3   on   while try to book a xxxx   xxxx   ticket ...   \n",
       "5                       can you please remove inquiry   \n",
       "9   I have a chase credit card which be incorrectl...   \n",
       "47  I be xxxx military member   xxxx   with the xx...   \n",
       "41  my name be xxxx xxxx I have miss a payment in ...   \n",
       "32  I buy a new xxxx xxxx on xxxxxxxx from xxxx xx...   \n",
       "30  I have wire through one of chase branch in xxx...   \n",
       "23  I have be try to do a loan modification with c...   \n",
       "13  to whom it may concern chase bank charge wrong...   \n",
       "16  xxxx xxxx a sofa love seat table and chair and...   \n",
       "14  my chase amazon card be decline for a catering...   \n",
       "8   on xxxx   I make a   payment to an online reta...   \n",
       "19  I make a purchase with xxxx xxxx xxxx on   in ...   \n",
       "24  I make a purchase of   on xxxxxxxx I make paym...   \n",
       "57  action take by the company between the date of...   \n",
       "33  I recently call to ask chase bank why they rep...   \n",
       "7   during the summer month I experience a decline...   \n",
       "73  a double payment from my chase debt cart to ch...   \n",
       "\n",
       "                                                nouns  Topic  \n",
       "0   morning name stop bank cardmember service debt...      0  \n",
       "4   son chase account fund chase bank account mone...      0  \n",
       "6   notice jp morgan chase account debit card tues...      0  \n",
       "10                       mishandle account chase auto      0  \n",
       "12  account chase bank code bonus term everything ...      0  \n",
       "1   card agent anniversary date agent information ...      1  \n",
       "2   chase card report application identity consent...      1  \n",
       "3   ticket offer ticket reward card information of...      1  \n",
       "5                                             inquiry      1  \n",
       "9   chase credit card datum credit report company ...      1  \n",
       "47  member chase auto finance gap insurancewaiver ...      2  \n",
       "41  name payment day past time loan modification l...      2  \n",
       "32  loan but chase financial title chase time reso...      2  \n",
       "30  wire chase branch reinstatement amount jpmorga...      2  \n",
       "23  loan modification chase runaround mo payment a...      2  \n",
       "13  concern chase bank charge overdraft fee alert ...      3  \n",
       "16  sofa love seat table chair debit card charge b...      3  \n",
       "14  chase amazon card decline catering order place...      3  \n",
       "8   payment retailer use chase pay chase website s...      3  \n",
       "19  purchase amount transaction dispute case chase...      3  \n",
       "24  purchase payment payment closing date statemen...      4  \n",
       "57  action company date group contact chase claim ...      4  \n",
       "33  chase bank credit bureau day payment info bill...      4  \n",
       "7   summer month decline income employment month p...      4  \n",
       "73  payment chase debt cart credit card post reque...      4  "
      ]
     },
     "execution_count": 96,
     "metadata": {},
     "output_type": "execute_result"
    }
   ],
   "source": [
    "#Print the first 5 Complaint for each of the Topics\n",
    "temp=df_clean.groupby('Topic').head(5)\n",
    "temp.sort_values('Topic')"
   ]
  },
  {
   "cell_type": "markdown",
   "metadata": {
    "id": "piyLxzj6v07j"
   },
   "source": [
    "#### After evaluating the mapping, if the topics assigned are correct then assign these names to the relevant topic:\n",
    "* Bank Account services\n",
    "* Credit card or prepaid card\n",
    "* Theft/Dispute Reporting\n",
    "* Mortgage/Loan\n",
    "* Others"
   ]
  },
  {
   "cell_type": "code",
   "execution_count": 97,
   "metadata": {
    "id": "TWpwDG4RJrGG"
   },
   "outputs": [],
   "source": [
    "#Create the dictionary of Topic names and Topics\n",
    "\n",
    "Topic_names = {\n",
    "    0: 'Bank account services',\n",
    "    1: 'Credit Card / Prepaid card',\n",
    "    2: 'Mortgages/loans',\n",
    "    3: 'Theft/Dispute reporting',\n",
    "    4: 'Other',\n",
    "}\n",
    "#Replace Topics with Topic Names\n",
    "df_clean['Topic'] = df_clean['Topic'].map(Topic_names)"
   ]
  },
  {
   "cell_type": "code",
   "execution_count": 98,
   "metadata": {
    "id": "-2ULY5K6JrGG"
   },
   "outputs": [
    {
     "data": {
      "text/html": [
       "<div>\n",
       "<style scoped>\n",
       "    .dataframe tbody tr th:only-of-type {\n",
       "        vertical-align: middle;\n",
       "    }\n",
       "\n",
       "    .dataframe tbody tr th {\n",
       "        vertical-align: top;\n",
       "    }\n",
       "\n",
       "    .dataframe thead th {\n",
       "        text-align: right;\n",
       "    }\n",
       "</style>\n",
       "<table border=\"1\" class=\"dataframe\">\n",
       "  <thead>\n",
       "    <tr style=\"text-align: right;\">\n",
       "      <th></th>\n",
       "      <th>complaint</th>\n",
       "      <th>lemmatized_complaint</th>\n",
       "      <th>nouns</th>\n",
       "      <th>Topic</th>\n",
       "    </tr>\n",
       "  </thead>\n",
       "  <tbody>\n",
       "    <tr>\n",
       "      <th>0</th>\n",
       "      <td>good morning my name is xxxx xxxx and i apprec...</td>\n",
       "      <td>good morning my name be xxxx xxxx and I apprec...</td>\n",
       "      <td>morning name stop bank cardmember service debt...</td>\n",
       "      <td>Bank account services</td>\n",
       "    </tr>\n",
       "    <tr>\n",
       "      <th>1</th>\n",
       "      <td>i upgraded my xxxx xxxx card in  and was told ...</td>\n",
       "      <td>I upgrade my xxxx xxxx card in   and be tell b...</td>\n",
       "      <td>card agent anniversary date agent information ...</td>\n",
       "      <td>Credit Card / Prepaid card</td>\n",
       "    </tr>\n",
       "    <tr>\n",
       "      <th>2</th>\n",
       "      <td>chase card was reported on  however fraudulent...</td>\n",
       "      <td>chase card be report on   however fraudulent a...</td>\n",
       "      <td>chase card report application identity consent...</td>\n",
       "      <td>Credit Card / Prepaid card</td>\n",
       "    </tr>\n",
       "    <tr>\n",
       "      <th>3</th>\n",
       "      <td>on  while trying to book a xxxx  xxxx  ticket ...</td>\n",
       "      <td>on   while try to book a xxxx   xxxx   ticket ...</td>\n",
       "      <td>ticket offer ticket reward card information of...</td>\n",
       "      <td>Credit Card / Prepaid card</td>\n",
       "    </tr>\n",
       "    <tr>\n",
       "      <th>4</th>\n",
       "      <td>my grand son give me check for  i deposit it i...</td>\n",
       "      <td>my grand son give I check for   I deposit it i...</td>\n",
       "      <td>son chase account fund chase bank account mone...</td>\n",
       "      <td>Bank account services</td>\n",
       "    </tr>\n",
       "    <tr>\n",
       "      <th>...</th>\n",
       "      <td>...</td>\n",
       "      <td>...</td>\n",
       "      <td>...</td>\n",
       "      <td>...</td>\n",
       "    </tr>\n",
       "    <tr>\n",
       "      <th>21067</th>\n",
       "      <td>after being a chase card customer for well ove...</td>\n",
       "      <td>after be a chase card customer for well over a...</td>\n",
       "      <td>chase card customer decade solicitation credit...</td>\n",
       "      <td>Credit Card / Prepaid card</td>\n",
       "    </tr>\n",
       "    <tr>\n",
       "      <th>21068</th>\n",
       "      <td>on wednesday xxxxxxxx i called chas my xxxx xx...</td>\n",
       "      <td>on wednesday xxxxxxxx I call chas my xxxx xxxx...</td>\n",
       "      <td>wednesday visa credit card provider claim purc...</td>\n",
       "      <td>Theft/Dispute reporting</td>\n",
       "    </tr>\n",
       "    <tr>\n",
       "      <th>21069</th>\n",
       "      <td>i am not familiar with xxxx pay and did not un...</td>\n",
       "      <td>I be not familiar with xxxx pay and do not und...</td>\n",
       "      <td>pay risk consumer chase bank app chase year ba...</td>\n",
       "      <td>Theft/Dispute reporting</td>\n",
       "    </tr>\n",
       "    <tr>\n",
       "      <th>21070</th>\n",
       "      <td>i have had flawless credit for  yrs ive had ch...</td>\n",
       "      <td>I have have flawless credit for   yrs I ve hav...</td>\n",
       "      <td>credit yrs chase credit card chase freedom pro...</td>\n",
       "      <td>Other</td>\n",
       "    </tr>\n",
       "    <tr>\n",
       "      <th>21071</th>\n",
       "      <td>roughly  years ago i closed out my accounts wi...</td>\n",
       "      <td>roughly   year ago I close out my account with...</td>\n",
       "      <td>year account jp morgan chase bank order line c...</td>\n",
       "      <td>Other</td>\n",
       "    </tr>\n",
       "  </tbody>\n",
       "</table>\n",
       "<p>21072 rows × 4 columns</p>\n",
       "</div>"
      ],
      "text/plain": [
       "                                               complaint  \\\n",
       "0      good morning my name is xxxx xxxx and i apprec...   \n",
       "1      i upgraded my xxxx xxxx card in  and was told ...   \n",
       "2      chase card was reported on  however fraudulent...   \n",
       "3      on  while trying to book a xxxx  xxxx  ticket ...   \n",
       "4      my grand son give me check for  i deposit it i...   \n",
       "...                                                  ...   \n",
       "21067  after being a chase card customer for well ove...   \n",
       "21068  on wednesday xxxxxxxx i called chas my xxxx xx...   \n",
       "21069  i am not familiar with xxxx pay and did not un...   \n",
       "21070  i have had flawless credit for  yrs ive had ch...   \n",
       "21071  roughly  years ago i closed out my accounts wi...   \n",
       "\n",
       "                                    lemmatized_complaint  \\\n",
       "0      good morning my name be xxxx xxxx and I apprec...   \n",
       "1      I upgrade my xxxx xxxx card in   and be tell b...   \n",
       "2      chase card be report on   however fraudulent a...   \n",
       "3      on   while try to book a xxxx   xxxx   ticket ...   \n",
       "4      my grand son give I check for   I deposit it i...   \n",
       "...                                                  ...   \n",
       "21067  after be a chase card customer for well over a...   \n",
       "21068  on wednesday xxxxxxxx I call chas my xxxx xxxx...   \n",
       "21069  I be not familiar with xxxx pay and do not und...   \n",
       "21070  I have have flawless credit for   yrs I ve hav...   \n",
       "21071  roughly   year ago I close out my account with...   \n",
       "\n",
       "                                                   nouns  \\\n",
       "0      morning name stop bank cardmember service debt...   \n",
       "1      card agent anniversary date agent information ...   \n",
       "2      chase card report application identity consent...   \n",
       "3      ticket offer ticket reward card information of...   \n",
       "4      son chase account fund chase bank account mone...   \n",
       "...                                                  ...   \n",
       "21067  chase card customer decade solicitation credit...   \n",
       "21068  wednesday visa credit card provider claim purc...   \n",
       "21069  pay risk consumer chase bank app chase year ba...   \n",
       "21070  credit yrs chase credit card chase freedom pro...   \n",
       "21071  year account jp morgan chase bank order line c...   \n",
       "\n",
       "                            Topic  \n",
       "0           Bank account services  \n",
       "1      Credit Card / Prepaid card  \n",
       "2      Credit Card / Prepaid card  \n",
       "3      Credit Card / Prepaid card  \n",
       "4           Bank account services  \n",
       "...                           ...  \n",
       "21067  Credit Card / Prepaid card  \n",
       "21068     Theft/Dispute reporting  \n",
       "21069     Theft/Dispute reporting  \n",
       "21070                       Other  \n",
       "21071                       Other  \n",
       "\n",
       "[21072 rows x 4 columns]"
      ]
     },
     "execution_count": 98,
     "metadata": {},
     "output_type": "execute_result"
    }
   ],
   "source": [
    "df_clean"
   ]
  },
  {
   "cell_type": "markdown",
   "metadata": {},
   "source": [
    "---"
   ]
  },
  {
   "cell_type": "markdown",
   "metadata": {
    "id": "7Mu0QBOcJrGH"
   },
   "source": [
    "## Supervised model to predict any new complaints to the relevant Topics.\n",
    "\n",
    "You have now build the model to create the topics for each complaints.Now in the below section you will use them to classify any new complaints.\n",
    "\n",
    "Since you will be using supervised learning technique we have to convert the topic names to numbers(numpy arrays only understand numbers)"
   ]
  },
  {
   "cell_type": "code",
   "execution_count": 99,
   "metadata": {
    "id": "_U8J3J8wJrGH"
   },
   "outputs": [],
   "source": [
    "#Create the dictionary again of Topic names and Topics\n",
    "\n",
    "Topic_names = {\n",
    "    'Bank account services': 0,\n",
    "    'Credit Card / Prepaid card': 1,\n",
    "    'Mortgages/loans': 2,\n",
    "    'Theft/Dispute reporting': 3,\n",
    "    'Other': 4,\n",
    "}\n",
    "\n",
    "#Replace Topic Names with topic numbers for modelling\n",
    "df_clean['Topic'] = df_clean['Topic'].map(Topic_names)"
   ]
  },
  {
   "cell_type": "code",
   "execution_count": 100,
   "metadata": {
    "id": "BWIgJUkQJrGH"
   },
   "outputs": [
    {
     "data": {
      "text/html": [
       "<div>\n",
       "<style scoped>\n",
       "    .dataframe tbody tr th:only-of-type {\n",
       "        vertical-align: middle;\n",
       "    }\n",
       "\n",
       "    .dataframe tbody tr th {\n",
       "        vertical-align: top;\n",
       "    }\n",
       "\n",
       "    .dataframe thead th {\n",
       "        text-align: right;\n",
       "    }\n",
       "</style>\n",
       "<table border=\"1\" class=\"dataframe\">\n",
       "  <thead>\n",
       "    <tr style=\"text-align: right;\">\n",
       "      <th></th>\n",
       "      <th>complaint</th>\n",
       "      <th>lemmatized_complaint</th>\n",
       "      <th>nouns</th>\n",
       "      <th>Topic</th>\n",
       "    </tr>\n",
       "  </thead>\n",
       "  <tbody>\n",
       "    <tr>\n",
       "      <th>0</th>\n",
       "      <td>good morning my name is xxxx xxxx and i apprec...</td>\n",
       "      <td>good morning my name be xxxx xxxx and I apprec...</td>\n",
       "      <td>morning name stop bank cardmember service debt...</td>\n",
       "      <td>0</td>\n",
       "    </tr>\n",
       "    <tr>\n",
       "      <th>1</th>\n",
       "      <td>i upgraded my xxxx xxxx card in  and was told ...</td>\n",
       "      <td>I upgrade my xxxx xxxx card in   and be tell b...</td>\n",
       "      <td>card agent anniversary date agent information ...</td>\n",
       "      <td>1</td>\n",
       "    </tr>\n",
       "    <tr>\n",
       "      <th>2</th>\n",
       "      <td>chase card was reported on  however fraudulent...</td>\n",
       "      <td>chase card be report on   however fraudulent a...</td>\n",
       "      <td>chase card report application identity consent...</td>\n",
       "      <td>1</td>\n",
       "    </tr>\n",
       "    <tr>\n",
       "      <th>3</th>\n",
       "      <td>on  while trying to book a xxxx  xxxx  ticket ...</td>\n",
       "      <td>on   while try to book a xxxx   xxxx   ticket ...</td>\n",
       "      <td>ticket offer ticket reward card information of...</td>\n",
       "      <td>1</td>\n",
       "    </tr>\n",
       "    <tr>\n",
       "      <th>4</th>\n",
       "      <td>my grand son give me check for  i deposit it i...</td>\n",
       "      <td>my grand son give I check for   I deposit it i...</td>\n",
       "      <td>son chase account fund chase bank account mone...</td>\n",
       "      <td>0</td>\n",
       "    </tr>\n",
       "    <tr>\n",
       "      <th>...</th>\n",
       "      <td>...</td>\n",
       "      <td>...</td>\n",
       "      <td>...</td>\n",
       "      <td>...</td>\n",
       "    </tr>\n",
       "    <tr>\n",
       "      <th>21067</th>\n",
       "      <td>after being a chase card customer for well ove...</td>\n",
       "      <td>after be a chase card customer for well over a...</td>\n",
       "      <td>chase card customer decade solicitation credit...</td>\n",
       "      <td>1</td>\n",
       "    </tr>\n",
       "    <tr>\n",
       "      <th>21068</th>\n",
       "      <td>on wednesday xxxxxxxx i called chas my xxxx xx...</td>\n",
       "      <td>on wednesday xxxxxxxx I call chas my xxxx xxxx...</td>\n",
       "      <td>wednesday visa credit card provider claim purc...</td>\n",
       "      <td>3</td>\n",
       "    </tr>\n",
       "    <tr>\n",
       "      <th>21069</th>\n",
       "      <td>i am not familiar with xxxx pay and did not un...</td>\n",
       "      <td>I be not familiar with xxxx pay and do not und...</td>\n",
       "      <td>pay risk consumer chase bank app chase year ba...</td>\n",
       "      <td>3</td>\n",
       "    </tr>\n",
       "    <tr>\n",
       "      <th>21070</th>\n",
       "      <td>i have had flawless credit for  yrs ive had ch...</td>\n",
       "      <td>I have have flawless credit for   yrs I ve hav...</td>\n",
       "      <td>credit yrs chase credit card chase freedom pro...</td>\n",
       "      <td>4</td>\n",
       "    </tr>\n",
       "    <tr>\n",
       "      <th>21071</th>\n",
       "      <td>roughly  years ago i closed out my accounts wi...</td>\n",
       "      <td>roughly   year ago I close out my account with...</td>\n",
       "      <td>year account jp morgan chase bank order line c...</td>\n",
       "      <td>4</td>\n",
       "    </tr>\n",
       "  </tbody>\n",
       "</table>\n",
       "<p>21072 rows × 4 columns</p>\n",
       "</div>"
      ],
      "text/plain": [
       "                                               complaint  \\\n",
       "0      good morning my name is xxxx xxxx and i apprec...   \n",
       "1      i upgraded my xxxx xxxx card in  and was told ...   \n",
       "2      chase card was reported on  however fraudulent...   \n",
       "3      on  while trying to book a xxxx  xxxx  ticket ...   \n",
       "4      my grand son give me check for  i deposit it i...   \n",
       "...                                                  ...   \n",
       "21067  after being a chase card customer for well ove...   \n",
       "21068  on wednesday xxxxxxxx i called chas my xxxx xx...   \n",
       "21069  i am not familiar with xxxx pay and did not un...   \n",
       "21070  i have had flawless credit for  yrs ive had ch...   \n",
       "21071  roughly  years ago i closed out my accounts wi...   \n",
       "\n",
       "                                    lemmatized_complaint  \\\n",
       "0      good morning my name be xxxx xxxx and I apprec...   \n",
       "1      I upgrade my xxxx xxxx card in   and be tell b...   \n",
       "2      chase card be report on   however fraudulent a...   \n",
       "3      on   while try to book a xxxx   xxxx   ticket ...   \n",
       "4      my grand son give I check for   I deposit it i...   \n",
       "...                                                  ...   \n",
       "21067  after be a chase card customer for well over a...   \n",
       "21068  on wednesday xxxxxxxx I call chas my xxxx xxxx...   \n",
       "21069  I be not familiar with xxxx pay and do not und...   \n",
       "21070  I have have flawless credit for   yrs I ve hav...   \n",
       "21071  roughly   year ago I close out my account with...   \n",
       "\n",
       "                                                   nouns  Topic  \n",
       "0      morning name stop bank cardmember service debt...      0  \n",
       "1      card agent anniversary date agent information ...      1  \n",
       "2      chase card report application identity consent...      1  \n",
       "3      ticket offer ticket reward card information of...      1  \n",
       "4      son chase account fund chase bank account mone...      0  \n",
       "...                                                  ...    ...  \n",
       "21067  chase card customer decade solicitation credit...      1  \n",
       "21068  wednesday visa credit card provider claim purc...      3  \n",
       "21069  pay risk consumer chase bank app chase year ba...      3  \n",
       "21070  credit yrs chase credit card chase freedom pro...      4  \n",
       "21071  year account jp morgan chase bank order line c...      4  \n",
       "\n",
       "[21072 rows x 4 columns]"
      ]
     },
     "execution_count": 100,
     "metadata": {},
     "output_type": "execute_result"
    }
   ],
   "source": [
    "df_clean"
   ]
  },
  {
   "cell_type": "code",
   "execution_count": 101,
   "metadata": {
    "id": "Xx-FrbkWJrGH"
   },
   "outputs": [
    {
     "data": {
      "text/html": [
       "<div>\n",
       "<style scoped>\n",
       "    .dataframe tbody tr th:only-of-type {\n",
       "        vertical-align: middle;\n",
       "    }\n",
       "\n",
       "    .dataframe tbody tr th {\n",
       "        vertical-align: top;\n",
       "    }\n",
       "\n",
       "    .dataframe thead th {\n",
       "        text-align: right;\n",
       "    }\n",
       "</style>\n",
       "<table border=\"1\" class=\"dataframe\">\n",
       "  <thead>\n",
       "    <tr style=\"text-align: right;\">\n",
       "      <th></th>\n",
       "      <th>complaint</th>\n",
       "      <th>Topic</th>\n",
       "    </tr>\n",
       "  </thead>\n",
       "  <tbody>\n",
       "    <tr>\n",
       "      <th>0</th>\n",
       "      <td>good morning my name is xxxx xxxx and i apprec...</td>\n",
       "      <td>0</td>\n",
       "    </tr>\n",
       "    <tr>\n",
       "      <th>1</th>\n",
       "      <td>i upgraded my xxxx xxxx card in  and was told ...</td>\n",
       "      <td>1</td>\n",
       "    </tr>\n",
       "    <tr>\n",
       "      <th>2</th>\n",
       "      <td>chase card was reported on  however fraudulent...</td>\n",
       "      <td>1</td>\n",
       "    </tr>\n",
       "    <tr>\n",
       "      <th>3</th>\n",
       "      <td>on  while trying to book a xxxx  xxxx  ticket ...</td>\n",
       "      <td>1</td>\n",
       "    </tr>\n",
       "    <tr>\n",
       "      <th>4</th>\n",
       "      <td>my grand son give me check for  i deposit it i...</td>\n",
       "      <td>0</td>\n",
       "    </tr>\n",
       "  </tbody>\n",
       "</table>\n",
       "</div>"
      ],
      "text/plain": [
       "                                           complaint  Topic\n",
       "0  good morning my name is xxxx xxxx and i apprec...      0\n",
       "1  i upgraded my xxxx xxxx card in  and was told ...      1\n",
       "2  chase card was reported on  however fraudulent...      1\n",
       "3  on  while trying to book a xxxx  xxxx  ticket ...      1\n",
       "4  my grand son give me check for  i deposit it i...      0"
      ]
     },
     "execution_count": 101,
     "metadata": {},
     "output_type": "execute_result"
    }
   ],
   "source": [
    "#Keep the columns\"complaint_what_happened\" & \"Topic\" only in the new dataframe --> training_data\n",
    "df_model = df_clean[['complaint', 'Topic']]\n",
    "df_model.head(5)"
   ]
  },
  {
   "cell_type": "markdown",
   "metadata": {},
   "source": [
    "### Splitting train test data for supervised learning"
   ]
  },
  {
   "cell_type": "code",
   "execution_count": 102,
   "metadata": {},
   "outputs": [],
   "source": [
    "from sklearn.model_selection import train_test_split\n",
    "\n",
    "train_df, test_df = train_test_split(df_model, train_size=0.8, random_state=42)"
   ]
  },
  {
   "cell_type": "code",
   "execution_count": 103,
   "metadata": {},
   "outputs": [
    {
     "data": {
      "text/html": [
       "<div>\n",
       "<style scoped>\n",
       "    .dataframe tbody tr th:only-of-type {\n",
       "        vertical-align: middle;\n",
       "    }\n",
       "\n",
       "    .dataframe tbody tr th {\n",
       "        vertical-align: top;\n",
       "    }\n",
       "\n",
       "    .dataframe thead th {\n",
       "        text-align: right;\n",
       "    }\n",
       "</style>\n",
       "<table border=\"1\" class=\"dataframe\">\n",
       "  <thead>\n",
       "    <tr style=\"text-align: right;\">\n",
       "      <th></th>\n",
       "      <th>complaint</th>\n",
       "      <th>Topic</th>\n",
       "    </tr>\n",
       "  </thead>\n",
       "  <tbody>\n",
       "    <tr>\n",
       "      <th>285</th>\n",
       "      <td>on  i made a payment via automated system with...</td>\n",
       "      <td>4</td>\n",
       "    </tr>\n",
       "    <tr>\n",
       "      <th>8049</th>\n",
       "      <td>i have applied for two travel credit cards at ...</td>\n",
       "      <td>1</td>\n",
       "    </tr>\n",
       "    <tr>\n",
       "      <th>10520</th>\n",
       "      <td>i was scammed by a company called xxxx xxxx xx...</td>\n",
       "      <td>3</td>\n",
       "    </tr>\n",
       "    <tr>\n",
       "      <th>6225</th>\n",
       "      <td>chase bank placed a  day hold on a check writt...</td>\n",
       "      <td>0</td>\n",
       "    </tr>\n",
       "    <tr>\n",
       "      <th>549</th>\n",
       "      <td>chase checking xxxx charged xxxx xxxx  without...</td>\n",
       "      <td>0</td>\n",
       "    </tr>\n",
       "  </tbody>\n",
       "</table>\n",
       "</div>"
      ],
      "text/plain": [
       "                                               complaint  Topic\n",
       "285    on  i made a payment via automated system with...      4\n",
       "8049   i have applied for two travel credit cards at ...      1\n",
       "10520  i was scammed by a company called xxxx xxxx xx...      3\n",
       "6225   chase bank placed a  day hold on a check writt...      0\n",
       "549    chase checking xxxx charged xxxx xxxx  without...      0"
      ]
     },
     "execution_count": 103,
     "metadata": {},
     "output_type": "execute_result"
    }
   ],
   "source": [
    "train_df.head()"
   ]
  },
  {
   "cell_type": "markdown",
   "metadata": {
    "id": "280Vbqk-7a8M"
   },
   "source": [
    "#### Apply the supervised models on the training data created. In this process, you have to do the following:\n",
    "* Create the vector counts using Count Vectoriser\n",
    "* Transform the word vecotr to tf-idf\n",
    "* Create the train & test data using the train_test_split on the tf-idf & topics\n"
   ]
  },
  {
   "cell_type": "code",
   "execution_count": 104,
   "metadata": {},
   "outputs": [
    {
     "data": {
      "text/html": [
       "<div>\n",
       "<style scoped>\n",
       "    .dataframe tbody tr th:only-of-type {\n",
       "        vertical-align: middle;\n",
       "    }\n",
       "\n",
       "    .dataframe tbody tr th {\n",
       "        vertical-align: top;\n",
       "    }\n",
       "\n",
       "    .dataframe thead th {\n",
       "        text-align: right;\n",
       "    }\n",
       "</style>\n",
       "<table border=\"1\" class=\"dataframe\">\n",
       "  <thead>\n",
       "    <tr style=\"text-align: right;\">\n",
       "      <th></th>\n",
       "      <th>ability</th>\n",
       "      <th>able</th>\n",
       "      <th>absolutely</th>\n",
       "      <th>accept</th>\n",
       "      <th>accepted</th>\n",
       "      <th>access</th>\n",
       "      <th>according</th>\n",
       "      <th>account</th>\n",
       "      <th>accounts</th>\n",
       "      <th>acct</th>\n",
       "      <th>...</th>\n",
       "      <th>wrong</th>\n",
       "      <th>wrote</th>\n",
       "      <th>xxxx</th>\n",
       "      <th>xxxxxxxx</th>\n",
       "      <th>xxxxxxxxxxxx</th>\n",
       "      <th>year</th>\n",
       "      <th>years</th>\n",
       "      <th>yes</th>\n",
       "      <th>yesterday</th>\n",
       "      <th>zero</th>\n",
       "    </tr>\n",
       "  </thead>\n",
       "  <tbody>\n",
       "    <tr>\n",
       "      <th>0</th>\n",
       "      <td>0.0</td>\n",
       "      <td>0.000000</td>\n",
       "      <td>0.0</td>\n",
       "      <td>0.0</td>\n",
       "      <td>0.0</td>\n",
       "      <td>0.000000</td>\n",
       "      <td>0.0</td>\n",
       "      <td>0.161740</td>\n",
       "      <td>0.000000</td>\n",
       "      <td>0.0</td>\n",
       "      <td>...</td>\n",
       "      <td>0.0</td>\n",
       "      <td>0.0</td>\n",
       "      <td>0.124252</td>\n",
       "      <td>0.00000</td>\n",
       "      <td>0.0</td>\n",
       "      <td>0.0</td>\n",
       "      <td>0.00000</td>\n",
       "      <td>0.0</td>\n",
       "      <td>0.129061</td>\n",
       "      <td>0.000000</td>\n",
       "    </tr>\n",
       "    <tr>\n",
       "      <th>1</th>\n",
       "      <td>0.0</td>\n",
       "      <td>0.060459</td>\n",
       "      <td>0.0</td>\n",
       "      <td>0.0</td>\n",
       "      <td>0.0</td>\n",
       "      <td>0.000000</td>\n",
       "      <td>0.0</td>\n",
       "      <td>0.000000</td>\n",
       "      <td>0.059193</td>\n",
       "      <td>0.0</td>\n",
       "      <td>...</td>\n",
       "      <td>0.0</td>\n",
       "      <td>0.0</td>\n",
       "      <td>0.118646</td>\n",
       "      <td>0.04218</td>\n",
       "      <td>0.0</td>\n",
       "      <td>0.0</td>\n",
       "      <td>0.05487</td>\n",
       "      <td>0.0</td>\n",
       "      <td>0.000000</td>\n",
       "      <td>0.319033</td>\n",
       "    </tr>\n",
       "    <tr>\n",
       "      <th>2</th>\n",
       "      <td>0.0</td>\n",
       "      <td>0.000000</td>\n",
       "      <td>0.0</td>\n",
       "      <td>0.0</td>\n",
       "      <td>0.0</td>\n",
       "      <td>0.000000</td>\n",
       "      <td>0.0</td>\n",
       "      <td>0.000000</td>\n",
       "      <td>0.000000</td>\n",
       "      <td>0.0</td>\n",
       "      <td>...</td>\n",
       "      <td>0.0</td>\n",
       "      <td>0.0</td>\n",
       "      <td>0.513421</td>\n",
       "      <td>0.00000</td>\n",
       "      <td>0.0</td>\n",
       "      <td>0.0</td>\n",
       "      <td>0.00000</td>\n",
       "      <td>0.0</td>\n",
       "      <td>0.000000</td>\n",
       "      <td>0.000000</td>\n",
       "    </tr>\n",
       "    <tr>\n",
       "      <th>3</th>\n",
       "      <td>0.0</td>\n",
       "      <td>0.000000</td>\n",
       "      <td>0.0</td>\n",
       "      <td>0.0</td>\n",
       "      <td>0.0</td>\n",
       "      <td>0.185922</td>\n",
       "      <td>0.0</td>\n",
       "      <td>0.077654</td>\n",
       "      <td>0.000000</td>\n",
       "      <td>0.0</td>\n",
       "      <td>...</td>\n",
       "      <td>0.0</td>\n",
       "      <td>0.0</td>\n",
       "      <td>0.000000</td>\n",
       "      <td>0.00000</td>\n",
       "      <td>0.0</td>\n",
       "      <td>0.0</td>\n",
       "      <td>0.00000</td>\n",
       "      <td>0.0</td>\n",
       "      <td>0.000000</td>\n",
       "      <td>0.000000</td>\n",
       "    </tr>\n",
       "    <tr>\n",
       "      <th>4</th>\n",
       "      <td>0.0</td>\n",
       "      <td>0.000000</td>\n",
       "      <td>0.0</td>\n",
       "      <td>0.0</td>\n",
       "      <td>0.0</td>\n",
       "      <td>0.000000</td>\n",
       "      <td>0.0</td>\n",
       "      <td>0.017560</td>\n",
       "      <td>0.000000</td>\n",
       "      <td>0.0</td>\n",
       "      <td>...</td>\n",
       "      <td>0.0</td>\n",
       "      <td>0.0</td>\n",
       "      <td>0.337252</td>\n",
       "      <td>0.00000</td>\n",
       "      <td>0.0</td>\n",
       "      <td>0.0</td>\n",
       "      <td>0.00000</td>\n",
       "      <td>0.0</td>\n",
       "      <td>0.000000</td>\n",
       "      <td>0.000000</td>\n",
       "    </tr>\n",
       "  </tbody>\n",
       "</table>\n",
       "<p>5 rows × 1200 columns</p>\n",
       "</div>"
      ],
      "text/plain": [
       "   ability      able  absolutely  accept  accepted    access  according  \\\n",
       "0      0.0  0.000000         0.0     0.0       0.0  0.000000        0.0   \n",
       "1      0.0  0.060459         0.0     0.0       0.0  0.000000        0.0   \n",
       "2      0.0  0.000000         0.0     0.0       0.0  0.000000        0.0   \n",
       "3      0.0  0.000000         0.0     0.0       0.0  0.185922        0.0   \n",
       "4      0.0  0.000000         0.0     0.0       0.0  0.000000        0.0   \n",
       "\n",
       "    account  accounts  acct  ...  wrong  wrote      xxxx  xxxxxxxx  \\\n",
       "0  0.161740  0.000000   0.0  ...    0.0    0.0  0.124252   0.00000   \n",
       "1  0.000000  0.059193   0.0  ...    0.0    0.0  0.118646   0.04218   \n",
       "2  0.000000  0.000000   0.0  ...    0.0    0.0  0.513421   0.00000   \n",
       "3  0.077654  0.000000   0.0  ...    0.0    0.0  0.000000   0.00000   \n",
       "4  0.017560  0.000000   0.0  ...    0.0    0.0  0.337252   0.00000   \n",
       "\n",
       "   xxxxxxxxxxxx  year    years  yes  yesterday      zero  \n",
       "0           0.0   0.0  0.00000  0.0   0.129061  0.000000  \n",
       "1           0.0   0.0  0.05487  0.0   0.000000  0.319033  \n",
       "2           0.0   0.0  0.00000  0.0   0.000000  0.000000  \n",
       "3           0.0   0.0  0.00000  0.0   0.000000  0.000000  \n",
       "4           0.0   0.0  0.00000  0.0   0.000000  0.000000  \n",
       "\n",
       "[5 rows x 1200 columns]"
      ]
     },
     "execution_count": 104,
     "metadata": {},
     "output_type": "execute_result"
    }
   ],
   "source": [
    "vect = TfidfVectorizer(stop_words='english', max_df=0.95, min_df=0.01)\n",
    "X_train = vect.fit_transform(train_df['complaint'])\n",
    "\n",
    "X_train = pd.DataFrame(X_train.toarray(), columns=vect.get_feature_names_out())\n",
    "# train_dtm_df = dtm_train.copy()\n",
    "y_train = train_df['Topic']\n",
    "X_train.head()"
   ]
  },
  {
   "cell_type": "code",
   "execution_count": 105,
   "metadata": {
    "id": "lVg2pa12JrGI"
   },
   "outputs": [
    {
     "data": {
      "text/html": [
       "<div>\n",
       "<style scoped>\n",
       "    .dataframe tbody tr th:only-of-type {\n",
       "        vertical-align: middle;\n",
       "    }\n",
       "\n",
       "    .dataframe tbody tr th {\n",
       "        vertical-align: top;\n",
       "    }\n",
       "\n",
       "    .dataframe thead th {\n",
       "        text-align: right;\n",
       "    }\n",
       "</style>\n",
       "<table border=\"1\" class=\"dataframe\">\n",
       "  <thead>\n",
       "    <tr style=\"text-align: right;\">\n",
       "      <th></th>\n",
       "      <th>ability</th>\n",
       "      <th>able</th>\n",
       "      <th>absolutely</th>\n",
       "      <th>accept</th>\n",
       "      <th>accepted</th>\n",
       "      <th>access</th>\n",
       "      <th>according</th>\n",
       "      <th>account</th>\n",
       "      <th>accounts</th>\n",
       "      <th>acct</th>\n",
       "      <th>...</th>\n",
       "      <th>wrong</th>\n",
       "      <th>wrote</th>\n",
       "      <th>xxxx</th>\n",
       "      <th>xxxxxxxx</th>\n",
       "      <th>xxxxxxxxxxxx</th>\n",
       "      <th>year</th>\n",
       "      <th>years</th>\n",
       "      <th>yes</th>\n",
       "      <th>yesterday</th>\n",
       "      <th>zero</th>\n",
       "    </tr>\n",
       "  </thead>\n",
       "  <tbody>\n",
       "    <tr>\n",
       "      <th>0</th>\n",
       "      <td>0.0</td>\n",
       "      <td>0.0</td>\n",
       "      <td>0.0</td>\n",
       "      <td>0.0</td>\n",
       "      <td>0.0</td>\n",
       "      <td>0.0</td>\n",
       "      <td>0.000000</td>\n",
       "      <td>0.000000</td>\n",
       "      <td>0.0</td>\n",
       "      <td>0.0</td>\n",
       "      <td>...</td>\n",
       "      <td>0.0</td>\n",
       "      <td>0.114892</td>\n",
       "      <td>0.273525</td>\n",
       "      <td>0.0</td>\n",
       "      <td>0.0</td>\n",
       "      <td>0.000000</td>\n",
       "      <td>0.000000</td>\n",
       "      <td>0.0</td>\n",
       "      <td>0.0</td>\n",
       "      <td>0.0</td>\n",
       "    </tr>\n",
       "    <tr>\n",
       "      <th>1</th>\n",
       "      <td>0.0</td>\n",
       "      <td>0.0</td>\n",
       "      <td>0.0</td>\n",
       "      <td>0.0</td>\n",
       "      <td>0.0</td>\n",
       "      <td>0.0</td>\n",
       "      <td>0.111743</td>\n",
       "      <td>0.041325</td>\n",
       "      <td>0.0</td>\n",
       "      <td>0.0</td>\n",
       "      <td>...</td>\n",
       "      <td>0.0</td>\n",
       "      <td>0.000000</td>\n",
       "      <td>0.253974</td>\n",
       "      <td>0.0</td>\n",
       "      <td>0.0</td>\n",
       "      <td>0.000000</td>\n",
       "      <td>0.000000</td>\n",
       "      <td>0.0</td>\n",
       "      <td>0.0</td>\n",
       "      <td>0.0</td>\n",
       "    </tr>\n",
       "    <tr>\n",
       "      <th>2</th>\n",
       "      <td>0.0</td>\n",
       "      <td>0.0</td>\n",
       "      <td>0.0</td>\n",
       "      <td>0.0</td>\n",
       "      <td>0.0</td>\n",
       "      <td>0.0</td>\n",
       "      <td>0.000000</td>\n",
       "      <td>0.000000</td>\n",
       "      <td>0.0</td>\n",
       "      <td>0.0</td>\n",
       "      <td>...</td>\n",
       "      <td>0.0</td>\n",
       "      <td>0.000000</td>\n",
       "      <td>0.321770</td>\n",
       "      <td>0.0</td>\n",
       "      <td>0.0</td>\n",
       "      <td>0.145907</td>\n",
       "      <td>0.124009</td>\n",
       "      <td>0.0</td>\n",
       "      <td>0.0</td>\n",
       "      <td>0.0</td>\n",
       "    </tr>\n",
       "    <tr>\n",
       "      <th>3</th>\n",
       "      <td>0.0</td>\n",
       "      <td>0.0</td>\n",
       "      <td>0.0</td>\n",
       "      <td>0.0</td>\n",
       "      <td>0.0</td>\n",
       "      <td>0.0</td>\n",
       "      <td>0.000000</td>\n",
       "      <td>0.061297</td>\n",
       "      <td>0.0</td>\n",
       "      <td>0.0</td>\n",
       "      <td>...</td>\n",
       "      <td>0.0</td>\n",
       "      <td>0.000000</td>\n",
       "      <td>0.000000</td>\n",
       "      <td>0.0</td>\n",
       "      <td>0.0</td>\n",
       "      <td>0.256235</td>\n",
       "      <td>0.000000</td>\n",
       "      <td>0.0</td>\n",
       "      <td>0.0</td>\n",
       "      <td>0.0</td>\n",
       "    </tr>\n",
       "    <tr>\n",
       "      <th>4</th>\n",
       "      <td>0.0</td>\n",
       "      <td>0.0</td>\n",
       "      <td>0.0</td>\n",
       "      <td>0.0</td>\n",
       "      <td>0.0</td>\n",
       "      <td>0.0</td>\n",
       "      <td>0.000000</td>\n",
       "      <td>0.060204</td>\n",
       "      <td>0.0</td>\n",
       "      <td>0.0</td>\n",
       "      <td>...</td>\n",
       "      <td>0.0</td>\n",
       "      <td>0.000000</td>\n",
       "      <td>0.277498</td>\n",
       "      <td>0.0</td>\n",
       "      <td>0.0</td>\n",
       "      <td>0.000000</td>\n",
       "      <td>0.000000</td>\n",
       "      <td>0.0</td>\n",
       "      <td>0.0</td>\n",
       "      <td>0.0</td>\n",
       "    </tr>\n",
       "  </tbody>\n",
       "</table>\n",
       "<p>5 rows × 1200 columns</p>\n",
       "</div>"
      ],
      "text/plain": [
       "   ability  able  absolutely  accept  accepted  access  according   account  \\\n",
       "0      0.0   0.0         0.0     0.0       0.0     0.0   0.000000  0.000000   \n",
       "1      0.0   0.0         0.0     0.0       0.0     0.0   0.111743  0.041325   \n",
       "2      0.0   0.0         0.0     0.0       0.0     0.0   0.000000  0.000000   \n",
       "3      0.0   0.0         0.0     0.0       0.0     0.0   0.000000  0.061297   \n",
       "4      0.0   0.0         0.0     0.0       0.0     0.0   0.000000  0.060204   \n",
       "\n",
       "   accounts  acct  ...  wrong     wrote      xxxx  xxxxxxxx  xxxxxxxxxxxx  \\\n",
       "0       0.0   0.0  ...    0.0  0.114892  0.273525       0.0           0.0   \n",
       "1       0.0   0.0  ...    0.0  0.000000  0.253974       0.0           0.0   \n",
       "2       0.0   0.0  ...    0.0  0.000000  0.321770       0.0           0.0   \n",
       "3       0.0   0.0  ...    0.0  0.000000  0.000000       0.0           0.0   \n",
       "4       0.0   0.0  ...    0.0  0.000000  0.277498       0.0           0.0   \n",
       "\n",
       "       year     years  yes  yesterday  zero  \n",
       "0  0.000000  0.000000  0.0        0.0   0.0  \n",
       "1  0.000000  0.000000  0.0        0.0   0.0  \n",
       "2  0.145907  0.124009  0.0        0.0   0.0  \n",
       "3  0.256235  0.000000  0.0        0.0   0.0  \n",
       "4  0.000000  0.000000  0.0        0.0   0.0  \n",
       "\n",
       "[5 rows x 1200 columns]"
      ]
     },
     "execution_count": 105,
     "metadata": {},
     "output_type": "execute_result"
    }
   ],
   "source": [
    "X_test = vect.transform(test_df['complaint'])\n",
    "\n",
    "X_test = pd.DataFrame(X_test.toarray(), columns=vect.get_feature_names_out())\n",
    "# train_dtm_df = dtm_train.copy()\n",
    "y_test = test_df['Topic']\n",
    "X_test.head()"
   ]
  },
  {
   "cell_type": "markdown",
   "metadata": {
    "id": "uMU3vj6w-wqL"
   },
   "source": [
    "You have to try atleast 3 models on the train & test data from these options:\n",
    "* Logistic regression\n",
    "* Decision Tree\n",
    "* Random Forest\n",
    "* Naive Bayes (optional)\n",
    "\n",
    "**Using the required evaluation metrics judge the tried models and select the ones performing the best**"
   ]
  },
  {
   "cell_type": "markdown",
   "metadata": {},
   "source": [
    "---"
   ]
  },
  {
   "cell_type": "markdown",
   "metadata": {
    "id": "N2OznsObJrGP"
   },
   "source": [
    "## Logistic Regression"
   ]
  },
  {
   "cell_type": "code",
   "execution_count": 106,
   "metadata": {},
   "outputs": [],
   "source": [
    "from sklearn.linear_model import LogisticRegression"
   ]
  },
  {
   "cell_type": "code",
   "execution_count": 107,
   "metadata": {},
   "outputs": [],
   "source": [
    "clf = LogisticRegression(max_iter=1000, random_state=42).fit(X_train, y_train)"
   ]
  },
  {
   "cell_type": "code",
   "execution_count": 108,
   "metadata": {},
   "outputs": [],
   "source": [
    "y_train_pred = clf.predict(X_train)"
   ]
  },
  {
   "cell_type": "code",
   "execution_count": 109,
   "metadata": {},
   "outputs": [],
   "source": [
    "from sklearn.metrics import classification_report, accuracy_score"
   ]
  },
  {
   "cell_type": "code",
   "execution_count": 110,
   "metadata": {},
   "outputs": [
    {
     "name": "stdout",
     "output_type": "stream",
     "text": [
      "              precision    recall  f1-score   support\n",
      "\n",
      "           0       0.97      0.97      0.97      4158\n",
      "           1       0.97      0.97      0.97      3980\n",
      "           2       0.98      0.98      0.98      3009\n",
      "           3       0.95      0.95      0.95      3931\n",
      "           4       0.98      0.94      0.96      1779\n",
      "\n",
      "    accuracy                           0.97     16857\n",
      "   macro avg       0.97      0.96      0.97     16857\n",
      "weighted avg       0.97      0.97      0.97     16857\n",
      "\n"
     ]
    }
   ],
   "source": [
    "print(classification_report(y_train, y_train_pred))"
   ]
  },
  {
   "cell_type": "code",
   "execution_count": 111,
   "metadata": {},
   "outputs": [],
   "source": [
    "y_test_pred = clf.predict(X_test)"
   ]
  },
  {
   "cell_type": "code",
   "execution_count": 112,
   "metadata": {},
   "outputs": [
    {
     "name": "stdout",
     "output_type": "stream",
     "text": [
      "              precision    recall  f1-score   support\n",
      "\n",
      "           0       0.95      0.95      0.95      1062\n",
      "           1       0.93      0.94      0.94      1060\n",
      "           2       0.94      0.95      0.95       685\n",
      "           3       0.91      0.91      0.91       966\n",
      "           4       0.96      0.90      0.93       442\n",
      "\n",
      "    accuracy                           0.94      4215\n",
      "   macro avg       0.94      0.93      0.94      4215\n",
      "weighted avg       0.94      0.94      0.94      4215\n",
      "\n"
     ]
    }
   ],
   "source": [
    "print(classification_report(y_test, y_test_pred))"
   ]
  },
  {
   "cell_type": "code",
   "execution_count": 113,
   "metadata": {},
   "outputs": [
    {
     "data": {
      "text/plain": [
       "0.9352313167259787"
      ]
     },
     "execution_count": 113,
     "metadata": {},
     "output_type": "execute_result"
    }
   ],
   "source": [
    "accuracy_score(y_test, y_test_pred)"
   ]
  },
  {
   "cell_type": "markdown",
   "metadata": {},
   "source": [
    "### Observation: Logistic regression model gives 94% accuracy which is very good."
   ]
  },
  {
   "cell_type": "markdown",
   "metadata": {},
   "source": [
    "---"
   ]
  },
  {
   "cell_type": "markdown",
   "metadata": {},
   "source": [
    "## Decision Tree With HyperParamter Tuning"
   ]
  },
  {
   "cell_type": "code",
   "execution_count": 114,
   "metadata": {},
   "outputs": [],
   "source": [
    "from sklearn.tree import DecisionTreeClassifier\n",
    "from sklearn.model_selection import GridSearchCV"
   ]
  },
  {
   "cell_type": "code",
   "execution_count": 115,
   "metadata": {},
   "outputs": [],
   "source": [
    "# Create the parameter grid based on the results of random search \n",
    "params = {\n",
    "    'max_depth': [2, 3, 5, 8, 10, 15],\n",
    "    'min_samples_leaf': [5, 10, 20, 50, 100],\n",
    "    'criterion': [\"gini\"]\n",
    "}"
   ]
  },
  {
   "cell_type": "code",
   "execution_count": 116,
   "metadata": {},
   "outputs": [],
   "source": [
    "dt = DecisionTreeClassifier(random_state=42)"
   ]
  },
  {
   "cell_type": "code",
   "execution_count": 117,
   "metadata": {},
   "outputs": [],
   "source": [
    "# Instantiate the grid search model\n",
    "grid_search = GridSearchCV(estimator=dt, \n",
    "                           param_grid=params, \n",
    "                           cv=5, n_jobs=-1, verbose=1, scoring = \"accuracy\")"
   ]
  },
  {
   "cell_type": "code",
   "execution_count": 118,
   "metadata": {},
   "outputs": [
    {
     "name": "stdout",
     "output_type": "stream",
     "text": [
      "Fitting 5 folds for each of 30 candidates, totalling 150 fits\n",
      "CPU times: user 3.77 s, sys: 326 ms, total: 4.09 s\n",
      "Wall time: 1min 19s\n"
     ]
    },
    {
     "data": {
      "text/plain": [
       "GridSearchCV(cv=5, estimator=DecisionTreeClassifier(random_state=42), n_jobs=-1,\n",
       "             param_grid={'criterion': ['gini'],\n",
       "                         'max_depth': [2, 3, 5, 8, 10, 15],\n",
       "                         'min_samples_leaf': [5, 10, 20, 50, 100]},\n",
       "             scoring='accuracy', verbose=1)"
      ]
     },
     "execution_count": 118,
     "metadata": {},
     "output_type": "execute_result"
    }
   ],
   "source": [
    "%%time\n",
    "grid_search.fit(X_train, y_train)"
   ]
  },
  {
   "cell_type": "code",
   "execution_count": 119,
   "metadata": {},
   "outputs": [
    {
     "data": {
      "text/html": [
       "<div>\n",
       "<style scoped>\n",
       "    .dataframe tbody tr th:only-of-type {\n",
       "        vertical-align: middle;\n",
       "    }\n",
       "\n",
       "    .dataframe tbody tr th {\n",
       "        vertical-align: top;\n",
       "    }\n",
       "\n",
       "    .dataframe thead th {\n",
       "        text-align: right;\n",
       "    }\n",
       "</style>\n",
       "<table border=\"1\" class=\"dataframe\">\n",
       "  <thead>\n",
       "    <tr style=\"text-align: right;\">\n",
       "      <th></th>\n",
       "      <th>mean_fit_time</th>\n",
       "      <th>std_fit_time</th>\n",
       "      <th>mean_score_time</th>\n",
       "      <th>std_score_time</th>\n",
       "      <th>param_criterion</th>\n",
       "      <th>param_max_depth</th>\n",
       "      <th>param_min_samples_leaf</th>\n",
       "      <th>params</th>\n",
       "      <th>split0_test_score</th>\n",
       "      <th>split1_test_score</th>\n",
       "      <th>split2_test_score</th>\n",
       "      <th>split3_test_score</th>\n",
       "      <th>split4_test_score</th>\n",
       "      <th>mean_test_score</th>\n",
       "      <th>std_test_score</th>\n",
       "      <th>rank_test_score</th>\n",
       "    </tr>\n",
       "  </thead>\n",
       "  <tbody>\n",
       "    <tr>\n",
       "      <th>0</th>\n",
       "      <td>1.527666</td>\n",
       "      <td>0.225943</td>\n",
       "      <td>0.048230</td>\n",
       "      <td>0.006427</td>\n",
       "      <td>gini</td>\n",
       "      <td>2</td>\n",
       "      <td>5</td>\n",
       "      <td>{'criterion': 'gini', 'max_depth': 2, 'min_sam...</td>\n",
       "      <td>0.527284</td>\n",
       "      <td>0.517497</td>\n",
       "      <td>0.523287</td>\n",
       "      <td>0.52477</td>\n",
       "      <td>0.525067</td>\n",
       "      <td>0.523581</td>\n",
       "      <td>0.003299</td>\n",
       "      <td>26</td>\n",
       "    </tr>\n",
       "    <tr>\n",
       "      <th>1</th>\n",
       "      <td>1.553292</td>\n",
       "      <td>0.119302</td>\n",
       "      <td>0.047259</td>\n",
       "      <td>0.005026</td>\n",
       "      <td>gini</td>\n",
       "      <td>2</td>\n",
       "      <td>10</td>\n",
       "      <td>{'criterion': 'gini', 'max_depth': 2, 'min_sam...</td>\n",
       "      <td>0.527284</td>\n",
       "      <td>0.517497</td>\n",
       "      <td>0.523287</td>\n",
       "      <td>0.52477</td>\n",
       "      <td>0.525067</td>\n",
       "      <td>0.523581</td>\n",
       "      <td>0.003299</td>\n",
       "      <td>26</td>\n",
       "    </tr>\n",
       "    <tr>\n",
       "      <th>2</th>\n",
       "      <td>1.520521</td>\n",
       "      <td>0.135524</td>\n",
       "      <td>0.080588</td>\n",
       "      <td>0.029128</td>\n",
       "      <td>gini</td>\n",
       "      <td>2</td>\n",
       "      <td>20</td>\n",
       "      <td>{'criterion': 'gini', 'max_depth': 2, 'min_sam...</td>\n",
       "      <td>0.527284</td>\n",
       "      <td>0.517497</td>\n",
       "      <td>0.523287</td>\n",
       "      <td>0.52477</td>\n",
       "      <td>0.525067</td>\n",
       "      <td>0.523581</td>\n",
       "      <td>0.003299</td>\n",
       "      <td>26</td>\n",
       "    </tr>\n",
       "    <tr>\n",
       "      <th>3</th>\n",
       "      <td>1.575769</td>\n",
       "      <td>0.162002</td>\n",
       "      <td>0.043127</td>\n",
       "      <td>0.003358</td>\n",
       "      <td>gini</td>\n",
       "      <td>2</td>\n",
       "      <td>50</td>\n",
       "      <td>{'criterion': 'gini', 'max_depth': 2, 'min_sam...</td>\n",
       "      <td>0.527284</td>\n",
       "      <td>0.517497</td>\n",
       "      <td>0.523287</td>\n",
       "      <td>0.52477</td>\n",
       "      <td>0.525067</td>\n",
       "      <td>0.523581</td>\n",
       "      <td>0.003299</td>\n",
       "      <td>26</td>\n",
       "    </tr>\n",
       "    <tr>\n",
       "      <th>4</th>\n",
       "      <td>1.672860</td>\n",
       "      <td>0.181250</td>\n",
       "      <td>0.056217</td>\n",
       "      <td>0.016928</td>\n",
       "      <td>gini</td>\n",
       "      <td>2</td>\n",
       "      <td>100</td>\n",
       "      <td>{'criterion': 'gini', 'max_depth': 2, 'min_sam...</td>\n",
       "      <td>0.527284</td>\n",
       "      <td>0.517497</td>\n",
       "      <td>0.523287</td>\n",
       "      <td>0.52477</td>\n",
       "      <td>0.525067</td>\n",
       "      <td>0.523581</td>\n",
       "      <td>0.003299</td>\n",
       "      <td>26</td>\n",
       "    </tr>\n",
       "  </tbody>\n",
       "</table>\n",
       "</div>"
      ],
      "text/plain": [
       "   mean_fit_time  std_fit_time  mean_score_time  std_score_time  \\\n",
       "0       1.527666      0.225943         0.048230        0.006427   \n",
       "1       1.553292      0.119302         0.047259        0.005026   \n",
       "2       1.520521      0.135524         0.080588        0.029128   \n",
       "3       1.575769      0.162002         0.043127        0.003358   \n",
       "4       1.672860      0.181250         0.056217        0.016928   \n",
       "\n",
       "  param_criterion param_max_depth param_min_samples_leaf  \\\n",
       "0            gini               2                      5   \n",
       "1            gini               2                     10   \n",
       "2            gini               2                     20   \n",
       "3            gini               2                     50   \n",
       "4            gini               2                    100   \n",
       "\n",
       "                                              params  split0_test_score  \\\n",
       "0  {'criterion': 'gini', 'max_depth': 2, 'min_sam...           0.527284   \n",
       "1  {'criterion': 'gini', 'max_depth': 2, 'min_sam...           0.527284   \n",
       "2  {'criterion': 'gini', 'max_depth': 2, 'min_sam...           0.527284   \n",
       "3  {'criterion': 'gini', 'max_depth': 2, 'min_sam...           0.527284   \n",
       "4  {'criterion': 'gini', 'max_depth': 2, 'min_sam...           0.527284   \n",
       "\n",
       "   split1_test_score  split2_test_score  split3_test_score  split4_test_score  \\\n",
       "0           0.517497           0.523287            0.52477           0.525067   \n",
       "1           0.517497           0.523287            0.52477           0.525067   \n",
       "2           0.517497           0.523287            0.52477           0.525067   \n",
       "3           0.517497           0.523287            0.52477           0.525067   \n",
       "4           0.517497           0.523287            0.52477           0.525067   \n",
       "\n",
       "   mean_test_score  std_test_score  rank_test_score  \n",
       "0         0.523581        0.003299               26  \n",
       "1         0.523581        0.003299               26  \n",
       "2         0.523581        0.003299               26  \n",
       "3         0.523581        0.003299               26  \n",
       "4         0.523581        0.003299               26  "
      ]
     },
     "execution_count": 119,
     "metadata": {},
     "output_type": "execute_result"
    }
   ],
   "source": [
    "score_df = pd.DataFrame(grid_search.cv_results_)\n",
    "score_df.head()"
   ]
  },
  {
   "cell_type": "code",
   "execution_count": 120,
   "metadata": {},
   "outputs": [
    {
     "data": {
      "text/html": [
       "<div>\n",
       "<style scoped>\n",
       "    .dataframe tbody tr th:only-of-type {\n",
       "        vertical-align: middle;\n",
       "    }\n",
       "\n",
       "    .dataframe tbody tr th {\n",
       "        vertical-align: top;\n",
       "    }\n",
       "\n",
       "    .dataframe thead th {\n",
       "        text-align: right;\n",
       "    }\n",
       "</style>\n",
       "<table border=\"1\" class=\"dataframe\">\n",
       "  <thead>\n",
       "    <tr style=\"text-align: right;\">\n",
       "      <th></th>\n",
       "      <th>mean_fit_time</th>\n",
       "      <th>std_fit_time</th>\n",
       "      <th>mean_score_time</th>\n",
       "      <th>std_score_time</th>\n",
       "      <th>param_criterion</th>\n",
       "      <th>param_max_depth</th>\n",
       "      <th>param_min_samples_leaf</th>\n",
       "      <th>params</th>\n",
       "      <th>split0_test_score</th>\n",
       "      <th>split1_test_score</th>\n",
       "      <th>split2_test_score</th>\n",
       "      <th>split3_test_score</th>\n",
       "      <th>split4_test_score</th>\n",
       "      <th>mean_test_score</th>\n",
       "      <th>std_test_score</th>\n",
       "      <th>rank_test_score</th>\n",
       "    </tr>\n",
       "  </thead>\n",
       "  <tbody>\n",
       "    <tr>\n",
       "      <th>26</th>\n",
       "      <td>6.729805</td>\n",
       "      <td>0.463639</td>\n",
       "      <td>0.045435</td>\n",
       "      <td>0.011701</td>\n",
       "      <td>gini</td>\n",
       "      <td>15</td>\n",
       "      <td>10</td>\n",
       "      <td>{'criterion': 'gini', 'max_depth': 15, 'min_sa...</td>\n",
       "      <td>0.796560</td>\n",
       "      <td>0.803381</td>\n",
       "      <td>0.797093</td>\n",
       "      <td>0.779887</td>\n",
       "      <td>0.792050</td>\n",
       "      <td>0.793794</td>\n",
       "      <td>0.007834</td>\n",
       "      <td>1</td>\n",
       "    </tr>\n",
       "    <tr>\n",
       "      <th>25</th>\n",
       "      <td>6.885064</td>\n",
       "      <td>0.570988</td>\n",
       "      <td>0.044112</td>\n",
       "      <td>0.015818</td>\n",
       "      <td>gini</td>\n",
       "      <td>15</td>\n",
       "      <td>5</td>\n",
       "      <td>{'criterion': 'gini', 'max_depth': 15, 'min_sa...</td>\n",
       "      <td>0.795374</td>\n",
       "      <td>0.794781</td>\n",
       "      <td>0.794126</td>\n",
       "      <td>0.791160</td>\n",
       "      <td>0.784337</td>\n",
       "      <td>0.791955</td>\n",
       "      <td>0.004076</td>\n",
       "      <td>2</td>\n",
       "    </tr>\n",
       "    <tr>\n",
       "      <th>27</th>\n",
       "      <td>6.324167</td>\n",
       "      <td>0.430887</td>\n",
       "      <td>0.046122</td>\n",
       "      <td>0.009241</td>\n",
       "      <td>gini</td>\n",
       "      <td>15</td>\n",
       "      <td>20</td>\n",
       "      <td>{'criterion': 'gini', 'max_depth': 15, 'min_sa...</td>\n",
       "      <td>0.793891</td>\n",
       "      <td>0.797153</td>\n",
       "      <td>0.794423</td>\n",
       "      <td>0.782854</td>\n",
       "      <td>0.789380</td>\n",
       "      <td>0.791540</td>\n",
       "      <td>0.005009</td>\n",
       "      <td>3</td>\n",
       "    </tr>\n",
       "    <tr>\n",
       "      <th>28</th>\n",
       "      <td>5.918118</td>\n",
       "      <td>0.106211</td>\n",
       "      <td>0.039279</td>\n",
       "      <td>0.009802</td>\n",
       "      <td>gini</td>\n",
       "      <td>15</td>\n",
       "      <td>50</td>\n",
       "      <td>{'criterion': 'gini', 'max_depth': 15, 'min_sa...</td>\n",
       "      <td>0.776987</td>\n",
       "      <td>0.779953</td>\n",
       "      <td>0.778701</td>\n",
       "      <td>0.771878</td>\n",
       "      <td>0.774548</td>\n",
       "      <td>0.776413</td>\n",
       "      <td>0.002903</td>\n",
       "      <td>4</td>\n",
       "    </tr>\n",
       "    <tr>\n",
       "      <th>21</th>\n",
       "      <td>5.798623</td>\n",
       "      <td>0.414234</td>\n",
       "      <td>0.049239</td>\n",
       "      <td>0.013945</td>\n",
       "      <td>gini</td>\n",
       "      <td>10</td>\n",
       "      <td>10</td>\n",
       "      <td>{'criterion': 'gini', 'max_depth': 10, 'min_sa...</td>\n",
       "      <td>0.787070</td>\n",
       "      <td>0.773725</td>\n",
       "      <td>0.775438</td>\n",
       "      <td>0.761792</td>\n",
       "      <td>0.771878</td>\n",
       "      <td>0.773980</td>\n",
       "      <td>0.008081</td>\n",
       "      <td>5</td>\n",
       "    </tr>\n",
       "  </tbody>\n",
       "</table>\n",
       "</div>"
      ],
      "text/plain": [
       "    mean_fit_time  std_fit_time  mean_score_time  std_score_time  \\\n",
       "26       6.729805      0.463639         0.045435        0.011701   \n",
       "25       6.885064      0.570988         0.044112        0.015818   \n",
       "27       6.324167      0.430887         0.046122        0.009241   \n",
       "28       5.918118      0.106211         0.039279        0.009802   \n",
       "21       5.798623      0.414234         0.049239        0.013945   \n",
       "\n",
       "   param_criterion param_max_depth param_min_samples_leaf  \\\n",
       "26            gini              15                     10   \n",
       "25            gini              15                      5   \n",
       "27            gini              15                     20   \n",
       "28            gini              15                     50   \n",
       "21            gini              10                     10   \n",
       "\n",
       "                                               params  split0_test_score  \\\n",
       "26  {'criterion': 'gini', 'max_depth': 15, 'min_sa...           0.796560   \n",
       "25  {'criterion': 'gini', 'max_depth': 15, 'min_sa...           0.795374   \n",
       "27  {'criterion': 'gini', 'max_depth': 15, 'min_sa...           0.793891   \n",
       "28  {'criterion': 'gini', 'max_depth': 15, 'min_sa...           0.776987   \n",
       "21  {'criterion': 'gini', 'max_depth': 10, 'min_sa...           0.787070   \n",
       "\n",
       "    split1_test_score  split2_test_score  split3_test_score  \\\n",
       "26           0.803381           0.797093           0.779887   \n",
       "25           0.794781           0.794126           0.791160   \n",
       "27           0.797153           0.794423           0.782854   \n",
       "28           0.779953           0.778701           0.771878   \n",
       "21           0.773725           0.775438           0.761792   \n",
       "\n",
       "    split4_test_score  mean_test_score  std_test_score  rank_test_score  \n",
       "26           0.792050         0.793794        0.007834                1  \n",
       "25           0.784337         0.791955        0.004076                2  \n",
       "27           0.789380         0.791540        0.005009                3  \n",
       "28           0.774548         0.776413        0.002903                4  \n",
       "21           0.771878         0.773980        0.008081                5  "
      ]
     },
     "execution_count": 120,
     "metadata": {},
     "output_type": "execute_result"
    }
   ],
   "source": [
    "score_df.nlargest(5,\"mean_test_score\")"
   ]
  },
  {
   "cell_type": "code",
   "execution_count": 121,
   "metadata": {},
   "outputs": [
    {
     "data": {
      "text/plain": [
       "DecisionTreeClassifier(max_depth=15, min_samples_leaf=10, random_state=42)"
      ]
     },
     "execution_count": 121,
     "metadata": {},
     "output_type": "execute_result"
    }
   ],
   "source": [
    "grid_search.best_estimator_"
   ]
  },
  {
   "cell_type": "code",
   "execution_count": 122,
   "metadata": {},
   "outputs": [],
   "source": [
    "dt_best = grid_search.best_estimator_"
   ]
  },
  {
   "cell_type": "code",
   "execution_count": 123,
   "metadata": {},
   "outputs": [
    {
     "name": "stdout",
     "output_type": "stream",
     "text": [
      "              precision    recall  f1-score   support\n",
      "\n",
      "           0       0.89      0.86      0.87      4158\n",
      "           1       0.89      0.88      0.88      3980\n",
      "           2       0.91      0.81      0.86      3009\n",
      "           3       0.75      0.88      0.81      3931\n",
      "           4       0.88      0.81      0.84      1779\n",
      "\n",
      "    accuracy                           0.85     16857\n",
      "   macro avg       0.86      0.85      0.85     16857\n",
      "weighted avg       0.86      0.85      0.85     16857\n",
      "\n"
     ]
    }
   ],
   "source": [
    "y_train_dt_pred = dt_best.predict(X_train)\n",
    "\n",
    "print(classification_report(y_train, y_train_dt_pred))"
   ]
  },
  {
   "cell_type": "code",
   "execution_count": 124,
   "metadata": {},
   "outputs": [
    {
     "name": "stdout",
     "output_type": "stream",
     "text": [
      "              precision    recall  f1-score   support\n",
      "\n",
      "           0       0.83      0.81      0.82      1062\n",
      "           1       0.84      0.83      0.83      1060\n",
      "           2       0.88      0.78      0.83       685\n",
      "           3       0.68      0.77      0.72       966\n",
      "           4       0.79      0.76      0.77       442\n",
      "\n",
      "    accuracy                           0.80      4215\n",
      "   macro avg       0.80      0.79      0.80      4215\n",
      "weighted avg       0.80      0.80      0.80      4215\n",
      "\n"
     ]
    }
   ],
   "source": [
    "y_test_dt_pred = dt_best.predict(X_test)\n",
    "\n",
    "print(classification_report(y_test, y_test_dt_pred))"
   ]
  },
  {
   "cell_type": "markdown",
   "metadata": {
    "tags": []
   },
   "source": [
    "### Observation: Decision Tree performs decently on the data but not as good as logistic regression."
   ]
  },
  {
   "cell_type": "markdown",
   "metadata": {},
   "source": [
    "---"
   ]
  },
  {
   "cell_type": "markdown",
   "metadata": {},
   "source": [
    "## Random Forest With Hyperparameter tuning"
   ]
  },
  {
   "cell_type": "code",
   "execution_count": 125,
   "metadata": {},
   "outputs": [],
   "source": [
    "from sklearn.ensemble import RandomForestClassifier"
   ]
  },
  {
   "cell_type": "code",
   "execution_count": 126,
   "metadata": {},
   "outputs": [],
   "source": [
    "# Create the parameter grid based on the results of random search \n",
    "params = {\n",
    "    'n_estimators': [10, 25, 50, 75, 100, 150, 200],\n",
    "    'max_depth': [2, 3, 5, 8, 10, 15],\n",
    "    'min_samples_leaf': [20, 50, 100, 200, 500],\n",
    "    'criterion': [\"gini\"]\n",
    "}"
   ]
  },
  {
   "cell_type": "code",
   "execution_count": 127,
   "metadata": {},
   "outputs": [],
   "source": [
    "rf = RandomForestClassifier(random_state=42)"
   ]
  },
  {
   "cell_type": "code",
   "execution_count": 128,
   "metadata": {},
   "outputs": [],
   "source": [
    "# Instantiate the grid search model\n",
    "grid_search = GridSearchCV(estimator=rf, \n",
    "                           param_grid=params, \n",
    "                           cv=5, n_jobs=-1, verbose=3, scoring = \"accuracy\")"
   ]
  },
  {
   "cell_type": "code",
   "execution_count": 129,
   "metadata": {},
   "outputs": [
    {
     "name": "stdout",
     "output_type": "stream",
     "text": [
      "Fitting 5 folds for each of 210 candidates, totalling 1050 fits\n",
      "[CV 3/5] END criterion=gini, max_depth=2, min_samples_leaf=20, n_estimators=10;, score=0.563 total time=   0.7s\n",
      "[CV 3/5] END criterion=gini, max_depth=2, min_samples_leaf=20, n_estimators=50;, score=0.637 total time=   2.1s\n",
      "[CV 1/5] END criterion=gini, max_depth=2, min_samples_leaf=20, n_estimators=100;, score=0.699 total time=   3.0s\n",
      "[CV 4/5] END criterion=gini, max_depth=2, min_samples_leaf=20, n_estimators=150;, score=0.708 total time=   4.4s\n",
      "[CV 3/5] END criterion=gini, max_depth=2, min_samples_leaf=50, n_estimators=10;, score=0.562 total time=   0.8s\n",
      "[CV 1/5] END criterion=gini, max_depth=2, min_samples_leaf=50, n_estimators=25;, score=0.621 total time=   1.0s\n",
      "[CV 4/5] END criterion=gini, max_depth=2, min_samples_leaf=50, n_estimators=25;, score=0.625 total time=   0.9s\n",
      "[CV 4/5] END criterion=gini, max_depth=2, min_samples_leaf=50, n_estimators=50;, score=0.654 total time=   1.5s\n",
      "[CV 3/5] END criterion=gini, max_depth=2, min_samples_leaf=50, n_estimators=75;, score=0.689 total time=   3.3s\n",
      "[CV 2/5] END criterion=gini, max_depth=2, min_samples_leaf=50, n_estimators=150;, score=0.707 total time=   5.2s\n",
      "[CV 1/5] END criterion=gini, max_depth=2, min_samples_leaf=100, n_estimators=10;, score=0.566 total time=   0.5s\n",
      "[CV 3/5] END criterion=gini, max_depth=2, min_samples_leaf=100, n_estimators=10;, score=0.563 total time=   0.6s\n",
      "[CV 1/5] END criterion=gini, max_depth=2, min_samples_leaf=100, n_estimators=25;, score=0.618 total time=   1.0s\n",
      "[CV 5/5] END criterion=gini, max_depth=2, min_samples_leaf=100, n_estimators=25;, score=0.595 total time=   1.0s\n",
      "[CV 5/5] END criterion=gini, max_depth=2, min_samples_leaf=100, n_estimators=50;, score=0.630 total time=   1.7s\n",
      "[CV 1/5] END criterion=gini, max_depth=2, min_samples_leaf=100, n_estimators=100;, score=0.697 total time=   2.9s\n",
      "[CV 4/5] END criterion=gini, max_depth=2, min_samples_leaf=100, n_estimators=150;, score=0.706 total time=   5.0s\n",
      "[CV 4/5] END criterion=gini, max_depth=2, min_samples_leaf=200, n_estimators=10;, score=0.549 total time=   0.7s\n",
      "[CV 1/5] END criterion=gini, max_depth=2, min_samples_leaf=200, n_estimators=25;, score=0.614 total time=   1.1s\n",
      "[CV 4/5] END criterion=gini, max_depth=2, min_samples_leaf=200, n_estimators=25;, score=0.618 total time=   1.4s\n",
      "[CV 5/5] END criterion=gini, max_depth=2, min_samples_leaf=200, n_estimators=50;, score=0.630 total time=   1.8s\n",
      "[CV 1/5] END criterion=gini, max_depth=2, min_samples_leaf=200, n_estimators=100;, score=0.701 total time=   3.5s\n",
      "[CV 5/5] END criterion=gini, max_depth=2, min_samples_leaf=200, n_estimators=150;, score=0.689 total time=   5.3s\n",
      "[CV 5/5] END criterion=gini, max_depth=2, min_samples_leaf=500, n_estimators=10;, score=0.506 total time=   0.9s\n",
      "[CV 3/5] END criterion=gini, max_depth=2, min_samples_leaf=500, n_estimators=25;, score=0.563 total time=   0.9s\n",
      "[CV 2/5] END criterion=gini, max_depth=2, min_samples_leaf=500, n_estimators=50;, score=0.630 total time=   2.0s\n",
      "[CV 4/5] END criterion=gini, max_depth=2, min_samples_leaf=500, n_estimators=75;, score=0.671 total time=   2.6s\n",
      "[CV 2/5] END criterion=gini, max_depth=2, min_samples_leaf=500, n_estimators=150;, score=0.668 total time=   4.5s\n",
      "[CV 5/5] END criterion=gini, max_depth=2, min_samples_leaf=500, n_estimators=200;, score=0.670 total time=   6.5s\n",
      "[CV 3/5] END criterion=gini, max_depth=3, min_samples_leaf=20, n_estimators=75;, score=0.732 total time=   3.5s\n",
      "[CV 1/5] END criterion=gini, max_depth=3, min_samples_leaf=20, n_estimators=150;, score=0.733 total time=   7.8s\n",
      "[CV 5/5] END criterion=gini, max_depth=3, min_samples_leaf=20, n_estimators=200;, score=0.730 total time=  10.0s\n",
      "[CV 4/5] END criterion=gini, max_depth=3, min_samples_leaf=50, n_estimators=100;, score=0.733 total time=   4.5s\n",
      "[CV 3/5] END criterion=gini, max_depth=3, min_samples_leaf=50, n_estimators=200;, score=0.733 total time=   8.1s\n",
      "[CV 3/5] END criterion=gini, max_depth=3, min_samples_leaf=100, n_estimators=50;, score=0.701 total time=   1.9s\n",
      "[CV 4/5] END criterion=gini, max_depth=3, min_samples_leaf=100, n_estimators=75;, score=0.737 total time=   3.4s\n",
      "[CV 2/5] END criterion=gini, max_depth=3, min_samples_leaf=100, n_estimators=150;, score=0.735 total time=   6.0s\n",
      "[CV 1/5] END criterion=gini, max_depth=3, min_samples_leaf=200, n_estimators=10;, score=0.620 total time=   0.7s\n",
      "[CV 2/5] END criterion=gini, max_depth=3, min_samples_leaf=200, n_estimators=10;, score=0.619 total time=   1.0s\n",
      "[CV 3/5] END criterion=gini, max_depth=3, min_samples_leaf=200, n_estimators=10;, score=0.619 total time=   0.8s\n",
      "[CV 4/5] END criterion=gini, max_depth=3, min_samples_leaf=200, n_estimators=10;, score=0.609 total time=   0.6s\n",
      "[CV 5/5] END criterion=gini, max_depth=3, min_samples_leaf=200, n_estimators=10;, score=0.596 total time=   0.9s\n",
      "[CV 2/5] END criterion=gini, max_depth=3, min_samples_leaf=200, n_estimators=25;, score=0.671 total time=   1.4s\n",
      "[CV 5/5] END criterion=gini, max_depth=3, min_samples_leaf=200, n_estimators=25;, score=0.651 total time=   1.2s\n",
      "[CV 3/5] END criterion=gini, max_depth=3, min_samples_leaf=200, n_estimators=50;, score=0.703 total time=   1.9s\n",
      "[CV 5/5] END criterion=gini, max_depth=3, min_samples_leaf=200, n_estimators=75;, score=0.720 total time=   3.9s\n",
      "[CV 3/5] END criterion=gini, max_depth=3, min_samples_leaf=200, n_estimators=150;, score=0.728 total time=   6.0s\n",
      "[CV 1/5] END criterion=gini, max_depth=3, min_samples_leaf=500, n_estimators=10;, score=0.612 total time=   0.5s\n",
      "[CV 2/5] END criterion=gini, max_depth=3, min_samples_leaf=500, n_estimators=10;, score=0.607 total time=   0.5s\n",
      "[CV 4/5] END criterion=gini, max_depth=3, min_samples_leaf=500, n_estimators=10;, score=0.594 total time=   0.5s\n",
      "[CV 2/5] END criterion=gini, max_depth=3, min_samples_leaf=500, n_estimators=25;, score=0.653 total time=   1.0s\n",
      "[CV 5/5] END criterion=gini, max_depth=3, min_samples_leaf=500, n_estimators=25;, score=0.641 total time=   1.1s\n",
      "[CV 5/5] END criterion=gini, max_depth=3, min_samples_leaf=500, n_estimators=50;, score=0.675 total time=   1.8s\n",
      "[CV 5/5] END criterion=gini, max_depth=3, min_samples_leaf=500, n_estimators=75;, score=0.704 total time=   2.9s\n",
      "[CV 3/5] END criterion=gini, max_depth=3, min_samples_leaf=500, n_estimators=150;, score=0.713 total time=   5.4s\n",
      "[CV 1/5] END criterion=gini, max_depth=5, min_samples_leaf=20, n_estimators=10;, score=0.679 total time=   1.1s\n",
      "[CV 3/5] END criterion=gini, max_depth=5, min_samples_leaf=20, n_estimators=10;, score=0.671 total time=   0.9s\n",
      "[CV 5/5] END criterion=gini, max_depth=5, min_samples_leaf=20, n_estimators=10;, score=0.664 total time=   0.8s\n",
      "[CV 3/5] END criterion=gini, max_depth=5, min_samples_leaf=20, n_estimators=25;, score=0.716 total time=   1.8s\n",
      "[CV 2/5] END criterion=gini, max_depth=5, min_samples_leaf=20, n_estimators=50;, score=0.751 total time=   3.2s\n",
      "[CV 5/5] END criterion=gini, max_depth=5, min_samples_leaf=20, n_estimators=75;, score=0.754 total time=   4.4s\n",
      "[CV 3/5] END criterion=gini, max_depth=5, min_samples_leaf=20, n_estimators=150;, score=0.756 total time=   8.4s\n",
      "[CV 1/5] END criterion=gini, max_depth=5, min_samples_leaf=50, n_estimators=10;, score=0.672 total time=   0.7s\n",
      "[CV 2/5] END criterion=gini, max_depth=5, min_samples_leaf=50, n_estimators=10;, score=0.655 total time=   0.7s\n",
      "[CV 5/5] END criterion=gini, max_depth=5, min_samples_leaf=50, n_estimators=10;, score=0.662 total time=   0.8s\n",
      "[CV 3/5] END criterion=gini, max_depth=5, min_samples_leaf=50, n_estimators=25;, score=0.713 total time=   1.6s\n",
      "[CV 1/5] END criterion=gini, max_depth=5, min_samples_leaf=50, n_estimators=50;, score=0.747 total time=   3.7s\n",
      "[CV 5/5] END criterion=gini, max_depth=5, min_samples_leaf=50, n_estimators=50;, score=0.729 total time=   4.0s\n",
      "[CV 1/5] END criterion=gini, max_depth=5, min_samples_leaf=50, n_estimators=100;, score=0.775 total time=   9.3s\n",
      "[CV 5/5] END criterion=gini, max_depth=5, min_samples_leaf=50, n_estimators=150;, score=0.757 total time=  11.4s\n",
      "[CV 3/5] END criterion=gini, max_depth=5, min_samples_leaf=100, n_estimators=25;, score=0.713 total time=   1.6s\n",
      "[CV 4/5] END criterion=gini, max_depth=5, min_samples_leaf=100, n_estimators=25;, score=0.725 total time=   1.6s\n",
      "[CV 5/5] END criterion=gini, max_depth=2, min_samples_leaf=20, n_estimators=10;, score=0.539 total time=   0.6s\n",
      "[CV 1/5] END criterion=gini, max_depth=2, min_samples_leaf=20, n_estimators=50;, score=0.647 total time=   1.6s\n",
      "[CV 4/5] END criterion=gini, max_depth=2, min_samples_leaf=20, n_estimators=75;, score=0.702 total time=   2.1s\n",
      "[CV 1/5] END criterion=gini, max_depth=2, min_samples_leaf=20, n_estimators=150;, score=0.705 total time=   3.9s\n",
      "[CV 4/5] END criterion=gini, max_depth=2, min_samples_leaf=20, n_estimators=200;, score=0.713 total time=   7.4s\n",
      "[CV 1/5] END criterion=gini, max_depth=2, min_samples_leaf=50, n_estimators=100;, score=0.698 total time=   3.8s\n",
      "[CV 5/5] END criterion=gini, max_depth=2, min_samples_leaf=50, n_estimators=150;, score=0.687 total time=   4.2s\n",
      "[CV 2/5] END criterion=gini, max_depth=2, min_samples_leaf=100, n_estimators=10;, score=0.565 total time=   0.6s\n",
      "[CV 5/5] END criterion=gini, max_depth=2, min_samples_leaf=100, n_estimators=10;, score=0.536 total time=   0.6s\n",
      "[CV 3/5] END criterion=gini, max_depth=2, min_samples_leaf=100, n_estimators=25;, score=0.603 total time=   1.1s\n",
      "[CV 2/5] END criterion=gini, max_depth=2, min_samples_leaf=100, n_estimators=50;, score=0.651 total time=   1.5s\n",
      "[CV 3/5] END criterion=gini, max_depth=2, min_samples_leaf=100, n_estimators=75;, score=0.688 total time=   2.5s\n",
      "[CV 5/5] END criterion=gini, max_depth=2, min_samples_leaf=100, n_estimators=100;, score=0.680 total time=   2.6s\n",
      "[CV 1/5] END criterion=gini, max_depth=2, min_samples_leaf=100, n_estimators=200;, score=0.711 total time=   6.2s\n",
      "[CV 2/5] END criterion=gini, max_depth=2, min_samples_leaf=200, n_estimators=50;, score=0.656 total time=   1.8s\n",
      "[CV 3/5] END criterion=gini, max_depth=2, min_samples_leaf=200, n_estimators=75;, score=0.686 total time=   2.8s\n",
      "[CV 2/5] END criterion=gini, max_depth=2, min_samples_leaf=200, n_estimators=150;, score=0.702 total time=   4.8s\n",
      "[CV 1/5] END criterion=gini, max_depth=2, min_samples_leaf=500, n_estimators=10;, score=0.535 total time=   0.5s\n",
      "[CV 2/5] END criterion=gini, max_depth=2, min_samples_leaf=500, n_estimators=10;, score=0.530 total time=   0.6s\n",
      "[CV 3/5] END criterion=gini, max_depth=2, min_samples_leaf=500, n_estimators=10;, score=0.535 total time=   0.7s\n",
      "[CV 1/5] END criterion=gini, max_depth=2, min_samples_leaf=500, n_estimators=25;, score=0.582 total time=   1.2s\n",
      "[CV 5/5] END criterion=gini, max_depth=2, min_samples_leaf=500, n_estimators=25;, score=0.559 total time=   1.2s\n",
      "[CV 5/5] END criterion=gini, max_depth=2, min_samples_leaf=500, n_estimators=50;, score=0.607 total time=   1.8s\n",
      "[CV 1/5] END criterion=gini, max_depth=2, min_samples_leaf=500, n_estimators=100;, score=0.677 total time=   3.4s\n",
      "[CV 1/5] END criterion=gini, max_depth=2, min_samples_leaf=500, n_estimators=200;, score=0.683 total time=   6.4s\n",
      "[CV 4/5] END criterion=gini, max_depth=3, min_samples_leaf=20, n_estimators=25;, score=0.675 total time=   1.5s\n",
      "[CV 5/5] END criterion=gini, max_depth=3, min_samples_leaf=20, n_estimators=50;, score=0.681 total time=   2.2s\n",
      "[CV 3/5] END criterion=gini, max_depth=3, min_samples_leaf=20, n_estimators=100;, score=0.729 total time=   4.7s\n",
      "[CV 1/5] END criterion=gini, max_depth=3, min_samples_leaf=20, n_estimators=200;, score=0.734 total time=   8.4s\n",
      "[CV 2/5] END criterion=gini, max_depth=3, min_samples_leaf=50, n_estimators=25;, score=0.672 total time=   1.0s\n",
      "[CV 1/5] END criterion=gini, max_depth=3, min_samples_leaf=50, n_estimators=50;, score=0.708 total time=   2.1s\n",
      "[CV 2/5] END criterion=gini, max_depth=3, min_samples_leaf=50, n_estimators=75;, score=0.733 total time=   3.0s\n",
      "[CV 2/5] END criterion=gini, max_depth=3, min_samples_leaf=50, n_estimators=100;, score=0.735 total time=   4.0s\n",
      "[CV 5/5] END criterion=gini, max_depth=3, min_samples_leaf=50, n_estimators=150;, score=0.726 total time=   6.5s\n",
      "[CV 5/5] END criterion=gini, max_depth=3, min_samples_leaf=100, n_estimators=10;, score=0.595 total time=   0.6s\n",
      "[CV 2/5] END criterion=gini, max_depth=3, min_samples_leaf=100, n_estimators=25;, score=0.671 total time=   1.4s\n",
      "[CV 5/5] END criterion=gini, max_depth=3, min_samples_leaf=100, n_estimators=25;, score=0.648 total time=   1.3s\n",
      "[CV 5/5] END criterion=gini, max_depth=3, min_samples_leaf=100, n_estimators=50;, score=0.681 total time=   2.2s\n",
      "[CV 1/5] END criterion=gini, max_depth=3, min_samples_leaf=100, n_estimators=100;, score=0.732 total time=   4.5s\n",
      "[CV 4/5] END criterion=gini, max_depth=3, min_samples_leaf=100, n_estimators=150;, score=0.740 total time=   7.9s\n",
      "[CV 1/5] END criterion=gini, max_depth=3, min_samples_leaf=200, n_estimators=25;, score=0.682 total time=   1.2s\n",
      "[CV 4/5] END criterion=gini, max_depth=3, min_samples_leaf=200, n_estimators=25;, score=0.678 total time=   1.3s\n",
      "[CV 1/5] END criterion=gini, max_depth=3, min_samples_leaf=200, n_estimators=50;, score=0.708 total time=   2.0s\n",
      "[CV 1/5] END criterion=gini, max_depth=3, min_samples_leaf=200, n_estimators=75;, score=0.736 total time=   3.5s\n",
      "[CV 5/5] END criterion=gini, max_depth=3, min_samples_leaf=200, n_estimators=100;, score=0.713 total time=   4.7s\n",
      "[CV 3/5] END criterion=gini, max_depth=3, min_samples_leaf=200, n_estimators=200;, score=0.727 total time=   7.1s\n",
      "[CV 1/5] END criterion=gini, max_depth=3, min_samples_leaf=500, n_estimators=75;, score=0.720 total time=   2.8s\n",
      "[CV 4/5] END criterion=gini, max_depth=3, min_samples_leaf=500, n_estimators=100;, score=0.713 total time=   3.8s\n",
      "[CV 2/5] END criterion=gini, max_depth=3, min_samples_leaf=500, n_estimators=200;, score=0.710 total time=   7.6s\n",
      "[CV 3/5] END criterion=gini, max_depth=5, min_samples_leaf=20, n_estimators=50;, score=0.744 total time=   3.2s\n",
      "[CV 1/5] END criterion=gini, max_depth=5, min_samples_leaf=20, n_estimators=100;, score=0.777 total time=   6.2s\n",
      "[CV 5/5] END criterion=gini, max_depth=5, min_samples_leaf=20, n_estimators=150;, score=0.759 total time=   8.0s\n",
      "[CV 3/5] END criterion=gini, max_depth=5, min_samples_leaf=50, n_estimators=10;, score=0.671 total time=   0.8s\n",
      "[CV 1/5] END criterion=gini, max_depth=5, min_samples_leaf=50, n_estimators=25;, score=0.725 total time=   1.7s\n",
      "[CV 5/5] END criterion=gini, max_depth=5, min_samples_leaf=50, n_estimators=25;, score=0.716 total time=   1.7s\n",
      "[CV 3/5] END criterion=gini, max_depth=5, min_samples_leaf=50, n_estimators=50;, score=0.743 total time=   3.9s\n",
      "[CV 4/5] END criterion=gini, max_depth=5, min_samples_leaf=50, n_estimators=75;, score=0.771 total time=   6.9s\n",
      "[CV 2/5] END criterion=gini, max_depth=5, min_samples_leaf=50, n_estimators=150;, score=0.761 total time=  13.5s\n",
      "[CV 1/5] END criterion=gini, max_depth=5, min_samples_leaf=100, n_estimators=10;, score=0.668 total time=   0.8s\n",
      "[CV 3/5] END criterion=gini, max_depth=5, min_samples_leaf=100, n_estimators=10;, score=0.661 total time=   0.9s\n",
      "[CV 5/5] END criterion=gini, max_depth=5, min_samples_leaf=100, n_estimators=10;, score=0.662 total time=   0.7s\n",
      "[CV 2/5] END criterion=gini, max_depth=5, min_samples_leaf=100, n_estimators=25;, score=0.723 total time=   1.7s\n",
      "[CV 5/5] END criterion=gini, max_depth=5, min_samples_leaf=100, n_estimators=25;, score=0.708 total time=   1.6s\n",
      "[CV 4/5] END criterion=gini, max_depth=5, min_samples_leaf=100, n_estimators=50;, score=0.752 total time=   3.4s\n",
      "[CV 4/5] END criterion=gini, max_depth=5, min_samples_leaf=100, n_estimators=75;, score=0.761 total time=   4.6s\n",
      "[CV 3/5] END criterion=gini, max_depth=5, min_samples_leaf=100, n_estimators=150;, score=0.754 total time=  10.0s\n",
      "[CV 1/5] END criterion=gini, max_depth=5, min_samples_leaf=200, n_estimators=10;, score=0.672 total time=   0.8s\n",
      "[CV 2/5] END criterion=gini, max_depth=5, min_samples_leaf=200, n_estimators=10;, score=0.638 total time=   0.8s\n",
      "[CV 4/5] END criterion=gini, max_depth=5, min_samples_leaf=200, n_estimators=10;, score=0.657 total time=   1.1s\n",
      "[CV 5/5] END criterion=gini, max_depth=5, min_samples_leaf=200, n_estimators=10;, score=0.656 total time=   1.0s\n",
      "[CV 3/5] END criterion=gini, max_depth=5, min_samples_leaf=200, n_estimators=25;, score=0.703 total time=   1.8s\n",
      "[CV 1/5] END criterion=gini, max_depth=5, min_samples_leaf=200, n_estimators=50;, score=0.742 total time=   4.1s\n",
      "[CV 1/5] END criterion=gini, max_depth=2, min_samples_leaf=20, n_estimators=10;, score=0.574 total time=   0.7s\n",
      "[CV 2/5] END criterion=gini, max_depth=2, min_samples_leaf=20, n_estimators=50;, score=0.653 total time=   1.7s\n",
      "[CV 5/5] END criterion=gini, max_depth=2, min_samples_leaf=20, n_estimators=75;, score=0.686 total time=   2.3s\n",
      "[CV 3/5] END criterion=gini, max_depth=2, min_samples_leaf=20, n_estimators=150;, score=0.693 total time=   4.2s\n",
      "[CV 5/5] END criterion=gini, max_depth=2, min_samples_leaf=20, n_estimators=200;, score=0.693 total time=   7.7s\n",
      "[CV 4/5] END criterion=gini, max_depth=2, min_samples_leaf=50, n_estimators=100;, score=0.705 total time=   2.9s\n",
      "[CV 1/5] END criterion=gini, max_depth=2, min_samples_leaf=50, n_estimators=200;, score=0.712 total time=   5.8s\n",
      "[CV 4/5] END criterion=gini, max_depth=2, min_samples_leaf=100, n_estimators=25;, score=0.621 total time=   1.0s\n",
      "[CV 4/5] END criterion=gini, max_depth=2, min_samples_leaf=100, n_estimators=50;, score=0.653 total time=   1.7s\n",
      "[CV 5/5] END criterion=gini, max_depth=2, min_samples_leaf=100, n_estimators=75;, score=0.685 total time=   2.4s\n",
      "[CV 3/5] END criterion=gini, max_depth=2, min_samples_leaf=100, n_estimators=150;, score=0.692 total time=   4.2s\n",
      "[CV 1/5] END criterion=gini, max_depth=2, min_samples_leaf=200, n_estimators=10;, score=0.541 total time=   0.4s\n",
      "[CV 2/5] END criterion=gini, max_depth=2, min_samples_leaf=200, n_estimators=10;, score=0.550 total time=   0.6s\n",
      "[CV 3/5] END criterion=gini, max_depth=2, min_samples_leaf=200, n_estimators=10;, score=0.558 total time=   0.5s\n",
      "[CV 5/5] END criterion=gini, max_depth=2, min_samples_leaf=200, n_estimators=10;, score=0.524 total time=   0.8s\n",
      "[CV 2/5] END criterion=gini, max_depth=2, min_samples_leaf=200, n_estimators=25;, score=0.611 total time=   1.0s\n",
      "[CV 5/5] END criterion=gini, max_depth=2, min_samples_leaf=200, n_estimators=25;, score=0.590 total time=   1.0s\n",
      "[CV 4/5] END criterion=gini, max_depth=2, min_samples_leaf=200, n_estimators=50;, score=0.651 total time=   1.5s\n",
      "[CV 4/5] END criterion=gini, max_depth=2, min_samples_leaf=200, n_estimators=75;, score=0.702 total time=   2.4s\n",
      "[CV 1/5] END criterion=gini, max_depth=2, min_samples_leaf=200, n_estimators=150;, score=0.700 total time=   4.0s\n",
      "[CV 4/5] END criterion=gini, max_depth=2, min_samples_leaf=200, n_estimators=200;, score=0.713 total time=   6.1s\n",
      "[CV 1/5] END criterion=gini, max_depth=2, min_samples_leaf=500, n_estimators=75;, score=0.684 total time=   2.6s\n",
      "[CV 4/5] END criterion=gini, max_depth=2, min_samples_leaf=500, n_estimators=100;, score=0.673 total time=   3.3s\n",
      "[CV 3/5] END criterion=gini, max_depth=2, min_samples_leaf=500, n_estimators=200;, score=0.670 total time=   6.0s\n",
      "[CV 1/5] END criterion=gini, max_depth=3, min_samples_leaf=20, n_estimators=50;, score=0.712 total time=   2.1s\n",
      "[CV 4/5] END criterion=gini, max_depth=3, min_samples_leaf=20, n_estimators=75;, score=0.738 total time=   3.9s\n",
      "[CV 2/5] END criterion=gini, max_depth=3, min_samples_leaf=20, n_estimators=150;, score=0.737 total time=   7.3s\n",
      "[CV 4/5] END criterion=gini, max_depth=3, min_samples_leaf=20, n_estimators=200;, score=0.741 total time=  10.6s\n",
      "[CV 2/5] END criterion=gini, max_depth=3, min_samples_leaf=50, n_estimators=150;, score=0.735 total time=   6.9s\n",
      "[CV 4/5] END criterion=gini, max_depth=3, min_samples_leaf=50, n_estimators=200;, score=0.742 total time=   9.1s\n",
      "[CV 3/5] END criterion=gini, max_depth=3, min_samples_leaf=100, n_estimators=100;, score=0.728 total time=   5.2s\n",
      "[CV 3/5] END criterion=gini, max_depth=3, min_samples_leaf=100, n_estimators=200;, score=0.730 total time=   9.9s\n",
      "[CV 5/5] END criterion=gini, max_depth=3, min_samples_leaf=200, n_estimators=50;, score=0.681 total time=   2.0s\n",
      "[CV 2/5] END criterion=gini, max_depth=3, min_samples_leaf=200, n_estimators=100;, score=0.732 total time=   4.2s\n",
      "[CV 4/5] END criterion=gini, max_depth=3, min_samples_leaf=200, n_estimators=150;, score=0.735 total time=   6.4s\n",
      "[CV 5/5] END criterion=gini, max_depth=3, min_samples_leaf=500, n_estimators=10;, score=0.587 total time=   0.6s\n",
      "[CV 3/5] END criterion=gini, max_depth=3, min_samples_leaf=500, n_estimators=25;, score=0.655 total time=   1.2s\n",
      "[CV 2/5] END criterion=gini, max_depth=3, min_samples_leaf=500, n_estimators=50;, score=0.677 total time=   1.8s\n",
      "[CV 3/5] END criterion=gini, max_depth=3, min_samples_leaf=500, n_estimators=75;, score=0.710 total time=   2.9s\n",
      "[CV 1/5] END criterion=gini, max_depth=3, min_samples_leaf=500, n_estimators=150;, score=0.722 total time=   5.1s\n",
      "[CV 4/5] END criterion=gini, max_depth=3, min_samples_leaf=500, n_estimators=200;, score=0.717 total time=   7.5s\n",
      "[CV 2/5] END criterion=gini, max_depth=5, min_samples_leaf=20, n_estimators=75;, score=0.759 total time=   4.9s\n",
      "[CV 1/5] END criterion=gini, max_depth=5, min_samples_leaf=20, n_estimators=150;, score=0.771 total time=   8.8s\n",
      "[CV 4/5] END criterion=gini, max_depth=5, min_samples_leaf=20, n_estimators=200;, score=0.765 total time=  14.5s\n",
      "[CV 3/5] END criterion=gini, max_depth=5, min_samples_leaf=50, n_estimators=100;, score=0.760 total time=   6.9s\n",
      "[CV 4/5] END criterion=gini, max_depth=5, min_samples_leaf=50, n_estimators=150;, score=0.772 total time=  10.1s\n",
      "[CV 2/5] END criterion=gini, max_depth=5, min_samples_leaf=100, n_estimators=10;, score=0.653 total time=   0.8s\n",
      "[CV 4/5] END criterion=gini, max_depth=5, min_samples_leaf=100, n_estimators=10;, score=0.668 total time=   0.8s\n",
      "[CV 1/5] END criterion=gini, max_depth=5, min_samples_leaf=100, n_estimators=25;, score=0.723 total time=   1.8s\n",
      "[CV 1/5] END criterion=gini, max_depth=5, min_samples_leaf=100, n_estimators=50;, score=0.750 total time=   3.3s\n",
      "[CV 2/5] END criterion=gini, max_depth=5, min_samples_leaf=100, n_estimators=75;, score=0.752 total time=   4.7s\n",
      "[CV 5/5] END criterion=gini, max_depth=5, min_samples_leaf=100, n_estimators=100;, score=0.758 total time=   6.8s\n",
      "[CV 3/5] END criterion=gini, max_depth=5, min_samples_leaf=100, n_estimators=200;, score=0.750 total time=  13.3s\n",
      "[CV 5/5] END criterion=gini, max_depth=5, min_samples_leaf=200, n_estimators=50;, score=0.727 total time=   2.5s\n",
      "[CV 1/5] END criterion=gini, max_depth=5, min_samples_leaf=200, n_estimators=100;, score=0.762 total time=   6.2s\n",
      "[CV 4/5] END criterion=gini, max_depth=5, min_samples_leaf=200, n_estimators=150;, score=0.758 total time=   8.7s\n",
      "[CV 2/5] END criterion=gini, max_depth=5, min_samples_leaf=500, n_estimators=10;, score=0.641 total time=   0.8s\n",
      "[CV 4/5] END criterion=gini, max_depth=5, min_samples_leaf=500, n_estimators=10;, score=0.653 total time=   1.0s\n",
      "[CV 2/5] END criterion=gini, max_depth=5, min_samples_leaf=500, n_estimators=25;, score=0.687 total time=   1.4s\n",
      "[CV 3/5] END criterion=gini, max_depth=5, min_samples_leaf=500, n_estimators=25;, score=0.690 total time=   1.6s\n",
      "[CV 2/5] END criterion=gini, max_depth=5, min_samples_leaf=500, n_estimators=50;, score=0.715 total time=   3.0s\n",
      "[CV 2/5] END criterion=gini, max_depth=5, min_samples_leaf=500, n_estimators=75;, score=0.726 total time=   4.0s\n",
      "[CV 4/5] END criterion=gini, max_depth=5, min_samples_leaf=500, n_estimators=100;, score=0.736 total time=   4.9s\n",
      "[CV 2/5] END criterion=gini, max_depth=5, min_samples_leaf=500, n_estimators=200;, score=0.727 total time=  11.4s\n",
      "[CV 3/5] END criterion=gini, max_depth=8, min_samples_leaf=20, n_estimators=50;, score=0.786 total time=   5.0s\n",
      "[CV 1/5] END criterion=gini, max_depth=8, min_samples_leaf=20, n_estimators=100;, score=0.813 total time=   8.2s\n",
      "[CV 4/5] END criterion=gini, max_depth=8, min_samples_leaf=20, n_estimators=150;, score=0.799 total time=  12.2s\n",
      "[CV 1/5] END criterion=gini, max_depth=8, min_samples_leaf=50, n_estimators=10;, score=0.739 total time=   1.1s\n",
      "[CV 3/5] END criterion=gini, max_depth=8, min_samples_leaf=50, n_estimators=10;, score=0.718 total time=   1.0s\n",
      "[CV 5/5] END criterion=gini, max_depth=8, min_samples_leaf=50, n_estimators=10;, score=0.732 total time=   1.0s\n",
      "[CV 3/5] END criterion=gini, max_depth=8, min_samples_leaf=50, n_estimators=25;, score=0.751 total time=   2.1s\n",
      "[CV 1/5] END criterion=gini, max_depth=8, min_samples_leaf=50, n_estimators=50;, score=0.793 total time=   4.1s\n",
      "[CV 1/5] END criterion=gini, max_depth=2, min_samples_leaf=20, n_estimators=25;, score=0.620 total time=   1.1s\n",
      "[CV 1/5] END criterion=gini, max_depth=2, min_samples_leaf=20, n_estimators=75;, score=0.709 total time=   2.6s\n",
      "[CV 4/5] END criterion=gini, max_depth=2, min_samples_leaf=20, n_estimators=100;, score=0.705 total time=   3.1s\n",
      "[CV 2/5] END criterion=gini, max_depth=2, min_samples_leaf=20, n_estimators=200;, score=0.710 total time=   5.5s\n",
      "[CV 1/5] END criterion=gini, max_depth=2, min_samples_leaf=50, n_estimators=50;, score=0.645 total time=   1.5s\n",
      "[CV 1/5] END criterion=gini, max_depth=2, min_samples_leaf=50, n_estimators=75;, score=0.709 total time=   2.5s\n",
      "[CV 3/5] END criterion=gini, max_depth=2, min_samples_leaf=50, n_estimators=100;, score=0.694 total time=   3.7s\n",
      "[CV 2/5] END criterion=gini, max_depth=2, min_samples_leaf=50, n_estimators=200;, score=0.709 total time=   6.1s\n",
      "[CV 3/5] END criterion=gini, max_depth=2, min_samples_leaf=100, n_estimators=50;, score=0.634 total time=   1.6s\n",
      "[CV 4/5] END criterion=gini, max_depth=2, min_samples_leaf=100, n_estimators=75;, score=0.701 total time=   2.4s\n",
      "[CV 2/5] END criterion=gini, max_depth=2, min_samples_leaf=100, n_estimators=150;, score=0.705 total time=   4.2s\n",
      "[CV 5/5] END criterion=gini, max_depth=2, min_samples_leaf=100, n_estimators=200;, score=0.691 total time=   7.3s\n",
      "[CV 3/5] END criterion=gini, max_depth=2, min_samples_leaf=200, n_estimators=100;, score=0.687 total time=   3.4s\n",
      "[CV 1/5] END criterion=gini, max_depth=2, min_samples_leaf=200, n_estimators=200;, score=0.707 total time=   6.2s\n",
      "[CV 4/5] END criterion=gini, max_depth=2, min_samples_leaf=500, n_estimators=25;, score=0.586 total time=   0.8s\n",
      "[CV 3/5] END criterion=gini, max_depth=2, min_samples_leaf=500, n_estimators=50;, score=0.604 total time=   1.9s\n",
      "[CV 5/5] END criterion=gini, max_depth=2, min_samples_leaf=500, n_estimators=75;, score=0.658 total time=   2.5s\n",
      "[CV 3/5] END criterion=gini, max_depth=2, min_samples_leaf=500, n_estimators=150;, score=0.665 total time=   4.6s\n",
      "[CV 1/5] END criterion=gini, max_depth=3, min_samples_leaf=20, n_estimators=10;, score=0.628 total time=   0.7s\n",
      "[CV 2/5] END criterion=gini, max_depth=3, min_samples_leaf=20, n_estimators=10;, score=0.622 total time=   0.8s\n",
      "[CV 5/5] END criterion=gini, max_depth=3, min_samples_leaf=20, n_estimators=10;, score=0.597 total time=   1.0s\n",
      "[CV 3/5] END criterion=gini, max_depth=3, min_samples_leaf=20, n_estimators=25;, score=0.654 total time=   1.6s\n",
      "[CV 3/5] END criterion=gini, max_depth=3, min_samples_leaf=20, n_estimators=50;, score=0.701 total time=   2.1s\n",
      "[CV 1/5] END criterion=gini, max_depth=3, min_samples_leaf=20, n_estimators=100;, score=0.733 total time=   4.5s\n",
      "[CV 4/5] END criterion=gini, max_depth=3, min_samples_leaf=20, n_estimators=150;, score=0.741 total time=   7.3s\n",
      "[CV 2/5] END criterion=gini, max_depth=3, min_samples_leaf=50, n_estimators=10;, score=0.620 total time=   0.7s\n",
      "[CV 4/5] END criterion=gini, max_depth=3, min_samples_leaf=50, n_estimators=10;, score=0.615 total time=   1.0s\n",
      "[CV 5/5] END criterion=gini, max_depth=3, min_samples_leaf=50, n_estimators=25;, score=0.648 total time=   1.9s\n",
      "[CV 1/5] END criterion=gini, max_depth=3, min_samples_leaf=50, n_estimators=75;, score=0.737 total time=   4.5s\n",
      "[CV 3/5] END criterion=gini, max_depth=3, min_samples_leaf=50, n_estimators=100;, score=0.731 total time=   4.8s\n",
      "[CV 2/5] END criterion=gini, max_depth=3, min_samples_leaf=50, n_estimators=200;, score=0.733 total time=   9.0s\n",
      "[CV 1/5] END criterion=gini, max_depth=3, min_samples_leaf=100, n_estimators=75;, score=0.738 total time=   3.3s\n",
      "[CV 2/5] END criterion=gini, max_depth=3, min_samples_leaf=100, n_estimators=100;, score=0.734 total time=   4.7s\n",
      "[CV 5/5] END criterion=gini, max_depth=3, min_samples_leaf=100, n_estimators=150;, score=0.724 total time=   7.5s\n",
      "[CV 3/5] END criterion=gini, max_depth=3, min_samples_leaf=200, n_estimators=25;, score=0.657 total time=   1.7s\n",
      "[CV 2/5] END criterion=gini, max_depth=3, min_samples_leaf=200, n_estimators=50;, score=0.706 total time=   2.2s\n",
      "[CV 4/5] END criterion=gini, max_depth=3, min_samples_leaf=200, n_estimators=75;, score=0.736 total time=   3.2s\n",
      "[CV 2/5] END criterion=gini, max_depth=3, min_samples_leaf=200, n_estimators=150;, score=0.729 total time=   6.2s\n",
      "[CV 4/5] END criterion=gini, max_depth=3, min_samples_leaf=200, n_estimators=200;, score=0.735 total time=   7.1s\n",
      "[CV 2/5] END criterion=gini, max_depth=3, min_samples_leaf=500, n_estimators=100;, score=0.710 total time=   4.0s\n",
      "[CV 5/5] END criterion=gini, max_depth=3, min_samples_leaf=500, n_estimators=150;, score=0.705 total time=   5.2s\n",
      "[CV 4/5] END criterion=gini, max_depth=5, min_samples_leaf=20, n_estimators=10;, score=0.680 total time=   0.9s\n",
      "[CV 2/5] END criterion=gini, max_depth=5, min_samples_leaf=20, n_estimators=25;, score=0.729 total time=   1.8s\n",
      "[CV 1/5] END criterion=gini, max_depth=5, min_samples_leaf=20, n_estimators=50;, score=0.757 total time=   3.3s\n",
      "[CV 4/5] END criterion=gini, max_depth=5, min_samples_leaf=20, n_estimators=75;, score=0.772 total time=   4.3s\n",
      "[CV 2/5] END criterion=gini, max_depth=5, min_samples_leaf=20, n_estimators=150;, score=0.768 total time=   8.6s\n",
      "[CV 5/5] END criterion=gini, max_depth=5, min_samples_leaf=20, n_estimators=200;, score=0.759 total time=  14.1s\n",
      "[CV 2/5] END criterion=gini, max_depth=5, min_samples_leaf=50, n_estimators=100;, score=0.762 total time=   8.4s\n",
      "[CV 1/5] END criterion=gini, max_depth=5, min_samples_leaf=50, n_estimators=200;, score=0.764 total time=  14.3s\n",
      "[CV 5/5] END criterion=gini, max_depth=5, min_samples_leaf=100, n_estimators=50;, score=0.730 total time=   3.5s\n",
      "[CV 2/5] END criterion=gini, max_depth=5, min_samples_leaf=100, n_estimators=100;, score=0.755 total time=   6.4s\n",
      "[CV 4/5] END criterion=gini, max_depth=5, min_samples_leaf=100, n_estimators=150;, score=0.765 total time=   9.5s\n",
      "[CV 3/5] END criterion=gini, max_depth=5, min_samples_leaf=200, n_estimators=10;, score=0.654 total time=   1.3s\n",
      "[CV 1/5] END criterion=gini, max_depth=5, min_samples_leaf=200, n_estimators=25;, score=0.722 total time=   1.8s\n",
      "[CV 4/5] END criterion=gini, max_depth=5, min_samples_leaf=200, n_estimators=25;, score=0.721 total time=   1.9s\n",
      "[CV 2/5] END criterion=gini, max_depth=5, min_samples_leaf=200, n_estimators=50;, score=0.747 total time=   4.0s\n",
      "[CV 5/5] END criterion=gini, max_depth=5, min_samples_leaf=200, n_estimators=75;, score=0.740 total time=   4.7s\n",
      "[CV 3/5] END criterion=gini, max_depth=5, min_samples_leaf=200, n_estimators=150;, score=0.745 total time=   9.6s\n",
      "[CV 1/5] END criterion=gini, max_depth=5, min_samples_leaf=500, n_estimators=10;, score=0.638 total time=   0.7s\n",
      "[CV 3/5] END criterion=gini, max_depth=5, min_samples_leaf=500, n_estimators=10;, score=0.652 total time=   0.8s\n",
      "[CV 5/5] END criterion=gini, max_depth=5, min_samples_leaf=500, n_estimators=10;, score=0.641 total time=   0.7s\n",
      "[CV 1/5] END criterion=gini, max_depth=5, min_samples_leaf=500, n_estimators=25;, score=0.698 total time=   1.5s\n",
      "[CV 4/5] END criterion=gini, max_depth=5, min_samples_leaf=500, n_estimators=25;, score=0.697 total time=   1.5s\n",
      "[CV 1/5] END criterion=gini, max_depth=5, min_samples_leaf=500, n_estimators=50;, score=0.723 total time=   3.0s\n",
      "[CV 1/5] END criterion=gini, max_depth=5, min_samples_leaf=500, n_estimators=75;, score=0.731 total time=   4.2s\n",
      "[CV 1/5] END criterion=gini, max_depth=5, min_samples_leaf=500, n_estimators=150;, score=0.733 total time=   7.1s\n",
      "[CV 4/5] END criterion=gini, max_depth=5, min_samples_leaf=500, n_estimators=200;, score=0.742 total time=  10.9s\n",
      "[CV 3/5] END criterion=gini, max_depth=8, min_samples_leaf=20, n_estimators=75;, score=0.788 total time=   7.1s\n",
      "[CV 1/5] END criterion=gini, max_depth=8, min_samples_leaf=20, n_estimators=150;, score=0.814 total time=  14.2s\n",
      "[CV 4/5] END criterion=gini, max_depth=8, min_samples_leaf=20, n_estimators=200;, score=0.800 total time=  20.4s\n",
      "[CV 2/5] END criterion=gini, max_depth=8, min_samples_leaf=50, n_estimators=100;, score=0.794 total time=   9.8s\n",
      "[CV 5/5] END criterion=gini, max_depth=8, min_samples_leaf=50, n_estimators=150;, score=0.792 total time=  11.9s\n",
      "[CV 4/5] END criterion=gini, max_depth=2, min_samples_leaf=20, n_estimators=10;, score=0.562 total time=   0.6s\n",
      "[CV 5/5] END criterion=gini, max_depth=2, min_samples_leaf=20, n_estimators=25;, score=0.597 total time=   1.3s\n",
      "[CV 2/5] END criterion=gini, max_depth=2, min_samples_leaf=20, n_estimators=75;, score=0.702 total time=   2.5s\n",
      "[CV 2/5] END criterion=gini, max_depth=2, min_samples_leaf=20, n_estimators=150;, score=0.706 total time=   4.6s\n",
      "[CV 1/5] END criterion=gini, max_depth=2, min_samples_leaf=50, n_estimators=10;, score=0.572 total time=   0.5s\n",
      "[CV 2/5] END criterion=gini, max_depth=2, min_samples_leaf=50, n_estimators=10;, score=0.569 total time=   0.6s\n",
      "[CV 4/5] END criterion=gini, max_depth=2, min_samples_leaf=50, n_estimators=10;, score=0.560 total time=   0.7s\n",
      "[CV 5/5] END criterion=gini, max_depth=2, min_samples_leaf=50, n_estimators=10;, score=0.540 total time=   0.6s\n",
      "[CV 3/5] END criterion=gini, max_depth=2, min_samples_leaf=50, n_estimators=25;, score=0.600 total time=   1.3s\n",
      "[CV 3/5] END criterion=gini, max_depth=2, min_samples_leaf=50, n_estimators=50;, score=0.637 total time=   2.2s\n",
      "[CV 5/5] END criterion=gini, max_depth=2, min_samples_leaf=50, n_estimators=75;, score=0.687 total time=   2.9s\n",
      "[CV 3/5] END criterion=gini, max_depth=2, min_samples_leaf=50, n_estimators=150;, score=0.694 total time=   4.8s\n",
      "[CV 5/5] END criterion=gini, max_depth=2, min_samples_leaf=50, n_estimators=200;, score=0.693 total time=   6.4s\n",
      "[CV 2/5] END criterion=gini, max_depth=2, min_samples_leaf=100, n_estimators=100;, score=0.698 total time=   3.0s\n",
      "[CV 5/5] END criterion=gini, max_depth=2, min_samples_leaf=100, n_estimators=150;, score=0.688 total time=   5.1s\n",
      "[CV 3/5] END criterion=gini, max_depth=2, min_samples_leaf=200, n_estimators=25;, score=0.595 total time=   1.2s\n",
      "[CV 1/5] END criterion=gini, max_depth=2, min_samples_leaf=200, n_estimators=50;, score=0.645 total time=   1.9s\n",
      "[CV 2/5] END criterion=gini, max_depth=2, min_samples_leaf=200, n_estimators=75;, score=0.700 total time=   2.5s\n",
      "[CV 5/5] END criterion=gini, max_depth=2, min_samples_leaf=200, n_estimators=100;, score=0.677 total time=   3.0s\n",
      "[CV 2/5] END criterion=gini, max_depth=2, min_samples_leaf=200, n_estimators=200;, score=0.706 total time=   6.7s\n",
      "[CV 4/5] END criterion=gini, max_depth=2, min_samples_leaf=500, n_estimators=50;, score=0.613 total time=   2.0s\n",
      "[CV 2/5] END criterion=gini, max_depth=2, min_samples_leaf=500, n_estimators=100;, score=0.674 total time=   3.1s\n",
      "[CV 5/5] END criterion=gini, max_depth=2, min_samples_leaf=500, n_estimators=150;, score=0.660 total time=   4.6s\n",
      "[CV 3/5] END criterion=gini, max_depth=3, min_samples_leaf=20, n_estimators=10;, score=0.623 total time=   0.8s\n",
      "[CV 1/5] END criterion=gini, max_depth=3, min_samples_leaf=20, n_estimators=25;, score=0.690 total time=   1.5s\n",
      "[CV 5/5] END criterion=gini, max_depth=3, min_samples_leaf=20, n_estimators=25;, score=0.652 total time=   1.4s\n",
      "[CV 1/5] END criterion=gini, max_depth=3, min_samples_leaf=20, n_estimators=75;, score=0.738 total time=   3.5s\n",
      "[CV 4/5] END criterion=gini, max_depth=3, min_samples_leaf=20, n_estimators=100;, score=0.735 total time=   4.5s\n",
      "[CV 3/5] END criterion=gini, max_depth=3, min_samples_leaf=20, n_estimators=200;, score=0.733 total time=   8.8s\n",
      "[CV 5/5] END criterion=gini, max_depth=3, min_samples_leaf=50, n_estimators=50;, score=0.681 total time=   2.3s\n",
      "[CV 5/5] END criterion=gini, max_depth=3, min_samples_leaf=50, n_estimators=75;, score=0.720 total time=   4.0s\n",
      "[CV 3/5] END criterion=gini, max_depth=3, min_samples_leaf=50, n_estimators=150;, score=0.730 total time=   7.1s\n",
      "[CV 1/5] END criterion=gini, max_depth=3, min_samples_leaf=100, n_estimators=10;, score=0.625 total time=   0.7s\n",
      "[CV 2/5] END criterion=gini, max_depth=3, min_samples_leaf=100, n_estimators=10;, score=0.623 total time=   0.5s\n",
      "[CV 4/5] END criterion=gini, max_depth=3, min_samples_leaf=100, n_estimators=10;, score=0.613 total time=   1.0s\n",
      "[CV 3/5] END criterion=gini, max_depth=3, min_samples_leaf=100, n_estimators=25;, score=0.656 total time=   1.2s\n",
      "[CV 1/5] END criterion=gini, max_depth=3, min_samples_leaf=100, n_estimators=50;, score=0.708 total time=   2.0s\n",
      "[CV 2/5] END criterion=gini, max_depth=3, min_samples_leaf=100, n_estimators=75;, score=0.730 total time=   3.8s\n",
      "[CV 5/5] END criterion=gini, max_depth=3, min_samples_leaf=100, n_estimators=100;, score=0.718 total time=   3.7s\n",
      "[CV 1/5] END criterion=gini, max_depth=3, min_samples_leaf=100, n_estimators=200;, score=0.735 total time=   9.8s\n",
      "[CV 4/5] END criterion=gini, max_depth=3, min_samples_leaf=200, n_estimators=50;, score=0.710 total time=   2.3s\n",
      "[CV 1/5] END criterion=gini, max_depth=3, min_samples_leaf=200, n_estimators=100;, score=0.730 total time=   4.9s\n",
      "[CV 1/5] END criterion=gini, max_depth=3, min_samples_leaf=200, n_estimators=200;, score=0.733 total time=   8.0s\n",
      "[CV 3/5] END criterion=gini, max_depth=3, min_samples_leaf=500, n_estimators=50;, score=0.683 total time=   1.8s\n",
      "[CV 4/5] END criterion=gini, max_depth=3, min_samples_leaf=500, n_estimators=75;, score=0.715 total time=   2.9s\n",
      "[CV 2/5] END criterion=gini, max_depth=3, min_samples_leaf=500, n_estimators=150;, score=0.708 total time=   5.6s\n",
      "[CV 5/5] END criterion=gini, max_depth=3, min_samples_leaf=500, n_estimators=200;, score=0.710 total time=   7.1s\n",
      "[CV 3/5] END criterion=gini, max_depth=5, min_samples_leaf=20, n_estimators=75;, score=0.755 total time=   4.1s\n",
      "[CV 5/5] END criterion=gini, max_depth=5, min_samples_leaf=20, n_estimators=100;, score=0.763 total time=   6.2s\n",
      "[CV 3/5] END criterion=gini, max_depth=5, min_samples_leaf=20, n_estimators=200;, score=0.754 total time=  13.0s\n",
      "[CV 3/5] END criterion=gini, max_depth=5, min_samples_leaf=50, n_estimators=75;, score=0.756 total time=   6.4s\n",
      "[CV 1/5] END criterion=gini, max_depth=5, min_samples_leaf=50, n_estimators=150;, score=0.766 total time=  11.3s\n",
      "[CV 4/5] END criterion=gini, max_depth=5, min_samples_leaf=50, n_estimators=200;, score=0.769 total time=  12.7s\n",
      "[CV 5/5] END criterion=gini, max_depth=5, min_samples_leaf=100, n_estimators=75;, score=0.748 total time=   4.2s\n",
      "[CV 2/5] END criterion=gini, max_depth=5, min_samples_leaf=100, n_estimators=150;, score=0.763 total time=   9.2s\n",
      "[CV 5/5] END criterion=gini, max_depth=5, min_samples_leaf=100, n_estimators=200;, score=0.751 total time=  14.1s\n",
      "[CV 3/5] END criterion=gini, max_depth=5, min_samples_leaf=200, n_estimators=100;, score=0.749 total time=   6.9s\n",
      "[CV 5/5] END criterion=gini, max_depth=5, min_samples_leaf=200, n_estimators=150;, score=0.746 total time=  10.5s\n",
      "[CV 5/5] END criterion=gini, max_depth=5, min_samples_leaf=500, n_estimators=25;, score=0.679 total time=   1.6s\n",
      "[CV 4/5] END criterion=gini, max_depth=5, min_samples_leaf=500, n_estimators=50;, score=0.713 total time=   3.1s\n",
      "[CV 5/5] END criterion=gini, max_depth=5, min_samples_leaf=500, n_estimators=75;, score=0.721 total time=   3.6s\n",
      "[CV 3/5] END criterion=gini, max_depth=5, min_samples_leaf=500, n_estimators=150;, score=0.727 total time=   7.0s\n",
      "[CV 5/5] END criterion=gini, max_depth=5, min_samples_leaf=500, n_estimators=200;, score=0.732 total time=   9.7s\n",
      "[CV 1/5] END criterion=gini, max_depth=8, min_samples_leaf=20, n_estimators=75;, score=0.807 total time=   7.3s\n",
      "[CV 5/5] END criterion=gini, max_depth=8, min_samples_leaf=20, n_estimators=100;, score=0.805 total time=   9.4s\n",
      "[CV 2/5] END criterion=gini, max_depth=8, min_samples_leaf=20, n_estimators=200;, score=0.797 total time=  18.8s\n",
      "[CV 1/5] END criterion=gini, max_depth=8, min_samples_leaf=50, n_estimators=75;, score=0.800 total time=   7.6s\n",
      "[CV 3/5] END criterion=gini, max_depth=8, min_samples_leaf=50, n_estimators=100;, score=0.788 total time=   9.8s\n",
      "[CV 1/5] END criterion=gini, max_depth=8, min_samples_leaf=50, n_estimators=200;, score=0.804 total time=  17.9s\n",
      "[CV 4/5] END criterion=gini, max_depth=8, min_samples_leaf=100, n_estimators=50;, score=0.773 total time=   4.0s\n",
      "[CV 5/5] END criterion=gini, max_depth=8, min_samples_leaf=100, n_estimators=75;, score=0.767 total time=   7.5s\n",
      "[CV 3/5] END criterion=gini, max_depth=8, min_samples_leaf=100, n_estimators=150;, score=0.778 total time=  14.8s\n",
      "[CV 2/5] END criterion=gini, max_depth=2, min_samples_leaf=20, n_estimators=25;, score=0.617 total time=   1.1s\n",
      "[CV 5/5] END criterion=gini, max_depth=2, min_samples_leaf=20, n_estimators=50;, score=0.631 total time=   1.8s\n",
      "[CV 2/5] END criterion=gini, max_depth=2, min_samples_leaf=20, n_estimators=100;, score=0.699 total time=   3.0s\n",
      "[CV 5/5] END criterion=gini, max_depth=2, min_samples_leaf=20, n_estimators=150;, score=0.686 total time=   5.1s\n",
      "[CV 2/5] END criterion=gini, max_depth=2, min_samples_leaf=50, n_estimators=25;, score=0.616 total time=   1.3s\n",
      "[CV 2/5] END criterion=gini, max_depth=2, min_samples_leaf=50, n_estimators=50;, score=0.652 total time=   2.2s\n",
      "[CV 4/5] END criterion=gini, max_depth=2, min_samples_leaf=50, n_estimators=75;, score=0.702 total time=   2.8s\n",
      "[CV 1/5] END criterion=gini, max_depth=2, min_samples_leaf=50, n_estimators=150;, score=0.704 total time=   5.1s\n",
      "[CV 4/5] END criterion=gini, max_depth=2, min_samples_leaf=50, n_estimators=200;, score=0.714 total time=   7.0s\n",
      "[CV 3/5] END criterion=gini, max_depth=2, min_samples_leaf=100, n_estimators=100;, score=0.692 total time=   3.1s\n",
      "[CV 3/5] END criterion=gini, max_depth=2, min_samples_leaf=100, n_estimators=200;, score=0.696 total time=   6.9s\n",
      "[CV 1/5] END criterion=gini, max_depth=2, min_samples_leaf=200, n_estimators=75;, score=0.703 total time=   3.1s\n",
      "[CV 4/5] END criterion=gini, max_depth=2, min_samples_leaf=200, n_estimators=100;, score=0.702 total time=   3.5s\n",
      "[CV 3/5] END criterion=gini, max_depth=2, min_samples_leaf=200, n_estimators=200;, score=0.693 total time=   7.1s\n",
      "[CV 3/5] END criterion=gini, max_depth=2, min_samples_leaf=500, n_estimators=75;, score=0.653 total time=   2.3s\n",
      "[CV 5/5] END criterion=gini, max_depth=2, min_samples_leaf=500, n_estimators=100;, score=0.659 total time=   3.0s\n",
      "[CV 2/5] END criterion=gini, max_depth=2, min_samples_leaf=500, n_estimators=200;, score=0.677 total time=   6.9s\n",
      "[CV 4/5] END criterion=gini, max_depth=3, min_samples_leaf=20, n_estimators=50;, score=0.711 total time=   2.0s\n",
      "[CV 2/5] END criterion=gini, max_depth=3, min_samples_leaf=20, n_estimators=100;, score=0.737 total time=   4.7s\n",
      "[CV 5/5] END criterion=gini, max_depth=3, min_samples_leaf=20, n_estimators=150;, score=0.728 total time=   7.8s\n",
      "[CV 5/5] END criterion=gini, max_depth=3, min_samples_leaf=50, n_estimators=10;, score=0.595 total time=   0.9s\n",
      "[CV 3/5] END criterion=gini, max_depth=3, min_samples_leaf=50, n_estimators=25;, score=0.656 total time=   1.4s\n",
      "[CV 3/5] END criterion=gini, max_depth=3, min_samples_leaf=50, n_estimators=50;, score=0.702 total time=   2.4s\n",
      "[CV 4/5] END criterion=gini, max_depth=3, min_samples_leaf=50, n_estimators=75;, score=0.736 total time=   3.6s\n",
      "[CV 5/5] END criterion=gini, max_depth=3, min_samples_leaf=50, n_estimators=100;, score=0.719 total time=   3.8s\n",
      "[CV 1/5] END criterion=gini, max_depth=3, min_samples_leaf=50, n_estimators=200;, score=0.734 total time=   8.5s\n",
      "[CV 2/5] END criterion=gini, max_depth=3, min_samples_leaf=100, n_estimators=50;, score=0.711 total time=   2.1s\n",
      "[CV 3/5] END criterion=gini, max_depth=3, min_samples_leaf=100, n_estimators=75;, score=0.729 total time=   3.1s\n",
      "[CV 1/5] END criterion=gini, max_depth=3, min_samples_leaf=100, n_estimators=150;, score=0.733 total time=   5.6s\n",
      "[CV 4/5] END criterion=gini, max_depth=3, min_samples_leaf=100, n_estimators=200;, score=0.741 total time=   9.1s\n",
      "[CV 2/5] END criterion=gini, max_depth=3, min_samples_leaf=200, n_estimators=75;, score=0.733 total time=   2.8s\n",
      "[CV 4/5] END criterion=gini, max_depth=3, min_samples_leaf=200, n_estimators=100;, score=0.730 total time=   3.9s\n",
      "[CV 2/5] END criterion=gini, max_depth=3, min_samples_leaf=200, n_estimators=200;, score=0.730 total time=   6.8s\n",
      "[CV 1/5] END criterion=gini, max_depth=3, min_samples_leaf=500, n_estimators=50;, score=0.694 total time=   1.7s\n",
      "[CV 2/5] END criterion=gini, max_depth=3, min_samples_leaf=500, n_estimators=75;, score=0.716 total time=   2.6s\n",
      "[CV 3/5] END criterion=gini, max_depth=3, min_samples_leaf=500, n_estimators=100;, score=0.708 total time=   3.3s\n",
      "[CV 1/5] END criterion=gini, max_depth=3, min_samples_leaf=500, n_estimators=200;, score=0.720 total time=   6.9s\n",
      "[CV 4/5] END criterion=gini, max_depth=5, min_samples_leaf=20, n_estimators=25;, score=0.733 total time=   1.9s\n",
      "[CV 5/5] END criterion=gini, max_depth=5, min_samples_leaf=20, n_estimators=50;, score=0.732 total time=   3.3s\n",
      "[CV 3/5] END criterion=gini, max_depth=5, min_samples_leaf=20, n_estimators=100;, score=0.762 total time=   5.7s\n",
      "[CV 1/5] END criterion=gini, max_depth=5, min_samples_leaf=20, n_estimators=200;, score=0.761 total time=  12.5s\n",
      "[CV 4/5] END criterion=gini, max_depth=5, min_samples_leaf=50, n_estimators=50;, score=0.751 total time=   3.9s\n",
      "[CV 5/5] END criterion=gini, max_depth=5, min_samples_leaf=50, n_estimators=75;, score=0.753 total time=   5.3s\n",
      "[CV 5/5] END criterion=gini, max_depth=5, min_samples_leaf=50, n_estimators=100;, score=0.758 total time=   9.0s\n",
      "[CV 3/5] END criterion=gini, max_depth=5, min_samples_leaf=50, n_estimators=200;, score=0.754 total time=  11.5s\n",
      "[CV 2/5] END criterion=gini, max_depth=5, min_samples_leaf=100, n_estimators=50;, score=0.743 total time=   3.0s\n",
      "[CV 3/5] END criterion=gini, max_depth=5, min_samples_leaf=100, n_estimators=75;, score=0.748 total time=   4.5s\n",
      "[CV 1/5] END criterion=gini, max_depth=5, min_samples_leaf=100, n_estimators=150;, score=0.765 total time=   8.9s\n",
      "[CV 4/5] END criterion=gini, max_depth=5, min_samples_leaf=100, n_estimators=200;, score=0.760 total time=  14.5s\n",
      "[CV 2/5] END criterion=gini, max_depth=5, min_samples_leaf=200, n_estimators=100;, score=0.752 total time=   7.7s\n",
      "[CV 1/5] END criterion=gini, max_depth=5, min_samples_leaf=200, n_estimators=200;, score=0.754 total time=  11.5s\n",
      "[CV 3/5] END criterion=gini, max_depth=5, min_samples_leaf=500, n_estimators=50;, score=0.712 total time=   2.5s\n",
      "[CV 3/5] END criterion=gini, max_depth=5, min_samples_leaf=500, n_estimators=75;, score=0.733 total time=   4.2s\n",
      "[CV 2/5] END criterion=gini, max_depth=5, min_samples_leaf=500, n_estimators=150;, score=0.724 total time=   7.8s\n",
      "[CV 1/5] END criterion=gini, max_depth=8, min_samples_leaf=20, n_estimators=10;, score=0.750 total time=   1.3s\n",
      "[CV 2/5] END criterion=gini, max_depth=8, min_samples_leaf=20, n_estimators=10;, score=0.735 total time=   1.2s\n",
      "[CV 3/5] END criterion=gini, max_depth=8, min_samples_leaf=20, n_estimators=10;, score=0.740 total time=   1.3s\n",
      "[CV 2/5] END criterion=gini, max_depth=8, min_samples_leaf=20, n_estimators=25;, score=0.768 total time=   3.4s\n",
      "[CV 1/5] END criterion=gini, max_depth=8, min_samples_leaf=20, n_estimators=50;, score=0.799 total time=   5.0s\n",
      "[CV 5/5] END criterion=gini, max_depth=8, min_samples_leaf=20, n_estimators=75;, score=0.794 total time=   7.7s\n",
      "[CV 3/5] END criterion=gini, max_depth=8, min_samples_leaf=20, n_estimators=150;, score=0.794 total time=  13.8s\n",
      "[CV 2/5] END criterion=gini, max_depth=8, min_samples_leaf=50, n_estimators=10;, score=0.735 total time=   1.3s\n",
      "[CV 4/5] END criterion=gini, max_depth=8, min_samples_leaf=50, n_estimators=10;, score=0.750 total time=   1.0s\n",
      "[CV 1/5] END criterion=gini, max_depth=8, min_samples_leaf=50, n_estimators=25;, score=0.766 total time=   2.3s\n",
      "[CV 4/5] END criterion=gini, max_depth=8, min_samples_leaf=50, n_estimators=25;, score=0.776 total time=   2.4s\n",
      "[CV 2/5] END criterion=gini, max_depth=8, min_samples_leaf=50, n_estimators=50;, score=0.787 total time=   5.0s\n",
      "[CV 4/5] END criterion=gini, max_depth=8, min_samples_leaf=50, n_estimators=75;, score=0.791 total time=   8.0s\n",
      "[CV 2/5] END criterion=gini, max_depth=8, min_samples_leaf=50, n_estimators=150;, score=0.792 total time=  13.8s\n",
      "[CV 4/5] END criterion=gini, max_depth=8, min_samples_leaf=50, n_estimators=200;, score=0.794 total time=  20.0s\n",
      "[CV 2/5] END criterion=gini, max_depth=8, min_samples_leaf=100, n_estimators=100;, score=0.786 total time=   8.0s\n",
      "[CV 5/5] END criterion=gini, max_depth=8, min_samples_leaf=100, n_estimators=150;, score=0.780 total time=  15.0s\n",
      "[CV 2/5] END criterion=gini, max_depth=8, min_samples_leaf=200, n_estimators=25;, score=0.738 total time=   1.8s\n",
      "[CV 2/5] END criterion=gini, max_depth=2, min_samples_leaf=20, n_estimators=10;, score=0.570 total time=   0.6s\n",
      "[CV 4/5] END criterion=gini, max_depth=2, min_samples_leaf=20, n_estimators=25;, score=0.624 total time=   1.4s\n",
      "[CV 3/5] END criterion=gini, max_depth=2, min_samples_leaf=20, n_estimators=75;, score=0.689 total time=   2.2s\n",
      "[CV 5/5] END criterion=gini, max_depth=2, min_samples_leaf=20, n_estimators=100;, score=0.680 total time=   2.7s\n",
      "[CV 3/5] END criterion=gini, max_depth=2, min_samples_leaf=20, n_estimators=200;, score=0.698 total time=   7.1s\n",
      "[CV 2/5] END criterion=gini, max_depth=2, min_samples_leaf=50, n_estimators=75;, score=0.702 total time=   3.2s\n",
      "[CV 5/5] END criterion=gini, max_depth=2, min_samples_leaf=50, n_estimators=100;, score=0.678 total time=   3.4s\n",
      "[CV 3/5] END criterion=gini, max_depth=2, min_samples_leaf=50, n_estimators=200;, score=0.696 total time=   6.8s\n",
      "[CV 2/5] END criterion=gini, max_depth=2, min_samples_leaf=100, n_estimators=75;, score=0.701 total time=   2.7s\n",
      "[CV 1/5] END criterion=gini, max_depth=2, min_samples_leaf=100, n_estimators=150;, score=0.701 total time=   4.2s\n",
      "[CV 4/5] END criterion=gini, max_depth=2, min_samples_leaf=100, n_estimators=200;, score=0.712 total time=   7.0s\n",
      "[CV 2/5] END criterion=gini, max_depth=2, min_samples_leaf=200, n_estimators=100;, score=0.695 total time=   3.2s\n",
      "[CV 4/5] END criterion=gini, max_depth=2, min_samples_leaf=200, n_estimators=150;, score=0.704 total time=   5.2s\n",
      "[CV 4/5] END criterion=gini, max_depth=2, min_samples_leaf=500, n_estimators=10;, score=0.532 total time=   0.8s\n",
      "[CV 2/5] END criterion=gini, max_depth=2, min_samples_leaf=500, n_estimators=25;, score=0.585 total time=   1.0s\n",
      "[CV 1/5] END criterion=gini, max_depth=2, min_samples_leaf=500, n_estimators=50;, score=0.630 total time=   1.6s\n",
      "[CV 2/5] END criterion=gini, max_depth=2, min_samples_leaf=500, n_estimators=75;, score=0.672 total time=   3.0s\n",
      "[CV 1/5] END criterion=gini, max_depth=2, min_samples_leaf=500, n_estimators=150;, score=0.674 total time=   4.5s\n",
      "[CV 4/5] END criterion=gini, max_depth=2, min_samples_leaf=500, n_estimators=200;, score=0.686 total time=   6.2s\n",
      "[CV 2/5] END criterion=gini, max_depth=3, min_samples_leaf=20, n_estimators=75;, score=0.733 total time=   2.9s\n",
      "[CV 5/5] END criterion=gini, max_depth=3, min_samples_leaf=20, n_estimators=100;, score=0.720 total time=   3.8s\n",
      "[CV 2/5] END criterion=gini, max_depth=3, min_samples_leaf=20, n_estimators=200;, score=0.737 total time=   7.8s\n",
      "[CV 4/5] END criterion=gini, max_depth=3, min_samples_leaf=50, n_estimators=25;, score=0.675 total time=   1.5s\n",
      "[CV 4/5] END criterion=gini, max_depth=3, min_samples_leaf=50, n_estimators=50;, score=0.711 total time=   2.8s\n",
      "[CV 1/5] END criterion=gini, max_depth=3, min_samples_leaf=50, n_estimators=100;, score=0.732 total time=   4.6s\n",
      "[CV 4/5] END criterion=gini, max_depth=3, min_samples_leaf=50, n_estimators=150;, score=0.742 total time=   7.4s\n",
      "[CV 3/5] END criterion=gini, max_depth=3, min_samples_leaf=100, n_estimators=10;, score=0.620 total time=   0.8s\n",
      "[CV 1/5] END criterion=gini, max_depth=3, min_samples_leaf=100, n_estimators=25;, score=0.688 total time=   1.4s\n",
      "[CV 4/5] END criterion=gini, max_depth=3, min_samples_leaf=100, n_estimators=25;, score=0.675 total time=   1.2s\n",
      "[CV 4/5] END criterion=gini, max_depth=3, min_samples_leaf=100, n_estimators=50;, score=0.709 total time=   1.9s\n",
      "[CV 5/5] END criterion=gini, max_depth=3, min_samples_leaf=100, n_estimators=75;, score=0.723 total time=   3.5s\n",
      "[CV 3/5] END criterion=gini, max_depth=3, min_samples_leaf=100, n_estimators=150;, score=0.728 total time=   5.7s\n",
      "[CV 5/5] END criterion=gini, max_depth=3, min_samples_leaf=100, n_estimators=200;, score=0.728 total time=  10.0s\n",
      "[CV 3/5] END criterion=gini, max_depth=3, min_samples_leaf=200, n_estimators=100;, score=0.728 total time=   4.3s\n",
      "[CV 5/5] END criterion=gini, max_depth=3, min_samples_leaf=200, n_estimators=150;, score=0.721 total time=   5.7s\n",
      "[CV 3/5] END criterion=gini, max_depth=3, min_samples_leaf=500, n_estimators=10;, score=0.613 total time=   0.6s\n",
      "[CV 1/5] END criterion=gini, max_depth=3, min_samples_leaf=500, n_estimators=25;, score=0.659 total time=   1.1s\n",
      "[CV 4/5] END criterion=gini, max_depth=3, min_samples_leaf=500, n_estimators=25;, score=0.644 total time=   1.2s\n",
      "[CV 4/5] END criterion=gini, max_depth=3, min_samples_leaf=500, n_estimators=50;, score=0.676 total time=   1.9s\n",
      "[CV 1/5] END criterion=gini, max_depth=3, min_samples_leaf=500, n_estimators=100;, score=0.717 total time=   3.7s\n",
      "[CV 4/5] END criterion=gini, max_depth=3, min_samples_leaf=500, n_estimators=150;, score=0.717 total time=   5.7s\n",
      "[CV 2/5] END criterion=gini, max_depth=5, min_samples_leaf=20, n_estimators=10;, score=0.661 total time=   0.9s\n",
      "[CV 1/5] END criterion=gini, max_depth=5, min_samples_leaf=20, n_estimators=25;, score=0.727 total time=   1.7s\n",
      "[CV 5/5] END criterion=gini, max_depth=5, min_samples_leaf=20, n_estimators=25;, score=0.715 total time=   1.8s\n",
      "[CV 1/5] END criterion=gini, max_depth=5, min_samples_leaf=20, n_estimators=75;, score=0.775 total time=   4.6s\n",
      "[CV 4/5] END criterion=gini, max_depth=5, min_samples_leaf=20, n_estimators=100;, score=0.775 total time=   5.6s\n",
      "[CV 2/5] END criterion=gini, max_depth=5, min_samples_leaf=20, n_estimators=200;, score=0.765 total time=  12.9s\n",
      "[CV 1/5] END criterion=gini, max_depth=5, min_samples_leaf=50, n_estimators=75;, score=0.770 total time=   6.8s\n",
      "[CV 4/5] END criterion=gini, max_depth=5, min_samples_leaf=50, n_estimators=100;, score=0.773 total time=   7.9s\n",
      "[CV 2/5] END criterion=gini, max_depth=5, min_samples_leaf=50, n_estimators=200;, score=0.760 total time=  14.7s\n",
      "[CV 1/5] END criterion=gini, max_depth=5, min_samples_leaf=100, n_estimators=75;, score=0.768 total time=   4.9s\n",
      "[CV 3/5] END criterion=gini, max_depth=5, min_samples_leaf=100, n_estimators=100;, score=0.755 total time=   7.0s\n",
      "[CV 2/5] END criterion=gini, max_depth=5, min_samples_leaf=100, n_estimators=200;, score=0.757 total time=  14.6s\n",
      "[CV 1/5] END criterion=gini, max_depth=5, min_samples_leaf=200, n_estimators=75;, score=0.759 total time=   4.6s\n",
      "[CV 4/5] END criterion=gini, max_depth=5, min_samples_leaf=200, n_estimators=100;, score=0.755 total time=   7.2s\n",
      "[CV 3/5] END criterion=gini, max_depth=5, min_samples_leaf=200, n_estimators=200;, score=0.746 total time=  12.8s\n",
      "[CV 4/5] END criterion=gini, max_depth=5, min_samples_leaf=500, n_estimators=75;, score=0.726 total time=   3.9s\n",
      "[CV 5/5] END criterion=gini, max_depth=5, min_samples_leaf=500, n_estimators=100;, score=0.723 total time=   5.4s\n",
      "[CV 3/5] END criterion=gini, max_depth=5, min_samples_leaf=500, n_estimators=200;, score=0.727 total time=   9.3s\n",
      "[CV 4/5] END criterion=gini, max_depth=8, min_samples_leaf=20, n_estimators=25;, score=0.773 total time=   2.5s\n",
      "[CV 5/5] END criterion=gini, max_depth=8, min_samples_leaf=20, n_estimators=50;, score=0.782 total time=   4.8s\n",
      "[CV 3/5] END criterion=gini, max_depth=8, min_samples_leaf=20, n_estimators=100;, score=0.794 total time=   9.8s\n",
      "[CV 1/5] END criterion=gini, max_depth=8, min_samples_leaf=20, n_estimators=200;, score=0.813 total time=  18.1s\n",
      "[CV 4/5] END criterion=gini, max_depth=8, min_samples_leaf=50, n_estimators=50;, score=0.789 total time=   4.5s\n",
      "[CV 5/5] END criterion=gini, max_depth=8, min_samples_leaf=50, n_estimators=75;, score=0.781 total time=   7.1s\n",
      "[CV 1/5] END criterion=gini, max_depth=8, min_samples_leaf=50, n_estimators=150;, score=0.808 total time=  15.3s\n",
      "[CV 5/5] END criterion=gini, max_depth=8, min_samples_leaf=50, n_estimators=200;, score=0.788 total time=  20.5s\n",
      "[CV 5/5] END criterion=gini, max_depth=8, min_samples_leaf=100, n_estimators=100;, score=0.783 total time=   9.3s\n",
      "[CV 3/5] END criterion=gini, max_depth=8, min_samples_leaf=100, n_estimators=200;, score=0.775 total time=  18.9s\n",
      "[CV 1/5] END criterion=gini, max_depth=8, min_samples_leaf=200, n_estimators=75;, score=0.770 total time=   7.0s\n",
      "[CV 4/5] END criterion=gini, max_depth=8, min_samples_leaf=200, n_estimators=100;, score=0.775 total time=   9.2s\n",
      "[CV 2/5] END criterion=gini, max_depth=8, min_samples_leaf=200, n_estimators=200;, score=0.767 total time=  20.6s\n",
      "[CV 3/5] END criterion=gini, max_depth=2, min_samples_leaf=20, n_estimators=25;, score=0.601 total time=   1.1s\n",
      "[CV 4/5] END criterion=gini, max_depth=2, min_samples_leaf=20, n_estimators=50;, score=0.656 total time=   2.1s\n",
      "[CV 3/5] END criterion=gini, max_depth=2, min_samples_leaf=20, n_estimators=100;, score=0.693 total time=   3.0s\n",
      "[CV 1/5] END criterion=gini, max_depth=2, min_samples_leaf=20, n_estimators=200;, score=0.713 total time=   6.2s\n",
      "[CV 5/5] END criterion=gini, max_depth=2, min_samples_leaf=50, n_estimators=25;, score=0.596 total time=   1.3s\n",
      "[CV 5/5] END criterion=gini, max_depth=2, min_samples_leaf=50, n_estimators=50;, score=0.631 total time=   1.8s\n",
      "[CV 2/5] END criterion=gini, max_depth=2, min_samples_leaf=50, n_estimators=100;, score=0.700 total time=   3.2s\n",
      "[CV 4/5] END criterion=gini, max_depth=2, min_samples_leaf=50, n_estimators=150;, score=0.708 total time=   5.0s\n",
      "[CV 4/5] END criterion=gini, max_depth=2, min_samples_leaf=100, n_estimators=10;, score=0.557 total time=   0.6s\n",
      "[CV 2/5] END criterion=gini, max_depth=2, min_samples_leaf=100, n_estimators=25;, score=0.616 total time=   1.0s\n",
      "[CV 1/5] END criterion=gini, max_depth=2, min_samples_leaf=100, n_estimators=50;, score=0.644 total time=   1.9s\n",
      "[CV 1/5] END criterion=gini, max_depth=2, min_samples_leaf=100, n_estimators=75;, score=0.708 total time=   2.6s\n",
      "[CV 4/5] END criterion=gini, max_depth=2, min_samples_leaf=100, n_estimators=100;, score=0.702 total time=   2.7s\n",
      "[CV 2/5] END criterion=gini, max_depth=2, min_samples_leaf=100, n_estimators=200;, score=0.710 total time=   6.2s\n",
      "[CV 3/5] END criterion=gini, max_depth=2, min_samples_leaf=200, n_estimators=50;, score=0.633 total time=   1.9s\n",
      "[CV 5/5] END criterion=gini, max_depth=2, min_samples_leaf=200, n_estimators=75;, score=0.683 total time=   2.8s\n",
      "[CV 3/5] END criterion=gini, max_depth=2, min_samples_leaf=200, n_estimators=150;, score=0.692 total time=   4.6s\n",
      "[CV 5/5] END criterion=gini, max_depth=2, min_samples_leaf=200, n_estimators=200;, score=0.691 total time=   6.6s\n",
      "[CV 3/5] END criterion=gini, max_depth=2, min_samples_leaf=500, n_estimators=100;, score=0.664 total time=   2.7s\n",
      "[CV 4/5] END criterion=gini, max_depth=2, min_samples_leaf=500, n_estimators=150;, score=0.673 total time=   5.0s\n",
      "[CV 4/5] END criterion=gini, max_depth=3, min_samples_leaf=20, n_estimators=10;, score=0.614 total time=   1.0s\n",
      "[CV 2/5] END criterion=gini, max_depth=3, min_samples_leaf=20, n_estimators=25;, score=0.672 total time=   1.6s\n",
      "[CV 2/5] END criterion=gini, max_depth=3, min_samples_leaf=20, n_estimators=50;, score=0.714 total time=   2.2s\n",
      "[CV 5/5] END criterion=gini, max_depth=3, min_samples_leaf=20, n_estimators=75;, score=0.721 total time=   3.8s\n",
      "[CV 3/5] END criterion=gini, max_depth=3, min_samples_leaf=20, n_estimators=150;, score=0.729 total time=   7.5s\n",
      "[CV 1/5] END criterion=gini, max_depth=3, min_samples_leaf=50, n_estimators=10;, score=0.627 total time=   0.7s\n",
      "[CV 3/5] END criterion=gini, max_depth=3, min_samples_leaf=50, n_estimators=10;, score=0.621 total time=   0.7s\n",
      "[CV 1/5] END criterion=gini, max_depth=3, min_samples_leaf=50, n_estimators=25;, score=0.686 total time=   2.0s\n",
      "[CV 2/5] END criterion=gini, max_depth=3, min_samples_leaf=50, n_estimators=50;, score=0.713 total time=   2.4s\n",
      "[CV 3/5] END criterion=gini, max_depth=3, min_samples_leaf=50, n_estimators=75;, score=0.734 total time=   4.2s\n",
      "[CV 1/5] END criterion=gini, max_depth=3, min_samples_leaf=50, n_estimators=150;, score=0.732 total time=   7.3s\n",
      "[CV 5/5] END criterion=gini, max_depth=3, min_samples_leaf=50, n_estimators=200;, score=0.732 total time=   9.2s\n",
      "[CV 4/5] END criterion=gini, max_depth=3, min_samples_leaf=100, n_estimators=100;, score=0.733 total time=   4.8s\n",
      "[CV 2/5] END criterion=gini, max_depth=3, min_samples_leaf=100, n_estimators=200;, score=0.735 total time=  10.8s\n",
      "[CV 3/5] END criterion=gini, max_depth=3, min_samples_leaf=200, n_estimators=75;, score=0.731 total time=   3.3s\n",
      "[CV 1/5] END criterion=gini, max_depth=3, min_samples_leaf=200, n_estimators=150;, score=0.732 total time=   6.7s\n",
      "[CV 5/5] END criterion=gini, max_depth=3, min_samples_leaf=200, n_estimators=200;, score=0.726 total time=   8.2s\n",
      "[CV 5/5] END criterion=gini, max_depth=3, min_samples_leaf=500, n_estimators=100;, score=0.700 total time=   3.7s\n",
      "[CV 3/5] END criterion=gini, max_depth=3, min_samples_leaf=500, n_estimators=200;, score=0.705 total time=   7.6s\n",
      "[CV 4/5] END criterion=gini, max_depth=5, min_samples_leaf=20, n_estimators=50;, score=0.759 total time=   3.3s\n",
      "[CV 2/5] END criterion=gini, max_depth=5, min_samples_leaf=20, n_estimators=100;, score=0.771 total time=   5.8s\n",
      "[CV 4/5] END criterion=gini, max_depth=5, min_samples_leaf=20, n_estimators=150;, score=0.769 total time=   8.1s\n",
      "[CV 4/5] END criterion=gini, max_depth=5, min_samples_leaf=50, n_estimators=10;, score=0.674 total time=   0.8s\n",
      "[CV 2/5] END criterion=gini, max_depth=5, min_samples_leaf=50, n_estimators=25;, score=0.726 total time=   1.5s\n",
      "[CV 4/5] END criterion=gini, max_depth=5, min_samples_leaf=50, n_estimators=25;, score=0.737 total time=   1.6s\n",
      "[CV 2/5] END criterion=gini, max_depth=5, min_samples_leaf=50, n_estimators=50;, score=0.747 total time=   3.2s\n",
      "[CV 2/5] END criterion=gini, max_depth=5, min_samples_leaf=50, n_estimators=75;, score=0.757 total time=   7.8s\n",
      "[CV 3/5] END criterion=gini, max_depth=5, min_samples_leaf=50, n_estimators=150;, score=0.758 total time=  13.4s\n",
      "[CV 5/5] END criterion=gini, max_depth=5, min_samples_leaf=50, n_estimators=200;, score=0.755 total time=  12.5s\n",
      "[CV 4/5] END criterion=gini, max_depth=5, min_samples_leaf=100, n_estimators=100;, score=0.765 total time=   6.5s\n",
      "[CV 1/5] END criterion=gini, max_depth=5, min_samples_leaf=100, n_estimators=200;, score=0.762 total time=  12.4s\n",
      "[CV 4/5] END criterion=gini, max_depth=5, min_samples_leaf=200, n_estimators=50;, score=0.742 total time=   3.5s\n",
      "[CV 4/5] END criterion=gini, max_depth=5, min_samples_leaf=200, n_estimators=75;, score=0.755 total time=   4.8s\n",
      "[CV 2/5] END criterion=gini, max_depth=5, min_samples_leaf=200, n_estimators=150;, score=0.751 total time=   9.6s\n",
      "[CV 5/5] END criterion=gini, max_depth=5, min_samples_leaf=200, n_estimators=200;, score=0.748 total time=  12.4s\n",
      "[CV 3/5] END criterion=gini, max_depth=5, min_samples_leaf=500, n_estimators=100;, score=0.732 total time=   5.1s\n",
      "[CV 1/5] END criterion=gini, max_depth=5, min_samples_leaf=500, n_estimators=200;, score=0.738 total time=  11.0s\n",
      "[CV 2/5] END criterion=gini, max_depth=8, min_samples_leaf=20, n_estimators=50;, score=0.788 total time=   4.7s\n",
      "[CV 4/5] END criterion=gini, max_depth=8, min_samples_leaf=20, n_estimators=75;, score=0.795 total time=   6.3s\n",
      "[CV 2/5] END criterion=gini, max_depth=8, min_samples_leaf=20, n_estimators=150;, score=0.801 total time=  13.9s\n",
      "[CV 5/5] END criterion=gini, max_depth=8, min_samples_leaf=20, n_estimators=200;, score=0.794 total time=  20.8s\n",
      "[CV 5/5] END criterion=gini, max_depth=8, min_samples_leaf=50, n_estimators=100;, score=0.796 total time=  11.3s\n",
      "[CV 3/5] END criterion=gini, max_depth=8, min_samples_leaf=50, n_estimators=200;, score=0.779 total time=  17.6s\n",
      "[CV 1/5] END criterion=gini, max_depth=8, min_samples_leaf=100, n_estimators=75;, score=0.789 total time=   5.9s\n",
      "[CV 3/5] END criterion=gini, max_depth=8, min_samples_leaf=100, n_estimators=100;, score=0.784 total time=   8.2s\n",
      "[CV 1/5] END criterion=gini, max_depth=8, min_samples_leaf=100, n_estimators=200;, score=0.794 total time=  18.3s\n",
      "[CV 2/5] END criterion=gini, max_depth=8, min_samples_leaf=200, n_estimators=50;, score=0.759 total time=   4.7s\n",
      "[CV 3/5] END criterion=gini, max_depth=8, min_samples_leaf=200, n_estimators=75;, score=0.762 total time=   6.3s\n",
      "[CV 1/5] END criterion=gini, max_depth=8, min_samples_leaf=200, n_estimators=150;, score=0.782 total time=  13.4s\n",
      "[CV 4/5] END criterion=gini, max_depth=8, min_samples_leaf=200, n_estimators=200;, score=0.780 total time=  18.5s\n",
      "[CV 5/5] END criterion=gini, max_depth=8, min_samples_leaf=500, n_estimators=100;, score=0.732 total time=   6.3s\n",
      "[CV 3/5] END criterion=gini, max_depth=8, min_samples_leaf=500, n_estimators=200;, score=0.730 total time=  12.6s\n",
      "[CV 2/5] END criterion=gini, max_depth=5, min_samples_leaf=200, n_estimators=75;, score=0.747 total time=   4.9s\n",
      "[CV 1/5] END criterion=gini, max_depth=5, min_samples_leaf=200, n_estimators=150;, score=0.757 total time=   9.9s\n",
      "[CV 4/5] END criterion=gini, max_depth=5, min_samples_leaf=200, n_estimators=200;, score=0.760 total time=  12.0s\n",
      "[CV 2/5] END criterion=gini, max_depth=5, min_samples_leaf=500, n_estimators=100;, score=0.728 total time=   5.2s\n",
      "[CV 5/5] END criterion=gini, max_depth=5, min_samples_leaf=500, n_estimators=150;, score=0.729 total time=   8.2s\n",
      "[CV 5/5] END criterion=gini, max_depth=8, min_samples_leaf=20, n_estimators=10;, score=0.731 total time=   1.6s\n",
      "[CV 3/5] END criterion=gini, max_depth=8, min_samples_leaf=20, n_estimators=25;, score=0.756 total time=   2.9s\n",
      "[CV 4/5] END criterion=gini, max_depth=8, min_samples_leaf=20, n_estimators=50;, score=0.790 total time=   4.9s\n",
      "[CV 2/5] END criterion=gini, max_depth=8, min_samples_leaf=20, n_estimators=100;, score=0.800 total time=   9.6s\n",
      "[CV 5/5] END criterion=gini, max_depth=8, min_samples_leaf=20, n_estimators=150;, score=0.800 total time=  13.3s\n",
      "[CV 2/5] END criterion=gini, max_depth=8, min_samples_leaf=50, n_estimators=25;, score=0.768 total time=   2.2s\n",
      "[CV 5/5] END criterion=gini, max_depth=8, min_samples_leaf=50, n_estimators=25;, score=0.753 total time=   2.5s\n",
      "[CV 3/5] END criterion=gini, max_depth=8, min_samples_leaf=50, n_estimators=50;, score=0.777 total time=   4.5s\n",
      "[CV 3/5] END criterion=gini, max_depth=8, min_samples_leaf=50, n_estimators=75;, score=0.784 total time=   8.5s\n",
      "[CV 3/5] END criterion=gini, max_depth=8, min_samples_leaf=50, n_estimators=150;, score=0.782 total time=  14.6s\n",
      "[CV 1/5] END criterion=gini, max_depth=8, min_samples_leaf=100, n_estimators=10;, score=0.716 total time=   1.0s\n",
      "[CV 2/5] END criterion=gini, max_depth=8, min_samples_leaf=100, n_estimators=10;, score=0.725 total time=   1.0s\n",
      "[CV 3/5] END criterion=gini, max_depth=8, min_samples_leaf=100, n_estimators=10;, score=0.717 total time=   1.0s\n",
      "[CV 5/5] END criterion=gini, max_depth=8, min_samples_leaf=100, n_estimators=10;, score=0.721 total time=   1.0s\n",
      "[CV 2/5] END criterion=gini, max_depth=8, min_samples_leaf=100, n_estimators=25;, score=0.748 total time=   2.0s\n",
      "[CV 5/5] END criterion=gini, max_depth=8, min_samples_leaf=100, n_estimators=25;, score=0.743 total time=   2.5s\n",
      "[CV 2/5] END criterion=gini, max_depth=8, min_samples_leaf=100, n_estimators=50;, score=0.770 total time=   5.0s\n",
      "[CV 4/5] END criterion=gini, max_depth=8, min_samples_leaf=100, n_estimators=75;, score=0.780 total time=   7.1s\n",
      "[CV 2/5] END criterion=gini, max_depth=8, min_samples_leaf=100, n_estimators=150;, score=0.781 total time=  13.7s\n",
      "[CV 4/5] END criterion=gini, max_depth=8, min_samples_leaf=100, n_estimators=200;, score=0.788 total time=  18.7s\n",
      "[CV 3/5] END criterion=gini, max_depth=8, min_samples_leaf=200, n_estimators=100;, score=0.769 total time=   8.2s\n",
      "[CV 5/5] END criterion=gini, max_depth=8, min_samples_leaf=200, n_estimators=150;, score=0.767 total time=  13.4s\n",
      "[CV 3/5] END criterion=gini, max_depth=8, min_samples_leaf=500, n_estimators=10;, score=0.690 total time=   0.8s\n",
      "[CV 1/5] END criterion=gini, max_depth=8, min_samples_leaf=500, n_estimators=25;, score=0.705 total time=   1.5s\n",
      "[CV 4/5] END criterion=gini, max_depth=8, min_samples_leaf=500, n_estimators=25;, score=0.713 total time=   1.5s\n",
      "[CV 2/5] END criterion=gini, max_depth=8, min_samples_leaf=500, n_estimators=50;, score=0.722 total time=   3.3s\n",
      "[CV 5/5] END criterion=gini, max_depth=8, min_samples_leaf=500, n_estimators=50;, score=0.716 total time=   3.6s\n",
      "[CV 1/5] END criterion=gini, max_depth=8, min_samples_leaf=500, n_estimators=100;, score=0.740 total time=   6.2s\n",
      "[CV 4/5] END criterion=gini, max_depth=8, min_samples_leaf=500, n_estimators=150;, score=0.741 total time=   8.3s\n",
      "[CV 2/5] END criterion=gini, max_depth=10, min_samples_leaf=20, n_estimators=10;, score=0.754 total time=   1.2s\n",
      "[CV 4/5] END criterion=gini, max_depth=10, min_samples_leaf=20, n_estimators=10;, score=0.785 total time=   1.3s\n",
      "[CV 2/5] END criterion=gini, max_depth=10, min_samples_leaf=20, n_estimators=25;, score=0.783 total time=   3.6s\n",
      "[CV 2/5] END criterion=gini, max_depth=10, min_samples_leaf=20, n_estimators=50;, score=0.800 total time=   6.8s\n",
      "[CV 1/5] END criterion=gini, max_depth=10, min_samples_leaf=20, n_estimators=100;, score=0.825 total time=  13.3s\n",
      "[CV 1/5] END criterion=gini, max_depth=10, min_samples_leaf=20, n_estimators=200;, score=0.823 total time=  25.8s\n",
      "[CV 5/5] END criterion=gini, max_depth=10, min_samples_leaf=50, n_estimators=50;, score=0.791 total time=   5.5s\n",
      "[CV 1/5] END criterion=gini, max_depth=10, min_samples_leaf=50, n_estimators=100;, score=0.813 total time=  10.1s\n",
      "[CV 4/5] END criterion=gini, max_depth=10, min_samples_leaf=50, n_estimators=150;, score=0.812 total time=  15.1s\n",
      "[CV 4/5] END criterion=gini, max_depth=10, min_samples_leaf=100, n_estimators=10;, score=0.745 total time=   1.1s\n",
      "[CV 1/5] END criterion=gini, max_depth=10, min_samples_leaf=100, n_estimators=25;, score=0.765 total time=   2.5s\n",
      "[CV 4/5] END criterion=gini, max_depth=10, min_samples_leaf=100, n_estimators=25;, score=0.776 total time=   2.5s\n",
      "[CV 2/5] END criterion=gini, max_depth=10, min_samples_leaf=100, n_estimators=50;, score=0.783 total time=   4.4s\n",
      "[CV 3/5] END criterion=gini, max_depth=10, min_samples_leaf=100, n_estimators=75;, score=0.789 total time=   7.0s\n",
      "[CV 5/5] END criterion=gini, max_depth=10, min_samples_leaf=100, n_estimators=100;, score=0.804 total time=   9.1s\n",
      "[CV 2/5] END criterion=gini, max_depth=10, min_samples_leaf=100, n_estimators=200;, score=0.792 total time=  17.9s\n",
      "[CV 1/5] END criterion=gini, max_depth=10, min_samples_leaf=200, n_estimators=75;, score=0.771 total time=   5.9s\n",
      "[CV 3/5] END criterion=gini, max_depth=10, min_samples_leaf=200, n_estimators=100;, score=0.778 total time=   7.7s\n",
      "[CV 1/5] END criterion=gini, max_depth=10, min_samples_leaf=200, n_estimators=200;, score=0.789 total time=  16.6s\n",
      "[CV 4/5] END criterion=gini, max_depth=10, min_samples_leaf=500, n_estimators=50;, score=0.726 total time=   3.0s\n",
      "[CV 4/5] END criterion=gini, max_depth=10, min_samples_leaf=500, n_estimators=75;, score=0.740 total time=   4.6s\n",
      "[CV 3/5] END criterion=gini, max_depth=10, min_samples_leaf=500, n_estimators=150;, score=0.729 total time=   8.8s\n",
      "[CV 1/5] END criterion=gini, max_depth=15, min_samples_leaf=20, n_estimators=10;, score=0.788 total time=   1.6s\n",
      "[CV 2/5] END criterion=gini, max_depth=15, min_samples_leaf=20, n_estimators=10;, score=0.776 total time=   1.5s\n",
      "[CV 5/5] END criterion=gini, max_depth=15, min_samples_leaf=20, n_estimators=10;, score=0.774 total time=   1.5s\n",
      "[CV 3/5] END criterion=gini, max_depth=15, min_samples_leaf=20, n_estimators=25;, score=0.814 total time=   3.4s\n",
      "[CV 4/5] END criterion=gini, max_depth=15, min_samples_leaf=20, n_estimators=50;, score=0.830 total time=   6.6s\n",
      "[CV 3/5] END criterion=gini, max_depth=15, min_samples_leaf=20, n_estimators=100;, score=0.830 total time=  12.9s\n",
      "[CV 1/5] END criterion=gini, max_depth=15, min_samples_leaf=20, n_estimators=200;, score=0.846 total time=  25.7s\n",
      "[CV 4/5] END criterion=gini, max_depth=15, min_samples_leaf=50, n_estimators=50;, score=0.814 total time=   5.9s\n",
      "[CV 5/5] END criterion=gini, max_depth=15, min_samples_leaf=50, n_estimators=75;, score=0.816 total time=   8.4s\n",
      "[CV 1/5] END criterion=gini, max_depth=15, min_samples_leaf=50, n_estimators=150;, score=0.834 total time=  16.8s\n",
      "[CV 4/5] END criterion=gini, max_depth=15, min_samples_leaf=50, n_estimators=200;, score=0.816 total time=  22.4s\n",
      "[CV 1/5] END criterion=gini, max_depth=15, min_samples_leaf=100, n_estimators=100;, score=0.822 total time=  10.1s\n",
      "[CV 4/5] END criterion=gini, max_depth=15, min_samples_leaf=100, n_estimators=150;, score=0.811 total time=  14.9s\n",
      "[CV 3/5] END criterion=gini, max_depth=15, min_samples_leaf=200, n_estimators=10;, score=0.716 total time=   1.1s\n",
      "[CV 5/5] END criterion=gini, max_depth=15, min_samples_leaf=200, n_estimators=10;, score=0.713 total time=   1.0s\n",
      "[CV 2/5] END criterion=gini, max_depth=15, min_samples_leaf=200, n_estimators=25;, score=0.759 total time=   2.3s\n",
      "[CV 3/5] END criterion=gini, max_depth=8, min_samples_leaf=100, n_estimators=25;, score=0.750 total time=   2.0s\n",
      "[CV 1/5] END criterion=gini, max_depth=8, min_samples_leaf=100, n_estimators=50;, score=0.780 total time=   5.1s\n",
      "[CV 5/5] END criterion=gini, max_depth=8, min_samples_leaf=100, n_estimators=50;, score=0.757 total time=   5.0s\n",
      "[CV 1/5] END criterion=gini, max_depth=8, min_samples_leaf=100, n_estimators=100;, score=0.803 total time=   9.2s\n",
      "[CV 4/5] END criterion=gini, max_depth=8, min_samples_leaf=100, n_estimators=150;, score=0.789 total time=  15.0s\n",
      "[CV 4/5] END criterion=gini, max_depth=8, min_samples_leaf=200, n_estimators=10;, score=0.706 total time=   1.0s\n",
      "[CV 1/5] END criterion=gini, max_depth=8, min_samples_leaf=200, n_estimators=25;, score=0.743 total time=   2.4s\n",
      "[CV 5/5] END criterion=gini, max_depth=8, min_samples_leaf=200, n_estimators=25;, score=0.724 total time=   2.2s\n",
      "[CV 4/5] END criterion=gini, max_depth=8, min_samples_leaf=200, n_estimators=50;, score=0.755 total time=   4.1s\n",
      "[CV 4/5] END criterion=gini, max_depth=8, min_samples_leaf=200, n_estimators=75;, score=0.771 total time=   6.6s\n",
      "[CV 3/5] END criterion=gini, max_depth=8, min_samples_leaf=200, n_estimators=150;, score=0.764 total time=  15.9s\n",
      "[CV 1/5] END criterion=gini, max_depth=8, min_samples_leaf=500, n_estimators=10;, score=0.679 total time=   0.8s\n",
      "[CV 2/5] END criterion=gini, max_depth=8, min_samples_leaf=500, n_estimators=10;, score=0.673 total time=   1.2s\n",
      "[CV 5/5] END criterion=gini, max_depth=8, min_samples_leaf=500, n_estimators=10;, score=0.673 total time=   0.9s\n",
      "[CV 2/5] END criterion=gini, max_depth=8, min_samples_leaf=500, n_estimators=25;, score=0.697 total time=   2.0s\n",
      "[CV 1/5] END criterion=gini, max_depth=8, min_samples_leaf=500, n_estimators=50;, score=0.730 total time=   3.4s\n",
      "[CV 4/5] END criterion=gini, max_depth=8, min_samples_leaf=500, n_estimators=50;, score=0.726 total time=   3.8s\n",
      "[CV 5/5] END criterion=gini, max_depth=8, min_samples_leaf=500, n_estimators=75;, score=0.727 total time=   4.4s\n",
      "[CV 3/5] END criterion=gini, max_depth=8, min_samples_leaf=500, n_estimators=150;, score=0.727 total time=   9.3s\n",
      "[CV 1/5] END criterion=gini, max_depth=10, min_samples_leaf=20, n_estimators=10;, score=0.759 total time=   1.4s\n",
      "[CV 3/5] END criterion=gini, max_depth=10, min_samples_leaf=20, n_estimators=10;, score=0.750 total time=   1.5s\n",
      "[CV 5/5] END criterion=gini, max_depth=10, min_samples_leaf=20, n_estimators=10;, score=0.756 total time=   1.8s\n",
      "[CV 3/5] END criterion=gini, max_depth=10, min_samples_leaf=20, n_estimators=25;, score=0.782 total time=   3.1s\n",
      "[CV 4/5] END criterion=gini, max_depth=10, min_samples_leaf=20, n_estimators=50;, score=0.813 total time=   7.3s\n",
      "[CV 3/5] END criterion=gini, max_depth=10, min_samples_leaf=20, n_estimators=100;, score=0.813 total time=  11.8s\n",
      "[CV 5/5] END criterion=gini, max_depth=10, min_samples_leaf=20, n_estimators=150;, score=0.815 total time=  18.3s\n",
      "[CV 1/5] END criterion=gini, max_depth=10, min_samples_leaf=50, n_estimators=25;, score=0.785 total time=   2.8s\n",
      "[CV 4/5] END criterion=gini, max_depth=10, min_samples_leaf=50, n_estimators=25;, score=0.790 total time=   2.8s\n",
      "[CV 2/5] END criterion=gini, max_depth=10, min_samples_leaf=50, n_estimators=50;, score=0.799 total time=   5.6s\n",
      "[CV 3/5] END criterion=gini, max_depth=10, min_samples_leaf=50, n_estimators=75;, score=0.801 total time=   6.9s\n",
      "[CV 5/5] END criterion=gini, max_depth=10, min_samples_leaf=50, n_estimators=100;, score=0.808 total time=   9.0s\n",
      "[CV 1/5] END criterion=gini, max_depth=10, min_samples_leaf=50, n_estimators=200;, score=0.818 total time=  19.4s\n",
      "[CV 4/5] END criterion=gini, max_depth=10, min_samples_leaf=100, n_estimators=50;, score=0.786 total time=   4.8s\n",
      "[CV 1/5] END criterion=gini, max_depth=10, min_samples_leaf=100, n_estimators=100;, score=0.812 total time=  11.0s\n",
      "[CV 1/5] END criterion=gini, max_depth=10, min_samples_leaf=100, n_estimators=200;, score=0.808 total time=  18.4s\n",
      "[CV 4/5] END criterion=gini, max_depth=10, min_samples_leaf=200, n_estimators=50;, score=0.769 total time=   4.6s\n",
      "[CV 5/5] END criterion=gini, max_depth=10, min_samples_leaf=200, n_estimators=75;, score=0.762 total time=   6.9s\n",
      "[CV 3/5] END criterion=gini, max_depth=10, min_samples_leaf=200, n_estimators=150;, score=0.773 total time=  13.9s\n",
      "[CV 1/5] END criterion=gini, max_depth=10, min_samples_leaf=500, n_estimators=10;, score=0.679 total time=   0.9s\n",
      "[CV 2/5] END criterion=gini, max_depth=10, min_samples_leaf=500, n_estimators=10;, score=0.673 total time=   0.8s\n",
      "[CV 3/5] END criterion=gini, max_depth=10, min_samples_leaf=500, n_estimators=10;, score=0.692 total time=   0.8s\n",
      "[CV 5/5] END criterion=gini, max_depth=10, min_samples_leaf=500, n_estimators=10;, score=0.673 total time=   0.8s\n",
      "[CV 3/5] END criterion=gini, max_depth=10, min_samples_leaf=500, n_estimators=25;, score=0.701 total time=   1.6s\n",
      "[CV 1/5] END criterion=gini, max_depth=10, min_samples_leaf=500, n_estimators=50;, score=0.730 total time=   3.0s\n",
      "[CV 5/5] END criterion=gini, max_depth=10, min_samples_leaf=500, n_estimators=50;, score=0.717 total time=   2.8s\n",
      "[CV 1/5] END criterion=gini, max_depth=10, min_samples_leaf=500, n_estimators=100;, score=0.742 total time=   6.0s\n",
      "[CV 4/5] END criterion=gini, max_depth=10, min_samples_leaf=500, n_estimators=150;, score=0.741 total time=   8.2s\n",
      "[CV 3/5] END criterion=gini, max_depth=15, min_samples_leaf=20, n_estimators=10;, score=0.794 total time=   1.5s\n",
      "[CV 1/5] END criterion=gini, max_depth=15, min_samples_leaf=20, n_estimators=25;, score=0.820 total time=   3.5s\n",
      "[CV 1/5] END criterion=gini, max_depth=15, min_samples_leaf=20, n_estimators=50;, score=0.840 total time=   6.5s\n",
      "[CV 4/5] END criterion=gini, max_depth=15, min_samples_leaf=20, n_estimators=75;, score=0.835 total time=   9.9s\n",
      "[CV 2/5] END criterion=gini, max_depth=15, min_samples_leaf=20, n_estimators=150;, score=0.830 total time=  19.7s\n",
      "[CV 1/5] END criterion=gini, max_depth=15, min_samples_leaf=50, n_estimators=10;, score=0.777 total time=   1.4s\n",
      "[CV 3/5] END criterion=gini, max_depth=15, min_samples_leaf=50, n_estimators=10;, score=0.761 total time=   1.6s\n",
      "[CV 1/5] END criterion=gini, max_depth=15, min_samples_leaf=50, n_estimators=25;, score=0.806 total time=   3.1s\n",
      "[CV 4/5] END criterion=gini, max_depth=15, min_samples_leaf=50, n_estimators=25;, score=0.803 total time=   3.0s\n",
      "[CV 2/5] END criterion=gini, max_depth=15, min_samples_leaf=50, n_estimators=50;, score=0.806 total time=   6.0s\n",
      "[CV 4/5] END criterion=gini, max_depth=15, min_samples_leaf=50, n_estimators=75;, score=0.822 total time=   9.3s\n",
      "[CV 2/5] END criterion=gini, max_depth=15, min_samples_leaf=50, n_estimators=150;, score=0.821 total time=  18.8s\n",
      "[CV 1/5] END criterion=gini, max_depth=15, min_samples_leaf=100, n_estimators=10;, score=0.762 total time=   1.4s\n",
      "[CV 2/5] END criterion=gini, max_depth=15, min_samples_leaf=100, n_estimators=10;, score=0.752 total time=   1.5s\n",
      "[CV 3/5] END criterion=gini, max_depth=15, min_samples_leaf=100, n_estimators=10;, score=0.746 total time=   1.2s\n",
      "[CV 4/5] END criterion=gini, max_depth=15, min_samples_leaf=100, n_estimators=10;, score=0.764 total time=   1.2s\n",
      "[CV 1/5] END criterion=gini, max_depth=15, min_samples_leaf=100, n_estimators=25;, score=0.785 total time=   2.7s\n",
      "[CV 4/5] END criterion=gini, max_depth=15, min_samples_leaf=100, n_estimators=25;, score=0.791 total time=   2.9s\n",
      "[CV 2/5] END criterion=gini, max_depth=15, min_samples_leaf=100, n_estimators=50;, score=0.795 total time=   5.3s\n",
      "[CV 3/5] END criterion=gini, max_depth=15, min_samples_leaf=100, n_estimators=75;, score=0.797 total time=   7.9s\n",
      "[CV 4/5] END criterion=gini, max_depth=15, min_samples_leaf=100, n_estimators=100;, score=0.816 total time=  10.8s\n",
      "[CV 2/5] END criterion=gini, max_depth=15, min_samples_leaf=100, n_estimators=200;, score=0.807 total time=  21.2s\n",
      "[CV 5/5] END criterion=gini, max_depth=15, min_samples_leaf=200, n_estimators=50;, score=0.768 total time=   4.4s\n",
      "[CV 5/5] END criterion=gini, max_depth=15, min_samples_leaf=200, n_estimators=75;, score=0.773 total time=   9.0s\n",
      "[CV 3/5] END criterion=gini, max_depth=15, min_samples_leaf=200, n_estimators=150;, score=0.783 total time=  15.5s\n",
      "CPU times: user 18.3 s, sys: 436 ms, total: 18.8 s\n",
      "Wall time: 13min 58s\n"
     ]
    },
    {
     "data": {
      "text/plain": [
       "GridSearchCV(cv=5, estimator=RandomForestClassifier(random_state=42), n_jobs=-1,\n",
       "             param_grid={'criterion': ['gini'],\n",
       "                         'max_depth': [2, 3, 5, 8, 10, 15],\n",
       "                         'min_samples_leaf': [20, 50, 100, 200, 500],\n",
       "                         'n_estimators': [10, 25, 50, 75, 100, 150, 200]},\n",
       "             scoring='accuracy', verbose=3)"
      ]
     },
     "execution_count": 129,
     "metadata": {},
     "output_type": "execute_result"
    }
   ],
   "source": [
    "%%time\n",
    "grid_search.fit(X_train, y_train)"
   ]
  },
  {
   "cell_type": "code",
   "execution_count": 130,
   "metadata": {},
   "outputs": [
    {
     "data": {
      "text/html": [
       "<div>\n",
       "<style scoped>\n",
       "    .dataframe tbody tr th:only-of-type {\n",
       "        vertical-align: middle;\n",
       "    }\n",
       "\n",
       "    .dataframe tbody tr th {\n",
       "        vertical-align: top;\n",
       "    }\n",
       "\n",
       "    .dataframe thead th {\n",
       "        text-align: right;\n",
       "    }\n",
       "</style>\n",
       "<table border=\"1\" class=\"dataframe\">\n",
       "  <thead>\n",
       "    <tr style=\"text-align: right;\">\n",
       "      <th></th>\n",
       "      <th>mean_fit_time</th>\n",
       "      <th>std_fit_time</th>\n",
       "      <th>mean_score_time</th>\n",
       "      <th>std_score_time</th>\n",
       "      <th>param_criterion</th>\n",
       "      <th>param_max_depth</th>\n",
       "      <th>param_min_samples_leaf</th>\n",
       "      <th>param_n_estimators</th>\n",
       "      <th>params</th>\n",
       "      <th>split0_test_score</th>\n",
       "      <th>split1_test_score</th>\n",
       "      <th>split2_test_score</th>\n",
       "      <th>split3_test_score</th>\n",
       "      <th>split4_test_score</th>\n",
       "      <th>mean_test_score</th>\n",
       "      <th>std_test_score</th>\n",
       "      <th>rank_test_score</th>\n",
       "    </tr>\n",
       "  </thead>\n",
       "  <tbody>\n",
       "    <tr>\n",
       "      <th>0</th>\n",
       "      <td>0.585225</td>\n",
       "      <td>0.038739</td>\n",
       "      <td>0.050568</td>\n",
       "      <td>0.006051</td>\n",
       "      <td>gini</td>\n",
       "      <td>2</td>\n",
       "      <td>20</td>\n",
       "      <td>10</td>\n",
       "      <td>{'criterion': 'gini', 'max_depth': 2, 'min_sam...</td>\n",
       "      <td>0.574140</td>\n",
       "      <td>0.569692</td>\n",
       "      <td>0.563038</td>\n",
       "      <td>0.561554</td>\n",
       "      <td>0.539306</td>\n",
       "      <td>0.561546</td>\n",
       "      <td>0.012015</td>\n",
       "      <td>206</td>\n",
       "    </tr>\n",
       "    <tr>\n",
       "      <th>1</th>\n",
       "      <td>1.104103</td>\n",
       "      <td>0.086559</td>\n",
       "      <td>0.084286</td>\n",
       "      <td>0.037065</td>\n",
       "      <td>gini</td>\n",
       "      <td>2</td>\n",
       "      <td>20</td>\n",
       "      <td>25</td>\n",
       "      <td>{'criterion': 'gini', 'max_depth': 2, 'min_sam...</td>\n",
       "      <td>0.620403</td>\n",
       "      <td>0.617141</td>\n",
       "      <td>0.601305</td>\n",
       "      <td>0.624444</td>\n",
       "      <td>0.596856</td>\n",
       "      <td>0.612030</td>\n",
       "      <td>0.010914</td>\n",
       "      <td>200</td>\n",
       "    </tr>\n",
       "    <tr>\n",
       "      <th>2</th>\n",
       "      <td>1.735123</td>\n",
       "      <td>0.202441</td>\n",
       "      <td>0.112708</td>\n",
       "      <td>0.028804</td>\n",
       "      <td>gini</td>\n",
       "      <td>2</td>\n",
       "      <td>20</td>\n",
       "      <td>50</td>\n",
       "      <td>{'criterion': 'gini', 'max_depth': 2, 'min_sam...</td>\n",
       "      <td>0.647094</td>\n",
       "      <td>0.652728</td>\n",
       "      <td>0.636903</td>\n",
       "      <td>0.656185</td>\n",
       "      <td>0.630970</td>\n",
       "      <td>0.644776</td>\n",
       "      <td>0.009501</td>\n",
       "      <td>191</td>\n",
       "    </tr>\n",
       "    <tr>\n",
       "      <th>3</th>\n",
       "      <td>2.219576</td>\n",
       "      <td>0.183223</td>\n",
       "      <td>0.097689</td>\n",
       "      <td>0.011649</td>\n",
       "      <td>gini</td>\n",
       "      <td>2</td>\n",
       "      <td>20</td>\n",
       "      <td>75</td>\n",
       "      <td>{'criterion': 'gini', 'max_depth': 2, 'min_sam...</td>\n",
       "      <td>0.709371</td>\n",
       "      <td>0.701957</td>\n",
       "      <td>0.688520</td>\n",
       "      <td>0.701869</td>\n",
       "      <td>0.685850</td>\n",
       "      <td>0.697513</td>\n",
       "      <td>0.008902</td>\n",
       "      <td>165</td>\n",
       "    </tr>\n",
       "    <tr>\n",
       "      <th>4</th>\n",
       "      <td>2.833006</td>\n",
       "      <td>0.115067</td>\n",
       "      <td>0.132967</td>\n",
       "      <td>0.013169</td>\n",
       "      <td>gini</td>\n",
       "      <td>2</td>\n",
       "      <td>20</td>\n",
       "      <td>100</td>\n",
       "      <td>{'criterion': 'gini', 'max_depth': 2, 'min_sam...</td>\n",
       "      <td>0.699288</td>\n",
       "      <td>0.698992</td>\n",
       "      <td>0.692673</td>\n",
       "      <td>0.705132</td>\n",
       "      <td>0.679917</td>\n",
       "      <td>0.695200</td>\n",
       "      <td>0.008599</td>\n",
       "      <td>167</td>\n",
       "    </tr>\n",
       "  </tbody>\n",
       "</table>\n",
       "</div>"
      ],
      "text/plain": [
       "   mean_fit_time  std_fit_time  mean_score_time  std_score_time  \\\n",
       "0       0.585225      0.038739         0.050568        0.006051   \n",
       "1       1.104103      0.086559         0.084286        0.037065   \n",
       "2       1.735123      0.202441         0.112708        0.028804   \n",
       "3       2.219576      0.183223         0.097689        0.011649   \n",
       "4       2.833006      0.115067         0.132967        0.013169   \n",
       "\n",
       "  param_criterion param_max_depth param_min_samples_leaf param_n_estimators  \\\n",
       "0            gini               2                     20                 10   \n",
       "1            gini               2                     20                 25   \n",
       "2            gini               2                     20                 50   \n",
       "3            gini               2                     20                 75   \n",
       "4            gini               2                     20                100   \n",
       "\n",
       "                                              params  split0_test_score  \\\n",
       "0  {'criterion': 'gini', 'max_depth': 2, 'min_sam...           0.574140   \n",
       "1  {'criterion': 'gini', 'max_depth': 2, 'min_sam...           0.620403   \n",
       "2  {'criterion': 'gini', 'max_depth': 2, 'min_sam...           0.647094   \n",
       "3  {'criterion': 'gini', 'max_depth': 2, 'min_sam...           0.709371   \n",
       "4  {'criterion': 'gini', 'max_depth': 2, 'min_sam...           0.699288   \n",
       "\n",
       "   split1_test_score  split2_test_score  split3_test_score  split4_test_score  \\\n",
       "0           0.569692           0.563038           0.561554           0.539306   \n",
       "1           0.617141           0.601305           0.624444           0.596856   \n",
       "2           0.652728           0.636903           0.656185           0.630970   \n",
       "3           0.701957           0.688520           0.701869           0.685850   \n",
       "4           0.698992           0.692673           0.705132           0.679917   \n",
       "\n",
       "   mean_test_score  std_test_score  rank_test_score  \n",
       "0         0.561546        0.012015              206  \n",
       "1         0.612030        0.010914              200  \n",
       "2         0.644776        0.009501              191  \n",
       "3         0.697513        0.008902              165  \n",
       "4         0.695200        0.008599              167  "
      ]
     },
     "execution_count": 130,
     "metadata": {},
     "output_type": "execute_result"
    }
   ],
   "source": [
    "score_df = pd.DataFrame(grid_search.cv_results_)\n",
    "score_df.head()"
   ]
  },
  {
   "cell_type": "code",
   "execution_count": 131,
   "metadata": {},
   "outputs": [
    {
     "data": {
      "text/html": [
       "<div>\n",
       "<style scoped>\n",
       "    .dataframe tbody tr th:only-of-type {\n",
       "        vertical-align: middle;\n",
       "    }\n",
       "\n",
       "    .dataframe tbody tr th {\n",
       "        vertical-align: top;\n",
       "    }\n",
       "\n",
       "    .dataframe thead th {\n",
       "        text-align: right;\n",
       "    }\n",
       "</style>\n",
       "<table border=\"1\" class=\"dataframe\">\n",
       "  <thead>\n",
       "    <tr style=\"text-align: right;\">\n",
       "      <th></th>\n",
       "      <th>mean_fit_time</th>\n",
       "      <th>std_fit_time</th>\n",
       "      <th>mean_score_time</th>\n",
       "      <th>std_score_time</th>\n",
       "      <th>param_criterion</th>\n",
       "      <th>param_max_depth</th>\n",
       "      <th>param_min_samples_leaf</th>\n",
       "      <th>param_n_estimators</th>\n",
       "      <th>params</th>\n",
       "      <th>split0_test_score</th>\n",
       "      <th>split1_test_score</th>\n",
       "      <th>split2_test_score</th>\n",
       "      <th>split3_test_score</th>\n",
       "      <th>split4_test_score</th>\n",
       "      <th>mean_test_score</th>\n",
       "      <th>std_test_score</th>\n",
       "      <th>rank_test_score</th>\n",
       "    </tr>\n",
       "  </thead>\n",
       "  <tbody>\n",
       "    <tr>\n",
       "      <th>181</th>\n",
       "      <td>25.294904</td>\n",
       "      <td>0.509569</td>\n",
       "      <td>0.488528</td>\n",
       "      <td>0.025581</td>\n",
       "      <td>gini</td>\n",
       "      <td>15</td>\n",
       "      <td>20</td>\n",
       "      <td>200</td>\n",
       "      <td>{'criterion': 'gini', 'max_depth': 15, 'min_sa...</td>\n",
       "      <td>0.846382</td>\n",
       "      <td>0.828588</td>\n",
       "      <td>0.831207</td>\n",
       "      <td>0.834767</td>\n",
       "      <td>0.833284</td>\n",
       "      <td>0.834846</td>\n",
       "      <td>0.006131</td>\n",
       "      <td>1</td>\n",
       "    </tr>\n",
       "    <tr>\n",
       "      <th>179</th>\n",
       "      <td>12.319933</td>\n",
       "      <td>0.368425</td>\n",
       "      <td>0.252068</td>\n",
       "      <td>0.013281</td>\n",
       "      <td>gini</td>\n",
       "      <td>15</td>\n",
       "      <td>20</td>\n",
       "      <td>100</td>\n",
       "      <td>{'criterion': 'gini', 'max_depth': 15, 'min_sa...</td>\n",
       "      <td>0.844899</td>\n",
       "      <td>0.825623</td>\n",
       "      <td>0.830021</td>\n",
       "      <td>0.838030</td>\n",
       "      <td>0.833581</td>\n",
       "      <td>0.834431</td>\n",
       "      <td>0.006638</td>\n",
       "      <td>2</td>\n",
       "    </tr>\n",
       "    <tr>\n",
       "      <th>180</th>\n",
       "      <td>18.472422</td>\n",
       "      <td>0.583657</td>\n",
       "      <td>0.387683</td>\n",
       "      <td>0.028272</td>\n",
       "      <td>gini</td>\n",
       "      <td>15</td>\n",
       "      <td>20</td>\n",
       "      <td>150</td>\n",
       "      <td>{'criterion': 'gini', 'max_depth': 15, 'min_sa...</td>\n",
       "      <td>0.844603</td>\n",
       "      <td>0.830071</td>\n",
       "      <td>0.830317</td>\n",
       "      <td>0.831207</td>\n",
       "      <td>0.832987</td>\n",
       "      <td>0.833837</td>\n",
       "      <td>0.005479</td>\n",
       "      <td>3</td>\n",
       "    </tr>\n",
       "    <tr>\n",
       "      <th>178</th>\n",
       "      <td>9.390993</td>\n",
       "      <td>0.297106</td>\n",
       "      <td>0.208904</td>\n",
       "      <td>0.013134</td>\n",
       "      <td>gini</td>\n",
       "      <td>15</td>\n",
       "      <td>20</td>\n",
       "      <td>75</td>\n",
       "      <td>{'criterion': 'gini', 'max_depth': 15, 'min_sa...</td>\n",
       "      <td>0.838671</td>\n",
       "      <td>0.821471</td>\n",
       "      <td>0.828538</td>\n",
       "      <td>0.834767</td>\n",
       "      <td>0.833581</td>\n",
       "      <td>0.831406</td>\n",
       "      <td>0.005929</td>\n",
       "      <td>4</td>\n",
       "    </tr>\n",
       "    <tr>\n",
       "      <th>177</th>\n",
       "      <td>6.555946</td>\n",
       "      <td>0.375954</td>\n",
       "      <td>0.164247</td>\n",
       "      <td>0.014487</td>\n",
       "      <td>gini</td>\n",
       "      <td>15</td>\n",
       "      <td>20</td>\n",
       "      <td>50</td>\n",
       "      <td>{'criterion': 'gini', 'max_depth': 15, 'min_sa...</td>\n",
       "      <td>0.839561</td>\n",
       "      <td>0.816429</td>\n",
       "      <td>0.820528</td>\n",
       "      <td>0.829724</td>\n",
       "      <td>0.822605</td>\n",
       "      <td>0.825769</td>\n",
       "      <td>0.008131</td>\n",
       "      <td>5</td>\n",
       "    </tr>\n",
       "  </tbody>\n",
       "</table>\n",
       "</div>"
      ],
      "text/plain": [
       "     mean_fit_time  std_fit_time  mean_score_time  std_score_time  \\\n",
       "181      25.294904      0.509569         0.488528        0.025581   \n",
       "179      12.319933      0.368425         0.252068        0.013281   \n",
       "180      18.472422      0.583657         0.387683        0.028272   \n",
       "178       9.390993      0.297106         0.208904        0.013134   \n",
       "177       6.555946      0.375954         0.164247        0.014487   \n",
       "\n",
       "    param_criterion param_max_depth param_min_samples_leaf param_n_estimators  \\\n",
       "181            gini              15                     20                200   \n",
       "179            gini              15                     20                100   \n",
       "180            gini              15                     20                150   \n",
       "178            gini              15                     20                 75   \n",
       "177            gini              15                     20                 50   \n",
       "\n",
       "                                                params  split0_test_score  \\\n",
       "181  {'criterion': 'gini', 'max_depth': 15, 'min_sa...           0.846382   \n",
       "179  {'criterion': 'gini', 'max_depth': 15, 'min_sa...           0.844899   \n",
       "180  {'criterion': 'gini', 'max_depth': 15, 'min_sa...           0.844603   \n",
       "178  {'criterion': 'gini', 'max_depth': 15, 'min_sa...           0.838671   \n",
       "177  {'criterion': 'gini', 'max_depth': 15, 'min_sa...           0.839561   \n",
       "\n",
       "     split1_test_score  split2_test_score  split3_test_score  \\\n",
       "181           0.828588           0.831207           0.834767   \n",
       "179           0.825623           0.830021           0.838030   \n",
       "180           0.830071           0.830317           0.831207   \n",
       "178           0.821471           0.828538           0.834767   \n",
       "177           0.816429           0.820528           0.829724   \n",
       "\n",
       "     split4_test_score  mean_test_score  std_test_score  rank_test_score  \n",
       "181           0.833284         0.834846        0.006131                1  \n",
       "179           0.833581         0.834431        0.006638                2  \n",
       "180           0.832987         0.833837        0.005479                3  \n",
       "178           0.833581         0.831406        0.005929                4  \n",
       "177           0.822605         0.825769        0.008131                5  "
      ]
     },
     "execution_count": 131,
     "metadata": {},
     "output_type": "execute_result"
    }
   ],
   "source": [
    "score_df.nlargest(5,\"mean_test_score\")"
   ]
  },
  {
   "cell_type": "code",
   "execution_count": 132,
   "metadata": {},
   "outputs": [
    {
     "data": {
      "text/plain": [
       "RandomForestClassifier(max_depth=15, min_samples_leaf=20, n_estimators=200,\n",
       "                       random_state=42)"
      ]
     },
     "execution_count": 132,
     "metadata": {},
     "output_type": "execute_result"
    }
   ],
   "source": [
    "grid_search.best_estimator_"
   ]
  },
  {
   "cell_type": "code",
   "execution_count": 133,
   "metadata": {},
   "outputs": [],
   "source": [
    "rf_best = grid_search.best_estimator_"
   ]
  },
  {
   "cell_type": "code",
   "execution_count": 134,
   "metadata": {},
   "outputs": [
    {
     "name": "stdout",
     "output_type": "stream",
     "text": [
      "              precision    recall  f1-score   support\n",
      "\n",
      "           0       0.84      0.94      0.88      4158\n",
      "           1       0.84      0.93      0.88      3980\n",
      "           2       0.89      0.87      0.88      3009\n",
      "           3       0.87      0.84      0.85      3931\n",
      "           4       0.97      0.57      0.72      1779\n",
      "\n",
      "    accuracy                           0.86     16857\n",
      "   macro avg       0.88      0.83      0.84     16857\n",
      "weighted avg       0.87      0.86      0.86     16857\n",
      "\n"
     ]
    }
   ],
   "source": [
    "y_train_rf_pred = rf_best.predict(X_train)\n",
    "\n",
    "print(classification_report(y_train, y_train_rf_pred))"
   ]
  },
  {
   "cell_type": "code",
   "execution_count": 135,
   "metadata": {},
   "outputs": [
    {
     "name": "stdout",
     "output_type": "stream",
     "text": [
      "              precision    recall  f1-score   support\n",
      "\n",
      "           0       0.83      0.81      0.82      1062\n",
      "           1       0.84      0.83      0.83      1060\n",
      "           2       0.88      0.78      0.83       685\n",
      "           3       0.68      0.77      0.72       966\n",
      "           4       0.79      0.76      0.77       442\n",
      "\n",
      "    accuracy                           0.80      4215\n",
      "   macro avg       0.80      0.79      0.80      4215\n",
      "weighted avg       0.80      0.80      0.80      4215\n",
      "\n"
     ]
    }
   ],
   "source": [
    "y_test_rf_pred = dt_best.predict(X_test)\n",
    "\n",
    "print(classification_report(y_test, y_test_rf_pred))"
   ]
  },
  {
   "cell_type": "markdown",
   "metadata": {},
   "source": [
    "### Observation: Random Forest also performs decently on the data but not better than Logistic Regression "
   ]
  },
  {
   "cell_type": "code",
   "execution_count": 136,
   "metadata": {},
   "outputs": [
    {
     "data": {
      "text/plain": [
       "0    5220\n",
       "1    5040\n",
       "3    4897\n",
       "2    3694\n",
       "4    2221\n",
       "Name: Topic, dtype: int64"
      ]
     },
     "execution_count": 136,
     "metadata": {},
     "output_type": "execute_result"
    }
   ],
   "source": [
    "df_model['Topic'].value_counts()"
   ]
  },
  {
   "cell_type": "markdown",
   "metadata": {},
   "source": [
    "---"
   ]
  },
  {
   "cell_type": "markdown",
   "metadata": {},
   "source": [
    "## Naive Baeyes"
   ]
  },
  {
   "cell_type": "code",
   "execution_count": 137,
   "metadata": {},
   "outputs": [],
   "source": [
    "from sklearn.naive_bayes import MultinomialNB"
   ]
  },
  {
   "cell_type": "code",
   "execution_count": 138,
   "metadata": {},
   "outputs": [
    {
     "data": {
      "text/plain": [
       "MultinomialNB()"
      ]
     },
     "execution_count": 138,
     "metadata": {},
     "output_type": "execute_result"
    }
   ],
   "source": [
    "mnb = MultinomialNB()\n",
    "mnb.fit(X_train, y_train)"
   ]
  },
  {
   "cell_type": "code",
   "execution_count": 139,
   "metadata": {},
   "outputs": [
    {
     "name": "stdout",
     "output_type": "stream",
     "text": [
      "              precision    recall  f1-score   support\n",
      "\n",
      "           0       0.82      0.89      0.85      4158\n",
      "           1       0.80      0.83      0.82      3980\n",
      "           2       0.86      0.88      0.87      3009\n",
      "           3       0.82      0.82      0.82      3931\n",
      "           4       0.83      0.58      0.68      1779\n",
      "\n",
      "    accuracy                           0.82     16857\n",
      "   macro avg       0.83      0.80      0.81     16857\n",
      "weighted avg       0.83      0.82      0.82     16857\n",
      "\n"
     ]
    }
   ],
   "source": [
    "y_mnb_train_pred = mnb.predict(X_train)\n",
    "print(classification_report(y_train, y_mnb_train_pred))"
   ]
  },
  {
   "cell_type": "code",
   "execution_count": 140,
   "metadata": {},
   "outputs": [
    {
     "name": "stdout",
     "output_type": "stream",
     "text": [
      "              precision    recall  f1-score   support\n",
      "\n",
      "           0       0.81      0.85      0.83      1062\n",
      "           1       0.80      0.82      0.81      1060\n",
      "           2       0.84      0.89      0.86       685\n",
      "           3       0.78      0.80      0.79       966\n",
      "           4       0.82      0.55      0.66       442\n",
      "\n",
      "    accuracy                           0.81      4215\n",
      "   macro avg       0.81      0.78      0.79      4215\n",
      "weighted avg       0.81      0.81      0.80      4215\n",
      "\n"
     ]
    }
   ],
   "source": [
    "y_mnb_test_pred = mnb.predict(X_test)\n",
    "print(classification_report(y_test, y_mnb_test_pred))"
   ]
  },
  {
   "cell_type": "markdown",
   "metadata": {},
   "source": [
    "### Observation: Naive Bayes performs decently well but not as good as Logistic regression "
   ]
  },
  {
   "cell_type": "markdown",
   "metadata": {},
   "source": [
    "---"
   ]
  },
  {
   "cell_type": "markdown",
   "metadata": {},
   "source": [
    "### Best Model Inference: Logistic Regression"
   ]
  },
  {
   "cell_type": "code",
   "execution_count": 141,
   "metadata": {},
   "outputs": [
    {
     "name": "stdout",
     "output_type": "stream",
     "text": [
      "Text data:  ability       0.000000\n",
      "able          0.000000\n",
      "absolutely    0.000000\n",
      "accept        0.088773\n",
      "accepted      0.095400\n",
      "                ...   \n",
      "year          0.067786\n",
      "years         0.000000\n",
      "yes           0.000000\n",
      "yesterday     0.000000\n",
      "zero          0.000000\n",
      "Name: 10, Length: 1200, dtype: float64\n",
      "Label for text data:  2\n"
     ]
    }
   ],
   "source": [
    "print(\"Text data: \", X_test.iloc[10])\n",
    "print(\"Label for text data: \", y_test.iloc[10])\n",
    "# clf.predcit()"
   ]
  },
  {
   "cell_type": "code",
   "execution_count": 142,
   "metadata": {},
   "outputs": [
    {
     "name": "stdout",
     "output_type": "stream",
     "text": [
      "Predicted label for test data:  [2]\n"
     ]
    }
   ],
   "source": [
    "y_pred = clf.predict(X_test[10:11])\n",
    "print(\"Predicted label for test data: \", y_pred)"
   ]
  },
  {
   "cell_type": "code",
   "execution_count": 182,
   "metadata": {},
   "outputs": [],
   "source": [
    "custom_text = \"I have applied for mortgage last week for my house and I have not received any status update\""
   ]
  },
  {
   "cell_type": "code",
   "execution_count": 183,
   "metadata": {},
   "outputs": [],
   "source": [
    "X_custom = vect.transform(pd.Series([custom_text]))\n",
    "X_custom = pd.DataFrame(X_custom.toarray(), columns=vect.get_feature_names_out())"
   ]
  },
  {
   "cell_type": "code",
   "execution_count": 184,
   "metadata": {},
   "outputs": [
    {
     "name": "stdout",
     "output_type": "stream",
     "text": [
      "Predicted label for custom test data:  [2]\n"
     ]
    }
   ],
   "source": [
    "y_custom_pred = clf.predict(X_custom)\n",
    "print(\"Predicted label for custom test data: \", y_custom_pred)"
   ]
  },
  {
   "cell_type": "markdown",
   "metadata": {
    "tags": []
   },
   "source": [
    "### Observation: As we can see from above that the model has correctly predicted the topic for the custom text as Mortgage/Loan (Topic no 2), therefore our model is working as expected."
   ]
  },
  {
   "cell_type": "markdown",
   "metadata": {},
   "source": [
    "---"
   ]
  },
  {
   "cell_type": "markdown",
   "metadata": {},
   "source": [
    "# References"
   ]
  },
  {
   "cell_type": "markdown",
   "metadata": {},
   "source": [
    "- https://stackoverflow.com/questions/26266362/how-to-count-the-nan-values-in-a-column-in-pandas-dataframe\n",
    "- https://www.kite.com/python/answers/how-to-use-regular-expressions-to-remove-text-within-parentheses-in-python\n",
    "- https://stackoverflow.com/questions/18082130/python-regex-to-remove-all-words-which-contains-number\n",
    "- https://spacy.io/api/lemmatizer\n",
    "- https://stackoverflow.com/questions/47087741/use-tqdm-progress-bar-with-pandas\n",
    "- https://spacy.io/usage/processing-pipelines\n",
    "- https://spacy.io/usage/processing-pipelines#disabling"
   ]
  }
 ],
 "metadata": {
  "colab": {
   "collapsed_sections": [
    "T9jD_6SeJrF3",
    "5DfCSbbmJrF4",
    "yYzD85nTJrGA",
    "piyLxzj6v07j",
    "280Vbqk-7a8M"
   ],
   "name": "Automatic_Ticket_Classification_Assignment.ipynb",
   "provenance": []
  },
  "kernelspec": {
   "display_name": "Python 3 (ipykernel)",
   "language": "python",
   "name": "python3"
  },
  "language_info": {
   "codemirror_mode": {
    "name": "ipython",
    "version": 3
   },
   "file_extension": ".py",
   "mimetype": "text/x-python",
   "name": "python",
   "nbconvert_exporter": "python",
   "pygments_lexer": "ipython3",
   "version": "3.10.2"
  }
 },
 "nbformat": 4,
 "nbformat_minor": 4
}
